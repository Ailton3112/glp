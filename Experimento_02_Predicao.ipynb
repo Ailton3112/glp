{
  "nbformat": 4,
  "nbformat_minor": 0,
  "metadata": {
    "colab": {
      "name": "Experimento_02_Predicao.ipynb",
      "provenance": [],
      "authorship_tag": "ABX9TyPJOJLNMUZSX6zKCshHMXRh",
      "include_colab_link": true
    },
    "kernelspec": {
      "name": "python3",
      "display_name": "Python 3"
    },
    "language_info": {
      "name": "python"
    }
  },
  "cells": [
    {
      "cell_type": "markdown",
      "metadata": {
        "id": "view-in-github",
        "colab_type": "text"
      },
      "source": [
        "<a href=\"https://colab.research.google.com/github/Ailton3112/glp/blob/main/Experimento_02_Predicao.ipynb\" target=\"_parent\"><img src=\"https://colab.research.google.com/assets/colab-badge.svg\" alt=\"Open In Colab\"/></a>"
      ]
    },
    {
      "cell_type": "code",
      "execution_count": null,
      "metadata": {
        "id": "h5hmVZhQph8Z"
      },
      "outputs": [],
      "source": [
        "import pandas as pd\n",
        "import numpy as np\n",
        "import keras\n",
        "import tensorflow as tf\n",
        "from keras.preprocessing.sequence import TimeseriesGenerator\n",
        "from sklearn.model_selection import train_test_split\n",
        "from sklearn.preprocessing import MinMaxScaler\n",
        "from pandas.core.common import SettingWithCopyWarning\n",
        "import warnings\n",
        "\n",
        "warnings.simplefilter(action=\"ignore\", category=SettingWithCopyWarning)\n",
        "warnings.simplefilter(action='ignore', category=FutureWarning)\n"
      ]
    },
    {
      "cell_type": "code",
      "source": [
        "df = pd.read_csv('/content/Piauí.csv')\n",
        "print(df.info())\n"
      ],
      "metadata": {
        "colab": {
          "base_uri": "https://localhost:8080/"
        },
        "id": "e5289rSJpsJv",
        "outputId": "14a14320-5f08-4e71-d5b5-1f9449e4d901"
      },
      "execution_count": null,
      "outputs": [
        {
          "output_type": "stream",
          "name": "stdout",
          "text": [
            "<class 'pandas.core.frame.DataFrame'>\n",
            "RangeIndex: 275097 entries, 0 to 275096\n",
            "Data columns (total 13 columns):\n",
            " #   Column            Non-Null Count   Dtype  \n",
            "---  ------            --------------   -----  \n",
            " 0   sale_id           275097 non-null  int64  \n",
            " 1   client_id         275097 non-null  int64  \n",
            " 2   date              275097 non-null  object \n",
            " 3   name_product      275097 non-null  object \n",
            " 4   quantity_product  275097 non-null  int64  \n",
            " 5   value_product     275097 non-null  float64\n",
            " 6   total             275097 non-null  float64\n",
            " 7   payments          275097 non-null  object \n",
            " 8   city              275097 non-null  object \n",
            " 9   state_federation  275097 non-null  object \n",
            " 10  InvoiceDay        275097 non-null  object \n",
            " 11  PrevInvoiceDate   275097 non-null  object \n",
            " 12  DayDiff           275097 non-null  float64\n",
            "dtypes: float64(3), int64(3), object(7)\n",
            "memory usage: 27.3+ MB\n",
            "None\n"
          ]
        }
      ]
    },
    {
      "cell_type": "code",
      "source": [
        "for p in df['payments'].unique():\n",
        "  print(p)"
      ],
      "metadata": {
        "colab": {
          "base_uri": "https://localhost:8080/"
        },
        "id": "oFMyywDA0F-T",
        "outputId": "a5fc386b-6408-439e-90a7-74f146346788"
      },
      "execution_count": null,
      "outputs": [
        {
          "output_type": "stream",
          "name": "stdout",
          "text": [
            "Dinheiro\n",
            "Carteira\n",
            "Dinheiro, Carteira\n",
            "Cartão Credishop\n",
            "Cartão Visa\n",
            "Cheque\n",
            "Cartão Master\n",
            "Cartão Hiper\n",
            "Cartão Elo\n",
            "Dinheiro, Cartão Visa\n",
            "PIX\n",
            "Crédito de Cliente\n",
            "Dinheiro, Crédito de Cliente\n",
            "Boleto Bancário\n",
            "Cartão de Crédito\n",
            "Dinheiro, Cartão de Crédito\n",
            "Cartão de Débito\n",
            "Carteira, Crédito de Cliente\n",
            "Dinheiro, Cartão de Débito\n",
            "Dinheiro, Boleto Bancário\n",
            "Dinheiro, Cartão Hiper\n",
            "Carteira, Cartão Visa\n",
            "Carteira, Cartão Master\n",
            "Dinheiro, Cartão Elo\n",
            "Dinheiro, Cartão Master\n",
            "Cartão Outro\n",
            "Cartão Visa, Cartão Master\n",
            "Vale Gás\n",
            "Carteira, Cartão de Débito\n",
            "Carteira, Cartão de Crédito\n",
            "Transferência Bancária\n",
            "Dinheiro, Vale Gás\n",
            "Cartão de Crédito, Cartão de Débito\n",
            "Dinheiro, Cartão Credishop\n",
            "Dinheiro, PIX\n"
          ]
        }
      ]
    },
    {
      "cell_type": "code",
      "source": [
        "df['payments'].nunique()"
      ],
      "metadata": {
        "colab": {
          "base_uri": "https://localhost:8080/"
        },
        "id": "kAqfTYlS0PZ9",
        "outputId": "63f1cbef-e7e3-456e-8b25-3e551fc0c011"
      },
      "execution_count": null,
      "outputs": [
        {
          "output_type": "execute_result",
          "data": {
            "text/plain": [
              "35"
            ]
          },
          "metadata": {},
          "execution_count": 277
        }
      ]
    },
    {
      "cell_type": "code",
      "source": [
        "payment_terms = {\n",
        "    'Débito': 'Débito',\n",
        "    'Pix': 'Pix',\n",
        "    'Dinheiro': 'Dinheiro',\n",
        "    'Crédito': 'Crédito',\n",
        "    'Cartão': 'Crédito',\n",
        "    'Cheque': 'Cheque',\n",
        "    'Vale': 'Vale',\n",
        "    'Carteira': 'Carteira',\n",
        "    'Transferência': 'Transferência Bancária'\n",
        "}\n",
        "for key, value in payment_terms.items():\n",
        "  df.loc[df['payments'].str.contains(\n",
        "      key, case=False\n",
        "  ), 'payments'] = value"
      ],
      "metadata": {
        "id": "40lY5qEP0SL_"
      },
      "execution_count": null,
      "outputs": []
    },
    {
      "cell_type": "code",
      "source": [
        "df['payments'].unique()"
      ],
      "metadata": {
        "colab": {
          "base_uri": "https://localhost:8080/"
        },
        "id": "zN61TPN_0Wfq",
        "outputId": "3121b8d3-bd8c-4a96-b9e1-6300f8b5b2ea"
      },
      "execution_count": null,
      "outputs": [
        {
          "output_type": "execute_result",
          "data": {
            "text/plain": [
              "array(['Dinheiro', 'Carteira', 'Crédito', 'Cheque', 'Pix',\n",
              "       'Boleto Bancário', 'Débito', 'Vale', 'Transferência Bancária'],\n",
              "      dtype=object)"
            ]
          },
          "metadata": {},
          "execution_count": 279
        }
      ]
    },
    {
      "cell_type": "code",
      "source": [
        "df['payments'] = df['payments'].astype('category')"
      ],
      "metadata": {
        "id": "-qT1O4-n0ZEt"
      },
      "execution_count": null,
      "outputs": []
    },
    {
      "cell_type": "code",
      "source": [
        "product_terms = {\n",
        "    r'^.*GLP\\s?13\\s?KG.*$': r'GLP 13 KG'\n",
        "}\n",
        "\n",
        "for key, value in product_terms.items():\n",
        "  df['name_product'] = (\n",
        "      df['name_product'].str.replace(key, value)\n",
        "  )"
      ],
      "metadata": {
        "id": "Ww4twvXn0b0g"
      },
      "execution_count": null,
      "outputs": []
    },
    {
      "cell_type": "code",
      "source": [
        "df['name_product'].unique()"
      ],
      "metadata": {
        "colab": {
          "base_uri": "https://localhost:8080/"
        },
        "id": "dHjVxrfE0jwO",
        "outputId": "1d3b6c5c-0515-4339-ae26-840ed400ae7b"
      },
      "execution_count": null,
      "outputs": [
        {
          "output_type": "execute_result",
          "data": {
            "text/plain": [
              "array(['GLP 13 KG'], dtype=object)"
            ]
          },
          "metadata": {},
          "execution_count": 282
        }
      ]
    },
    {
      "cell_type": "code",
      "source": [
        "df = pd.get_dummies(\n",
        "       df, prefix='d', columns=['city']\n",
        " )"
      ],
      "metadata": {
        "id": "KBr-wQTmzeXt"
      },
      "execution_count": null,
      "outputs": []
    },
    {
      "cell_type": "code",
      "source": [
        "df.head()"
      ],
      "metadata": {
        "colab": {
          "base_uri": "https://localhost:8080/",
          "height": 525
        },
        "id": "Wmv1k1ei0qJ7",
        "outputId": "2a63fd67-2aa8-4342-a394-70e9f33e1397"
      },
      "execution_count": null,
      "outputs": [
        {
          "output_type": "execute_result",
          "data": {
            "text/plain": [
              "   sale_id  client_id                 date name_product  quantity_product  \\\n",
              "0   155595      29293  2013-05-18 23:12:27    GLP 13 KG                 1   \n",
              "1   157615      29293  2013-06-25 22:21:47    GLP 13 KG                 1   \n",
              "2   160001      29293  2013-08-11 21:51:12    GLP 13 KG                 1   \n",
              "3   163353      29293  2013-10-17 22:57:38    GLP 13 KG                 1   \n",
              "4   161757      29293  2013-12-03 20:31:04    GLP 13 KG                 1   \n",
              "\n",
              "   value_product  total  payments state_federation  InvoiceDay  ...  \\\n",
              "0           40.0   40.0  Dinheiro            Piauí  2013-05-18  ...   \n",
              "1           45.0   45.0  Dinheiro            Piauí  2013-06-25  ...   \n",
              "2           45.0   45.0  Dinheiro            Piauí  2013-08-11  ...   \n",
              "3           45.0   45.0  Dinheiro            Piauí  2013-10-17  ...   \n",
              "4           40.0   40.0  Dinheiro            Piauí  2013-12-03  ...   \n",
              "\n",
              "  d_Santana do Piauí  d_Santo Antônio dos Milagres  d_Sussuapara  \\\n",
              "0                  0                             0             0   \n",
              "1                  0                             0             0   \n",
              "2                  0                             0             0   \n",
              "3                  0                             0             0   \n",
              "4                  0                             0             0   \n",
              "\n",
              "   d_São Gonçalo do Piauí  d_São João da Canabrava  d_São Luís do Piauí  \\\n",
              "0                       0                        0                    0   \n",
              "1                       0                        0                    0   \n",
              "2                       0                        0                    0   \n",
              "3                       0                        0                    0   \n",
              "4                       0                        0                    0   \n",
              "\n",
              "   d_São Miguel do Tapuio  d_São Pedro do Piauí  d_Teresina  \\\n",
              "0                       0                     0           1   \n",
              "1                       0                     0           1   \n",
              "2                       0                     0           1   \n",
              "3                       0                     0           1   \n",
              "4                       0                     0           1   \n",
              "\n",
              "   d_Valença do Piauí  \n",
              "0                   0  \n",
              "1                   0  \n",
              "2                   0  \n",
              "3                   0  \n",
              "4                   0  \n",
              "\n",
              "[5 rows x 51 columns]"
            ],
            "text/html": [
              "\n",
              "  <div id=\"df-2091c4ac-599b-48fe-9d4e-664df6a65220\">\n",
              "    <div class=\"colab-df-container\">\n",
              "      <div>\n",
              "<style scoped>\n",
              "    .dataframe tbody tr th:only-of-type {\n",
              "        vertical-align: middle;\n",
              "    }\n",
              "\n",
              "    .dataframe tbody tr th {\n",
              "        vertical-align: top;\n",
              "    }\n",
              "\n",
              "    .dataframe thead th {\n",
              "        text-align: right;\n",
              "    }\n",
              "</style>\n",
              "<table border=\"1\" class=\"dataframe\">\n",
              "  <thead>\n",
              "    <tr style=\"text-align: right;\">\n",
              "      <th></th>\n",
              "      <th>sale_id</th>\n",
              "      <th>client_id</th>\n",
              "      <th>date</th>\n",
              "      <th>name_product</th>\n",
              "      <th>quantity_product</th>\n",
              "      <th>value_product</th>\n",
              "      <th>total</th>\n",
              "      <th>payments</th>\n",
              "      <th>state_federation</th>\n",
              "      <th>InvoiceDay</th>\n",
              "      <th>...</th>\n",
              "      <th>d_Santana do Piauí</th>\n",
              "      <th>d_Santo Antônio dos Milagres</th>\n",
              "      <th>d_Sussuapara</th>\n",
              "      <th>d_São Gonçalo do Piauí</th>\n",
              "      <th>d_São João da Canabrava</th>\n",
              "      <th>d_São Luís do Piauí</th>\n",
              "      <th>d_São Miguel do Tapuio</th>\n",
              "      <th>d_São Pedro do Piauí</th>\n",
              "      <th>d_Teresina</th>\n",
              "      <th>d_Valença do Piauí</th>\n",
              "    </tr>\n",
              "  </thead>\n",
              "  <tbody>\n",
              "    <tr>\n",
              "      <th>0</th>\n",
              "      <td>155595</td>\n",
              "      <td>29293</td>\n",
              "      <td>2013-05-18 23:12:27</td>\n",
              "      <td>GLP 13 KG</td>\n",
              "      <td>1</td>\n",
              "      <td>40.0</td>\n",
              "      <td>40.0</td>\n",
              "      <td>Dinheiro</td>\n",
              "      <td>Piauí</td>\n",
              "      <td>2013-05-18</td>\n",
              "      <td>...</td>\n",
              "      <td>0</td>\n",
              "      <td>0</td>\n",
              "      <td>0</td>\n",
              "      <td>0</td>\n",
              "      <td>0</td>\n",
              "      <td>0</td>\n",
              "      <td>0</td>\n",
              "      <td>0</td>\n",
              "      <td>1</td>\n",
              "      <td>0</td>\n",
              "    </tr>\n",
              "    <tr>\n",
              "      <th>1</th>\n",
              "      <td>157615</td>\n",
              "      <td>29293</td>\n",
              "      <td>2013-06-25 22:21:47</td>\n",
              "      <td>GLP 13 KG</td>\n",
              "      <td>1</td>\n",
              "      <td>45.0</td>\n",
              "      <td>45.0</td>\n",
              "      <td>Dinheiro</td>\n",
              "      <td>Piauí</td>\n",
              "      <td>2013-06-25</td>\n",
              "      <td>...</td>\n",
              "      <td>0</td>\n",
              "      <td>0</td>\n",
              "      <td>0</td>\n",
              "      <td>0</td>\n",
              "      <td>0</td>\n",
              "      <td>0</td>\n",
              "      <td>0</td>\n",
              "      <td>0</td>\n",
              "      <td>1</td>\n",
              "      <td>0</td>\n",
              "    </tr>\n",
              "    <tr>\n",
              "      <th>2</th>\n",
              "      <td>160001</td>\n",
              "      <td>29293</td>\n",
              "      <td>2013-08-11 21:51:12</td>\n",
              "      <td>GLP 13 KG</td>\n",
              "      <td>1</td>\n",
              "      <td>45.0</td>\n",
              "      <td>45.0</td>\n",
              "      <td>Dinheiro</td>\n",
              "      <td>Piauí</td>\n",
              "      <td>2013-08-11</td>\n",
              "      <td>...</td>\n",
              "      <td>0</td>\n",
              "      <td>0</td>\n",
              "      <td>0</td>\n",
              "      <td>0</td>\n",
              "      <td>0</td>\n",
              "      <td>0</td>\n",
              "      <td>0</td>\n",
              "      <td>0</td>\n",
              "      <td>1</td>\n",
              "      <td>0</td>\n",
              "    </tr>\n",
              "    <tr>\n",
              "      <th>3</th>\n",
              "      <td>163353</td>\n",
              "      <td>29293</td>\n",
              "      <td>2013-10-17 22:57:38</td>\n",
              "      <td>GLP 13 KG</td>\n",
              "      <td>1</td>\n",
              "      <td>45.0</td>\n",
              "      <td>45.0</td>\n",
              "      <td>Dinheiro</td>\n",
              "      <td>Piauí</td>\n",
              "      <td>2013-10-17</td>\n",
              "      <td>...</td>\n",
              "      <td>0</td>\n",
              "      <td>0</td>\n",
              "      <td>0</td>\n",
              "      <td>0</td>\n",
              "      <td>0</td>\n",
              "      <td>0</td>\n",
              "      <td>0</td>\n",
              "      <td>0</td>\n",
              "      <td>1</td>\n",
              "      <td>0</td>\n",
              "    </tr>\n",
              "    <tr>\n",
              "      <th>4</th>\n",
              "      <td>161757</td>\n",
              "      <td>29293</td>\n",
              "      <td>2013-12-03 20:31:04</td>\n",
              "      <td>GLP 13 KG</td>\n",
              "      <td>1</td>\n",
              "      <td>40.0</td>\n",
              "      <td>40.0</td>\n",
              "      <td>Dinheiro</td>\n",
              "      <td>Piauí</td>\n",
              "      <td>2013-12-03</td>\n",
              "      <td>...</td>\n",
              "      <td>0</td>\n",
              "      <td>0</td>\n",
              "      <td>0</td>\n",
              "      <td>0</td>\n",
              "      <td>0</td>\n",
              "      <td>0</td>\n",
              "      <td>0</td>\n",
              "      <td>0</td>\n",
              "      <td>1</td>\n",
              "      <td>0</td>\n",
              "    </tr>\n",
              "  </tbody>\n",
              "</table>\n",
              "<p>5 rows × 51 columns</p>\n",
              "</div>\n",
              "      <button class=\"colab-df-convert\" onclick=\"convertToInteractive('df-2091c4ac-599b-48fe-9d4e-664df6a65220')\"\n",
              "              title=\"Convert this dataframe to an interactive table.\"\n",
              "              style=\"display:none;\">\n",
              "        \n",
              "  <svg xmlns=\"http://www.w3.org/2000/svg\" height=\"24px\"viewBox=\"0 0 24 24\"\n",
              "       width=\"24px\">\n",
              "    <path d=\"M0 0h24v24H0V0z\" fill=\"none\"/>\n",
              "    <path d=\"M18.56 5.44l.94 2.06.94-2.06 2.06-.94-2.06-.94-.94-2.06-.94 2.06-2.06.94zm-11 1L8.5 8.5l.94-2.06 2.06-.94-2.06-.94L8.5 2.5l-.94 2.06-2.06.94zm10 10l.94 2.06.94-2.06 2.06-.94-2.06-.94-.94-2.06-.94 2.06-2.06.94z\"/><path d=\"M17.41 7.96l-1.37-1.37c-.4-.4-.92-.59-1.43-.59-.52 0-1.04.2-1.43.59L10.3 9.45l-7.72 7.72c-.78.78-.78 2.05 0 2.83L4 21.41c.39.39.9.59 1.41.59.51 0 1.02-.2 1.41-.59l7.78-7.78 2.81-2.81c.8-.78.8-2.07 0-2.86zM5.41 20L4 18.59l7.72-7.72 1.47 1.35L5.41 20z\"/>\n",
              "  </svg>\n",
              "      </button>\n",
              "      \n",
              "  <style>\n",
              "    .colab-df-container {\n",
              "      display:flex;\n",
              "      flex-wrap:wrap;\n",
              "      gap: 12px;\n",
              "    }\n",
              "\n",
              "    .colab-df-convert {\n",
              "      background-color: #E8F0FE;\n",
              "      border: none;\n",
              "      border-radius: 50%;\n",
              "      cursor: pointer;\n",
              "      display: none;\n",
              "      fill: #1967D2;\n",
              "      height: 32px;\n",
              "      padding: 0 0 0 0;\n",
              "      width: 32px;\n",
              "    }\n",
              "\n",
              "    .colab-df-convert:hover {\n",
              "      background-color: #E2EBFA;\n",
              "      box-shadow: 0px 1px 2px rgba(60, 64, 67, 0.3), 0px 1px 3px 1px rgba(60, 64, 67, 0.15);\n",
              "      fill: #174EA6;\n",
              "    }\n",
              "\n",
              "    [theme=dark] .colab-df-convert {\n",
              "      background-color: #3B4455;\n",
              "      fill: #D2E3FC;\n",
              "    }\n",
              "\n",
              "    [theme=dark] .colab-df-convert:hover {\n",
              "      background-color: #434B5C;\n",
              "      box-shadow: 0px 1px 3px 1px rgba(0, 0, 0, 0.15);\n",
              "      filter: drop-shadow(0px 1px 2px rgba(0, 0, 0, 0.3));\n",
              "      fill: #FFFFFF;\n",
              "    }\n",
              "  </style>\n",
              "\n",
              "      <script>\n",
              "        const buttonEl =\n",
              "          document.querySelector('#df-2091c4ac-599b-48fe-9d4e-664df6a65220 button.colab-df-convert');\n",
              "        buttonEl.style.display =\n",
              "          google.colab.kernel.accessAllowed ? 'block' : 'none';\n",
              "\n",
              "        async function convertToInteractive(key) {\n",
              "          const element = document.querySelector('#df-2091c4ac-599b-48fe-9d4e-664df6a65220');\n",
              "          const dataTable =\n",
              "            await google.colab.kernel.invokeFunction('convertToInteractive',\n",
              "                                                     [key], {});\n",
              "          if (!dataTable) return;\n",
              "\n",
              "          const docLinkHtml = 'Like what you see? Visit the ' +\n",
              "            '<a target=\"_blank\" href=https://colab.research.google.com/notebooks/data_table.ipynb>data table notebook</a>'\n",
              "            + ' to learn more about interactive tables.';\n",
              "          element.innerHTML = '';\n",
              "          dataTable['output_type'] = 'display_data';\n",
              "          await google.colab.output.renderOutput(dataTable, element);\n",
              "          const docLink = document.createElement('div');\n",
              "          docLink.innerHTML = docLinkHtml;\n",
              "          element.appendChild(docLink);\n",
              "        }\n",
              "      </script>\n",
              "    </div>\n",
              "  </div>\n",
              "  "
            ]
          },
          "metadata": {},
          "execution_count": 321
        }
      ]
    },
    {
      "cell_type": "code",
      "source": [
        "X = df.drop(['client_id', 'sale_id','DayDiff', 'name_product','date','InvoiceDay', 'PrevInvoiceDate','payments','state_federation'], axis=1)\n",
        "Y = df['DayDiff']\n",
        "\n",
        "x_train, x_test, y_train, y_test = train_test_split(\n",
        "    X, Y, test_size=0.3, random_state=4\n",
        ")\n",
        "print(\"Tamanho do set train:\",len(x_train))\n",
        "print(\"Tamanho do set test:\",len(x_test))"
      ],
      "metadata": {
        "colab": {
          "base_uri": "https://localhost:8080/"
        },
        "id": "ShSP4VKZy_SV",
        "outputId": "c738c91c-1716-43f7-bd1e-67233c74dda0"
      },
      "execution_count": null,
      "outputs": [
        {
          "output_type": "stream",
          "name": "stdout",
          "text": [
            "Tamanho do set train: 192567\n",
            "Tamanho do set test: 82530\n"
          ]
        }
      ]
    },
    {
      "cell_type": "code",
      "source": [
        "scaler = MinMaxScaler()\n",
        "columns = [\n",
        "     'quantity_product', 'value_product', 'total',\n",
        " ]\n",
        "\n",
        "x_train[columns] = scaler.fit_transform(x_train[columns])\n",
        "x_test[columns] = scaler.transform(x_test[columns])"
      ],
      "metadata": {
        "id": "AexASpFE1GMx"
      },
      "execution_count": null,
      "outputs": []
    },
    {
      "cell_type": "code",
      "source": [
        "x_train.head()\n"
      ],
      "metadata": {
        "colab": {
          "base_uri": "https://localhost:8080/",
          "height": 352
        },
        "id": "SJ2R7Im-1dXL",
        "outputId": "8f75feb9-1665-4c3c-a379-9eadd9ae443e"
      },
      "execution_count": null,
      "outputs": [
        {
          "output_type": "execute_result",
          "data": {
            "text/plain": [
              "        quantity_product  value_product     total  d_Altos  d_Amarante  \\\n",
              "224196               0.0       0.047619  0.047619        0           1   \n",
              "148203               0.0       0.031008  0.031008        0           1   \n",
              "41395                0.0       0.025471  0.025471        0           0   \n",
              "114721               0.0       0.039867  0.039867        0           0   \n",
              "3104                 0.0       0.019934  0.019934        0           0   \n",
              "\n",
              "        d_Angical do Piauí  d_Aroazes  d_Aroeiras do Itaim  d_Bocaina  \\\n",
              "224196                   0          0                    0          0   \n",
              "148203                   0          0                    0          0   \n",
              "41395                    0          0                    0          0   \n",
              "114721                   0          0                    0          0   \n",
              "3104                     0          0                    0          0   \n",
              "\n",
              "        d_Campo Maior  ...  d_Santana do Piauí  d_Santo Antônio dos Milagres  \\\n",
              "224196              0  ...                   0                             0   \n",
              "148203              0  ...                   0                             0   \n",
              "41395               0  ...                   0                             0   \n",
              "114721              0  ...                   0                             0   \n",
              "3104                0  ...                   0                             0   \n",
              "\n",
              "        d_Sussuapara  d_São Gonçalo do Piauí  d_São João da Canabrava  \\\n",
              "224196             0                       0                        0   \n",
              "148203             0                       0                        0   \n",
              "41395              0                       0                        0   \n",
              "114721             0                       0                        0   \n",
              "3104               0                       0                        0   \n",
              "\n",
              "        d_São Luís do Piauí  d_São Miguel do Tapuio  d_São Pedro do Piauí  \\\n",
              "224196                    0                       0                     0   \n",
              "148203                    0                       0                     0   \n",
              "41395                     0                       0                     0   \n",
              "114721                    0                       0                     0   \n",
              "3104                      0                       0                     0   \n",
              "\n",
              "        d_Teresina  d_Valença do Piauí  \n",
              "224196           0                   0  \n",
              "148203           0                   0  \n",
              "41395            1                   0  \n",
              "114721           0                   0  \n",
              "3104             1                   0  \n",
              "\n",
              "[5 rows x 42 columns]"
            ],
            "text/html": [
              "\n",
              "  <div id=\"df-d9225638-4920-4b91-ae7d-966338b17425\">\n",
              "    <div class=\"colab-df-container\">\n",
              "      <div>\n",
              "<style scoped>\n",
              "    .dataframe tbody tr th:only-of-type {\n",
              "        vertical-align: middle;\n",
              "    }\n",
              "\n",
              "    .dataframe tbody tr th {\n",
              "        vertical-align: top;\n",
              "    }\n",
              "\n",
              "    .dataframe thead th {\n",
              "        text-align: right;\n",
              "    }\n",
              "</style>\n",
              "<table border=\"1\" class=\"dataframe\">\n",
              "  <thead>\n",
              "    <tr style=\"text-align: right;\">\n",
              "      <th></th>\n",
              "      <th>quantity_product</th>\n",
              "      <th>value_product</th>\n",
              "      <th>total</th>\n",
              "      <th>d_Altos</th>\n",
              "      <th>d_Amarante</th>\n",
              "      <th>d_Angical do Piauí</th>\n",
              "      <th>d_Aroazes</th>\n",
              "      <th>d_Aroeiras do Itaim</th>\n",
              "      <th>d_Bocaina</th>\n",
              "      <th>d_Campo Maior</th>\n",
              "      <th>...</th>\n",
              "      <th>d_Santana do Piauí</th>\n",
              "      <th>d_Santo Antônio dos Milagres</th>\n",
              "      <th>d_Sussuapara</th>\n",
              "      <th>d_São Gonçalo do Piauí</th>\n",
              "      <th>d_São João da Canabrava</th>\n",
              "      <th>d_São Luís do Piauí</th>\n",
              "      <th>d_São Miguel do Tapuio</th>\n",
              "      <th>d_São Pedro do Piauí</th>\n",
              "      <th>d_Teresina</th>\n",
              "      <th>d_Valença do Piauí</th>\n",
              "    </tr>\n",
              "  </thead>\n",
              "  <tbody>\n",
              "    <tr>\n",
              "      <th>224196</th>\n",
              "      <td>0.0</td>\n",
              "      <td>0.047619</td>\n",
              "      <td>0.047619</td>\n",
              "      <td>0</td>\n",
              "      <td>1</td>\n",
              "      <td>0</td>\n",
              "      <td>0</td>\n",
              "      <td>0</td>\n",
              "      <td>0</td>\n",
              "      <td>0</td>\n",
              "      <td>...</td>\n",
              "      <td>0</td>\n",
              "      <td>0</td>\n",
              "      <td>0</td>\n",
              "      <td>0</td>\n",
              "      <td>0</td>\n",
              "      <td>0</td>\n",
              "      <td>0</td>\n",
              "      <td>0</td>\n",
              "      <td>0</td>\n",
              "      <td>0</td>\n",
              "    </tr>\n",
              "    <tr>\n",
              "      <th>148203</th>\n",
              "      <td>0.0</td>\n",
              "      <td>0.031008</td>\n",
              "      <td>0.031008</td>\n",
              "      <td>0</td>\n",
              "      <td>1</td>\n",
              "      <td>0</td>\n",
              "      <td>0</td>\n",
              "      <td>0</td>\n",
              "      <td>0</td>\n",
              "      <td>0</td>\n",
              "      <td>...</td>\n",
              "      <td>0</td>\n",
              "      <td>0</td>\n",
              "      <td>0</td>\n",
              "      <td>0</td>\n",
              "      <td>0</td>\n",
              "      <td>0</td>\n",
              "      <td>0</td>\n",
              "      <td>0</td>\n",
              "      <td>0</td>\n",
              "      <td>0</td>\n",
              "    </tr>\n",
              "    <tr>\n",
              "      <th>41395</th>\n",
              "      <td>0.0</td>\n",
              "      <td>0.025471</td>\n",
              "      <td>0.025471</td>\n",
              "      <td>0</td>\n",
              "      <td>0</td>\n",
              "      <td>0</td>\n",
              "      <td>0</td>\n",
              "      <td>0</td>\n",
              "      <td>0</td>\n",
              "      <td>0</td>\n",
              "      <td>...</td>\n",
              "      <td>0</td>\n",
              "      <td>0</td>\n",
              "      <td>0</td>\n",
              "      <td>0</td>\n",
              "      <td>0</td>\n",
              "      <td>0</td>\n",
              "      <td>0</td>\n",
              "      <td>0</td>\n",
              "      <td>1</td>\n",
              "      <td>0</td>\n",
              "    </tr>\n",
              "    <tr>\n",
              "      <th>114721</th>\n",
              "      <td>0.0</td>\n",
              "      <td>0.039867</td>\n",
              "      <td>0.039867</td>\n",
              "      <td>0</td>\n",
              "      <td>0</td>\n",
              "      <td>0</td>\n",
              "      <td>0</td>\n",
              "      <td>0</td>\n",
              "      <td>0</td>\n",
              "      <td>0</td>\n",
              "      <td>...</td>\n",
              "      <td>0</td>\n",
              "      <td>0</td>\n",
              "      <td>0</td>\n",
              "      <td>0</td>\n",
              "      <td>0</td>\n",
              "      <td>0</td>\n",
              "      <td>0</td>\n",
              "      <td>0</td>\n",
              "      <td>0</td>\n",
              "      <td>0</td>\n",
              "    </tr>\n",
              "    <tr>\n",
              "      <th>3104</th>\n",
              "      <td>0.0</td>\n",
              "      <td>0.019934</td>\n",
              "      <td>0.019934</td>\n",
              "      <td>0</td>\n",
              "      <td>0</td>\n",
              "      <td>0</td>\n",
              "      <td>0</td>\n",
              "      <td>0</td>\n",
              "      <td>0</td>\n",
              "      <td>0</td>\n",
              "      <td>...</td>\n",
              "      <td>0</td>\n",
              "      <td>0</td>\n",
              "      <td>0</td>\n",
              "      <td>0</td>\n",
              "      <td>0</td>\n",
              "      <td>0</td>\n",
              "      <td>0</td>\n",
              "      <td>0</td>\n",
              "      <td>1</td>\n",
              "      <td>0</td>\n",
              "    </tr>\n",
              "  </tbody>\n",
              "</table>\n",
              "<p>5 rows × 42 columns</p>\n",
              "</div>\n",
              "      <button class=\"colab-df-convert\" onclick=\"convertToInteractive('df-d9225638-4920-4b91-ae7d-966338b17425')\"\n",
              "              title=\"Convert this dataframe to an interactive table.\"\n",
              "              style=\"display:none;\">\n",
              "        \n",
              "  <svg xmlns=\"http://www.w3.org/2000/svg\" height=\"24px\"viewBox=\"0 0 24 24\"\n",
              "       width=\"24px\">\n",
              "    <path d=\"M0 0h24v24H0V0z\" fill=\"none\"/>\n",
              "    <path d=\"M18.56 5.44l.94 2.06.94-2.06 2.06-.94-2.06-.94-.94-2.06-.94 2.06-2.06.94zm-11 1L8.5 8.5l.94-2.06 2.06-.94-2.06-.94L8.5 2.5l-.94 2.06-2.06.94zm10 10l.94 2.06.94-2.06 2.06-.94-2.06-.94-.94-2.06-.94 2.06-2.06.94z\"/><path d=\"M17.41 7.96l-1.37-1.37c-.4-.4-.92-.59-1.43-.59-.52 0-1.04.2-1.43.59L10.3 9.45l-7.72 7.72c-.78.78-.78 2.05 0 2.83L4 21.41c.39.39.9.59 1.41.59.51 0 1.02-.2 1.41-.59l7.78-7.78 2.81-2.81c.8-.78.8-2.07 0-2.86zM5.41 20L4 18.59l7.72-7.72 1.47 1.35L5.41 20z\"/>\n",
              "  </svg>\n",
              "      </button>\n",
              "      \n",
              "  <style>\n",
              "    .colab-df-container {\n",
              "      display:flex;\n",
              "      flex-wrap:wrap;\n",
              "      gap: 12px;\n",
              "    }\n",
              "\n",
              "    .colab-df-convert {\n",
              "      background-color: #E8F0FE;\n",
              "      border: none;\n",
              "      border-radius: 50%;\n",
              "      cursor: pointer;\n",
              "      display: none;\n",
              "      fill: #1967D2;\n",
              "      height: 32px;\n",
              "      padding: 0 0 0 0;\n",
              "      width: 32px;\n",
              "    }\n",
              "\n",
              "    .colab-df-convert:hover {\n",
              "      background-color: #E2EBFA;\n",
              "      box-shadow: 0px 1px 2px rgba(60, 64, 67, 0.3), 0px 1px 3px 1px rgba(60, 64, 67, 0.15);\n",
              "      fill: #174EA6;\n",
              "    }\n",
              "\n",
              "    [theme=dark] .colab-df-convert {\n",
              "      background-color: #3B4455;\n",
              "      fill: #D2E3FC;\n",
              "    }\n",
              "\n",
              "    [theme=dark] .colab-df-convert:hover {\n",
              "      background-color: #434B5C;\n",
              "      box-shadow: 0px 1px 3px 1px rgba(0, 0, 0, 0.15);\n",
              "      filter: drop-shadow(0px 1px 2px rgba(0, 0, 0, 0.3));\n",
              "      fill: #FFFFFF;\n",
              "    }\n",
              "  </style>\n",
              "\n",
              "      <script>\n",
              "        const buttonEl =\n",
              "          document.querySelector('#df-d9225638-4920-4b91-ae7d-966338b17425 button.colab-df-convert');\n",
              "        buttonEl.style.display =\n",
              "          google.colab.kernel.accessAllowed ? 'block' : 'none';\n",
              "\n",
              "        async function convertToInteractive(key) {\n",
              "          const element = document.querySelector('#df-d9225638-4920-4b91-ae7d-966338b17425');\n",
              "          const dataTable =\n",
              "            await google.colab.kernel.invokeFunction('convertToInteractive',\n",
              "                                                     [key], {});\n",
              "          if (!dataTable) return;\n",
              "\n",
              "          const docLinkHtml = 'Like what you see? Visit the ' +\n",
              "            '<a target=\"_blank\" href=https://colab.research.google.com/notebooks/data_table.ipynb>data table notebook</a>'\n",
              "            + ' to learn more about interactive tables.';\n",
              "          element.innerHTML = '';\n",
              "          dataTable['output_type'] = 'display_data';\n",
              "          await google.colab.output.renderOutput(dataTable, element);\n",
              "          const docLink = document.createElement('div');\n",
              "          docLink.innerHTML = docLinkHtml;\n",
              "          element.appendChild(docLink);\n",
              "        }\n",
              "      </script>\n",
              "    </div>\n",
              "  </div>\n",
              "  "
            ]
          },
          "metadata": {},
          "execution_count": 327
        }
      ]
    },
    {
      "cell_type": "code",
      "source": [
        "x_train.shape"
      ],
      "metadata": {
        "colab": {
          "base_uri": "https://localhost:8080/"
        },
        "id": "5NX4oei0FT27",
        "outputId": "2d230a07-b31e-40ad-b58a-35f54875d07c"
      },
      "execution_count": null,
      "outputs": [
        {
          "output_type": "execute_result",
          "data": {
            "text/plain": [
              "(192567, 42)"
            ]
          },
          "metadata": {},
          "execution_count": 328
        }
      ]
    },
    {
      "cell_type": "code",
      "source": [
        " yscaler = MinMaxScaler()\n",
        " y_train = yscaler.fit_transform(y_train.values.reshape(-1, 1))\n",
        " y_test = yscaler.transform(y_test.values.reshape(-1, 1))\n",
        " y_train"
      ],
      "metadata": {
        "colab": {
          "base_uri": "https://localhost:8080/"
        },
        "id": "zsxjBfq51hnm",
        "outputId": "e42d4596-9ae5-4e9c-f006-47e509e9c999"
      },
      "execution_count": null,
      "outputs": [
        {
          "output_type": "execute_result",
          "data": {
            "text/plain": [
              "array([[0.34408602],\n",
              "       [0.44086022],\n",
              "       [0.17204301],\n",
              "       ...,\n",
              "       [0.31182796],\n",
              "       [0.40860215],\n",
              "       [0.44086022]])"
            ]
          },
          "metadata": {},
          "execution_count": 329
        }
      ]
    },
    {
      "cell_type": "markdown",
      "source": [
        "# Modelo Regressão Linear"
      ],
      "metadata": {
        "id": "p9Gepfpl1lG7"
      }
    },
    {
      "cell_type": "code",
      "source": [
        "from sklearn.linear_model import LinearRegression\n",
        "from sklearn.model_selection import KFold\n",
        "from sklearn.model_selection import cross_val_score\n",
        "from sklearn.feature_selection import RFE\n",
        "import sklearn\n"
      ],
      "metadata": {
        "id": "fTo0t9wt1n1T"
      },
      "execution_count": null,
      "outputs": []
    },
    {
      "cell_type": "code",
      "source": [
        "cv = KFold(n_splits=10, random_state=1, shuffle=True)"
      ],
      "metadata": {
        "id": "kfe3obgI1qO3"
      },
      "execution_count": null,
      "outputs": []
    },
    {
      "cell_type": "code",
      "source": [
        "r = LinearRegression()\n",
        "r = r.fit(x_train, y_train)"
      ],
      "metadata": {
        "id": "_DK1WKUj1sy5"
      },
      "execution_count": null,
      "outputs": []
    },
    {
      "cell_type": "code",
      "source": [
        "y_predicted = r.predict(x_test)\n",
        "#y_predicted_train = r.predict(x_train)"
      ],
      "metadata": {
        "id": "Nr6oYb0A2xe9"
      },
      "execution_count": null,
      "outputs": []
    },
    {
      "cell_type": "code",
      "source": [
        "scores = cross_val_score(r, x_train, y_train, scoring='r2', cv=5)\n",
        "scores   "
      ],
      "metadata": {
        "colab": {
          "base_uri": "https://localhost:8080/"
        },
        "id": "iaVpCj2r232K",
        "outputId": "2d14418d-17f0-41e5-fd68-e14c0e0c6378"
      },
      "execution_count": null,
      "outputs": [
        {
          "output_type": "execute_result",
          "data": {
            "text/plain": [
              "array([ 2.06913942e-02, -8.59443067e+19,  1.71349244e-02,  2.06307127e-02,\n",
              "        2.09807136e-02])"
            ]
          },
          "metadata": {},
          "execution_count": 334
        }
      ]
    },
    {
      "cell_type": "code",
      "source": [
        "score = r.score(x_test, y_test)\n",
        "score"
      ],
      "metadata": {
        "colab": {
          "base_uri": "https://localhost:8080/"
        },
        "id": "uuSScw0m3Ak5",
        "outputId": "5065a86d-aced-464b-a011-225bc57449ed"
      },
      "execution_count": null,
      "outputs": [
        {
          "output_type": "execute_result",
          "data": {
            "text/plain": [
              "-7.132784251062753e+19"
            ]
          },
          "metadata": {},
          "execution_count": 335
        }
      ]
    },
    {
      "cell_type": "code",
      "source": [
        "from matplotlib import pyplot"
      ],
      "metadata": {
        "id": "0vjowRyU3C7r"
      },
      "execution_count": null,
      "outputs": []
    },
    {
      "cell_type": "code",
      "source": [
        "fig, ax = pyplot.subplots()\n",
        "ax.scatter(y_predicted, y_test, edgecolors=(0, 0, 1))\n",
        "ax.plot([y_test.min(), y_test.max()], [y_test.min(), y_test.max()], 'r--', lw=3)\n",
        "ax.set_xlabel('Predicted')\n",
        "ax.set_ylabel('Actual')\n",
        "pyplot.show()"
      ],
      "metadata": {
        "colab": {
          "base_uri": "https://localhost:8080/",
          "height": 279
        },
        "id": "LS9fohWr3FeT",
        "outputId": "3e27f65b-d30a-4a02-82ea-2e4fb7b158b7"
      },
      "execution_count": null,
      "outputs": [
        {
          "output_type": "display_data",
          "data": {
            "text/plain": [
              "<Figure size 432x288 with 1 Axes>"
            ],
            "image/png": "[encoded data removed]"
          },
          "metadata": {
            "needs_background": "light"
          }
        }
      ]
    },
    {
      "cell_type": "code",
      "source": [
        "# Modelo de Árvore de Regressão Linear\n"
      ],
      "metadata": {
        "id": "_LZPV1EQ3Jpg"
      },
      "execution_count": null,
      "outputs": []
    },
    {
      "cell_type": "code",
      "source": [
        "from sklearn.tree import DecisionTreeRegressor"
      ],
      "metadata": {
        "id": "m31FKvb83Pqd"
      },
      "execution_count": null,
      "outputs": []
    },
    {
      "cell_type": "code",
      "source": [
        "dtr = DecisionTreeRegressor()\n",
        "dtr.fit(x_train, y_train)"
      ],
      "metadata": {
        "colab": {
          "base_uri": "https://localhost:8080/"
        },
        "id": "a6yVli4N3SV8",
        "outputId": "36f6a676-1f8f-4a13-d70a-c0767064ef56"
      },
      "execution_count": null,
      "outputs": [
        {
          "output_type": "execute_result",
          "data": {
            "text/plain": [
              "DecisionTreeRegressor()"
            ]
          },
          "metadata": {},
          "execution_count": 340
        }
      ]
    },
    {
      "cell_type": "code",
      "source": [
        "y_predicted_d = dtr.predict(x_test)"
      ],
      "metadata": {
        "id": "5o4XRvIu3U3B"
      },
      "execution_count": null,
      "outputs": []
    },
    {
      "cell_type": "code",
      "source": [
        "from matplotlib import pyplot"
      ],
      "metadata": {
        "id": "RaelbX6w3ZO-"
      },
      "execution_count": null,
      "outputs": []
    },
    {
      "cell_type": "code",
      "source": [
        "fig, ax = pyplot.subplots()\n",
        "ax.scatter(y_predicted_d, y_test, edgecolors=(0, 0, 1))\n",
        "ax.plot([y_test.min(), y_test.max()], [y_test.min(), y_test.max()], 'r--', lw=3)\n",
        "ax.set_xlabel('Predicted')\n",
        "ax.set_ylabel('Actual')\n",
        "pyplot.show()"
      ],
      "metadata": {
        "colab": {
          "base_uri": "https://localhost:8080/",
          "height": 279
        },
        "id": "MegqRxFN3bYO",
        "outputId": "0697d9c0-f1ce-4838-a5a3-01c85c924862"
      },
      "execution_count": null,
      "outputs": [
        {
          "output_type": "display_data",
          "data": {
            "text/plain": [
              "<Figure size 432x288 with 1 Axes>"
            ],
            "image/png": "[encoded data removed]"
          },
          "metadata": {
            "needs_background": "light"
          }
        }
      ]
    },
    {
      "cell_type": "markdown",
      "source": [
        "# Modelo de Rede Neural"
      ],
      "metadata": {
        "id": "MHXXsvb13k1d"
      }
    },
    {
      "cell_type": "code",
      "source": [
        "from sklearn.neural_network import MLPRegressor"
      ],
      "metadata": {
        "id": "2Dwh80Gt3g-B"
      },
      "execution_count": null,
      "outputs": []
    },
    {
      "cell_type": "code",
      "source": [
        "nnr = MLPRegressor(hidden_layer_sizes=(100, 50))\n",
        "nnr.fit(x_train, y_train.ravel())\n"
      ],
      "metadata": {
        "colab": {
          "base_uri": "https://localhost:8080/"
        },
        "id": "rNgTRG8x3rkY",
        "outputId": "3be875a7-5f9a-4999-e6cc-8a8b2cd8e82a"
      },
      "execution_count": null,
      "outputs": [
        {
          "output_type": "execute_result",
          "data": {
            "text/plain": [
              "MLPRegressor(hidden_layer_sizes=(100, 50))"
            ]
          },
          "metadata": {},
          "execution_count": 222
        }
      ]
    },
    {
      "cell_type": "code",
      "source": [
        "y_predicted = nnr.predict(x_test)"
      ],
      "metadata": {
        "id": "KSyuLcLD4GCx"
      },
      "execution_count": null,
      "outputs": []
    },
    {
      "cell_type": "code",
      "source": [
        "fig, ax = pyplot.subplots()\n",
        "ax.scatter(y_predicted, y_test, edgecolors=(0, 0, 1),color=\"blue\", label=\"original\")\n",
        "ax.plot([y_test.min(), y_test.max()], [y_test.min(), y_test.max()], 'r--', lw=3, color=\"red\", label=\"predicted\")\n",
        "ax.set_xlabel('Predicted')\n",
        "ax.set_ylabel('Actual')\n",
        "pyplot.show()"
      ],
      "metadata": {
        "colab": {
          "base_uri": "https://localhost:8080/",
          "height": 279
        },
        "id": "Mrg7c6Wa4KMD",
        "outputId": "e0e20109-1071-424f-b3a5-8cc1af5c96bc"
      },
      "execution_count": null,
      "outputs": [
        {
          "output_type": "display_data",
          "data": {
            "text/plain": [
              "<Figure size 432x288 with 1 Axes>"
            ],
            "image/png": "[encoded data removed]"
          },
          "metadata": {
            "needs_background": "light"
          }
        }
      ]
    },
    {
      "cell_type": "markdown",
      "source": [
        "# Modelo XGBoost Regressor"
      ],
      "metadata": {
        "id": "rm1KNHzk5Ytq"
      }
    },
    {
      "cell_type": "code",
      "source": [
        "from xgboost import XGBRegressor\n"
      ],
      "metadata": {
        "id": "3IcH0Q-y5de1"
      },
      "execution_count": null,
      "outputs": []
    },
    {
      "cell_type": "code",
      "source": [
        "xgb = XGBRegressor()\n",
        "xgb.fit(x_train, y_train)"
      ],
      "metadata": {
        "colab": {
          "base_uri": "https://localhost:8080/"
        },
        "id": "RFlwhavI5g9-",
        "outputId": "cd39464c-f688-49f6-eb0c-6f55b051fe55"
      },
      "execution_count": null,
      "outputs": [
        {
          "output_type": "stream",
          "name": "stdout",
          "text": [
            "[13:12:32] WARNING: /workspace/src/objective/regression_obj.cu:152: reg:linear is now deprecated in favor of reg:squarederror.\n"
          ]
        },
        {
          "output_type": "execute_result",
          "data": {
            "text/plain": [
              "XGBRegressor()"
            ]
          },
          "metadata": {},
          "execution_count": 271
        }
      ]
    },
    {
      "cell_type": "code",
      "source": [
        "score = xgb.score(x_train, y_train)  \n",
        "score"
      ],
      "metadata": {
        "colab": {
          "base_uri": "https://localhost:8080/"
        },
        "id": "K1YTHMcD5rQH",
        "outputId": "06cedbcc-3f97-4a35-9c93-6e144633a84f"
      },
      "execution_count": null,
      "outputs": [
        {
          "output_type": "execute_result",
          "data": {
            "text/plain": [
              "0.03620783044457587"
            ]
          },
          "metadata": {},
          "execution_count": 272
        }
      ]
    },
    {
      "cell_type": "code",
      "source": [
        "scores = cross_val_score(xgb, x_train, y_train,cv=10)\n",
        "print(\"Mean cross-validation score: %.2f\" % scores.mean())\n"
      ],
      "metadata": {
        "colab": {
          "base_uri": "https://localhost:8080/"
        },
        "id": "84zI47Bl5u2e",
        "outputId": "841aeb3a-ee2d-4d7b-80b4-6f7a1f92ff17"
      },
      "execution_count": null,
      "outputs": [
        {
          "output_type": "stream",
          "name": "stdout",
          "text": [
            "[12:47:54] WARNING: /workspace/src/objective/regression_obj.cu:152: reg:linear is now deprecated in favor of reg:squarederror.\n",
            "[12:48:16] WARNING: /workspace/src/objective/regression_obj.cu:152: reg:linear is now deprecated in favor of reg:squarederror.\n",
            "[12:48:38] WARNING: /workspace/src/objective/regression_obj.cu:152: reg:linear is now deprecated in favor of reg:squarederror.\n",
            "[12:49:01] WARNING: /workspace/src/objective/regression_obj.cu:152: reg:linear is now deprecated in favor of reg:squarederror.\n",
            "[12:49:23] WARNING: /workspace/src/objective/regression_obj.cu:152: reg:linear is now deprecated in favor of reg:squarederror.\n",
            "[12:49:45] WARNING: /workspace/src/objective/regression_obj.cu:152: reg:linear is now deprecated in favor of reg:squarederror.\n",
            "[12:50:07] WARNING: /workspace/src/objective/regression_obj.cu:152: reg:linear is now deprecated in favor of reg:squarederror.\n",
            "[12:50:30] WARNING: /workspace/src/objective/regression_obj.cu:152: reg:linear is now deprecated in favor of reg:squarederror.\n",
            "[12:50:52] WARNING: /workspace/src/objective/regression_obj.cu:152: reg:linear is now deprecated in favor of reg:squarederror.\n",
            "[12:51:15] WARNING: /workspace/src/objective/regression_obj.cu:152: reg:linear is now deprecated in favor of reg:squarederror.\n",
            "Mean cross-validation score: 0.04\n"
          ]
        }
      ]
    },
    {
      "cell_type": "code",
      "source": [
        ""
      ],
      "metadata": {
        "id": "EI2xFNa09l7-"
      },
      "execution_count": null,
      "outputs": []
    },
    {
      "cell_type": "markdown",
      "source": [
        "# Exemplo Prático"
      ],
      "metadata": {
        "id": "LghcFosD9mrc"
      }
    },
    {
      "cell_type": "markdown",
      "source": [
        "## Regressão Linear"
      ],
      "metadata": {
        "id": "ffuclZ5E-EwR"
      }
    },
    {
      "cell_type": "code",
      "source": [
        " df['date'] = pd.to_datetime(df['date'])\n",
        " df.set_axis(df['date'], inplace=True)"
      ],
      "metadata": {
        "id": "NVRZKs5YAe5Z"
      },
      "execution_count": null,
      "outputs": []
    },
    {
      "cell_type": "code",
      "source": [
        "import numpy\n",
        "\n",
        "def transform_record(client_id, dataframe, scaler, model, normalizer):\n",
        "  ds = dataframe[dataframe['client_id'] == client_id]\n",
        "  ds = ds.iloc[-1:]\n",
        "  X = ds.drop(['client_id','sale_id', 'DayDiff', 'date', 'name_product','InvoiceDay', 'state_federation', 'PrevInvoiceDate','payments'], axis=1)\n",
        "  date = ds['date']\n",
        "  columns = [\n",
        "    'quantity_product', 'value_product','total',\n",
        "  ]\n",
        "  X[columns] = scaler.transform(X[columns])\n",
        "  y_predicted = model.predict(X.values)\n",
        "  y = normalizer.inverse_transform(y_predicted.reshape(-1, 1))\n",
        "  new_date = date.values[0] + (y[0] * numpy.timedelta64(1, 'D'))\n",
        "  return new_date[0], date.values[0]"
      ],
      "metadata": {
        "id": "j4q75Eax-KCa"
      },
      "execution_count": null,
      "outputs": []
    },
    {
      "cell_type": "code",
      "source": [
        "new_date, old_date = transform_record(\n",
        "    29293, dataframe=df, scaler=scaler, model=r, normalizer=yscaler\n",
        ")"
      ],
      "metadata": {
        "colab": {
          "base_uri": "https://localhost:8080/"
        },
        "id": "7NYh8IS9-XQ6",
        "outputId": "90facfaf-ca3a-4b9b-b40a-9aafbb93edaf"
      },
      "execution_count": null,
      "outputs": [
        {
          "output_type": "stream",
          "name": "stderr",
          "text": [
            "/usr/local/lib/python3.7/dist-packages/sklearn/base.py:451: UserWarning:\n",
            "\n",
            "X does not have valid feature names, but LinearRegression was fitted with feature names\n",
            "\n"
          ]
        }
      ]
    },
    {
      "cell_type": "code",
      "source": [
        "import datetime"
      ],
      "metadata": {
        "id": "yzIO6VaWAsHs"
      },
      "execution_count": null,
      "outputs": []
    },
    {
      "cell_type": "code",
      "source": [
        "n_date = datetime.datetime.fromtimestamp(\n",
        "    new_date.item() / 10**9\n",
        ").strftime('%Y.%m.%d')\n",
        "\n",
        "o_date = datetime.datetime.fromtimestamp(\n",
        "    old_date.item() / 10**9\n",
        ").strftime('%Y.%m.%d')"
      ],
      "metadata": {
        "id": "7DQ7E_lOAutH"
      },
      "execution_count": null,
      "outputs": []
    },
    {
      "cell_type": "code",
      "source": [
        "print(f'Última compra em: {o_date}. Próxima data de compra estimada em: {n_date}')"
      ],
      "metadata": {
        "colab": {
          "base_uri": "https://localhost:8080/"
        },
        "id": "gpO3i8dGAyHv",
        "outputId": "a20b3918-cc75-420b-cb10-de9fc46c0729"
      },
      "execution_count": null,
      "outputs": [
        {
          "output_type": "stream",
          "name": "stdout",
          "text": [
            "Última compra em: 2022.01.04. Próxima data de compra estimada em: 2022.02.21\n"
          ]
        }
      ]
    }
  ]
}