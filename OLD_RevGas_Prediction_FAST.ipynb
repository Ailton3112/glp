{
  "nbformat": 4,
  "nbformat_minor": 0,
  "metadata": {
    "colab": {
      "name": " OLD_RevGas_Prediction_FAST.ipynb",
      "provenance": [],
      "collapsed_sections": [],
      "include_colab_link": true
    },
    "kernelspec": {
      "name": "python3",
      "display_name": "Python 3"
    },
    "language_info": {
      "name": "python"
    },
    "accelerator": "GPU"
  },
  "cells": [
    {
      "cell_type": "markdown",
      "metadata": {
        "id": "view-in-github",
        "colab_type": "text"
      },
      "source": [
        "<a href=\"https://colab.research.google.com/github/Ailton3112/glp/blob/main/OLD_RevGas_Prediction_FAST.ipynb\" target=\"_parent\"><img src=\"https://colab.research.google.com/assets/colab-badge.svg\" alt=\"Open In Colab\"/></a>"
      ]
    },
    {
      "cell_type": "markdown",
      "source": [
        "# REVGÁS - Prediction FAST\n",
        "\n",
        "* Sources\n",
        "  - [Using machine learning to predict the next purchase date for an individual retail customer](http://www.scielo.org.za/scielo.php?script=sci_arttext&pid=S2224-78902020000300008)\n",
        "  - [Predicting Next Purchase Day](https://towardsdatascience.com/predicting-next-purchase-day-15fae5548027)\n",
        "  - [Using Machine Learning to Predict Customers’ Next Purchase Day](https://towardsdatascience.com/using-machine-learning-to-predict-customers-next-purchase-day-7895ad49b4db)"
      ],
      "metadata": {
        "id": "FKKaYMA0WAIa"
      }
    },
    {
      "cell_type": "markdown",
      "source": [
        "### Experimentações a fazer\n",
        "\n",
        "*   Experimentar a média por estado e média por cliente para predição \n",
        "*   Experimentar a média móvel \n",
        "\n"
      ],
      "metadata": {
        "id": "BX1FA_PZdg96"
      }
    },
    {
      "cell_type": "code",
      "source": [
        "import pandas as pd\n",
        "import numpy\n",
        "import warnings # supress warnings\n",
        "warnings.filterwarnings('ignore')"
      ],
      "metadata": {
        "id": "9cdg-sMBWxaG"
      },
      "execution_count": null,
      "outputs": []
    },
    {
      "cell_type": "code",
      "source": [
        "# from google.colab import drive\n",
        "# drive.mount('/content/drive')"
      ],
      "metadata": {
        "id": "bnoiAAxtuVQ4"
      },
      "execution_count": null,
      "outputs": []
    },
    {
      "cell_type": "markdown",
      "source": [
        "### Carrega dataset"
      ],
      "metadata": {
        "id": "ERwqMWcblyXc"
      }
    },
    {
      "cell_type": "code",
      "source": [
        "## LOCAL DA MÁQUINA\n",
        "dataset_path = '/Users/ailtonrodrigues/Desktop/REVGAS/input/produtos_clientes.csv'\n",
        "\n",
        "dataset_ori = pd.read_csv(dataset_path)\n",
        "\n",
        "## GDRIVE\n",
        "#dataset_ori = pd.read_csv('/content/drive/MyDrive/REVGAS/dados/produtos_clientes.csv',delimiter = ',',low_memory=False)\n"
      ],
      "metadata": {
        "id": "0_hREwz0Vv14"
      },
      "execution_count": null,
      "outputs": []
    },
    {
      "cell_type": "code",
      "source": [
        ""
      ],
      "metadata": {
        "id": "3RnUEREPhii0"
      },
      "execution_count": null,
      "outputs": []
    },
    {
      "cell_type": "markdown",
      "source": [
        "### Visualiza Dataset"
      ],
      "metadata": {
        "id": "92W6vCRjl4g6"
      }
    },
    {
      "cell_type": "code",
      "source": [
        "dataset_ori.head()"
      ],
      "metadata": {
        "colab": {
          "base_uri": "https://localhost:8080/",
          "height": 400
        },
        "id": "UZmWhrOHWOpB",
        "outputId": "1c770171-6192-46ac-d0e2-65d9d02e4126"
      },
      "execution_count": null,
      "outputs": [
        {
          "output_type": "execute_result",
          "data": {
            "text/plain": [
              "   client_id quantity_product   product value_product  payments  \\\n",
              "0      29293                1  GLP 13KG          45.0  Dinheiro   \n",
              "1      29293                1  GLP 13KG          40.0  Dinheiro   \n",
              "2      29293                1  GLP 13KG          45.0  Dinheiro   \n",
              "3      29293                1  GLP 13KG          45.0  Dinheiro   \n",
              "4      29293                1  GLP 13KG          45.0  Dinheiro   \n",
              "\n",
              "  payments_values  total                 date      city  state  \n",
              "0           45.00   45.0  2013-04-09 22:17:37  Teresina  Piauí  \n",
              "1           40.00   40.0  2013-05-18 23:12:27  Teresina  Piauí  \n",
              "2           45.00   45.0  2013-06-25 22:21:47  Teresina  Piauí  \n",
              "3           45.00   45.0  2013-08-11 21:51:12  Teresina  Piauí  \n",
              "4           45.00   45.0  2013-10-17 22:57:38  Teresina  Piauí  "
            ],
            "text/html": [
              "<div>\n",
              "<style scoped>\n",
              "    .dataframe tbody tr th:only-of-type {\n",
              "        vertical-align: middle;\n",
              "    }\n",
              "\n",
              "    .dataframe tbody tr th {\n",
              "        vertical-align: top;\n",
              "    }\n",
              "\n",
              "    .dataframe thead th {\n",
              "        text-align: right;\n",
              "    }\n",
              "</style>\n",
              "<table border=\"1\" class=\"dataframe\">\n",
              "  <thead>\n",
              "    <tr style=\"text-align: right;\">\n",
              "      <th></th>\n",
              "      <th>client_id</th>\n",
              "      <th>quantity_product</th>\n",
              "      <th>product</th>\n",
              "      <th>value_product</th>\n",
              "      <th>payments</th>\n",
              "      <th>payments_values</th>\n",
              "      <th>total</th>\n",
              "      <th>date</th>\n",
              "      <th>city</th>\n",
              "      <th>state</th>\n",
              "    </tr>\n",
              "  </thead>\n",
              "  <tbody>\n",
              "    <tr>\n",
              "      <th>0</th>\n",
              "      <td>29293</td>\n",
              "      <td>1</td>\n",
              "      <td>GLP 13KG</td>\n",
              "      <td>45.0</td>\n",
              "      <td>Dinheiro</td>\n",
              "      <td>45.00</td>\n",
              "      <td>45.0</td>\n",
              "      <td>2013-04-09 22:17:37</td>\n",
              "      <td>Teresina</td>\n",
              "      <td>Piauí</td>\n",
              "    </tr>\n",
              "    <tr>\n",
              "      <th>1</th>\n",
              "      <td>29293</td>\n",
              "      <td>1</td>\n",
              "      <td>GLP 13KG</td>\n",
              "      <td>40.0</td>\n",
              "      <td>Dinheiro</td>\n",
              "      <td>40.00</td>\n",
              "      <td>40.0</td>\n",
              "      <td>2013-05-18 23:12:27</td>\n",
              "      <td>Teresina</td>\n",
              "      <td>Piauí</td>\n",
              "    </tr>\n",
              "    <tr>\n",
              "      <th>2</th>\n",
              "      <td>29293</td>\n",
              "      <td>1</td>\n",
              "      <td>GLP 13KG</td>\n",
              "      <td>45.0</td>\n",
              "      <td>Dinheiro</td>\n",
              "      <td>45.00</td>\n",
              "      <td>45.0</td>\n",
              "      <td>2013-06-25 22:21:47</td>\n",
              "      <td>Teresina</td>\n",
              "      <td>Piauí</td>\n",
              "    </tr>\n",
              "    <tr>\n",
              "      <th>3</th>\n",
              "      <td>29293</td>\n",
              "      <td>1</td>\n",
              "      <td>GLP 13KG</td>\n",
              "      <td>45.0</td>\n",
              "      <td>Dinheiro</td>\n",
              "      <td>45.00</td>\n",
              "      <td>45.0</td>\n",
              "      <td>2013-08-11 21:51:12</td>\n",
              "      <td>Teresina</td>\n",
              "      <td>Piauí</td>\n",
              "    </tr>\n",
              "    <tr>\n",
              "      <th>4</th>\n",
              "      <td>29293</td>\n",
              "      <td>1</td>\n",
              "      <td>GLP 13KG</td>\n",
              "      <td>45.0</td>\n",
              "      <td>Dinheiro</td>\n",
              "      <td>45.00</td>\n",
              "      <td>45.0</td>\n",
              "      <td>2013-10-17 22:57:38</td>\n",
              "      <td>Teresina</td>\n",
              "      <td>Piauí</td>\n",
              "    </tr>\n",
              "  </tbody>\n",
              "</table>\n",
              "</div>"
            ]
          },
          "metadata": {},
          "execution_count": 69
        }
      ]
    },
    {
      "cell_type": "markdown",
      "source": [
        "### Seta tipos de atributos"
      ],
      "metadata": {
        "id": "1U9KmLJCl75m"
      }
    },
    {
      "cell_type": "code",
      "source": [
        "dataset_ori['client_id'] = pd.to_numeric(dataset_ori['client_id'])\n",
        "dataset_ori['quantity_product'] = pd.to_numeric(dataset_ori['quantity_product'], errors='coerce')\n",
        "dataset_ori['product'] = dataset_ori['product'].astype('category')\n",
        "dataset_ori['value_product'] = pd.to_numeric(dataset_ori['value_product'], errors='coerce')\n",
        "dataset_ori['payments_values'] = pd.to_numeric(dataset_ori['payments_values'], errors='coerce')\n",
        "dataset_ori['total'] = dataset_ori['total'].astype('float32')\n",
        "dataset_ori['date'] = dataset_ori['date'].astype('datetime64')\n",
        "dataset_ori['city'] = dataset_ori['city'].astype('category')\n",
        "dataset_ori['state'] = dataset_ori['state'].astype('category')"
      ],
      "metadata": {
        "id": "ai2_vN7BZQr2"
      },
      "execution_count": null,
      "outputs": []
    },
    {
      "cell_type": "markdown",
      "source": [
        "### Filtra DATASET por estado e produto"
      ],
      "metadata": {
        "id": "mx0Q0KTSmDj4"
      }
    },
    {
      "cell_type": "code",
      "source": [
        "dataset = dataset_ori.query(\"(state=='Piauí') & (quantity_product<=2) & (product=='GLP 13KG')\").reset_index(drop=True)\n",
        "dataset.shape"
      ],
      "metadata": {
        "colab": {
          "base_uri": "https://localhost:8080/"
        },
        "id": "_A-QnGsiQIm-",
        "outputId": "89482457-5271-4a07-ed2f-8f8785761eb1"
      },
      "execution_count": null,
      "outputs": [
        {
          "output_type": "execute_result",
          "data": {
            "text/plain": [
              "(609599, 10)"
            ]
          },
          "metadata": {},
          "execution_count": 71
        }
      ]
    },
    {
      "cell_type": "markdown",
      "source": [
        "### Descreve dados estatísticos do dataset já filtrado"
      ],
      "metadata": {
        "id": "woQtWL2BmJx-"
      }
    },
    {
      "cell_type": "code",
      "source": [
        "dataset.describe()"
      ],
      "metadata": {
        "colab": {
          "base_uri": "https://localhost:8080/",
          "height": 300
        },
        "id": "QskYsSjdZnEy",
        "outputId": "011fa668-e2eb-4a6f-f6b4-9dee4c2305a8"
      },
      "execution_count": null,
      "outputs": [
        {
          "output_type": "execute_result",
          "data": {
            "text/plain": [
              "          client_id  quantity_product  value_product  payments_values  \\\n",
              "count  6.095990e+05     609599.000000  609599.000000    605553.000000   \n",
              "mean   1.310892e+05          1.085617      71.864565        78.335886   \n",
              "std    1.807708e+05          0.279798      18.440122        31.776523   \n",
              "min    2.929300e+04          1.000000       0.780000         0.780000   \n",
              "25%    4.668200e+04          1.000000      60.000000        60.000000   \n",
              "50%    6.443800e+04          1.000000      70.000000        72.000000   \n",
              "75%    1.353510e+05          1.000000      80.000000        85.000000   \n",
              "max    1.243195e+06          2.000000     950.000000      2505.000000   \n",
              "\n",
              "               total  \n",
              "count  609599.000000  \n",
              "mean       78.497437  \n",
              "std        31.935467  \n",
              "min         0.780000  \n",
              "25%        60.000000  \n",
              "50%        72.000000  \n",
              "75%        85.000000  \n",
              "max      2505.000000  "
            ],
            "text/html": [
              "<div>\n",
              "<style scoped>\n",
              "    .dataframe tbody tr th:only-of-type {\n",
              "        vertical-align: middle;\n",
              "    }\n",
              "\n",
              "    .dataframe tbody tr th {\n",
              "        vertical-align: top;\n",
              "    }\n",
              "\n",
              "    .dataframe thead th {\n",
              "        text-align: right;\n",
              "    }\n",
              "</style>\n",
              "<table border=\"1\" class=\"dataframe\">\n",
              "  <thead>\n",
              "    <tr style=\"text-align: right;\">\n",
              "      <th></th>\n",
              "      <th>client_id</th>\n",
              "      <th>quantity_product</th>\n",
              "      <th>value_product</th>\n",
              "      <th>payments_values</th>\n",
              "      <th>total</th>\n",
              "    </tr>\n",
              "  </thead>\n",
              "  <tbody>\n",
              "    <tr>\n",
              "      <th>count</th>\n",
              "      <td>6.095990e+05</td>\n",
              "      <td>609599.000000</td>\n",
              "      <td>609599.000000</td>\n",
              "      <td>605553.000000</td>\n",
              "      <td>609599.000000</td>\n",
              "    </tr>\n",
              "    <tr>\n",
              "      <th>mean</th>\n",
              "      <td>1.310892e+05</td>\n",
              "      <td>1.085617</td>\n",
              "      <td>71.864565</td>\n",
              "      <td>78.335886</td>\n",
              "      <td>78.497437</td>\n",
              "    </tr>\n",
              "    <tr>\n",
              "      <th>std</th>\n",
              "      <td>1.807708e+05</td>\n",
              "      <td>0.279798</td>\n",
              "      <td>18.440122</td>\n",
              "      <td>31.776523</td>\n",
              "      <td>31.935467</td>\n",
              "    </tr>\n",
              "    <tr>\n",
              "      <th>min</th>\n",
              "      <td>2.929300e+04</td>\n",
              "      <td>1.000000</td>\n",
              "      <td>0.780000</td>\n",
              "      <td>0.780000</td>\n",
              "      <td>0.780000</td>\n",
              "    </tr>\n",
              "    <tr>\n",
              "      <th>25%</th>\n",
              "      <td>4.668200e+04</td>\n",
              "      <td>1.000000</td>\n",
              "      <td>60.000000</td>\n",
              "      <td>60.000000</td>\n",
              "      <td>60.000000</td>\n",
              "    </tr>\n",
              "    <tr>\n",
              "      <th>50%</th>\n",
              "      <td>6.443800e+04</td>\n",
              "      <td>1.000000</td>\n",
              "      <td>70.000000</td>\n",
              "      <td>72.000000</td>\n",
              "      <td>72.000000</td>\n",
              "    </tr>\n",
              "    <tr>\n",
              "      <th>75%</th>\n",
              "      <td>1.353510e+05</td>\n",
              "      <td>1.000000</td>\n",
              "      <td>80.000000</td>\n",
              "      <td>85.000000</td>\n",
              "      <td>85.000000</td>\n",
              "    </tr>\n",
              "    <tr>\n",
              "      <th>max</th>\n",
              "      <td>1.243195e+06</td>\n",
              "      <td>2.000000</td>\n",
              "      <td>950.000000</td>\n",
              "      <td>2505.000000</td>\n",
              "      <td>2505.000000</td>\n",
              "    </tr>\n",
              "  </tbody>\n",
              "</table>\n",
              "</div>"
            ]
          },
          "metadata": {},
          "execution_count": 72
        }
      ]
    },
    {
      "cell_type": "code",
      "source": [
        "dataset.info()"
      ],
      "metadata": {
        "id": "yBdUamm1dKmR"
      },
      "execution_count": null,
      "outputs": []
    },
    {
      "cell_type": "code",
      "source": [
        "dataset.isnull().sum()"
      ],
      "metadata": {
        "colab": {
          "base_uri": "https://localhost:8080/"
        },
        "id": "uhGoQ2OM2krU",
        "outputId": "78ea245f-d0b5-42c8-8304-47dcac8b4463"
      },
      "execution_count": null,
      "outputs": [
        {
          "output_type": "execute_result",
          "data": {
            "text/plain": [
              "client_id              0\n",
              "quantity_product       0\n",
              "product                0\n",
              "value_product          0\n",
              "payments               0\n",
              "payments_values     4046\n",
              "total                  0\n",
              "date                   0\n",
              "city                   0\n",
              "state                  0\n",
              "dtype: int64"
            ]
          },
          "metadata": {},
          "execution_count": 74
        }
      ]
    },
    {
      "cell_type": "code",
      "source": [
        "dataset['quantity_product'] = dataset['quantity_product'].fillna(1)\n",
        "dataset['value_product'] = (dataset['value_product'].fillna(dataset['value_product'].mean())\n",
        ")\n",
        "dataset['payments_values'] = (\n",
        "    dataset['payments_values'].fillna(dataset['payments_values'].mean())\n",
        ")"
      ],
      "metadata": {
        "id": "VKeP_CXT2ooI"
      },
      "execution_count": null,
      "outputs": []
    },
    {
      "cell_type": "code",
      "source": [
        "dataset.isnull().sum()"
      ],
      "metadata": {
        "colab": {
          "base_uri": "https://localhost:8080/"
        },
        "id": "RSbfqx0c3Oxq",
        "outputId": "27a84828-f876-420c-f941-b0da6add7490"
      },
      "execution_count": null,
      "outputs": [
        {
          "output_type": "execute_result",
          "data": {
            "text/plain": [
              "client_id           0\n",
              "quantity_product    0\n",
              "product             0\n",
              "value_product       0\n",
              "payments            0\n",
              "payments_values     0\n",
              "total               0\n",
              "date                0\n",
              "city                0\n",
              "state               0\n",
              "dtype: int64"
            ]
          },
          "metadata": {},
          "execution_count": 77
        }
      ]
    },
    {
      "cell_type": "markdown",
      "source": [
        "### Organiza os dados de forma ascendente"
      ],
      "metadata": {
        "id": "A4ewFbm5mXaP"
      }
    },
    {
      "cell_type": "code",
      "source": [
        "dataset.sort_values(['client_id', 'date'], ascending=True, inplace=True)"
      ],
      "metadata": {
        "id": "zBtT88XPqeq0"
      },
      "execution_count": null,
      "outputs": []
    },
    {
      "cell_type": "code",
      "source": [
        "dataset.shape"
      ],
      "metadata": {
        "colab": {
          "base_uri": "https://localhost:8080/"
        },
        "id": "906BBxSEowfR",
        "outputId": "83dbe758-b263-48f4-a81c-79618ee5656a"
      },
      "execution_count": null,
      "outputs": [
        {
          "output_type": "execute_result",
          "data": {
            "text/plain": [
              "(609599, 10)"
            ]
          },
          "metadata": {},
          "execution_count": 79
        }
      ]
    },
    {
      "cell_type": "code",
      "source": [
        "dataset.head()"
      ],
      "metadata": {
        "colab": {
          "base_uri": "https://localhost:8080/",
          "height": 400
        },
        "id": "8lGM9IDAWAIF",
        "outputId": "772cdcb0-b900-45a5-d92e-6235ea11bbaa"
      },
      "execution_count": null,
      "outputs": [
        {
          "output_type": "execute_result",
          "data": {
            "text/plain": [
              "   client_id  quantity_product   product  value_product  payments  \\\n",
              "0      29293               1.0  GLP 13KG           45.0  Dinheiro   \n",
              "1      29293               1.0  GLP 13KG           40.0  Dinheiro   \n",
              "2      29293               1.0  GLP 13KG           45.0  Dinheiro   \n",
              "3      29293               1.0  GLP 13KG           45.0  Dinheiro   \n",
              "4      29293               1.0  GLP 13KG           45.0  Dinheiro   \n",
              "\n",
              "   payments_values  total                date      city  state  \n",
              "0             45.0   45.0 2013-04-09 22:17:37  Teresina  Piauí  \n",
              "1             40.0   40.0 2013-05-18 23:12:27  Teresina  Piauí  \n",
              "2             45.0   45.0 2013-06-25 22:21:47  Teresina  Piauí  \n",
              "3             45.0   45.0 2013-08-11 21:51:12  Teresina  Piauí  \n",
              "4             45.0   45.0 2013-10-17 22:57:38  Teresina  Piauí  "
            ],
            "text/html": [
              "<div>\n",
              "<style scoped>\n",
              "    .dataframe tbody tr th:only-of-type {\n",
              "        vertical-align: middle;\n",
              "    }\n",
              "\n",
              "    .dataframe tbody tr th {\n",
              "        vertical-align: top;\n",
              "    }\n",
              "\n",
              "    .dataframe thead th {\n",
              "        text-align: right;\n",
              "    }\n",
              "</style>\n",
              "<table border=\"1\" class=\"dataframe\">\n",
              "  <thead>\n",
              "    <tr style=\"text-align: right;\">\n",
              "      <th></th>\n",
              "      <th>client_id</th>\n",
              "      <th>quantity_product</th>\n",
              "      <th>product</th>\n",
              "      <th>value_product</th>\n",
              "      <th>payments</th>\n",
              "      <th>payments_values</th>\n",
              "      <th>total</th>\n",
              "      <th>date</th>\n",
              "      <th>city</th>\n",
              "      <th>state</th>\n",
              "    </tr>\n",
              "  </thead>\n",
              "  <tbody>\n",
              "    <tr>\n",
              "      <th>0</th>\n",
              "      <td>29293</td>\n",
              "      <td>1.0</td>\n",
              "      <td>GLP 13KG</td>\n",
              "      <td>45.0</td>\n",
              "      <td>Dinheiro</td>\n",
              "      <td>45.0</td>\n",
              "      <td>45.0</td>\n",
              "      <td>2013-04-09 22:17:37</td>\n",
              "      <td>Teresina</td>\n",
              "      <td>Piauí</td>\n",
              "    </tr>\n",
              "    <tr>\n",
              "      <th>1</th>\n",
              "      <td>29293</td>\n",
              "      <td>1.0</td>\n",
              "      <td>GLP 13KG</td>\n",
              "      <td>40.0</td>\n",
              "      <td>Dinheiro</td>\n",
              "      <td>40.0</td>\n",
              "      <td>40.0</td>\n",
              "      <td>2013-05-18 23:12:27</td>\n",
              "      <td>Teresina</td>\n",
              "      <td>Piauí</td>\n",
              "    </tr>\n",
              "    <tr>\n",
              "      <th>2</th>\n",
              "      <td>29293</td>\n",
              "      <td>1.0</td>\n",
              "      <td>GLP 13KG</td>\n",
              "      <td>45.0</td>\n",
              "      <td>Dinheiro</td>\n",
              "      <td>45.0</td>\n",
              "      <td>45.0</td>\n",
              "      <td>2013-06-25 22:21:47</td>\n",
              "      <td>Teresina</td>\n",
              "      <td>Piauí</td>\n",
              "    </tr>\n",
              "    <tr>\n",
              "      <th>3</th>\n",
              "      <td>29293</td>\n",
              "      <td>1.0</td>\n",
              "      <td>GLP 13KG</td>\n",
              "      <td>45.0</td>\n",
              "      <td>Dinheiro</td>\n",
              "      <td>45.0</td>\n",
              "      <td>45.0</td>\n",
              "      <td>2013-08-11 21:51:12</td>\n",
              "      <td>Teresina</td>\n",
              "      <td>Piauí</td>\n",
              "    </tr>\n",
              "    <tr>\n",
              "      <th>4</th>\n",
              "      <td>29293</td>\n",
              "      <td>1.0</td>\n",
              "      <td>GLP 13KG</td>\n",
              "      <td>45.0</td>\n",
              "      <td>Dinheiro</td>\n",
              "      <td>45.0</td>\n",
              "      <td>45.0</td>\n",
              "      <td>2013-10-17 22:57:38</td>\n",
              "      <td>Teresina</td>\n",
              "      <td>Piauí</td>\n",
              "    </tr>\n",
              "  </tbody>\n",
              "</table>\n",
              "</div>"
            ]
          },
          "metadata": {},
          "execution_count": 80
        }
      ]
    },
    {
      "cell_type": "markdown",
      "source": [
        "### Calcula a last_order (dias entre pedidos)"
      ],
      "metadata": {
        "id": "NgNfblQ7mew5"
      }
    },
    {
      "cell_type": "code",
      "source": [
        "last_order = numpy.zeros(shape=(dataset.shape[0],))\n",
        "client = -1\n",
        "last_date = None\n",
        "count = 0\n",
        "for i, r in dataset.iterrows():\n",
        "  if r['client_id'] == client:\n",
        "    last_order[count] = (r['date']-last_date)/numpy.timedelta64(1, 'D')\n",
        "  else:\n",
        "    client = r['client_id']\n",
        "  last_date = r['date']\n",
        "  count += 1\n",
        "\n",
        "dataset['last_order'] = last_order\n"
      ],
      "metadata": {
        "id": "NzeMu-5Lo-s4"
      },
      "execution_count": null,
      "outputs": []
    },
    {
      "cell_type": "code",
      "source": [
        "dataset.head()"
      ],
      "metadata": {
        "colab": {
          "base_uri": "https://localhost:8080/",
          "height": 400
        },
        "id": "mqyB8wJBfVP8",
        "outputId": "39857945-96ac-4a0f-ac5f-24152ba8198d"
      },
      "execution_count": null,
      "outputs": [
        {
          "output_type": "execute_result",
          "data": {
            "text/plain": [
              "   client_id  quantity_product   product  value_product  payments  \\\n",
              "1      29293               1.0  GLP 13KG           40.0  Dinheiro   \n",
              "2      29293               1.0  GLP 13KG           45.0  Dinheiro   \n",
              "3      29293               1.0  GLP 13KG           45.0  Dinheiro   \n",
              "4      29293               1.0  GLP 13KG           45.0  Dinheiro   \n",
              "5      29293               1.0  GLP 13KG           40.0  Dinheiro   \n",
              "\n",
              "   payments_values  total                date      city  state  last_order  \\\n",
              "1             40.0   40.0 2013-05-18 23:12:27  Teresina  Piauí    0.000000   \n",
              "2             45.0   45.0 2013-06-25 22:21:47  Teresina  Piauí   37.964815   \n",
              "3             45.0   45.0 2013-08-11 21:51:12  Teresina  Piauí   46.978762   \n",
              "4             45.0   45.0 2013-10-17 22:57:38  Teresina  Piauí   67.046134   \n",
              "5             40.0   40.0 2013-12-03 20:31:04  Teresina  Piauí   46.898218   \n",
              "\n",
              "   SMA5  \n",
              "1   NaN  \n",
              "2   NaN  \n",
              "3   NaN  \n",
              "4   NaN  \n",
              "5   NaN  "
            ],
            "text/html": [
              "<div>\n",
              "<style scoped>\n",
              "    .dataframe tbody tr th:only-of-type {\n",
              "        vertical-align: middle;\n",
              "    }\n",
              "\n",
              "    .dataframe tbody tr th {\n",
              "        vertical-align: top;\n",
              "    }\n",
              "\n",
              "    .dataframe thead th {\n",
              "        text-align: right;\n",
              "    }\n",
              "</style>\n",
              "<table border=\"1\" class=\"dataframe\">\n",
              "  <thead>\n",
              "    <tr style=\"text-align: right;\">\n",
              "      <th></th>\n",
              "      <th>client_id</th>\n",
              "      <th>quantity_product</th>\n",
              "      <th>product</th>\n",
              "      <th>value_product</th>\n",
              "      <th>payments</th>\n",
              "      <th>payments_values</th>\n",
              "      <th>total</th>\n",
              "      <th>date</th>\n",
              "      <th>city</th>\n",
              "      <th>state</th>\n",
              "      <th>last_order</th>\n",
              "      <th>SMA5</th>\n",
              "    </tr>\n",
              "  </thead>\n",
              "  <tbody>\n",
              "    <tr>\n",
              "      <th>1</th>\n",
              "      <td>29293</td>\n",
              "      <td>1.0</td>\n",
              "      <td>GLP 13KG</td>\n",
              "      <td>40.0</td>\n",
              "      <td>Dinheiro</td>\n",
              "      <td>40.0</td>\n",
              "      <td>40.0</td>\n",
              "      <td>2013-05-18 23:12:27</td>\n",
              "      <td>Teresina</td>\n",
              "      <td>Piauí</td>\n",
              "      <td>0.000000</td>\n",
              "      <td>NaN</td>\n",
              "    </tr>\n",
              "    <tr>\n",
              "      <th>2</th>\n",
              "      <td>29293</td>\n",
              "      <td>1.0</td>\n",
              "      <td>GLP 13KG</td>\n",
              "      <td>45.0</td>\n",
              "      <td>Dinheiro</td>\n",
              "      <td>45.0</td>\n",
              "      <td>45.0</td>\n",
              "      <td>2013-06-25 22:21:47</td>\n",
              "      <td>Teresina</td>\n",
              "      <td>Piauí</td>\n",
              "      <td>37.964815</td>\n",
              "      <td>NaN</td>\n",
              "    </tr>\n",
              "    <tr>\n",
              "      <th>3</th>\n",
              "      <td>29293</td>\n",
              "      <td>1.0</td>\n",
              "      <td>GLP 13KG</td>\n",
              "      <td>45.0</td>\n",
              "      <td>Dinheiro</td>\n",
              "      <td>45.0</td>\n",
              "      <td>45.0</td>\n",
              "      <td>2013-08-11 21:51:12</td>\n",
              "      <td>Teresina</td>\n",
              "      <td>Piauí</td>\n",
              "      <td>46.978762</td>\n",
              "      <td>NaN</td>\n",
              "    </tr>\n",
              "    <tr>\n",
              "      <th>4</th>\n",
              "      <td>29293</td>\n",
              "      <td>1.0</td>\n",
              "      <td>GLP 13KG</td>\n",
              "      <td>45.0</td>\n",
              "      <td>Dinheiro</td>\n",
              "      <td>45.0</td>\n",
              "      <td>45.0</td>\n",
              "      <td>2013-10-17 22:57:38</td>\n",
              "      <td>Teresina</td>\n",
              "      <td>Piauí</td>\n",
              "      <td>67.046134</td>\n",
              "      <td>NaN</td>\n",
              "    </tr>\n",
              "    <tr>\n",
              "      <th>5</th>\n",
              "      <td>29293</td>\n",
              "      <td>1.0</td>\n",
              "      <td>GLP 13KG</td>\n",
              "      <td>40.0</td>\n",
              "      <td>Dinheiro</td>\n",
              "      <td>40.0</td>\n",
              "      <td>40.0</td>\n",
              "      <td>2013-12-03 20:31:04</td>\n",
              "      <td>Teresina</td>\n",
              "      <td>Piauí</td>\n",
              "      <td>46.898218</td>\n",
              "      <td>NaN</td>\n",
              "    </tr>\n",
              "  </tbody>\n",
              "</table>\n",
              "</div>"
            ]
          },
          "metadata": {},
          "execution_count": 51
        }
      ]
    },
    {
      "cell_type": "code",
      "source": [
        ""
      ],
      "metadata": {
        "id": "hsH23QlYM7Y_"
      },
      "execution_count": null,
      "outputs": []
    },
    {
      "cell_type": "code",
      "source": [
        "dataset.drop(dataset[dataset['last_order']<=0].index, inplace=True)"
      ],
      "metadata": {
        "id": "zXbcWXAIYk8e"
      },
      "execution_count": null,
      "outputs": []
    },
    {
      "cell_type": "code",
      "source": [
        "dataset.head()"
      ],
      "metadata": {
        "colab": {
          "base_uri": "https://localhost:8080/",
          "height": 400
        },
        "id": "D1lD4Hv_fW7a",
        "outputId": "02c7150a-4b48-46c6-877f-bf3153ac090c"
      },
      "execution_count": null,
      "outputs": [
        {
          "output_type": "execute_result",
          "data": {
            "text/plain": [
              "   client_id  quantity_product   product  value_product  payments  \\\n",
              "2      29293               1.0  GLP 13KG           45.0  Dinheiro   \n",
              "3      29293               1.0  GLP 13KG           45.0  Dinheiro   \n",
              "4      29293               1.0  GLP 13KG           45.0  Dinheiro   \n",
              "5      29293               1.0  GLP 13KG           40.0  Dinheiro   \n",
              "6      29293               1.0  GLP 13KG           40.0  Dinheiro   \n",
              "\n",
              "   payments_values  total                date      city  state  last_order  \\\n",
              "2             45.0   45.0 2013-06-25 22:21:47  Teresina  Piauí    0.000000   \n",
              "3             45.0   45.0 2013-08-11 21:51:12  Teresina  Piauí   46.978762   \n",
              "4             45.0   45.0 2013-10-17 22:57:38  Teresina  Piauí   67.046134   \n",
              "5             40.0   40.0 2013-12-03 20:31:04  Teresina  Piauí   46.898218   \n",
              "6             40.0   40.0 2013-12-03 20:31:13  Teresina  Piauí    0.000104   \n",
              "\n",
              "   SMA5  \n",
              "2   NaN  \n",
              "3   NaN  \n",
              "4   NaN  \n",
              "5   NaN  \n",
              "6   NaN  "
            ],
            "text/html": [
              "<div>\n",
              "<style scoped>\n",
              "    .dataframe tbody tr th:only-of-type {\n",
              "        vertical-align: middle;\n",
              "    }\n",
              "\n",
              "    .dataframe tbody tr th {\n",
              "        vertical-align: top;\n",
              "    }\n",
              "\n",
              "    .dataframe thead th {\n",
              "        text-align: right;\n",
              "    }\n",
              "</style>\n",
              "<table border=\"1\" class=\"dataframe\">\n",
              "  <thead>\n",
              "    <tr style=\"text-align: right;\">\n",
              "      <th></th>\n",
              "      <th>client_id</th>\n",
              "      <th>quantity_product</th>\n",
              "      <th>product</th>\n",
              "      <th>value_product</th>\n",
              "      <th>payments</th>\n",
              "      <th>payments_values</th>\n",
              "      <th>total</th>\n",
              "      <th>date</th>\n",
              "      <th>city</th>\n",
              "      <th>state</th>\n",
              "      <th>last_order</th>\n",
              "      <th>SMA5</th>\n",
              "    </tr>\n",
              "  </thead>\n",
              "  <tbody>\n",
              "    <tr>\n",
              "      <th>2</th>\n",
              "      <td>29293</td>\n",
              "      <td>1.0</td>\n",
              "      <td>GLP 13KG</td>\n",
              "      <td>45.0</td>\n",
              "      <td>Dinheiro</td>\n",
              "      <td>45.0</td>\n",
              "      <td>45.0</td>\n",
              "      <td>2013-06-25 22:21:47</td>\n",
              "      <td>Teresina</td>\n",
              "      <td>Piauí</td>\n",
              "      <td>0.000000</td>\n",
              "      <td>NaN</td>\n",
              "    </tr>\n",
              "    <tr>\n",
              "      <th>3</th>\n",
              "      <td>29293</td>\n",
              "      <td>1.0</td>\n",
              "      <td>GLP 13KG</td>\n",
              "      <td>45.0</td>\n",
              "      <td>Dinheiro</td>\n",
              "      <td>45.0</td>\n",
              "      <td>45.0</td>\n",
              "      <td>2013-08-11 21:51:12</td>\n",
              "      <td>Teresina</td>\n",
              "      <td>Piauí</td>\n",
              "      <td>46.978762</td>\n",
              "      <td>NaN</td>\n",
              "    </tr>\n",
              "    <tr>\n",
              "      <th>4</th>\n",
              "      <td>29293</td>\n",
              "      <td>1.0</td>\n",
              "      <td>GLP 13KG</td>\n",
              "      <td>45.0</td>\n",
              "      <td>Dinheiro</td>\n",
              "      <td>45.0</td>\n",
              "      <td>45.0</td>\n",
              "      <td>2013-10-17 22:57:38</td>\n",
              "      <td>Teresina</td>\n",
              "      <td>Piauí</td>\n",
              "      <td>67.046134</td>\n",
              "      <td>NaN</td>\n",
              "    </tr>\n",
              "    <tr>\n",
              "      <th>5</th>\n",
              "      <td>29293</td>\n",
              "      <td>1.0</td>\n",
              "      <td>GLP 13KG</td>\n",
              "      <td>40.0</td>\n",
              "      <td>Dinheiro</td>\n",
              "      <td>40.0</td>\n",
              "      <td>40.0</td>\n",
              "      <td>2013-12-03 20:31:04</td>\n",
              "      <td>Teresina</td>\n",
              "      <td>Piauí</td>\n",
              "      <td>46.898218</td>\n",
              "      <td>NaN</td>\n",
              "    </tr>\n",
              "    <tr>\n",
              "      <th>6</th>\n",
              "      <td>29293</td>\n",
              "      <td>1.0</td>\n",
              "      <td>GLP 13KG</td>\n",
              "      <td>40.0</td>\n",
              "      <td>Dinheiro</td>\n",
              "      <td>40.0</td>\n",
              "      <td>40.0</td>\n",
              "      <td>2013-12-03 20:31:13</td>\n",
              "      <td>Teresina</td>\n",
              "      <td>Piauí</td>\n",
              "      <td>0.000104</td>\n",
              "      <td>NaN</td>\n",
              "    </tr>\n",
              "  </tbody>\n",
              "</table>\n",
              "</div>"
            ]
          },
          "metadata": {},
          "execution_count": 56
        }
      ]
    },
    {
      "cell_type": "code",
      "source": [
        "#from sklearn import preprocessing"
      ],
      "metadata": {
        "id": "rqHlOjNhsu0v"
      },
      "execution_count": null,
      "outputs": []
    },
    {
      "cell_type": "code",
      "source": [
        "# scaler = MinMaxScaler()\n",
        "# y = scaler.fit_transform(dataset['last_order'].values.reshape(-1,1))\n",
        "#y = preprocessing.normalize(dataset['last_order'].values.reshape(-1,1))\n",
        "#last_order = pd.DataFrame(y)\n",
        "#dataset.boxplot(column=['last_order']) "
      ],
      "metadata": {
        "id": "jnL-_A0MbH0V"
      },
      "execution_count": null,
      "outputs": []
    },
    {
      "cell_type": "code",
      "source": [
        ""
      ],
      "metadata": {
        "id": "NhppNG1vskmY"
      },
      "execution_count": null,
      "outputs": []
    },
    {
      "cell_type": "markdown",
      "source": [
        "### Linhas e colunas do dataset"
      ],
      "metadata": {
        "id": "QrpzN82GnKU9"
      }
    },
    {
      "cell_type": "code",
      "source": [
        "dataset.shape"
      ],
      "metadata": {
        "colab": {
          "base_uri": "https://localhost:8080/"
        },
        "id": "UCHVmtkjpFcC",
        "outputId": "c1e57956-4976-41ec-870f-ea7916425a05"
      },
      "execution_count": null,
      "outputs": [
        {
          "output_type": "execute_result",
          "data": {
            "text/plain": [
              "(534866, 11)"
            ]
          },
          "metadata": {},
          "execution_count": 21
        }
      ]
    },
    {
      "cell_type": "markdown",
      "source": [
        "### BoxPlot da coluna  last_order"
      ],
      "metadata": {
        "id": "L0kb8DdgnPRk"
      }
    },
    {
      "cell_type": "code",
      "source": [
        "dataset.boxplot(column=['last_order']) "
      ],
      "metadata": {
        "colab": {
          "base_uri": "https://localhost:8080/",
          "height": 283
        },
        "id": "j5eiWfMSfILS",
        "outputId": "88df7007-0346-4673-de9e-2df4eac545e9"
      },
      "execution_count": null,
      "outputs": [
        {
          "output_type": "execute_result",
          "data": {
            "text/plain": [
              "<AxesSubplot:>"
            ]
          },
          "metadata": {},
          "execution_count": 25
        },
        {
          "output_type": "display_data",
          "data": {
            "text/plain": [
              "<Figure size 432x288 with 1 Axes>"
            ],
            "image/png": "[encoded data removed]"
          },
          "metadata": {
            "needs_background": "light"
          }
        }
      ]
    },
    {
      "cell_type": "markdown",
      "source": [
        "### Média e Desvio Padrão do atributo \"lastorder\" - SEM REMOÇÃO DE OUTLIERS"
      ],
      "metadata": {
        "id": "GjixJ39RjoYZ"
      }
    },
    {
      "cell_type": "code",
      "source": [
        "# Using DataFrame.mean() method to get column average last order\n",
        "\n",
        "df_last_order_media = dataset[\"last_order\"].mean() \n",
        "print(\"MÉDIA DE PEDIDOS (PI) ................ :\", df_last_order_media)\n",
        "\n",
        "df_dsp = dataset[\"last_order\"].std()\n",
        "print(\"DESVIO PADRÃO (PI).....................:\", df_dsp)"
      ],
      "metadata": {
        "colab": {
          "base_uri": "https://localhost:8080/"
        },
        "id": "3OQJcfPDjkDX",
        "outputId": "025b88e1-a3f7-489a-8d7c-d53c1b002b21"
      },
      "execution_count": null,
      "outputs": [
        {
          "output_type": "stream",
          "name": "stdout",
          "text": [
            "MÉDIA DE PEDIDOS (PI) ................ : 70.86790130201162\n",
            "DESVIO PADRÃO (PI).....................: 171.11901636810057\n"
          ]
        }
      ]
    },
    {
      "cell_type": "code",
      "source": [
        "dataset.drop(dataset[dataset['last_order']<=0].index, inplace=True)"
      ],
      "metadata": {
        "id": "u8jZrRdJ1zM4"
      },
      "execution_count": null,
      "outputs": []
    },
    {
      "cell_type": "code",
      "source": [
        "dataset.head()"
      ],
      "metadata": {
        "colab": {
          "base_uri": "https://localhost:8080/",
          "height": 400
        },
        "id": "ap3ne1X41dBq",
        "outputId": "0fa259b3-8190-4a7f-eb8d-c77258312a3c"
      },
      "execution_count": null,
      "outputs": [
        {
          "output_type": "execute_result",
          "data": {
            "text/plain": [
              "   client_id  quantity_product   product  value_product  payments  \\\n",
              "0      29293               1.0  GLP 13KG           45.0  Dinheiro   \n",
              "1      29293               1.0  GLP 13KG           40.0  Dinheiro   \n",
              "2      29293               1.0  GLP 13KG           45.0  Dinheiro   \n",
              "3      29293               1.0  GLP 13KG           45.0  Dinheiro   \n",
              "4      29293               1.0  GLP 13KG           45.0  Dinheiro   \n",
              "\n",
              "   payments_values  total                date      city  state  last_order  \n",
              "0             45.0   45.0 2013-04-09 22:17:37  Teresina  Piauí    0.000000  \n",
              "1             40.0   40.0 2013-05-18 23:12:27  Teresina  Piauí   39.038079  \n",
              "2             45.0   45.0 2013-06-25 22:21:47  Teresina  Piauí   37.964815  \n",
              "3             45.0   45.0 2013-08-11 21:51:12  Teresina  Piauí   46.978762  \n",
              "4             45.0   45.0 2013-10-17 22:57:38  Teresina  Piauí   67.046134  "
            ],
            "text/html": [
              "<div>\n",
              "<style scoped>\n",
              "    .dataframe tbody tr th:only-of-type {\n",
              "        vertical-align: middle;\n",
              "    }\n",
              "\n",
              "    .dataframe tbody tr th {\n",
              "        vertical-align: top;\n",
              "    }\n",
              "\n",
              "    .dataframe thead th {\n",
              "        text-align: right;\n",
              "    }\n",
              "</style>\n",
              "<table border=\"1\" class=\"dataframe\">\n",
              "  <thead>\n",
              "    <tr style=\"text-align: right;\">\n",
              "      <th></th>\n",
              "      <th>client_id</th>\n",
              "      <th>quantity_product</th>\n",
              "      <th>product</th>\n",
              "      <th>value_product</th>\n",
              "      <th>payments</th>\n",
              "      <th>payments_values</th>\n",
              "      <th>total</th>\n",
              "      <th>date</th>\n",
              "      <th>city</th>\n",
              "      <th>state</th>\n",
              "      <th>last_order</th>\n",
              "    </tr>\n",
              "  </thead>\n",
              "  <tbody>\n",
              "    <tr>\n",
              "      <th>0</th>\n",
              "      <td>29293</td>\n",
              "      <td>1.0</td>\n",
              "      <td>GLP 13KG</td>\n",
              "      <td>45.0</td>\n",
              "      <td>Dinheiro</td>\n",
              "      <td>45.0</td>\n",
              "      <td>45.0</td>\n",
              "      <td>2013-04-09 22:17:37</td>\n",
              "      <td>Teresina</td>\n",
              "      <td>Piauí</td>\n",
              "      <td>0.000000</td>\n",
              "    </tr>\n",
              "    <tr>\n",
              "      <th>1</th>\n",
              "      <td>29293</td>\n",
              "      <td>1.0</td>\n",
              "      <td>GLP 13KG</td>\n",
              "      <td>40.0</td>\n",
              "      <td>Dinheiro</td>\n",
              "      <td>40.0</td>\n",
              "      <td>40.0</td>\n",
              "      <td>2013-05-18 23:12:27</td>\n",
              "      <td>Teresina</td>\n",
              "      <td>Piauí</td>\n",
              "      <td>39.038079</td>\n",
              "    </tr>\n",
              "    <tr>\n",
              "      <th>2</th>\n",
              "      <td>29293</td>\n",
              "      <td>1.0</td>\n",
              "      <td>GLP 13KG</td>\n",
              "      <td>45.0</td>\n",
              "      <td>Dinheiro</td>\n",
              "      <td>45.0</td>\n",
              "      <td>45.0</td>\n",
              "      <td>2013-06-25 22:21:47</td>\n",
              "      <td>Teresina</td>\n",
              "      <td>Piauí</td>\n",
              "      <td>37.964815</td>\n",
              "    </tr>\n",
              "    <tr>\n",
              "      <th>3</th>\n",
              "      <td>29293</td>\n",
              "      <td>1.0</td>\n",
              "      <td>GLP 13KG</td>\n",
              "      <td>45.0</td>\n",
              "      <td>Dinheiro</td>\n",
              "      <td>45.0</td>\n",
              "      <td>45.0</td>\n",
              "      <td>2013-08-11 21:51:12</td>\n",
              "      <td>Teresina</td>\n",
              "      <td>Piauí</td>\n",
              "      <td>46.978762</td>\n",
              "    </tr>\n",
              "    <tr>\n",
              "      <th>4</th>\n",
              "      <td>29293</td>\n",
              "      <td>1.0</td>\n",
              "      <td>GLP 13KG</td>\n",
              "      <td>45.0</td>\n",
              "      <td>Dinheiro</td>\n",
              "      <td>45.0</td>\n",
              "      <td>45.0</td>\n",
              "      <td>2013-10-17 22:57:38</td>\n",
              "      <td>Teresina</td>\n",
              "      <td>Piauí</td>\n",
              "      <td>67.046134</td>\n",
              "    </tr>\n",
              "  </tbody>\n",
              "</table>\n",
              "</div>"
            ]
          },
          "metadata": {},
          "execution_count": 82
        }
      ]
    },
    {
      "cell_type": "code",
      "source": [
        "lo = dataset['last_order'].to_frame()\n",
        "  \n",
        "# calculating simple moving average\n",
        "# using .rolling(window).mean() ,\n",
        "# with window size = 30\n",
        "lo['SMA30'] = lo['last_order'].rolling(30).mean()\n",
        "  \n",
        "# removing all the NULL values using \n",
        "# dropna() method\n",
        "lo.dropna(inplace=True)\n",
        "  \n",
        "# printing Dataframe\n",
        "lo.head()"
      ],
      "metadata": {
        "colab": {
          "base_uri": "https://localhost:8080/",
          "height": 206
        },
        "id": "FimkqpzcUc9e",
        "outputId": "3828f88b-77de-4288-84db-0f5850578c4f"
      },
      "execution_count": null,
      "outputs": [
        {
          "output_type": "execute_result",
          "data": {
            "text/plain": [
              "    last_order      SMA30\n",
              "29   36.331169  45.395495\n",
              "30   36.009259  46.595804\n",
              "31   37.960486  46.559884\n",
              "32   31.051678  46.329446\n",
              "33   35.645139  45.951659"
            ],
            "text/html": [
              "<div>\n",
              "<style scoped>\n",
              "    .dataframe tbody tr th:only-of-type {\n",
              "        vertical-align: middle;\n",
              "    }\n",
              "\n",
              "    .dataframe tbody tr th {\n",
              "        vertical-align: top;\n",
              "    }\n",
              "\n",
              "    .dataframe thead th {\n",
              "        text-align: right;\n",
              "    }\n",
              "</style>\n",
              "<table border=\"1\" class=\"dataframe\">\n",
              "  <thead>\n",
              "    <tr style=\"text-align: right;\">\n",
              "      <th></th>\n",
              "      <th>last_order</th>\n",
              "      <th>SMA30</th>\n",
              "    </tr>\n",
              "  </thead>\n",
              "  <tbody>\n",
              "    <tr>\n",
              "      <th>29</th>\n",
              "      <td>36.331169</td>\n",
              "      <td>45.395495</td>\n",
              "    </tr>\n",
              "    <tr>\n",
              "      <th>30</th>\n",
              "      <td>36.009259</td>\n",
              "      <td>46.595804</td>\n",
              "    </tr>\n",
              "    <tr>\n",
              "      <th>31</th>\n",
              "      <td>37.960486</td>\n",
              "      <td>46.559884</td>\n",
              "    </tr>\n",
              "    <tr>\n",
              "      <th>32</th>\n",
              "      <td>31.051678</td>\n",
              "      <td>46.329446</td>\n",
              "    </tr>\n",
              "    <tr>\n",
              "      <th>33</th>\n",
              "      <td>35.645139</td>\n",
              "      <td>45.951659</td>\n",
              "    </tr>\n",
              "  </tbody>\n",
              "</table>\n",
              "</div>"
            ]
          },
          "metadata": {},
          "execution_count": 92
        }
      ]
    },
    {
      "cell_type": "code",
      "source": [
        "# # moving average of 5 days using .plot() method\n",
        "# lo[['last_order', 'SMA60']].plot(label='lo', \n",
        "#                                   figsize=(16, 8))"
      ],
      "metadata": {
        "id": "GbjK4oHF5zSW"
      },
      "execution_count": null,
      "outputs": []
    },
    {
      "cell_type": "code",
      "source": [
        ""
      ],
      "metadata": {
        "id": "WkKJIbknJr4A"
      },
      "execution_count": null,
      "outputs": []
    },
    {
      "cell_type": "markdown",
      "source": [
        "### Remoção de OUTLIERS"
      ],
      "metadata": {
        "id": "PkyBEdaPkbST"
      }
    },
    {
      "cell_type": "code",
      "source": [
        "#dataset= remove_outlier(dataset,\"last_order\")\n",
        "\n",
        "Q1 = dataset['last_order'].quantile(0.25)\n",
        "Q3 = dataset['last_order'].quantile(0.75)\n",
        "IQR = Q3 - Q1    #IQR is interquartile range. \n",
        "\n",
        "filter = (dataset['last_order'] >= Q1 - 1.5 * IQR) & (dataset['last_order'] <= Q3 + 1.5 *IQR)\n",
        "dataset= dataset.loc[filter] \n",
        "#dataset = dataset[dataset['last_order']<dataset['last_order'].quantile(0.95)]\n",
        "dataset.shape\n"
      ],
      "metadata": {
        "id": "T2EbJgW8ZPen",
        "colab": {
          "base_uri": "https://localhost:8080/"
        },
        "outputId": "69ae6e9b-6689-4a5d-9aba-a3c6f42e01b6"
      },
      "execution_count": null,
      "outputs": [
        {
          "output_type": "execute_result",
          "data": {
            "text/plain": [
              "(464602, 11)"
            ]
          },
          "metadata": {},
          "execution_count": 99
        }
      ]
    },
    {
      "cell_type": "markdown",
      "source": [
        "### Média e Desvio Padrão do atributo \"lastorder\" - PÓS REMOÇÃO DE OUTLIERS"
      ],
      "metadata": {
        "id": "iIDzgoh9nqKD"
      }
    },
    {
      "cell_type": "code",
      "source": [
        "# Using DataFrame.mean() method to get column average last order\n",
        "\n",
        "df_last_order_media = dataset[\"last_order\"].mean() \n",
        "print(\"Valor da Média................ :\", df_last_order_media)\n",
        "\n",
        "df_dsp = dataset[\"last_order\"].std()\n",
        "print(\"Valor de desvio padrão.........:\", df_dsp)"
      ],
      "metadata": {
        "colab": {
          "base_uri": "https://localhost:8080/"
        },
        "id": "i91uWV1snmE5",
        "outputId": "66757af2-62af-4022-b277-3f7db5976057"
      },
      "execution_count": null,
      "outputs": [
        {
          "output_type": "stream",
          "name": "stdout",
          "text": [
            "Valor da Média................ : 28.326438152255786\n",
            "Valor de desvio padrão.........: 27.289885443372576\n"
          ]
        }
      ]
    },
    {
      "cell_type": "code",
      "source": [
        "dataset.boxplot(column=['last_order']) "
      ],
      "metadata": {
        "colab": {
          "base_uri": "https://localhost:8080/",
          "height": 283
        },
        "id": "Y5NUYDjs8opL",
        "outputId": "e7610506-e573-438a-9d74-ccaa5cc8c9b3"
      },
      "execution_count": null,
      "outputs": [
        {
          "output_type": "execute_result",
          "data": {
            "text/plain": [
              "<AxesSubplot:>"
            ]
          },
          "metadata": {},
          "execution_count": 106
        },
        {
          "output_type": "display_data",
          "data": {
            "text/plain": [
              "<Figure size 432x288 with 1 Axes>"
            ],
            "image/png": "[encoded data removed]"
          },
          "metadata": {
            "needs_background": "light"
          }
        }
      ]
    },
    {
      "cell_type": "code",
      "source": [
        "dataset['last_order'].plot(kind='hist')"
      ],
      "metadata": {
        "colab": {
          "base_uri": "https://localhost:8080/",
          "height": 282
        },
        "id": "DWJeBnsuaEmW",
        "outputId": "7ee487d4-7d49-463f-ff89-73a901d8772a"
      },
      "execution_count": null,
      "outputs": [
        {
          "output_type": "execute_result",
          "data": {
            "text/plain": [
              "<AxesSubplot:ylabel='Frequency'>"
            ]
          },
          "metadata": {},
          "execution_count": 108
        },
        {
          "output_type": "display_data",
          "data": {
            "text/plain": [
              "<Figure size 432x288 with 1 Axes>"
            ],
            "image/png": "[encoded data removed]"
          },
          "metadata": {
            "needs_background": "light"
          }
        }
      ]
    },
    {
      "cell_type": "code",
      "source": [
        ""
      ],
      "metadata": {
        "id": "9HkQDcFcs6vr"
      },
      "execution_count": null,
      "outputs": []
    },
    {
      "cell_type": "code",
      "source": [
        "df_all = dataset.describe()\n",
        "df_all"
      ],
      "metadata": {
        "colab": {
          "base_uri": "https://localhost:8080/",
          "height": 300
        },
        "id": "Fxf4eH6Dl-dQ",
        "outputId": "9aaa8550-b4b6-47cf-a886-b592f74410bb"
      },
      "execution_count": null,
      "outputs": [
        {
          "output_type": "execute_result",
          "data": {
            "text/plain": [
              "          client_id  quantity_product  value_product  payments_values  \\\n",
              "count  4.646020e+05     464602.000000  464602.000000    464602.000000   \n",
              "mean   1.161966e+05          1.103506      71.518267        79.257367   \n",
              "std    1.532587e+05          0.304619      18.010568        32.789263   \n",
              "min    2.929300e+04          1.000000       3.000000         3.000000   \n",
              "25%    4.614500e+04          1.000000      60.000000        60.000000   \n",
              "50%    6.244300e+04          1.000000      70.000000        72.000000   \n",
              "75%    1.276650e+05          1.000000      80.000000        88.000000   \n",
              "max    1.242571e+06          2.000000     950.000000      1450.000000   \n",
              "\n",
              "               total     last_order  \n",
              "count  464602.000000  464602.000000  \n",
              "mean       79.419807      28.326438  \n",
              "std        33.082302      27.289885  \n",
              "min         3.000000       0.000012  \n",
              "25%        60.000000       2.758837  \n",
              "50%        72.000000      23.956759  \n",
              "75%        88.000000      45.074878  \n",
              "max      1450.000000     108.548912  "
            ],
            "text/html": [
              "<div>\n",
              "<style scoped>\n",
              "    .dataframe tbody tr th:only-of-type {\n",
              "        vertical-align: middle;\n",
              "    }\n",
              "\n",
              "    .dataframe tbody tr th {\n",
              "        vertical-align: top;\n",
              "    }\n",
              "\n",
              "    .dataframe thead th {\n",
              "        text-align: right;\n",
              "    }\n",
              "</style>\n",
              "<table border=\"1\" class=\"dataframe\">\n",
              "  <thead>\n",
              "    <tr style=\"text-align: right;\">\n",
              "      <th></th>\n",
              "      <th>client_id</th>\n",
              "      <th>quantity_product</th>\n",
              "      <th>value_product</th>\n",
              "      <th>payments_values</th>\n",
              "      <th>total</th>\n",
              "      <th>last_order</th>\n",
              "    </tr>\n",
              "  </thead>\n",
              "  <tbody>\n",
              "    <tr>\n",
              "      <th>count</th>\n",
              "      <td>4.646020e+05</td>\n",
              "      <td>464602.000000</td>\n",
              "      <td>464602.000000</td>\n",
              "      <td>464602.000000</td>\n",
              "      <td>464602.000000</td>\n",
              "      <td>464602.000000</td>\n",
              "    </tr>\n",
              "    <tr>\n",
              "      <th>mean</th>\n",
              "      <td>1.161966e+05</td>\n",
              "      <td>1.103506</td>\n",
              "      <td>71.518267</td>\n",
              "      <td>79.257367</td>\n",
              "      <td>79.419807</td>\n",
              "      <td>28.326438</td>\n",
              "    </tr>\n",
              "    <tr>\n",
              "      <th>std</th>\n",
              "      <td>1.532587e+05</td>\n",
              "      <td>0.304619</td>\n",
              "      <td>18.010568</td>\n",
              "      <td>32.789263</td>\n",
              "      <td>33.082302</td>\n",
              "      <td>27.289885</td>\n",
              "    </tr>\n",
              "    <tr>\n",
              "      <th>min</th>\n",
              "      <td>2.929300e+04</td>\n",
              "      <td>1.000000</td>\n",
              "      <td>3.000000</td>\n",
              "      <td>3.000000</td>\n",
              "      <td>3.000000</td>\n",
              "      <td>0.000012</td>\n",
              "    </tr>\n",
              "    <tr>\n",
              "      <th>25%</th>\n",
              "      <td>4.614500e+04</td>\n",
              "      <td>1.000000</td>\n",
              "      <td>60.000000</td>\n",
              "      <td>60.000000</td>\n",
              "      <td>60.000000</td>\n",
              "      <td>2.758837</td>\n",
              "    </tr>\n",
              "    <tr>\n",
              "      <th>50%</th>\n",
              "      <td>6.244300e+04</td>\n",
              "      <td>1.000000</td>\n",
              "      <td>70.000000</td>\n",
              "      <td>72.000000</td>\n",
              "      <td>72.000000</td>\n",
              "      <td>23.956759</td>\n",
              "    </tr>\n",
              "    <tr>\n",
              "      <th>75%</th>\n",
              "      <td>1.276650e+05</td>\n",
              "      <td>1.000000</td>\n",
              "      <td>80.000000</td>\n",
              "      <td>88.000000</td>\n",
              "      <td>88.000000</td>\n",
              "      <td>45.074878</td>\n",
              "    </tr>\n",
              "    <tr>\n",
              "      <th>max</th>\n",
              "      <td>1.242571e+06</td>\n",
              "      <td>2.000000</td>\n",
              "      <td>950.000000</td>\n",
              "      <td>1450.000000</td>\n",
              "      <td>1450.000000</td>\n",
              "      <td>108.548912</td>\n",
              "    </tr>\n",
              "  </tbody>\n",
              "</table>\n",
              "</div>"
            ]
          },
          "metadata": {},
          "execution_count": 109
        }
      ]
    },
    {
      "cell_type": "code",
      "source": [
        "for p in dataset['payments'].unique():\n",
        "  print(p)"
      ],
      "metadata": {
        "colab": {
          "base_uri": "https://localhost:8080/"
        },
        "id": "Y1sTGzIYsez5",
        "outputId": "4a439419-8e32-43f0-d672-ff151e6aea28"
      },
      "execution_count": null,
      "outputs": [
        {
          "output_type": "stream",
          "name": "stdout",
          "text": [
            "Dinheiro\n",
            "Carteira\n",
            "Cartão Credishop\n",
            "Cartão Visa\n",
            "Cheque\n",
            "Cartão Master\n",
            "Cartão Hiper\n",
            "Cartão Elo\n",
            "DinheiroDinheiro\n",
            "Carteira,Cartão Master\n",
            "PIX\n",
            "Crédito de Cliente\n",
            "DinheiroCrédito de Cliente\n",
            "Boleto Bancário\n",
            "Cartão de Crédito\n",
            "Cartão de Débito\n",
            "Carteira,Crédito de Cliente\n",
            "Crédito de Cliente,Cartão de Débito\n",
            "Carteira,Cartão de Crédito\n",
            "Dinheiro de Débito\n",
            "Cheque,Cartão Visa\n",
            "Cartão Outro\n",
            "Dinheiro Outro\n",
            "Cartão Visa,Cartão Outro\n",
            "Cartão\n",
            "Cartão Visa,Cartão Hiper\n",
            "Cartão Elo,Cartão Outro\n",
            "Dinheiro Elo\n",
            "Carteira,Cartão\n",
            "Carteira,Cartão Outro\n",
            "Dinheiro Credishop\n",
            "Vale Gás\n",
            "Vale Gás,Vale Gás\n",
            "Cartão de Crédito,Cartão de Débito\n",
            "Dinheiro de Crédito\n",
            "Carteira,Cartão Hiper\n",
            "DinheiroCheque\n",
            "DinheiroVale Gás\n",
            "Transferência Bancária\n",
            "Cartão de Crédito,Cartão de Crédito\n",
            "Carteira,Cartão Credishop\n",
            "Cartão Credishop,Cartão de Débito\n",
            "DinheiroPIX\n",
            "DinheiroTransferência Bancária\n"
          ]
        }
      ]
    },
    {
      "cell_type": "code",
      "source": [
        "dataset['payments'].nunique()"
      ],
      "metadata": {
        "colab": {
          "base_uri": "https://localhost:8080/"
        },
        "id": "eWpToVmz1FO4",
        "outputId": "d99fca32-117b-4008-802f-8adc9b50fd11"
      },
      "execution_count": null,
      "outputs": [
        {
          "output_type": "execute_result",
          "data": {
            "text/plain": [
              "44"
            ]
          },
          "metadata": {},
          "execution_count": 111
        }
      ]
    },
    {
      "cell_type": "code",
      "source": [
        "payment_terms = {\n",
        "    'Débito': 'Débito',\n",
        "    'Pix': 'Pix',\n",
        "    'Dinheiro': 'Dinheiro',\n",
        "    'Crédito': 'Crédito',\n",
        "    'Cartão': 'Crédito',\n",
        "    'Cheque': 'Cheque',\n",
        "    'Vale': 'Vale',\n",
        "    'Carteira': 'Carteira',\n",
        "    'Transferência': 'Transferência Bancária'\n",
        "}\n",
        "for key, value in payment_terms.items():\n",
        "  dataset.loc[dataset['payments'].str.contains(\n",
        "      key, case=False\n",
        "  ), 'payments'] = value"
      ],
      "metadata": {
        "id": "OXyIFJnPtdhq"
      },
      "execution_count": null,
      "outputs": []
    },
    {
      "cell_type": "code",
      "source": [
        "dataset['payments'].unique()"
      ],
      "metadata": {
        "colab": {
          "base_uri": "https://localhost:8080/"
        },
        "id": "UK8aZzI71GuH",
        "outputId": "fde6b8b8-9c0f-4bf8-8964-67f71554eb7d"
      },
      "execution_count": null,
      "outputs": [
        {
          "output_type": "execute_result",
          "data": {
            "text/plain": [
              "array(['Dinheiro', 'Carteira', 'Crédito', 'Cheque', 'Pix',\n",
              "       'Boleto Bancário', 'Débito', 'Vale', 'Transferência Bancária'],\n",
              "      dtype=object)"
            ]
          },
          "metadata": {},
          "execution_count": 113
        }
      ]
    },
    {
      "cell_type": "code",
      "source": [
        "dataset['payments'] = dataset['payments'].astype('category')"
      ],
      "metadata": {
        "id": "U6eluW2j5ClQ"
      },
      "execution_count": null,
      "outputs": []
    },
    {
      "cell_type": "code",
      "source": [
        "product_terms = {\n",
        "    r'^.*GLP\\s?13\\s?KG.*$': r'GLP 13 KG'\n",
        "}\n",
        "\n",
        "for key, value in product_terms.items():\n",
        "  dataset['product'] = (\n",
        "      dataset['product'].str.replace(key, value)\n",
        "  )"
      ],
      "metadata": {
        "id": "5J_qwp8jw7jb"
      },
      "execution_count": null,
      "outputs": []
    },
    {
      "cell_type": "code",
      "source": [
        "dataset['product'].unique()"
      ],
      "metadata": {
        "colab": {
          "base_uri": "https://localhost:8080/"
        },
        "id": "FW75MM6Z5PHH",
        "outputId": "264d1f76-b1f5-4bbf-e7ab-c8a1ea178931"
      },
      "execution_count": null,
      "outputs": [
        {
          "output_type": "execute_result",
          "data": {
            "text/plain": [
              "array(['GLP 13 KG'], dtype=object)"
            ]
          },
          "metadata": {},
          "execution_count": 116
        }
      ]
    },
    {
      "cell_type": "code",
      "source": [
        "dataset = pd.get_dummies(\n",
        "      dataset, prefix='d', columns=['payments', 'city', 'state']\n",
        " \n",
        ")"
      ],
      "metadata": {
        "id": "XShtUPGCtlCI"
      },
      "execution_count": null,
      "outputs": []
    },
    {
      "cell_type": "code",
      "source": [
        "dataset.head()"
      ],
      "metadata": {
        "colab": {
          "base_uri": "https://localhost:8080/",
          "height": 481
        },
        "id": "MVcqq5ed6BOp",
        "outputId": "6bd93ef8-547a-456d-cd0b-9af0108e2799"
      },
      "execution_count": null,
      "outputs": [
        {
          "output_type": "execute_result",
          "data": {
            "text/plain": [
              "   client_id  quantity_product    product  value_product  payments_values  \\\n",
              "1      29293               1.0  GLP 13 KG           40.0             40.0   \n",
              "2      29293               1.0  GLP 13 KG           45.0             45.0   \n",
              "3      29293               1.0  GLP 13 KG           45.0             45.0   \n",
              "4      29293               1.0  GLP 13 KG           45.0             45.0   \n",
              "5      29293               1.0  GLP 13 KG           40.0             40.0   \n",
              "\n",
              "   total                date  last_order  d_Boleto Bancário  d_Carteira  ...  \\\n",
              "1   40.0 2013-05-18 23:12:27   39.038079                  0           0  ...   \n",
              "2   45.0 2013-06-25 22:21:47   37.964815                  0           0  ...   \n",
              "3   45.0 2013-08-11 21:51:12   46.978762                  0           0  ...   \n",
              "4   45.0 2013-10-17 22:57:38   67.046134                  0           0  ...   \n",
              "5   40.0 2013-12-03 20:31:04   46.898218                  0           0  ...   \n",
              "\n",
              "   d_Pernambuco  d_Piauí  d_Rio Grande do Norte  d_Rio Grande do Sul  \\\n",
              "1             0        1                      0                    0   \n",
              "2             0        1                      0                    0   \n",
              "3             0        1                      0                    0   \n",
              "4             0        1                      0                    0   \n",
              "5             0        1                      0                    0   \n",
              "\n",
              "   d_Rio de Janeiro  d_Rondônia  d_Santa Catarina  d_Sergipe  d_São Paulo  \\\n",
              "1                 0           0                 0          0            0   \n",
              "2                 0           0                 0          0            0   \n",
              "3                 0           0                 0          0            0   \n",
              "4                 0           0                 0          0            0   \n",
              "5                 0           0                 0          0            0   \n",
              "\n",
              "   d_Tocantins  \n",
              "1            0  \n",
              "2            0  \n",
              "3            0  \n",
              "4            0  \n",
              "5            0  \n",
              "\n",
              "[5 rows x 591 columns]"
            ],
            "text/html": [
              "<div>\n",
              "<style scoped>\n",
              "    .dataframe tbody tr th:only-of-type {\n",
              "        vertical-align: middle;\n",
              "    }\n",
              "\n",
              "    .dataframe tbody tr th {\n",
              "        vertical-align: top;\n",
              "    }\n",
              "\n",
              "    .dataframe thead th {\n",
              "        text-align: right;\n",
              "    }\n",
              "</style>\n",
              "<table border=\"1\" class=\"dataframe\">\n",
              "  <thead>\n",
              "    <tr style=\"text-align: right;\">\n",
              "      <th></th>\n",
              "      <th>client_id</th>\n",
              "      <th>quantity_product</th>\n",
              "      <th>product</th>\n",
              "      <th>value_product</th>\n",
              "      <th>payments_values</th>\n",
              "      <th>total</th>\n",
              "      <th>date</th>\n",
              "      <th>last_order</th>\n",
              "      <th>d_Boleto Bancário</th>\n",
              "      <th>d_Carteira</th>\n",
              "      <th>...</th>\n",
              "      <th>d_Pernambuco</th>\n",
              "      <th>d_Piauí</th>\n",
              "      <th>d_Rio Grande do Norte</th>\n",
              "      <th>d_Rio Grande do Sul</th>\n",
              "      <th>d_Rio de Janeiro</th>\n",
              "      <th>d_Rondônia</th>\n",
              "      <th>d_Santa Catarina</th>\n",
              "      <th>d_Sergipe</th>\n",
              "      <th>d_São Paulo</th>\n",
              "      <th>d_Tocantins</th>\n",
              "    </tr>\n",
              "  </thead>\n",
              "  <tbody>\n",
              "    <tr>\n",
              "      <th>1</th>\n",
              "      <td>29293</td>\n",
              "      <td>1.0</td>\n",
              "      <td>GLP 13 KG</td>\n",
              "      <td>40.0</td>\n",
              "      <td>40.0</td>\n",
              "      <td>40.0</td>\n",
              "      <td>2013-05-18 23:12:27</td>\n",
              "      <td>39.038079</td>\n",
              "      <td>0</td>\n",
              "      <td>0</td>\n",
              "      <td>...</td>\n",
              "      <td>0</td>\n",
              "      <td>1</td>\n",
              "      <td>0</td>\n",
              "      <td>0</td>\n",
              "      <td>0</td>\n",
              "      <td>0</td>\n",
              "      <td>0</td>\n",
              "      <td>0</td>\n",
              "      <td>0</td>\n",
              "      <td>0</td>\n",
              "    </tr>\n",
              "    <tr>\n",
              "      <th>2</th>\n",
              "      <td>29293</td>\n",
              "      <td>1.0</td>\n",
              "      <td>GLP 13 KG</td>\n",
              "      <td>45.0</td>\n",
              "      <td>45.0</td>\n",
              "      <td>45.0</td>\n",
              "      <td>2013-06-25 22:21:47</td>\n",
              "      <td>37.964815</td>\n",
              "      <td>0</td>\n",
              "      <td>0</td>\n",
              "      <td>...</td>\n",
              "      <td>0</td>\n",
              "      <td>1</td>\n",
              "      <td>0</td>\n",
              "      <td>0</td>\n",
              "      <td>0</td>\n",
              "      <td>0</td>\n",
              "      <td>0</td>\n",
              "      <td>0</td>\n",
              "      <td>0</td>\n",
              "      <td>0</td>\n",
              "    </tr>\n",
              "    <tr>\n",
              "      <th>3</th>\n",
              "      <td>29293</td>\n",
              "      <td>1.0</td>\n",
              "      <td>GLP 13 KG</td>\n",
              "      <td>45.0</td>\n",
              "      <td>45.0</td>\n",
              "      <td>45.0</td>\n",
              "      <td>2013-08-11 21:51:12</td>\n",
              "      <td>46.978762</td>\n",
              "      <td>0</td>\n",
              "      <td>0</td>\n",
              "      <td>...</td>\n",
              "      <td>0</td>\n",
              "      <td>1</td>\n",
              "      <td>0</td>\n",
              "      <td>0</td>\n",
              "      <td>0</td>\n",
              "      <td>0</td>\n",
              "      <td>0</td>\n",
              "      <td>0</td>\n",
              "      <td>0</td>\n",
              "      <td>0</td>\n",
              "    </tr>\n",
              "    <tr>\n",
              "      <th>4</th>\n",
              "      <td>29293</td>\n",
              "      <td>1.0</td>\n",
              "      <td>GLP 13 KG</td>\n",
              "      <td>45.0</td>\n",
              "      <td>45.0</td>\n",
              "      <td>45.0</td>\n",
              "      <td>2013-10-17 22:57:38</td>\n",
              "      <td>67.046134</td>\n",
              "      <td>0</td>\n",
              "      <td>0</td>\n",
              "      <td>...</td>\n",
              "      <td>0</td>\n",
              "      <td>1</td>\n",
              "      <td>0</td>\n",
              "      <td>0</td>\n",
              "      <td>0</td>\n",
              "      <td>0</td>\n",
              "      <td>0</td>\n",
              "      <td>0</td>\n",
              "      <td>0</td>\n",
              "      <td>0</td>\n",
              "    </tr>\n",
              "    <tr>\n",
              "      <th>5</th>\n",
              "      <td>29293</td>\n",
              "      <td>1.0</td>\n",
              "      <td>GLP 13 KG</td>\n",
              "      <td>40.0</td>\n",
              "      <td>40.0</td>\n",
              "      <td>40.0</td>\n",
              "      <td>2013-12-03 20:31:04</td>\n",
              "      <td>46.898218</td>\n",
              "      <td>0</td>\n",
              "      <td>0</td>\n",
              "      <td>...</td>\n",
              "      <td>0</td>\n",
              "      <td>1</td>\n",
              "      <td>0</td>\n",
              "      <td>0</td>\n",
              "      <td>0</td>\n",
              "      <td>0</td>\n",
              "      <td>0</td>\n",
              "      <td>0</td>\n",
              "      <td>0</td>\n",
              "      <td>0</td>\n",
              "    </tr>\n",
              "  </tbody>\n",
              "</table>\n",
              "<p>5 rows × 591 columns</p>\n",
              "</div>"
            ]
          },
          "metadata": {},
          "execution_count": 148
        }
      ]
    },
    {
      "cell_type": "code",
      "source": [
        "from sklearn.model_selection import train_test_split"
      ],
      "metadata": {
        "id": "pthE2y7WsvBJ"
      },
      "execution_count": null,
      "outputs": []
    },
    {
      "cell_type": "code",
      "source": [
        "# Como só tem uma categoria de producos (GLP 13 KG) não vamos usar a coluna\n",
        "X = dataset.drop(['client_id', 'last_order', 'date', 'product'], axis=1)\n",
        "Y = dataset['last_order']\n",
        "\n",
        "x_train, x_test, y_train, y_test = train_test_split(\n",
        "    X, Y, test_size=0.3, random_state=4\n",
        ")\n",
        "print(\"Tamanho do set train:\",len(x_train))\n",
        "print(\"Tamanho do set test:\",len(x_test))"
      ],
      "metadata": {
        "id": "cbO5AUhSs0XX",
        "colab": {
          "base_uri": "https://localhost:8080/"
        },
        "outputId": "2007e9b7-7739-4247-aa65-1f7e949f9ba3"
      },
      "execution_count": null,
      "outputs": [
        {
          "output_type": "stream",
          "name": "stdout",
          "text": [
            "Tamanho do set train: 325221\n",
            "Tamanho do set test: 139381\n"
          ]
        }
      ]
    },
    {
      "cell_type": "code",
      "source": [
        "x_train= x_train.T.drop_duplicates().T\n",
        "#x_train.head()\n",
        "x_test= x_test.T.drop_duplicates().T"
      ],
      "metadata": {
        "id": "FVf22lT78Lxb"
      },
      "execution_count": null,
      "outputs": []
    },
    {
      "cell_type": "code",
      "source": [
        ""
      ],
      "metadata": {
        "id": "fVhGpawz8QWI"
      },
      "execution_count": null,
      "outputs": []
    },
    {
      "cell_type": "code",
      "source": [
        "duplicate_columns_test = x_test.columns[x_test.columns.duplicated()]\n",
        "duplicate_columns_test"
      ],
      "metadata": {
        "id": "oMumMKTOFM4l",
        "colab": {
          "base_uri": "https://localhost:8080/"
        },
        "outputId": "fd59de39-8140-4755-b48a-348c214921f5"
      },
      "execution_count": null,
      "outputs": [
        {
          "output_type": "execute_result",
          "data": {
            "text/plain": [
              "Index(['d_Amapá', 'd_Rio de Janeiro', 'd_São Paulo'], dtype='object')"
            ]
          },
          "metadata": {},
          "execution_count": 151
        }
      ]
    },
    {
      "cell_type": "code",
      "source": [
        "duplicate_columns_train = x_train.columns[x_train.columns.duplicated()]\n",
        "duplicate_columns_train"
      ],
      "metadata": {
        "id": "LSLHEZAvFPbE",
        "colab": {
          "base_uri": "https://localhost:8080/"
        },
        "outputId": "e4821f75-53ae-4c65-9ff0-e045132a0d84"
      },
      "execution_count": null,
      "outputs": [
        {
          "output_type": "execute_result",
          "data": {
            "text/plain": [
              "Index(['d_Amapá', 'd_Rio de Janeiro', 'd_São Paulo'], dtype='object')"
            ]
          },
          "metadata": {},
          "execution_count": 152
        }
      ]
    },
    {
      "cell_type": "code",
      "source": [
        "print(\"Tamanho do set train:\",len(x_train))\n",
        "print(\"Tamanho do set test:\",len(x_test))"
      ],
      "metadata": {
        "id": "qe1UcYglFNdz",
        "colab": {
          "base_uri": "https://localhost:8080/"
        },
        "outputId": "51370d82-8698-4cd2-b291-edcc3037d49e"
      },
      "execution_count": null,
      "outputs": [
        {
          "output_type": "stream",
          "name": "stdout",
          "text": [
            "Tamanho do set train: 325221\n",
            "Tamanho do set test: 139381\n"
          ]
        }
      ]
    },
    {
      "cell_type": "code",
      "source": [
        ""
      ],
      "metadata": {
        "id": "ciMIIN63Kw8A"
      },
      "execution_count": null,
      "outputs": []
    },
    {
      "cell_type": "code",
      "source": [
        "from sklearn.preprocessing import MinMaxScaler\n",
        "from pandas.core.common import SettingWithCopyWarning\n",
        "import warnings\n",
        "\n",
        "warnings.simplefilter(action=\"ignore\", category=SettingWithCopyWarning)\n",
        "warnings.simplefilter(action='ignore', category=FutureWarning)\n"
      ],
      "metadata": {
        "id": "goCq5zYSFVaK"
      },
      "execution_count": null,
      "outputs": []
    },
    {
      "cell_type": "code",
      "source": [
        "scaler = MinMaxScaler()\n",
        "columns = [\n",
        "    'quantity_product', 'value_product', 'payments_values', 'total',\n",
        "]\n",
        "\n",
        "x_train[columns] = scaler.fit_transform(x_train[columns])\n",
        "x_test[columns] = scaler.transform(x_test[columns])"
      ],
      "metadata": {
        "id": "4JrXB-K5Fd27"
      },
      "execution_count": null,
      "outputs": []
    },
    {
      "cell_type": "code",
      "source": [
        "x_train.head()"
      ],
      "metadata": {
        "id": "rVLMLIpD78PV",
        "colab": {
          "base_uri": "https://localhost:8080/",
          "height": 308
        },
        "outputId": "5f003a9e-c290-47ba-b620-a748f27b3cbf"
      },
      "execution_count": null,
      "outputs": [
        {
          "output_type": "execute_result",
          "data": {
            "text/plain": [
              "        quantity_product  value_product  payments_values     total  \\\n",
              "71267                0.0       0.091416         0.060651  0.060651   \n",
              "236946               0.0       0.080268         0.053254  0.053254   \n",
              "414708               0.0       0.070234         0.046598  0.046598   \n",
              "460567               0.0       0.069119         0.045858  0.045858   \n",
              "233812               0.0       0.069119         0.045858  0.045858   \n",
              "\n",
              "        d_Boleto Bancário  d_Carteira  d_Cheque  d_Crédito  d_Dinheiro  \\\n",
              "71267                   0           0         0          0           1   \n",
              "236946                  0           0         0          0           1   \n",
              "414708                  0           0         0          0           1   \n",
              "460567                  0           0         0          0           1   \n",
              "233812                  0           0         0          0           1   \n",
              "\n",
              "        d_Débito  ...  d_Pernambuco  d_Piauí  d_Rio Grande do Norte  \\\n",
              "71267          0  ...             0        1                      0   \n",
              "236946         0  ...             0        1                      0   \n",
              "414708         0  ...             0        1                      0   \n",
              "460567         0  ...             0        1                      0   \n",
              "233812         0  ...             0        1                      0   \n",
              "\n",
              "        d_Rio Grande do Sul  d_Rio de Janeiro  d_Rondônia  d_Santa Catarina  \\\n",
              "71267                     0                 0           0                 0   \n",
              "236946                    0                 0           0                 0   \n",
              "414708                    0                 0           0                 0   \n",
              "460567                    0                 0           0                 0   \n",
              "233812                    0                 0           0                 0   \n",
              "\n",
              "        d_Sergipe  d_São Paulo  d_Tocantins  \n",
              "71267           0            0            0  \n",
              "236946          0            0            0  \n",
              "414708          0            0            0  \n",
              "460567          0            0            0  \n",
              "233812          0            0            0  \n",
              "\n",
              "[5 rows x 587 columns]"
            ],
            "text/html": [
              "<div>\n",
              "<style scoped>\n",
              "    .dataframe tbody tr th:only-of-type {\n",
              "        vertical-align: middle;\n",
              "    }\n",
              "\n",
              "    .dataframe tbody tr th {\n",
              "        vertical-align: top;\n",
              "    }\n",
              "\n",
              "    .dataframe thead th {\n",
              "        text-align: right;\n",
              "    }\n",
              "</style>\n",
              "<table border=\"1\" class=\"dataframe\">\n",
              "  <thead>\n",
              "    <tr style=\"text-align: right;\">\n",
              "      <th></th>\n",
              "      <th>quantity_product</th>\n",
              "      <th>value_product</th>\n",
              "      <th>payments_values</th>\n",
              "      <th>total</th>\n",
              "      <th>d_Boleto Bancário</th>\n",
              "      <th>d_Carteira</th>\n",
              "      <th>d_Cheque</th>\n",
              "      <th>d_Crédito</th>\n",
              "      <th>d_Dinheiro</th>\n",
              "      <th>d_Débito</th>\n",
              "      <th>...</th>\n",
              "      <th>d_Pernambuco</th>\n",
              "      <th>d_Piauí</th>\n",
              "      <th>d_Rio Grande do Norte</th>\n",
              "      <th>d_Rio Grande do Sul</th>\n",
              "      <th>d_Rio de Janeiro</th>\n",
              "      <th>d_Rondônia</th>\n",
              "      <th>d_Santa Catarina</th>\n",
              "      <th>d_Sergipe</th>\n",
              "      <th>d_São Paulo</th>\n",
              "      <th>d_Tocantins</th>\n",
              "    </tr>\n",
              "  </thead>\n",
              "  <tbody>\n",
              "    <tr>\n",
              "      <th>71267</th>\n",
              "      <td>0.0</td>\n",
              "      <td>0.091416</td>\n",
              "      <td>0.060651</td>\n",
              "      <td>0.060651</td>\n",
              "      <td>0</td>\n",
              "      <td>0</td>\n",
              "      <td>0</td>\n",
              "      <td>0</td>\n",
              "      <td>1</td>\n",
              "      <td>0</td>\n",
              "      <td>...</td>\n",
              "      <td>0</td>\n",
              "      <td>1</td>\n",
              "      <td>0</td>\n",
              "      <td>0</td>\n",
              "      <td>0</td>\n",
              "      <td>0</td>\n",
              "      <td>0</td>\n",
              "      <td>0</td>\n",
              "      <td>0</td>\n",
              "      <td>0</td>\n",
              "    </tr>\n",
              "    <tr>\n",
              "      <th>236946</th>\n",
              "      <td>0.0</td>\n",
              "      <td>0.080268</td>\n",
              "      <td>0.053254</td>\n",
              "      <td>0.053254</td>\n",
              "      <td>0</td>\n",
              "      <td>0</td>\n",
              "      <td>0</td>\n",
              "      <td>0</td>\n",
              "      <td>1</td>\n",
              "      <td>0</td>\n",
              "      <td>...</td>\n",
              "      <td>0</td>\n",
              "      <td>1</td>\n",
              "      <td>0</td>\n",
              "      <td>0</td>\n",
              "      <td>0</td>\n",
              "      <td>0</td>\n",
              "      <td>0</td>\n",
              "      <td>0</td>\n",
              "      <td>0</td>\n",
              "      <td>0</td>\n",
              "    </tr>\n",
              "    <tr>\n",
              "      <th>414708</th>\n",
              "      <td>0.0</td>\n",
              "      <td>0.070234</td>\n",
              "      <td>0.046598</td>\n",
              "      <td>0.046598</td>\n",
              "      <td>0</td>\n",
              "      <td>0</td>\n",
              "      <td>0</td>\n",
              "      <td>0</td>\n",
              "      <td>1</td>\n",
              "      <td>0</td>\n",
              "      <td>...</td>\n",
              "      <td>0</td>\n",
              "      <td>1</td>\n",
              "      <td>0</td>\n",
              "      <td>0</td>\n",
              "      <td>0</td>\n",
              "      <td>0</td>\n",
              "      <td>0</td>\n",
              "      <td>0</td>\n",
              "      <td>0</td>\n",
              "      <td>0</td>\n",
              "    </tr>\n",
              "    <tr>\n",
              "      <th>460567</th>\n",
              "      <td>0.0</td>\n",
              "      <td>0.069119</td>\n",
              "      <td>0.045858</td>\n",
              "      <td>0.045858</td>\n",
              "      <td>0</td>\n",
              "      <td>0</td>\n",
              "      <td>0</td>\n",
              "      <td>0</td>\n",
              "      <td>1</td>\n",
              "      <td>0</td>\n",
              "      <td>...</td>\n",
              "      <td>0</td>\n",
              "      <td>1</td>\n",
              "      <td>0</td>\n",
              "      <td>0</td>\n",
              "      <td>0</td>\n",
              "      <td>0</td>\n",
              "      <td>0</td>\n",
              "      <td>0</td>\n",
              "      <td>0</td>\n",
              "      <td>0</td>\n",
              "    </tr>\n",
              "    <tr>\n",
              "      <th>233812</th>\n",
              "      <td>0.0</td>\n",
              "      <td>0.069119</td>\n",
              "      <td>0.045858</td>\n",
              "      <td>0.045858</td>\n",
              "      <td>0</td>\n",
              "      <td>0</td>\n",
              "      <td>0</td>\n",
              "      <td>0</td>\n",
              "      <td>1</td>\n",
              "      <td>0</td>\n",
              "      <td>...</td>\n",
              "      <td>0</td>\n",
              "      <td>1</td>\n",
              "      <td>0</td>\n",
              "      <td>0</td>\n",
              "      <td>0</td>\n",
              "      <td>0</td>\n",
              "      <td>0</td>\n",
              "      <td>0</td>\n",
              "      <td>0</td>\n",
              "      <td>0</td>\n",
              "    </tr>\n",
              "  </tbody>\n",
              "</table>\n",
              "<p>5 rows × 587 columns</p>\n",
              "</div>"
            ]
          },
          "metadata": {},
          "execution_count": 157
        }
      ]
    },
    {
      "cell_type": "code",
      "source": [
        "len(x_train.columns)"
      ],
      "metadata": {
        "colab": {
          "base_uri": "https://localhost:8080/"
        },
        "id": "PZMnYnQ0ToO9",
        "outputId": "d7ae1e8b-a3a3-48cd-b3b0-7b380b827de4"
      },
      "execution_count": null,
      "outputs": [
        {
          "output_type": "execute_result",
          "data": {
            "text/plain": [
              "587"
            ]
          },
          "metadata": {},
          "execution_count": 158
        }
      ]
    },
    {
      "cell_type": "code",
      "source": [
        ""
      ],
      "metadata": {
        "id": "L8Y4-osiTnt6"
      },
      "execution_count": null,
      "outputs": []
    },
    {
      "cell_type": "code",
      "source": [
        "yscaler = MinMaxScaler()\n",
        "y_train = yscaler.fit_transform(y_train.values.reshape(-1, 1))\n",
        "y_test = yscaler.transform(y_test.values.reshape(-1, 1))"
      ],
      "metadata": {
        "id": "mVisw2YyGHBr"
      },
      "execution_count": null,
      "outputs": []
    },
    {
      "cell_type": "markdown",
      "source": [
        "## Modelo 1: Regressão linear"
      ],
      "metadata": {
        "id": "cnbpma0Uc4Bq"
      }
    },
    {
      "cell_type": "code",
      "source": [
        "from sklearn.linear_model import LinearRegression\n",
        "from sklearn.model_selection import KFold\n",
        "from sklearn.model_selection import cross_val_score\n",
        "from sklearn.feature_selection import RFE\n",
        "import sklearn\n"
      ],
      "metadata": {
        "id": "TlL3HqQbIBBV"
      },
      "execution_count": null,
      "outputs": []
    },
    {
      "cell_type": "code",
      "source": [
        "cv = KFold(n_splits=10, random_state=1, shuffle=True)"
      ],
      "metadata": {
        "id": "WPqUqxvGMxn_"
      },
      "execution_count": null,
      "outputs": []
    },
    {
      "cell_type": "code",
      "source": [
        "r = LinearRegression()\n",
        "r = r.fit(x_train, y_train)"
      ],
      "metadata": {
        "id": "sjQzsvCZIJWV"
      },
      "execution_count": null,
      "outputs": []
    },
    {
      "cell_type": "code",
      "source": [
        "y_predicted = r.predict(x_test)\n",
        "#y_predicted_train = r.predict(x_train)"
      ],
      "metadata": {
        "id": "DwPiZYDS5F4f"
      },
      "execution_count": null,
      "outputs": []
    },
    {
      "cell_type": "code",
      "source": [
        "# scores = cross_val_score(r, x_train, y_train, scoring='r2', cv=5)\n",
        "# scores   "
      ],
      "metadata": {
        "id": "og5e_3sIcVbh",
        "colab": {
          "base_uri": "https://localhost:8080/"
        },
        "outputId": "bd0a7e47-ebe0-41b8-e03b-5f101597869f"
      },
      "execution_count": null,
      "outputs": [
        {
          "output_type": "execute_result",
          "data": {
            "text/plain": [
              "array([-2.56449648e+16,  1.16952067e-01,  1.17424712e-01,  1.18500214e-01,\n",
              "       -7.14195352e+16])"
            ]
          },
          "metadata": {},
          "execution_count": 2076
        }
      ]
    },
    {
      "cell_type": "code",
      "source": [
        "# score = r.score(x_test, y_test)\n",
        "# score"
      ],
      "metadata": {
        "id": "jrp1DNaAfOU0",
        "colab": {
          "base_uri": "https://localhost:8080/"
        },
        "outputId": "03c4a3bd-7d1a-4bf3-ba1a-ed33f07992ab"
      },
      "execution_count": null,
      "outputs": [
        {
          "output_type": "execute_result",
          "data": {
            "text/plain": [
              "-1399739621774214.0"
            ]
          },
          "metadata": {},
          "execution_count": 2078
        }
      ]
    },
    {
      "cell_type": "code",
      "source": [
        "from matplotlib import pyplot"
      ],
      "metadata": {
        "id": "xlGf3Qnh_8Ix"
      },
      "execution_count": null,
      "outputs": []
    },
    {
      "cell_type": "code",
      "source": [
        "fig, ax = pyplot.subplots()\n",
        "ax.scatter(y_predicted, y_test, edgecolors=(0, 0, 1))\n",
        "ax.plot([y_test.min(), y_test.max()], [y_test.min(), y_test.max()], 'r--', lw=3)\n",
        "ax.set_xlabel('Predicted')\n",
        "ax.set_ylabel('Actual')\n",
        "pyplot.show()"
      ],
      "metadata": {
        "id": "rRqjbCg05w5_",
        "colab": {
          "base_uri": "https://localhost:8080/",
          "height": 279
        },
        "outputId": "1b188c0f-c23e-4ae9-aa9a-4cd87f4d717a"
      },
      "execution_count": null,
      "outputs": [
        {
          "output_type": "display_data",
          "data": {
            "text/plain": [
              "<Figure size 432x288 with 1 Axes>"
            ],
            "image/png": "[encoded data removed]"
          },
          "metadata": {
            "needs_background": "light"
          }
        }
      ]
    },
    {
      "cell_type": "markdown",
      "source": [
        "## Modelo 2: Árvore de Regressão Linear"
      ],
      "metadata": {
        "id": "bbPRBXzl_4Ha"
      }
    },
    {
      "cell_type": "code",
      "source": [
        "from sklearn.tree import DecisionTreeRegressor"
      ],
      "metadata": {
        "id": "QPsr7iH-__9U"
      },
      "execution_count": null,
      "outputs": []
    },
    {
      "cell_type": "code",
      "source": [
        "dtr = DecisionTreeRegressor()\n",
        "dtr.fit(x_train, y_train)"
      ],
      "metadata": {
        "colab": {
          "base_uri": "https://localhost:8080/"
        },
        "id": "Zw-fLfTMAFKu",
        "outputId": "511b4151-23ff-47a1-b60e-d633c8267097"
      },
      "execution_count": null,
      "outputs": [
        {
          "output_type": "execute_result",
          "data": {
            "text/plain": [
              "DecisionTreeRegressor()"
            ]
          },
          "metadata": {},
          "execution_count": 2086
        }
      ]
    },
    {
      "cell_type": "code",
      "source": [
        "y_predicted_d = dtr.predict(x_test)"
      ],
      "metadata": {
        "id": "mNtA6ySJAPJj"
      },
      "execution_count": null,
      "outputs": []
    },
    {
      "cell_type": "code",
      "source": [
        "from matplotlib import pyplot"
      ],
      "metadata": {
        "id": "YZOqbvIeAJ2Z"
      },
      "execution_count": null,
      "outputs": []
    },
    {
      "cell_type": "code",
      "source": [
        "fig, ax = pyplot.subplots()\n",
        "ax.scatter(y_predicted_d, y_test, edgecolors=(0, 0, 1))\n",
        "ax.plot([y_test.min(), y_test.max()], [y_test.min(), y_test.max()], 'r--', lw=3)\n",
        "ax.set_xlabel('Predicted')\n",
        "ax.set_ylabel('Actual')\n",
        "pyplot.show()"
      ],
      "metadata": {
        "colab": {
          "base_uri": "https://localhost:8080/",
          "height": 279
        },
        "id": "O7LtsUobAKVW",
        "outputId": "71b61a9b-47fa-4c9b-9fdd-52a3fefc03f3"
      },
      "execution_count": null,
      "outputs": [
        {
          "output_type": "display_data",
          "data": {
            "text/plain": [
              "<Figure size 432x288 with 1 Axes>"
            ],
            "image/png": "[encoded data removed]"
          },
          "metadata": {
            "needs_background": "light"
          }
        }
      ]
    },
    {
      "cell_type": "markdown",
      "source": [
        "## Modelo 3: Rede neural"
      ],
      "metadata": {
        "id": "Q_7dATzp6MbJ"
      }
    },
    {
      "cell_type": "code",
      "source": [
        "from sklearn.neural_network import MLPRegressor"
      ],
      "metadata": {
        "id": "drYk_erP6Oow"
      },
      "execution_count": null,
      "outputs": []
    },
    {
      "cell_type": "code",
      "source": [
        "nnr = MLPRegressor(hidden_layer_sizes=(100, 50))\n",
        "nnr.fit(x_train, y_train.ravel())\n"
      ],
      "metadata": {
        "colab": {
          "base_uri": "https://localhost:8080/"
        },
        "id": "iZhZvjMi6VtQ",
        "outputId": "43f3e5a8-ce0a-430a-bd31-09e14cb62aea"
      },
      "execution_count": null,
      "outputs": [
        {
          "output_type": "execute_result",
          "data": {
            "text/plain": [
              "MLPRegressor(hidden_layer_sizes=(100, 50))"
            ]
          },
          "metadata": {},
          "execution_count": 2092
        }
      ]
    },
    {
      "cell_type": "code",
      "source": [
        "y_predicted = nnr.predict(x_test)"
      ],
      "metadata": {
        "id": "w6Eo2dYq6pxh"
      },
      "execution_count": null,
      "outputs": []
    },
    {
      "cell_type": "code",
      "source": [
        "fig, ax = pyplot.subplots()\n",
        "ax.scatter(y_predicted, y_test, edgecolors=(0, 0, 1),color=\"blue\", label=\"original\")\n",
        "ax.plot([y_test.min(), y_test.max()], [y_test.min(), y_test.max()], 'r--', lw=3, color=\"red\", label=\"predicted\")\n",
        "ax.set_xlabel('Predicted')\n",
        "ax.set_ylabel('Actual')\n",
        "pyplot.show()"
      ],
      "metadata": {
        "colab": {
          "base_uri": "https://localhost:8080/",
          "height": 279
        },
        "id": "lDIp4l8R6yYh",
        "outputId": "9d05082c-1991-4f8c-cac9-09aa655bc1f6"
      },
      "execution_count": null,
      "outputs": [
        {
          "output_type": "display_data",
          "data": {
            "text/plain": [
              "<Figure size 432x288 with 1 Axes>"
            ],
            "image/png": "[encoded data removed]"
          },
          "metadata": {
            "needs_background": "light"
          }
        }
      ]
    },
    {
      "cell_type": "markdown",
      "source": [
        "## Modelo XGBoost Regressor"
      ],
      "metadata": {
        "id": "zxPTuhG3lv0w"
      }
    },
    {
      "cell_type": "code",
      "source": [
        "!pip install xgboost\n",
        "\n",
        "from xgboost import XGBRegressor\n"
      ],
      "metadata": {
        "colab": {
          "base_uri": "https://localhost:8080/"
        },
        "id": "n85vguPDluI1",
        "outputId": "88fee1ae-80d3-43ae-adf9-5b12a5ebacaf"
      },
      "execution_count": null,
      "outputs": [
        {
          "output_type": "stream",
          "name": "stdout",
          "text": [
            "Defaulting to user installation because normal site-packages is not writeable\n",
            "Collecting xgboost\n",
            "  Using cached xgboost-1.5.2-py3-none-macosx_10_15_x86_64.macosx_11_0_x86_64.macosx_12_0_x86_64.whl (1.3 MB)\n",
            "Requirement already satisfied: scipy in /opt/anaconda3/envs/tf/lib/python3.7/site-packages (from xgboost) (1.7.3)\n",
            "Requirement already satisfied: numpy in /opt/anaconda3/envs/tf/lib/python3.7/site-packages (from xgboost) (1.21.2)\n",
            "Installing collected packages: xgboost\n",
            "Successfully installed xgboost-1.5.2\n"
          ]
        }
      ]
    },
    {
      "cell_type": "code",
      "source": [
        "#duplicate_columns_test = x_train.columns[x_train.columns.duplicated()]\n",
        "#duplicate_columns_test\n",
        "x_train= x_train.T.drop_duplicates().T"
      ],
      "metadata": {
        "id": "rj6nFjswyZKA"
      },
      "execution_count": null,
      "outputs": []
    },
    {
      "cell_type": "code",
      "source": [
        "xgb = XGBRegressor()\n",
        "xgb.fit(x_train, y_train)"
      ],
      "metadata": {
        "id": "DW1iRvbTlZua"
      },
      "execution_count": null,
      "outputs": []
    },
    {
      "cell_type": "code",
      "source": [
        "#x_test= x_test.T.drop_duplicates().T\n",
        "score = xgb.score(x_train, y_train)  \n",
        "score"
      ],
      "metadata": {
        "colab": {
          "base_uri": "https://localhost:8080/"
        },
        "id": "GdBJDIWDmCmg",
        "outputId": "68f32c9f-ab0a-4e58-9ba3-61cab53e27ff"
      },
      "execution_count": null,
      "outputs": [
        {
          "output_type": "execute_result",
          "data": {
            "text/plain": [
              "0.1860210778368494"
            ]
          },
          "metadata": {},
          "execution_count": 84
        }
      ]
    },
    {
      "cell_type": "code",
      "source": [
        "scores = cross_val_score(xgb, x_train, y_train,cv=10)\n",
        "print(\"Mean cross-validation score: %.2f\" % scores.mean())\n"
      ],
      "metadata": {
        "id": "4I-QWtOR4qoV"
      },
      "execution_count": null,
      "outputs": []
    },
    {
      "cell_type": "code",
      "source": [
        "x_test= x_test.T.drop_duplicates().T\n"
      ],
      "metadata": {
        "id": "GRk2SRTa47pf"
      },
      "execution_count": null,
      "outputs": []
    },
    {
      "cell_type": "code",
      "source": [
        "ypred = xgb.predict(x_test)\n",
        "mse = mean_squared_error(y_test, ypred)\n",
        "print(\"MSE: %.2f\" % mse)\n",
        "MSE: 3.35\n",
        "print(\"RMSE: %.2f\" % (mse**(1/2.0)))\n",
        "RMSE: 1.83 "
      ],
      "metadata": {
        "id": "zPEDEqN7Uwhw"
      },
      "execution_count": null,
      "outputs": []
    },
    {
      "cell_type": "markdown",
      "source": [
        "\n",
        "## Modelo LSTM"
      ],
      "metadata": {
        "id": "TIbCbMshXQxe"
      }
    },
    {
      "cell_type": "code",
      "source": [
        "import sys\n",
        "\n",
        "!$sys.executable -m pip install tensorflow"
      ],
      "metadata": {
        "id": "krBSpx3cbCGi"
      },
      "execution_count": null,
      "outputs": []
    },
    {
      "cell_type": "code",
      "source": [
        "from tensorflow.python import tf2\n",
        "from keras import distribute\n",
        "import pandas as pd\n",
        "import numpy as np\n",
        "import keras\n",
        "from keras.preprocessing.sequence import TimeseriesGenerator\n",
        "from keras.models import Sequential\n",
        "from keras.layers import LSTM, Dense,Bidirectional \n"
      ],
      "metadata": {
        "id": "oyqUpDjNDzmC"
      },
      "execution_count": null,
      "outputs": []
    },
    {
      "cell_type": "code",
      "source": [
        ""
      ],
      "metadata": {
        "id": "9BOUgP_kz-2M"
      },
      "execution_count": null,
      "outputs": []
    },
    {
      "cell_type": "code",
      "source": [
        "## Filtra por cliente\n",
        "def filter_client(idclient):\n",
        "    filter = dataset.query(\"client_id==@idclient\")\n",
        "\n",
        "    #filter = (dataset['client_id'] == idclient) \n",
        "    ds = filter \n",
        "    return ds"
      ],
      "metadata": {
        "id": "_tZaaIcj332f"
      },
      "execution_count": null,
      "outputs": []
    },
    {
      "cell_type": "code",
      "source": [
        "## Divide os dados\n",
        "def split_client(df, percentagem):\n",
        "    \n",
        "    close_data = df['last_order'].values\n",
        "    close_data = close_data.reshape((-1,1))\n",
        "    \n",
        "    split_percent = percentagem\n",
        "    split = int(split_percent*len(close_data))\n",
        "    \n",
        "    close_train = close_data[:split]\n",
        "    close_test  = close_data[split:]\n",
        "    \n",
        "    date_train = df['date'][:split]\n",
        "    date_test =  df['date'][split:]\n",
        "\n",
        "    return close_data,close_train,close_test,date_train,date_test"
      ],
      "metadata": {
        "id": "tyMqOqwR5RtJ"
      },
      "execution_count": null,
      "outputs": []
    },
    {
      "cell_type": "markdown",
      "source": [
        "##Execução Prática"
      ],
      "metadata": {
        "id": "6q1_8qPo7qKn"
      }
    },
    {
      "cell_type": "code",
      "source": [
        ""
      ],
      "metadata": {
        "id": "HY92Ng-w-qjI"
      },
      "execution_count": null,
      "outputs": []
    },
    {
      "cell_type": "code",
      "source": [
        "### Filtrar por idcliente\n",
        "#id = 29293 \n",
        "#ds = filter_client(id)\n",
        "ds = dataset\n",
        "#ds.to_csv('29293.csv')\n",
        "\n",
        "ds.head()"
      ],
      "metadata": {
        "colab": {
          "base_uri": "https://localhost:8080/",
          "height": 481
        },
        "id": "CK4yGXCg7tft",
        "outputId": "5592b684-10e3-4ecd-cda5-0d44a02e5960"
      },
      "execution_count": null,
      "outputs": [
        {
          "output_type": "execute_result",
          "data": {
            "text/plain": [
              "   client_id  quantity_product    product  value_product  payments_values  \\\n",
              "1      29293               1.0  GLP 13 KG           40.0             40.0   \n",
              "2      29293               1.0  GLP 13 KG           45.0             45.0   \n",
              "3      29293               1.0  GLP 13 KG           45.0             45.0   \n",
              "4      29293               1.0  GLP 13 KG           45.0             45.0   \n",
              "5      29293               1.0  GLP 13 KG           40.0             40.0   \n",
              "\n",
              "   total                date  last_order  d_Boleto Bancário  d_Carteira  ...  \\\n",
              "1   40.0 2013-05-18 23:12:27   39.038079                  0           0  ...   \n",
              "2   45.0 2013-06-25 22:21:47   37.964815                  0           0  ...   \n",
              "3   45.0 2013-08-11 21:51:12   46.978762                  0           0  ...   \n",
              "4   45.0 2013-10-17 22:57:38   67.046134                  0           0  ...   \n",
              "5   40.0 2013-12-03 20:31:04   46.898218                  0           0  ...   \n",
              "\n",
              "   d_Pernambuco  d_Piauí  d_Rio Grande do Norte  d_Rio Grande do Sul  \\\n",
              "1             0        1                      0                    0   \n",
              "2             0        1                      0                    0   \n",
              "3             0        1                      0                    0   \n",
              "4             0        1                      0                    0   \n",
              "5             0        1                      0                    0   \n",
              "\n",
              "   d_Rio de Janeiro  d_Rondônia  d_Santa Catarina  d_Sergipe  d_São Paulo  \\\n",
              "1                 0           0                 0          0            0   \n",
              "2                 0           0                 0          0            0   \n",
              "3                 0           0                 0          0            0   \n",
              "4                 0           0                 0          0            0   \n",
              "5                 0           0                 0          0            0   \n",
              "\n",
              "   d_Tocantins  \n",
              "1            0  \n",
              "2            0  \n",
              "3            0  \n",
              "4            0  \n",
              "5            0  \n",
              "\n",
              "[5 rows x 591 columns]"
            ],
            "text/html": [
              "<div>\n",
              "<style scoped>\n",
              "    .dataframe tbody tr th:only-of-type {\n",
              "        vertical-align: middle;\n",
              "    }\n",
              "\n",
              "    .dataframe tbody tr th {\n",
              "        vertical-align: top;\n",
              "    }\n",
              "\n",
              "    .dataframe thead th {\n",
              "        text-align: right;\n",
              "    }\n",
              "</style>\n",
              "<table border=\"1\" class=\"dataframe\">\n",
              "  <thead>\n",
              "    <tr style=\"text-align: right;\">\n",
              "      <th></th>\n",
              "      <th>client_id</th>\n",
              "      <th>quantity_product</th>\n",
              "      <th>product</th>\n",
              "      <th>value_product</th>\n",
              "      <th>payments_values</th>\n",
              "      <th>total</th>\n",
              "      <th>date</th>\n",
              "      <th>last_order</th>\n",
              "      <th>d_Boleto Bancário</th>\n",
              "      <th>d_Carteira</th>\n",
              "      <th>...</th>\n",
              "      <th>d_Pernambuco</th>\n",
              "      <th>d_Piauí</th>\n",
              "      <th>d_Rio Grande do Norte</th>\n",
              "      <th>d_Rio Grande do Sul</th>\n",
              "      <th>d_Rio de Janeiro</th>\n",
              "      <th>d_Rondônia</th>\n",
              "      <th>d_Santa Catarina</th>\n",
              "      <th>d_Sergipe</th>\n",
              "      <th>d_São Paulo</th>\n",
              "      <th>d_Tocantins</th>\n",
              "    </tr>\n",
              "  </thead>\n",
              "  <tbody>\n",
              "    <tr>\n",
              "      <th>1</th>\n",
              "      <td>29293</td>\n",
              "      <td>1.0</td>\n",
              "      <td>GLP 13 KG</td>\n",
              "      <td>40.0</td>\n",
              "      <td>40.0</td>\n",
              "      <td>40.0</td>\n",
              "      <td>2013-05-18 23:12:27</td>\n",
              "      <td>39.038079</td>\n",
              "      <td>0</td>\n",
              "      <td>0</td>\n",
              "      <td>...</td>\n",
              "      <td>0</td>\n",
              "      <td>1</td>\n",
              "      <td>0</td>\n",
              "      <td>0</td>\n",
              "      <td>0</td>\n",
              "      <td>0</td>\n",
              "      <td>0</td>\n",
              "      <td>0</td>\n",
              "      <td>0</td>\n",
              "      <td>0</td>\n",
              "    </tr>\n",
              "    <tr>\n",
              "      <th>2</th>\n",
              "      <td>29293</td>\n",
              "      <td>1.0</td>\n",
              "      <td>GLP 13 KG</td>\n",
              "      <td>45.0</td>\n",
              "      <td>45.0</td>\n",
              "      <td>45.0</td>\n",
              "      <td>2013-06-25 22:21:47</td>\n",
              "      <td>37.964815</td>\n",
              "      <td>0</td>\n",
              "      <td>0</td>\n",
              "      <td>...</td>\n",
              "      <td>0</td>\n",
              "      <td>1</td>\n",
              "      <td>0</td>\n",
              "      <td>0</td>\n",
              "      <td>0</td>\n",
              "      <td>0</td>\n",
              "      <td>0</td>\n",
              "      <td>0</td>\n",
              "      <td>0</td>\n",
              "      <td>0</td>\n",
              "    </tr>\n",
              "    <tr>\n",
              "      <th>3</th>\n",
              "      <td>29293</td>\n",
              "      <td>1.0</td>\n",
              "      <td>GLP 13 KG</td>\n",
              "      <td>45.0</td>\n",
              "      <td>45.0</td>\n",
              "      <td>45.0</td>\n",
              "      <td>2013-08-11 21:51:12</td>\n",
              "      <td>46.978762</td>\n",
              "      <td>0</td>\n",
              "      <td>0</td>\n",
              "      <td>...</td>\n",
              "      <td>0</td>\n",
              "      <td>1</td>\n",
              "      <td>0</td>\n",
              "      <td>0</td>\n",
              "      <td>0</td>\n",
              "      <td>0</td>\n",
              "      <td>0</td>\n",
              "      <td>0</td>\n",
              "      <td>0</td>\n",
              "      <td>0</td>\n",
              "    </tr>\n",
              "    <tr>\n",
              "      <th>4</th>\n",
              "      <td>29293</td>\n",
              "      <td>1.0</td>\n",
              "      <td>GLP 13 KG</td>\n",
              "      <td>45.0</td>\n",
              "      <td>45.0</td>\n",
              "      <td>45.0</td>\n",
              "      <td>2013-10-17 22:57:38</td>\n",
              "      <td>67.046134</td>\n",
              "      <td>0</td>\n",
              "      <td>0</td>\n",
              "      <td>...</td>\n",
              "      <td>0</td>\n",
              "      <td>1</td>\n",
              "      <td>0</td>\n",
              "      <td>0</td>\n",
              "      <td>0</td>\n",
              "      <td>0</td>\n",
              "      <td>0</td>\n",
              "      <td>0</td>\n",
              "      <td>0</td>\n",
              "      <td>0</td>\n",
              "    </tr>\n",
              "    <tr>\n",
              "      <th>5</th>\n",
              "      <td>29293</td>\n",
              "      <td>1.0</td>\n",
              "      <td>GLP 13 KG</td>\n",
              "      <td>40.0</td>\n",
              "      <td>40.0</td>\n",
              "      <td>40.0</td>\n",
              "      <td>2013-12-03 20:31:04</td>\n",
              "      <td>46.898218</td>\n",
              "      <td>0</td>\n",
              "      <td>0</td>\n",
              "      <td>...</td>\n",
              "      <td>0</td>\n",
              "      <td>1</td>\n",
              "      <td>0</td>\n",
              "      <td>0</td>\n",
              "      <td>0</td>\n",
              "      <td>0</td>\n",
              "      <td>0</td>\n",
              "      <td>0</td>\n",
              "      <td>0</td>\n",
              "      <td>0</td>\n",
              "    </tr>\n",
              "  </tbody>\n",
              "</table>\n",
              "<p>5 rows × 591 columns</p>\n",
              "</div>"
            ]
          },
          "metadata": {},
          "execution_count": 169
        }
      ]
    },
    {
      "cell_type": "code",
      "source": [
        "ds.shape"
      ],
      "metadata": {
        "colab": {
          "base_uri": "https://localhost:8080/"
        },
        "id": "PaSS9cmmAKXW",
        "outputId": "28b5b049-deaa-46bc-bbad-a5aaf96740bd"
      },
      "execution_count": null,
      "outputs": [
        {
          "output_type": "execute_result",
          "data": {
            "text/plain": [
              "(464602, 591)"
            ]
          },
          "metadata": {},
          "execution_count": 171
        }
      ]
    },
    {
      "cell_type": "code",
      "source": [
        "ds['date'] = pd.to_datetime(ds['date'])\n",
        "ds.set_axis(ds['date'], inplace=True)"
      ],
      "metadata": {
        "id": "BmzDPpV115nf"
      },
      "execution_count": null,
      "outputs": []
    },
    {
      "cell_type": "code",
      "source": [
        "ds.shape"
      ],
      "metadata": {
        "colab": {
          "base_uri": "https://localhost:8080/"
        },
        "id": "-RDdwvNMAKbp",
        "outputId": "d7fe82e4-74e9-4970-ba7e-8f9d2810e624"
      },
      "execution_count": null,
      "outputs": [
        {
          "output_type": "execute_result",
          "data": {
            "text/plain": [
              "(464602, 591)"
            ]
          },
          "metadata": {},
          "execution_count": 174
        }
      ]
    },
    {
      "cell_type": "code",
      "source": [
        "### Divide os dados \n",
        "lastorder_data, lastorder_train, lastorder_test, date_train, date_test = split_client(ds,0.80)\n"
      ],
      "metadata": {
        "id": "QKBRXUE7-Rga"
      },
      "execution_count": null,
      "outputs": []
    },
    {
      "cell_type": "code",
      "source": [
        "# 4 ultimos last order do cliente\n",
        "look_back = 4\n",
        "\n",
        "#forward_days = 4\n",
        "\n",
        "train_generator = TimeseriesGenerator(lastorder_train, lastorder_train, length=look_back, batch_size=20)     \n",
        "test_generator  = TimeseriesGenerator(lastorder_test, lastorder_test, length=look_back, batch_size=1)\n"
      ],
      "metadata": {
        "id": "7EhVygag-fSQ"
      },
      "execution_count": null,
      "outputs": []
    },
    {
      "cell_type": "code",
      "source": [
        "EPOCHS = 201\n",
        "validation = 0.05"
      ],
      "metadata": {
        "id": "7dCgZ28gx9Yb"
      },
      "execution_count": null,
      "outputs": []
    },
    {
      "cell_type": "code",
      "source": [
        "from keras.callbacks import ReduceLROnPlateau #Learning rate scheduler for when we reach plateaus\n",
        "rlrop = ReduceLROnPlateau(monitor='val_loss', factor=0.1, patience=100)\n",
        "from keras.layers import LSTM\n",
        "import LSTM_Prep\n"
      ],
      "metadata": {
        "id": "TS-zEpcWy-Gg"
      },
      "execution_count": null,
      "outputs": []
    },
    {
      "cell_type": "code",
      "source": [
        "split = 0.8\n",
        "sequence_length = 4\n",
        "\n",
        "data_prep = LSTM_Prep.Data_Prep(dataset = dataset)\n",
        "rnn_df, validation_df = data_prep.preprocess_rnn(date_colname = 'date', numeric_colname = 'last_order', pred_set_timesteps = 4)\n",
        "\n",
        "\n",
        "series_prep = LSTM_Prep.Series_Prep(rnn_df =  rnn_df, numeric_colname = 'last_order')\n",
        "window, X_min, X_max = series_prep.make_window(sequence_length = sequence_length, \n",
        "                                               train_test_split = split, \n",
        "                                               return_original_x = True)\n",
        "\n",
        "X_train, X_test, y_train, y_test = series_prep.reshape_window(window, train_test_split = split)"
      ],
      "metadata": {
        "colab": {
          "base_uri": "https://localhost:8080/",
          "height": 408
        },
        "id": "mYo_iJatzes0",
        "outputId": "b704873d-15f3-431d-f931-0a98d3938bb2"
      },
      "execution_count": null,
      "outputs": [
        {
          "output_type": "stream",
          "name": "stdout",
          "text": [
            "Summary Statistics - ADF Test For Stationarity\n",
            "\n",
            "ADF Stat is: -47.92050458326735.\n",
            "P Val is: 0.0.\n",
            "Critical Values (Significance Levels): \n",
            "1% : -3.43\n",
            "5% : -2.862\n",
            "10% : -2.567\n"
          ]
        },
        {
          "output_type": "display_data",
          "data": {
            "text/plain": [
              "<Figure size 432x288 with 1 Axes>"
            ],
            "image/png": "[encoded data removed]"
          },
          "metadata": {
            "needs_background": "light"
          }
        }
      ]
    },
    {
      "cell_type": "code",
      "source": [
        "# Epochs and validation split\n",
        "EPOCHS = 201\n",
        "validation = 0.05\n",
        "\n",
        "# Instantiate the model\n",
        "model = Sequential()\n",
        "\n",
        "# Add the first layer.... the input shape is (Sample, seq_len-1, 1)\n",
        "model.add(LSTM(\n",
        "        input_shape = (sequence_length-1, 1), return_sequences = True,\n",
        "        units = 100))\n",
        "\n",
        "# Add the second layer.... the input shape is (Sample, seq_len-1, 1)\n",
        "model.add(LSTM(\n",
        "        input_shape = (sequence_length-1, 1), \n",
        "        units = 100))\n",
        "\n",
        "# Add the output layer, simply one unit\n",
        "model.add(Dense(\n",
        "        units = 1,\n",
        "        activation = 'sigmoid'))\n",
        "\n",
        "model.compile(loss = 'mse', optimizer = 'adam')\n",
        "\n",
        "\n",
        "# History object for plotting our model loss by epoch\n",
        "history = model.fit(X_train, y_train, epochs = EPOCHS, validation_split = validation,\n",
        "          callbacks = [rlrop])\n",
        "# Loss History\n",
        "plt.plot(history.history['loss'])\n",
        "plt.plot(history.history['val_loss'])\n",
        "plt.title('Model Loss')\n",
        "plt.ylabel('Loss')\n",
        "plt.xlabel('Epoch')\n",
        "plt.legend(['Train', 'Test'], loc='upper left')\n",
        "plt.show()\n"
      ],
      "metadata": {
        "id": "bTGYOougXSid",
        "colab": {
          "base_uri": "https://localhost:8080/"
        },
        "outputId": "ebf77eff-b833-42a7-f18a-ecbb47e0106f"
      },
      "execution_count": null,
      "outputs": [
        {
          "output_type": "stream",
          "name": "stdout",
          "text": [
            "Epoch 1/201\n",
            "10587/10587 [==============================] - 135s 12ms/step - loss: 6.9923e-04 - val_loss: 1.5213e-04 - lr: 0.0010\n",
            "Epoch 2/201\n",
            "10587/10587 [==============================] - 111s 10ms/step - loss: 2.5796e-04 - val_loss: 1.4911e-04 - lr: 0.0010\n",
            "Epoch 3/201\n",
            "10587/10587 [==============================] - 105s 10ms/step - loss: 2.4745e-04 - val_loss: 1.5258e-04 - lr: 0.0010\n",
            "Epoch 4/201\n",
            "10587/10587 [==============================] - 112s 11ms/step - loss: 2.4426e-04 - val_loss: 1.5179e-04 - lr: 0.0010\n",
            "Epoch 5/201\n",
            "10587/10587 [==============================] - 112s 11ms/step - loss: 2.4307e-04 - val_loss: 1.5041e-04 - lr: 0.0010\n",
            "Epoch 6/201\n",
            "10587/10587 [==============================] - 109s 10ms/step - loss: 2.4220e-04 - val_loss: 1.5617e-04 - lr: 0.0010\n",
            "Epoch 7/201\n",
            "10587/10587 [==============================] - 110s 10ms/step - loss: 2.4189e-04 - val_loss: 1.5123e-04 - lr: 0.0010\n",
            "Epoch 8/201\n",
            "10587/10587 [==============================] - 112s 11ms/step - loss: 2.4177e-04 - val_loss: 1.4848e-04 - lr: 0.0010\n",
            "Epoch 9/201\n",
            "10587/10587 [==============================] - 108s 10ms/step - loss: 2.4115e-04 - val_loss: 1.5321e-04 - lr: 0.0010\n",
            "Epoch 10/201\n",
            "10587/10587 [==============================] - 108s 10ms/step - loss: 2.4080e-04 - val_loss: 1.4827e-04 - lr: 0.0010\n",
            "Epoch 11/201\n",
            "10587/10587 [==============================] - 109s 10ms/step - loss: 2.4072e-04 - val_loss: 1.5078e-04 - lr: 0.0010\n",
            "Epoch 12/201\n",
            "10587/10587 [==============================] - 122s 12ms/step - loss: 2.4068e-04 - val_loss: 1.4964e-04 - lr: 0.0010\n",
            "Epoch 13/201\n",
            "10587/10587 [==============================] - 110s 10ms/step - loss: 2.4048e-04 - val_loss: 1.4840e-04 - lr: 0.0010\n",
            "Epoch 14/201\n",
            "10587/10587 [==============================] - 102s 10ms/step - loss: 2.4027e-04 - val_loss: 1.4764e-04 - lr: 0.0010\n",
            "Epoch 15/201\n",
            "10587/10587 [==============================] - 123s 12ms/step - loss: 2.4001e-04 - val_loss: 1.4899e-04 - lr: 0.0010\n",
            "Epoch 16/201\n",
            "10587/10587 [==============================] - 105s 10ms/step - loss: 2.3967e-04 - val_loss: 1.4788e-04 - lr: 0.0010\n",
            "Epoch 17/201\n",
            "10587/10587 [==============================] - 98s 9ms/step - loss: 2.3973e-04 - val_loss: 1.4981e-04 - lr: 0.0010\n",
            "Epoch 18/201\n",
            "10587/10587 [==============================] - 111s 11ms/step - loss: 2.3954e-04 - val_loss: 1.4961e-04 - lr: 0.0010\n",
            "Epoch 19/201\n",
            "10587/10587 [==============================] - 118s 11ms/step - loss: 2.3956e-04 - val_loss: 1.4966e-04 - lr: 0.0010\n",
            "Epoch 20/201\n",
            "10587/10587 [==============================] - 107s 10ms/step - loss: 2.3952e-04 - val_loss: 1.4838e-04 - lr: 0.0010\n",
            "Epoch 21/201\n",
            "10587/10587 [==============================] - 114s 11ms/step - loss: 2.3929e-04 - val_loss: 1.4854e-04 - lr: 0.0010\n",
            "Epoch 22/201\n",
            "10587/10587 [==============================] - 98s 9ms/step - loss: 2.3922e-04 - val_loss: 1.4908e-04 - lr: 0.0010\n",
            "Epoch 23/201\n",
            "10587/10587 [==============================] - 101s 10ms/step - loss: 2.3936e-04 - val_loss: 1.5218e-04 - lr: 0.0010\n",
            "Epoch 24/201\n",
            "10587/10587 [==============================] - 98s 9ms/step - loss: 2.3919e-04 - val_loss: 1.4851e-04 - lr: 0.0010\n",
            "Epoch 25/201\n",
            "10587/10587 [==============================] - 109s 10ms/step - loss: 2.3894e-04 - val_loss: 1.5104e-04 - lr: 0.0010\n",
            "Epoch 26/201\n",
            "10587/10587 [==============================] - 113s 11ms/step - loss: 2.3912e-04 - val_loss: 1.5213e-04 - lr: 0.0010\n",
            "Epoch 27/201\n",
            "10587/10587 [==============================] - 106s 10ms/step - loss: 2.3892e-04 - val_loss: 1.5016e-04 - lr: 0.0010\n",
            "Epoch 28/201\n",
            "10587/10587 [==============================] - 95s 9ms/step - loss: 2.3878e-04 - val_loss: 1.4736e-04 - lr: 0.0010\n",
            "Epoch 29/201\n",
            " 8993/10587 [========================>.....] - ETA: 14s - loss: 2.3807e-04"
          ]
        }
      ]
    },
    {
      "cell_type": "code",
      "source": [
        "# ~~~~~~~~~~~~~~~~~~~~~~~~~~~~~~~~~~~~~~~~~~~~~~~~~~~~~~~ #\n",
        "#              Predicting the future\n",
        "# ~~~~~~~~~~~~~~~~~~~~~~~~~~~~~~~~~~~~~~~~~~~~~~~~~~~~~~~ #\n",
        "# Creating our future object\n",
        "future = LSTM_Prep.Predict_Future(X_test  = X_test, validation_df = validation_df, lstm_model = model)\n",
        "# Checking its accuracy on our training set\n",
        "future.predicted_vs_actual(X_min = X_min, X_max = X_max, numeric_colname = 'perc')\n",
        "# Predicting 'x' timesteps out\n",
        "future.predict_future(X_min = X_min, X_max = X_max, numeric_colname = 'perc', timesteps_to_predict = 15, return_future = True)\n"
      ],
      "metadata": {
        "id": "C0QnMkO2yveg"
      },
      "execution_count": null,
      "outputs": []
    },
    {
      "cell_type": "code",
      "source": [
        "import sys\n",
        "!$sys.executable -m pip install plotly\n",
        "!$sys.executable -m pip install -U kaleido\n",
        "from plotly.offline import init_notebook_mode, iplot\n",
        "init_notebook_mode(connected=True)\n",
        "import plotly.graph_objects as go"
      ],
      "metadata": {
        "id": "DF36i4bRA4SP"
      },
      "execution_count": null,
      "outputs": []
    },
    {
      "cell_type": "code",
      "source": [
        ""
      ],
      "metadata": {
        "id": "W499TyK_fGPx"
      },
      "execution_count": null,
      "outputs": []
    },
    {
      "cell_type": "code",
      "source": [
        "prediction = model.predict_generator(test_generator)\n",
        "\n",
        "lastorder_train = lastorder_train.reshape((-1))\n",
        "lastorder_test = lastorder_test.reshape((-1))\n",
        "prediction = prediction.reshape((-1))\n",
        "\n",
        "trace1 = go.Scatter(\n",
        "    x = date_train,\n",
        "    y = lastorder_train,\n",
        "    mode = 'lines',\n",
        "    name = 'Data'\n",
        ")\n",
        "trace2 = go.Scatter(\n",
        "    x = date_test,\n",
        "    y = prediction,\n",
        "    mode = 'lines',\n",
        "    name = 'Prediction'\n",
        ")\n",
        "trace3 = go.Scatter(\n",
        "    x = date_test,\n",
        "    y = lastorder_test,\n",
        "    mode='lines',\n",
        "    name = 'Ground Truth'\n",
        ")\n",
        "layout = go.Layout(\n",
        "    title = \"Google Stock\",\n",
        "    xaxis = {'title' : \"Date\"},\n",
        "    yaxis = {'title' : \"Close\"}\n",
        ")\n",
        "fig = go.Figure(data=[trace1, trace2, trace3], layout=layout)\n",
        "fig.show(renderer=\"colab\")"
      ],
      "metadata": {
        "colab": {
          "base_uri": "https://localhost:8080/",
          "height": 542
        },
        "id": "GrwHaMSBVg1m",
        "outputId": "76c6eb6e-001c-4685-be68-213079772271"
      },
      "execution_count": null,
      "outputs": [
        {
          "output_type": "display_data",
          "data": {
            "text/html": [
              "<html>\n",
              "<head><meta charset=\"utf-8\" /></head>\n",
              "<body>\n",
              "    <div>            <script src=\"https://cdnjs.cloudflare.com/ajax/libs/mathjax/2.7.5/MathJax.js?config=TeX-AMS-MML_SVG\"></script><script type=\"text/javascript\">if (window.MathJax) {MathJax.Hub.Config({SVG: {font: \"STIX-Web\"}});}</script>                <script type=\"text/javascript\">window.PlotlyConfig = {MathJaxConfig: 'local'};</script>\n",
              "        <script src=\"https://cdn.plot.ly/plotly-2.9.0.min.js\"></script>                <div id=\"36560173-c15e-43fa-8b36-5b06db8ffff8\" class=\"plotly-graph-div\" style=\"height:525px; width:100%;\"></div>            <script type=\"text/javascript\">                                    window.PLOTLYENV=window.PLOTLYENV || {};                                    if (document.getElementById(\"36560173-c15e-43fa-8b36-5b06db8ffff8\")) {                    Plotly.newPlot(                        \"36560173-c15e-43fa-8b36-5b06db8ffff8\",                        [{\"mode\":\"lines\",\"name\":\"Data\",\"x\":[\"2013-05-18T23:12:27\",\"2013-06-25T22:21:47\",\"2013-08-11T21:51:12\",\"2013-10-17T22:57:38\",\"2013-12-03T20:31:04\",\"2013-12-03T20:31:13\",\"2014-05-04T09:24:09\",\"2014-08-06T22:56:02\",\"2014-09-27T12:32:44\",\"2014-11-02T19:46:19\",\"2014-12-12T20:06:24\",\"2015-01-18T23:12:23\",\"2015-03-12T21:17:20\",\"2015-05-17T20:49:08\",\"2015-06-19T21:26:42\",\"2015-07-26T12:23:52\",\"2015-08-22T15:18:23\",\"2015-09-24T18:54:12\",\"2015-09-26T19:57:00\",\"2016-03-24T23:17:33\",\"2016-04-30T18:38:21\",\"2016-06-04T17:04:04\",\"2016-07-04T16:01:42\",\"2016-08-08T18:46:06\",\"2016-09-18T10:12:27\",\"2016-11-25T11:06:08\",\"2016-12-31T19:03:01\",\"2017-02-05T19:16:21\",\"2017-03-15T18:19:27\",\"2017-04-15T19:33:52\",\"2017-05-21T11:02:52\",\"2017-06-26T16:55:25\",\"2017-08-30T09:15:59\",\"2017-10-07T14:23:47\",\"2017-11-08T21:06:23\",\"2017-12-16T17:50:21\",\"2018-03-08T09:09:49\",\"2018-04-19T17:17:52\",\"2018-06-30T11:10:44\",\"2018-08-04T16:58:36\",\"2018-10-21T18:51:09\",\"2018-12-03T23:27:18\",\"2019-01-19T21:54:59\",\"2019-04-07T19:20:01\",\"2019-04-14T18:45:02\",\"2019-05-12T20:46:44\",\"2019-06-13T16:51:35\",\"2019-07-13T22:24:10\",\"2019-08-11T18:43:46\",\"2019-08-17T16:53:51\",\"2019-08-17T16:53:58\",\"2019-08-17T16:54:48\",\"2019-09-24T20:36:12\",\"2019-11-02T17:30:58\",\"2019-12-12T21:51:00\",\"2020-01-19T17:57:41\",\"2020-02-27T17:03:04\",\"2020-04-02T21:07:44\",\"2020-05-05T17:48:25\",\"2020-07-07T20:46:45\"],\"y\":[39.038078703703704,37.964814814814815,46.97876157407408,67.04613425925926,46.898217592592594,0.00010416666666666667,40.45883101851852,94.56380787037037,51.56715277777778,36.30109953703704,40.01394675925926,37.12915509259259,52.92010416666667,65.98041666666667,33.02608796296296,36.62303240740741,27.12119212962963,33.14987268518519,2.0436111111111113,44.10969907407407,36.806111111111115,34.93452546296297,29.956689814814816,35.11416666666667,40.64329861111111,68.0372800925926,36.33116898148148,36.00925925925926,37.96048611111111,31.051678240740742,35.64513888888889,36.24482638888889,64.68094907407408,38.21375,32.279583333333335,37.86386574074074,81.63851851851852,42.33892361111111,71.7450462962963,35.24157407407407,78.07815972222222,43.19177083333334,46.935891203703704,77.89238425925926,6.975706018518519,28.08451388888889,31.83670138888889,30.230960648148148,28.846944444444443,5.923668981481481,8.101851851851852e-05,0.0005787037037037037,38.15375,38.87136574074074,40.1805787037037,37.837974537037034,38.96207175925926,35.16990740740741,32.86158564814815,63.123842592592595],\"type\":\"scatter\"},{\"mode\":\"lines\",\"name\":\"Prediction\",\"x\":[\"2020-08-13T19:24:10\",\"2020-09-23T10:58:39\",\"2020-10-29T16:59:09\",\"2020-12-04T15:08:40\",\"2020-12-15T20:28:44\",\"2021-01-06T22:22:03\",\"2021-02-08T18:10:42\",\"2021-03-09T22:29:50\",\"2021-03-13T11:24:03\",\"2021-04-15T11:16:29\",\"2021-06-27T18:33:51\",\"2021-08-03T09:58:39\",\"2021-09-11T16:06:13\",\"2021-10-17T11:27:44\",\"2021-11-25T14:36:57\",\"2022-01-04T15:39:10\"],\"y\":[40.8271369934082,37.39279556274414],\"type\":\"scatter\"},{\"mode\":\"lines\",\"name\":\"Ground Truth\",\"x\":[\"2020-08-13T19:24:10\",\"2020-09-23T10:58:39\",\"2020-10-29T16:59:09\",\"2020-12-04T15:08:40\",\"2020-12-15T20:28:44\",\"2021-01-06T22:22:03\",\"2021-02-08T18:10:42\",\"2021-03-09T22:29:50\",\"2021-03-13T11:24:03\",\"2021-04-15T11:16:29\",\"2021-06-27T18:33:51\",\"2021-08-03T09:58:39\",\"2021-09-11T16:06:13\",\"2021-10-17T11:27:44\",\"2021-11-25T14:36:57\",\"2022-01-04T15:39:10\"],\"y\":[36.942650462962966,40.64894675925926,36.250347222222224,35.92327546296296,11.222268518518518,22.07869212962963,32.82545138888889,29.179953703703703,3.537650462962963,32.99474537037037,73.30372685185185,36.64222222222222,39.25525462962963,35.806608796296295,39.131400462962965,40.04320601851852],\"type\":\"scatter\"}],                        {\"title\":{\"text\":\"Google Stock\"},\"xaxis\":{\"title\":{\"text\":\"Date\"}},\"yaxis\":{\"title\":{\"text\":\"Close\"}},\"template\":{\"data\":{\"bar\":[{\"error_x\":{\"color\":\"#2a3f5f\"},\"error_y\":{\"color\":\"#2a3f5f\"},\"marker\":{\"line\":{\"color\":\"#E5ECF6\",\"width\":0.5},\"pattern\":{\"fillmode\":\"overlay\",\"size\":10,\"solidity\":0.2}},\"type\":\"bar\"}],\"barpolar\":[{\"marker\":{\"line\":{\"color\":\"#E5ECF6\",\"width\":0.5},\"pattern\":{\"fillmode\":\"overlay\",\"size\":10,\"solidity\":0.2}},\"type\":\"barpolar\"}],\"carpet\":[{\"aaxis\":{\"endlinecolor\":\"#2a3f5f\",\"gridcolor\":\"white\",\"linecolor\":\"white\",\"minorgridcolor\":\"white\",\"startlinecolor\":\"#2a3f5f\"},\"baxis\":{\"endlinecolor\":\"#2a3f5f\",\"gridcolor\":\"white\",\"linecolor\":\"white\",\"minorgridcolor\":\"white\",\"startlinecolor\":\"#2a3f5f\"},\"type\":\"carpet\"}],\"choropleth\":[{\"colorbar\":{\"outlinewidth\":0,\"ticks\":\"\"},\"type\":\"choropleth\"}],\"contour\":[{\"colorbar\":{\"outlinewidth\":0,\"ticks\":\"\"},\"colorscale\":[[0.0,\"#0d0887\"],[0.1111111111111111,\"#46039f\"],[0.2222222222222222,\"#7201a8\"],[0.3333333333333333,\"#9c179e\"],[0.4444444444444444,\"#bd3786\"],[0.5555555555555556,\"#d8576b\"],[0.6666666666666666,\"#ed7953\"],[0.7777777777777778,\"#fb9f3a\"],[0.8888888888888888,\"#fdca26\"],[1.0,\"#f0f921\"]],\"type\":\"contour\"}],\"contourcarpet\":[{\"colorbar\":{\"outlinewidth\":0,\"ticks\":\"\"},\"type\":\"contourcarpet\"}],\"heatmap\":[{\"colorbar\":{\"outlinewidth\":0,\"ticks\":\"\"},\"colorscale\":[[0.0,\"#0d0887\"],[0.1111111111111111,\"#46039f\"],[0.2222222222222222,\"#7201a8\"],[0.3333333333333333,\"#9c179e\"],[0.4444444444444444,\"#bd3786\"],[0.5555555555555556,\"#d8576b\"],[0.6666666666666666,\"#ed7953\"],[0.7777777777777778,\"#fb9f3a\"],[0.8888888888888888,\"#fdca26\"],[1.0,\"#f0f921\"]],\"type\":\"heatmap\"}],\"heatmapgl\":[{\"colorbar\":{\"outlinewidth\":0,\"ticks\":\"\"},\"colorscale\":[[0.0,\"#0d0887\"],[0.1111111111111111,\"#46039f\"],[0.2222222222222222,\"#7201a8\"],[0.3333333333333333,\"#9c179e\"],[0.4444444444444444,\"#bd3786\"],[0.5555555555555556,\"#d8576b\"],[0.6666666666666666,\"#ed7953\"],[0.7777777777777778,\"#fb9f3a\"],[0.8888888888888888,\"#fdca26\"],[1.0,\"#f0f921\"]],\"type\":\"heatmapgl\"}],\"histogram\":[{\"marker\":{\"pattern\":{\"fillmode\":\"overlay\",\"size\":10,\"solidity\":0.2}},\"type\":\"histogram\"}],\"histogram2d\":[{\"colorbar\":{\"outlinewidth\":0,\"ticks\":\"\"},\"colorscale\":[[0.0,\"#0d0887\"],[0.1111111111111111,\"#46039f\"],[0.2222222222222222,\"#7201a8\"],[0.3333333333333333,\"#9c179e\"],[0.4444444444444444,\"#bd3786\"],[0.5555555555555556,\"#d8576b\"],[0.6666666666666666,\"#ed7953\"],[0.7777777777777778,\"#fb9f3a\"],[0.8888888888888888,\"#fdca26\"],[1.0,\"#f0f921\"]],\"type\":\"histogram2d\"}],\"histogram2dcontour\":[{\"colorbar\":{\"outlinewidth\":0,\"ticks\":\"\"},\"colorscale\":[[0.0,\"#0d0887\"],[0.1111111111111111,\"#46039f\"],[0.2222222222222222,\"#7201a8\"],[0.3333333333333333,\"#9c179e\"],[0.4444444444444444,\"#bd3786\"],[0.5555555555555556,\"#d8576b\"],[0.6666666666666666,\"#ed7953\"],[0.7777777777777778,\"#fb9f3a\"],[0.8888888888888888,\"#fdca26\"],[1.0,\"#f0f921\"]],\"type\":\"histogram2dcontour\"}],\"mesh3d\":[{\"colorbar\":{\"outlinewidth\":0,\"ticks\":\"\"},\"type\":\"mesh3d\"}],\"parcoords\":[{\"line\":{\"colorbar\":{\"outlinewidth\":0,\"ticks\":\"\"}},\"type\":\"parcoords\"}],\"pie\":[{\"automargin\":true,\"type\":\"pie\"}],\"scatter\":[{\"marker\":{\"colorbar\":{\"outlinewidth\":0,\"ticks\":\"\"}},\"type\":\"scatter\"}],\"scatter3d\":[{\"line\":{\"colorbar\":{\"outlinewidth\":0,\"ticks\":\"\"}},\"marker\":{\"colorbar\":{\"outlinewidth\":0,\"ticks\":\"\"}},\"type\":\"scatter3d\"}],\"scattercarpet\":[{\"marker\":{\"colorbar\":{\"outlinewidth\":0,\"ticks\":\"\"}},\"type\":\"scattercarpet\"}],\"scattergeo\":[{\"marker\":{\"colorbar\":{\"outlinewidth\":0,\"ticks\":\"\"}},\"type\":\"scattergeo\"}],\"scattergl\":[{\"marker\":{\"colorbar\":{\"outlinewidth\":0,\"ticks\":\"\"}},\"type\":\"scattergl\"}],\"scattermapbox\":[{\"marker\":{\"colorbar\":{\"outlinewidth\":0,\"ticks\":\"\"}},\"type\":\"scattermapbox\"}],\"scatterpolar\":[{\"marker\":{\"colorbar\":{\"outlinewidth\":0,\"ticks\":\"\"}},\"type\":\"scatterpolar\"}],\"scatterpolargl\":[{\"marker\":{\"colorbar\":{\"outlinewidth\":0,\"ticks\":\"\"}},\"type\":\"scatterpolargl\"}],\"scatterternary\":[{\"marker\":{\"colorbar\":{\"outlinewidth\":0,\"ticks\":\"\"}},\"type\":\"scatterternary\"}],\"surface\":[{\"colorbar\":{\"outlinewidth\":0,\"ticks\":\"\"},\"colorscale\":[[0.0,\"#0d0887\"],[0.1111111111111111,\"#46039f\"],[0.2222222222222222,\"#7201a8\"],[0.3333333333333333,\"#9c179e\"],[0.4444444444444444,\"#bd3786\"],[0.5555555555555556,\"#d8576b\"],[0.6666666666666666,\"#ed7953\"],[0.7777777777777778,\"#fb9f3a\"],[0.8888888888888888,\"#fdca26\"],[1.0,\"#f0f921\"]],\"type\":\"surface\"}],\"table\":[{\"cells\":{\"fill\":{\"color\":\"#EBF0F8\"},\"line\":{\"color\":\"white\"}},\"header\":{\"fill\":{\"color\":\"#C8D4E3\"},\"line\":{\"color\":\"white\"}},\"type\":\"table\"}]},\"layout\":{\"annotationdefaults\":{\"arrowcolor\":\"#2a3f5f\",\"arrowhead\":0,\"arrowwidth\":1},\"autotypenumbers\":\"strict\",\"coloraxis\":{\"colorbar\":{\"outlinewidth\":0,\"ticks\":\"\"}},\"colorscale\":{\"diverging\":[[0,\"#8e0152\"],[0.1,\"#c51b7d\"],[0.2,\"#de77ae\"],[0.3,\"#f1b6da\"],[0.4,\"#fde0ef\"],[0.5,\"#f7f7f7\"],[0.6,\"#e6f5d0\"],[0.7,\"#b8e186\"],[0.8,\"#7fbc41\"],[0.9,\"#4d9221\"],[1,\"#276419\"]],\"sequential\":[[0.0,\"#0d0887\"],[0.1111111111111111,\"#46039f\"],[0.2222222222222222,\"#7201a8\"],[0.3333333333333333,\"#9c179e\"],[0.4444444444444444,\"#bd3786\"],[0.5555555555555556,\"#d8576b\"],[0.6666666666666666,\"#ed7953\"],[0.7777777777777778,\"#fb9f3a\"],[0.8888888888888888,\"#fdca26\"],[1.0,\"#f0f921\"]],\"sequentialminus\":[[0.0,\"#0d0887\"],[0.1111111111111111,\"#46039f\"],[0.2222222222222222,\"#7201a8\"],[0.3333333333333333,\"#9c179e\"],[0.4444444444444444,\"#bd3786\"],[0.5555555555555556,\"#d8576b\"],[0.6666666666666666,\"#ed7953\"],[0.7777777777777778,\"#fb9f3a\"],[0.8888888888888888,\"#fdca26\"],[1.0,\"#f0f921\"]]},\"colorway\":[\"#636efa\",\"#EF553B\",\"#00cc96\",\"#ab63fa\",\"#FFA15A\",\"#19d3f3\",\"#FF6692\",\"#B6E880\",\"#FF97FF\",\"#FECB52\"],\"font\":{\"color\":\"#2a3f5f\"},\"geo\":{\"bgcolor\":\"white\",\"lakecolor\":\"white\",\"landcolor\":\"#E5ECF6\",\"showlakes\":true,\"showland\":true,\"subunitcolor\":\"white\"},\"hoverlabel\":{\"align\":\"left\"},\"hovermode\":\"closest\",\"mapbox\":{\"style\":\"light\"},\"paper_bgcolor\":\"white\",\"plot_bgcolor\":\"#E5ECF6\",\"polar\":{\"angularaxis\":{\"gridcolor\":\"white\",\"linecolor\":\"white\",\"ticks\":\"\"},\"bgcolor\":\"#E5ECF6\",\"radialaxis\":{\"gridcolor\":\"white\",\"linecolor\":\"white\",\"ticks\":\"\"}},\"scene\":{\"xaxis\":{\"backgroundcolor\":\"#E5ECF6\",\"gridcolor\":\"white\",\"gridwidth\":2,\"linecolor\":\"white\",\"showbackground\":true,\"ticks\":\"\",\"zerolinecolor\":\"white\"},\"yaxis\":{\"backgroundcolor\":\"#E5ECF6\",\"gridcolor\":\"white\",\"gridwidth\":2,\"linecolor\":\"white\",\"showbackground\":true,\"ticks\":\"\",\"zerolinecolor\":\"white\"},\"zaxis\":{\"backgroundcolor\":\"#E5ECF6\",\"gridcolor\":\"white\",\"gridwidth\":2,\"linecolor\":\"white\",\"showbackground\":true,\"ticks\":\"\",\"zerolinecolor\":\"white\"}},\"shapedefaults\":{\"line\":{\"color\":\"#2a3f5f\"}},\"ternary\":{\"aaxis\":{\"gridcolor\":\"white\",\"linecolor\":\"white\",\"ticks\":\"\"},\"baxis\":{\"gridcolor\":\"white\",\"linecolor\":\"white\",\"ticks\":\"\"},\"bgcolor\":\"#E5ECF6\",\"caxis\":{\"gridcolor\":\"white\",\"linecolor\":\"white\",\"ticks\":\"\"}},\"title\":{\"x\":0.05},\"xaxis\":{\"automargin\":true,\"gridcolor\":\"white\",\"linecolor\":\"white\",\"ticks\":\"\",\"title\":{\"standoff\":15},\"zerolinecolor\":\"white\",\"zerolinewidth\":2},\"yaxis\":{\"automargin\":true,\"gridcolor\":\"white\",\"linecolor\":\"white\",\"ticks\":\"\",\"title\":{\"standoff\":15},\"zerolinecolor\":\"white\",\"zerolinewidth\":2}}}},                        {\"responsive\": true}                    ).then(function(){\n",
              "                            \n",
              "var gd = document.getElementById('36560173-c15e-43fa-8b36-5b06db8ffff8');\n",
              "var x = new MutationObserver(function (mutations, observer) {{\n",
              "        var display = window.getComputedStyle(gd).display;\n",
              "        if (!display || display === 'none') {{\n",
              "            console.log([gd, 'removed!']);\n",
              "            Plotly.purge(gd);\n",
              "            observer.disconnect();\n",
              "        }}\n",
              "}});\n",
              "\n",
              "// Listen for the removal of the full notebook cells\n",
              "var notebookContainer = gd.closest('#notebook-container');\n",
              "if (notebookContainer) {{\n",
              "    x.observe(notebookContainer, {childList: true});\n",
              "}}\n",
              "\n",
              "// Listen for the clearing of the current output cell\n",
              "var outputEl = gd.closest('.output');\n",
              "if (outputEl) {{\n",
              "    x.observe(outputEl, {childList: true});\n",
              "}}\n",
              "\n",
              "                        })                };                            </script>        </div>\n",
              "</body>\n",
              "</html>"
            ]
          },
          "metadata": {}
        }
      ]
    },
    {
      "cell_type": "code",
      "source": [
        "lastorder_data = lastorder_data.reshape((-1))\n",
        "\n",
        "def predict(num_prediction, model):\n",
        "    prediction_list = lastorder_data[-look_back:]\n",
        "    \n",
        "    for _ in range(num_prediction):\n",
        "        x = prediction_list[-look_back:]\n",
        "        x = x.reshape((1, look_back, 1))\n",
        "        out = model.predict(x)[0][0]\n",
        "        prediction_list = np.append(prediction_list, out)\n",
        "    prediction_list = prediction_list[look_back-1:]\n",
        "        \n",
        "    return prediction_list\n",
        "    \n",
        "def predict_dates(num_prediction):\n",
        "    last_date = ds['date'].values[-1]\n",
        "    prediction_dates = pd.date_range(last_date, periods=num_prediction+1).tolist()\n",
        "    return prediction_dates"
      ],
      "metadata": {
        "id": "a7AMvTnDmWYt"
      },
      "execution_count": null,
      "outputs": []
    },
    {
      "cell_type": "code",
      "source": [
        "num_prediction = 30\n",
        "forecast = predict(num_prediction, model)\n",
        "forecast_dates = predict_dates(num_prediction)"
      ],
      "metadata": {
        "id": "hNn4EF3atPjm"
      },
      "execution_count": null,
      "outputs": []
    },
    {
      "cell_type": "code",
      "source": [
        "forecast_dates"
      ],
      "metadata": {
        "id": "1cPQfV-EtT8v"
      },
      "execution_count": null,
      "outputs": []
    },
    {
      "cell_type": "markdown",
      "source": [
        "## Simple practical Exemplo"
      ],
      "metadata": {
        "id": "kEYcc8_DCVOB"
      }
    },
    {
      "cell_type": "markdown",
      "source": [
        ""
      ],
      "metadata": {
        "id": "e5nFQVQFnNLY"
      }
    },
    {
      "cell_type": "markdown",
      "source": [
        "###Regressão Linear"
      ],
      "metadata": {
        "id": "fcxouqs7-OhW"
      }
    },
    {
      "cell_type": "code",
      "source": [
        "def transform_record(client_id, dataframe, scaler, model, normalizer):\n",
        "  df = dataframe[dataframe['client_id'] == client_id]\n",
        "  df = df.iloc[-1:]\n",
        "  X = df.drop(['client_id', 'last_order', 'date', 'product'], axis=1)\n",
        "  date = df['date']\n",
        "  columns = [\n",
        "    'quantity_product', 'value_product', 'payments_values', 'total',\n",
        "  ]\n",
        "  X[columns] = scaler.transform(X[columns])\n",
        "  y_predicted = model.predict(X.values)\n",
        "  y = normalizer.inverse_transform(y_predicted.reshape(-1, 1))\n",
        "  new_date = date.values[0] + (y[0] * numpy.timedelta64(1, 'D'))\n",
        "  return new_date[0], date.values[0]"
      ],
      "metadata": {
        "id": "FNDPgjGypeeN"
      },
      "execution_count": null,
      "outputs": []
    },
    {
      "cell_type": "code",
      "source": [
        "new_date, old_date = transform_record(\n",
        "    29293, dataframe=dataset, scaler=scaler, model=r, normalizer=yscaler\n",
        ")"
      ],
      "metadata": {
        "id": "oI6PfvPBDoWQ"
      },
      "execution_count": null,
      "outputs": []
    },
    {
      "cell_type": "code",
      "source": [
        "import datetime"
      ],
      "metadata": {
        "id": "2L8SG2n2H2WO"
      },
      "execution_count": null,
      "outputs": []
    },
    {
      "cell_type": "code",
      "source": [
        "n_date = datetime.datetime.fromtimestamp(\n",
        "    new_date.item() / 10**9\n",
        ").strftime('%Y.%m.%d')\n",
        "\n",
        "o_date = datetime.datetime.fromtimestamp(\n",
        "    old_date.item() / 10**9\n",
        ").strftime('%Y.%m.%d')"
      ],
      "metadata": {
        "id": "wntiK26SD1sk"
      },
      "execution_count": null,
      "outputs": []
    },
    {
      "cell_type": "code",
      "source": [
        "print(f'Última compra em: {o_date}. Próxima data de compra estimada em: {n_date}')"
      ],
      "metadata": {
        "colab": {
          "base_uri": "https://localhost:8080/"
        },
        "id": "ysPoCCA-IZaG",
        "outputId": "e81cf1a6-0707-4664-aa95-b86371643d44"
      },
      "execution_count": null,
      "outputs": [
        {
          "output_type": "stream",
          "name": "stdout",
          "text": [
            "Última compra em: 2022.01.04. Próxima data de compra estimada em: 2022.02.13\n"
          ]
        }
      ]
    },
    {
      "cell_type": "markdown",
      "source": [
        "### Rede Neural"
      ],
      "metadata": {
        "id": "GiinrF5Y-Ylc"
      }
    },
    {
      "cell_type": "code",
      "source": [
        "new_date, old_date = transform_record(\n",
        "    29293, dataframe=dataset, scaler=scaler, model=nnr, normalizer=yscaler\n",
        ")"
      ],
      "metadata": {
        "id": "RpqUVOl2IBfD"
      },
      "execution_count": null,
      "outputs": []
    },
    {
      "cell_type": "code",
      "source": [
        "n_date = datetime.datetime.fromtimestamp(\n",
        "    new_date.item() / 10**9\n",
        ").strftime('%Y.%m.%d')\n",
        "\n",
        "o_date = datetime.datetime.fromtimestamp(\n",
        "    old_date.item() / 10**9\n",
        ").strftime('%Y.%m.%d')"
      ],
      "metadata": {
        "id": "VDt8U2scIEfy"
      },
      "execution_count": null,
      "outputs": []
    },
    {
      "cell_type": "code",
      "source": [
        "print(f'Última compra em: {o_date}. Próxima data de compra estimada em: {n_date}')"
      ],
      "metadata": {
        "id": "YtMFqgIwIr1r",
        "outputId": "1e4ea0db-0590-4cc5-df7e-28862ac4a90d",
        "colab": {
          "base_uri": "https://localhost:8080/"
        }
      },
      "execution_count": null,
      "outputs": [
        {
          "output_type": "stream",
          "name": "stdout",
          "text": [
            "Última compra em: 2022.01.04. Próxima data de compra estimada em: 2022.02.13\n"
          ]
        }
      ]
    }
  ]
}