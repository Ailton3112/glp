{
  "nbformat": 4,
  "nbformat_minor": 0,
  "metadata": {
    "colab": {
      "name": "RevGas_npd-prediction.ipynb",
      "provenance": [],
      "collapsed_sections": [],
      "include_colab_link": true
    },
    "kernelspec": {
      "name": "python3",
      "display_name": "Python 3"
    },
    "language_info": {
      "name": "python"
    },
    "accelerator": "GPU"
  },
  "cells": [
    {
      "cell_type": "markdown",
      "metadata": {
        "id": "view-in-github",
        "colab_type": "text"
      },
      "source": [
        "<a href=\"https://colab.research.google.com/github/Ailton3112/glp/blob/main/RevGas_npd_prediction.ipynb\" target=\"_parent\"><img src=\"https://colab.research.google.com/assets/colab-badge.svg\" alt=\"Open In Colab\"/></a>"
      ]
    },
    {
      "cell_type": "markdown",
      "source": [
        "# REVGÁS - Prediction\n",
        "\n",
        "* Sources\n",
        "  - [Using machine learning to predict the next purchase date for an individual retail customer](http://www.scielo.org.za/scielo.php?script=sci_arttext&pid=S2224-78902020000300008)\n",
        "  - [Predicting Next Purchase Day](https://towardsdatascience.com/predicting-next-purchase-day-15fae5548027)\n",
        "  - [Using Machine Learning to Predict Customers’ Next Purchase Day](https://towardsdatascience.com/using-machine-learning-to-predict-customers-next-purchase-day-7895ad49b4db)"
      ],
      "metadata": {
        "id": "FKKaYMA0WAIa"
      }
    },
    {
      "cell_type": "code",
      "execution_count": null,
      "metadata": {
        "id": "EDLE5HMsV_RS"
      },
      "outputs": [],
      "source": [
        "# from google.colab import drive, files\n",
        "# # loaded_files = files.upload()\n",
        "# drive.mount('/content/drive')"
      ]
    },
    {
      "cell_type": "markdown",
      "source": [
        "### Tarefas a fazer\n",
        "\n",
        "*   Calcular o desvio padrao e a media da \"lastorder\" pra cada modelo\n",
        "    *   Todos os clientes\n",
        "*   Media em x meses com desvio padrao\n",
        "*   Tempo Médio por estado\n",
        "*   LSTM simples\n",
        "    *   4 - últimos pedidos de cliente."
      ],
      "metadata": {
        "id": "BX1FA_PZdg96"
      }
    },
    {
      "cell_type": "code",
      "source": [
        "import pandas as pd\n",
        "import numpy\n",
        "import warnings # supress warnings\n",
        "warnings.filterwarnings('ignore')"
      ],
      "metadata": {
        "id": "9cdg-sMBWxaG"
      },
      "execution_count": null,
      "outputs": []
    },
    {
      "cell_type": "code",
      "source": [
        "from google.colab import drive\n",
        "drive.mount('/content/drive')"
      ],
      "metadata": {
        "id": "bnoiAAxtuVQ4"
      },
      "execution_count": null,
      "outputs": []
    },
    {
      "cell_type": "markdown",
      "source": [
        "### Carrega dataset"
      ],
      "metadata": {
        "id": "ERwqMWcblyXc"
      }
    },
    {
      "cell_type": "code",
      "source": [
        "#dataset_path = 'C:\\\\Users\\\\aplne\\\\Documents\\\\Cópia de produtos_clientes.csv'\n",
        "#dataset= pandas.read_csv(dataset_path)\n",
        "\n",
        "dataset_path = '/Users/ailtonrodrigues/Desktop/REVGAS/input/produtos_clientes.csv'\n",
        "#dataset_path = '/content/produtos_clientes.csv'\n",
        "\n",
        "dataset_ori = pandas.read_csv(dataset_path)\n",
        "\n",
        "#dataset_ori = pandas.read_csv('/content/produtos_clientes.csv')\n",
        "\n",
        "# dataset = pd.read_csv('/Users/ailtonrodrigues/Desktop/REVGAS/input/produtos_clientes.csv',delimiter = ',',low_memory=False)\n",
        "#dataset = pandas.read_csv('produtos_clientes.csv')\n",
        "\n",
        "\n",
        "#dataset_ori = pd.read_csv('/content/drive/MyDrive/REVGAS/dados/produtos_clientes.csv',delimiter = ',',low_memory=False)\n"
      ],
      "metadata": {
        "id": "0_hREwz0Vv14"
      },
      "execution_count": null,
      "outputs": []
    },
    {
      "cell_type": "code",
      "source": [
        ""
      ],
      "metadata": {
        "id": "3RnUEREPhii0"
      },
      "execution_count": null,
      "outputs": []
    },
    {
      "cell_type": "markdown",
      "source": [
        "### Visualiza Dataset"
      ],
      "metadata": {
        "id": "92W6vCRjl4g6"
      }
    },
    {
      "cell_type": "code",
      "source": [
        "dataset_ori.head()"
      ],
      "metadata": {
        "colab": {
          "base_uri": "https://localhost:8080/",
          "height": 380
        },
        "id": "UZmWhrOHWOpB",
        "outputId": "1fbef0f2-a51e-4803-f35b-3916b37621bf"
      },
      "execution_count": null,
      "outputs": [
        {
          "output_type": "execute_result",
          "data": {
            "text/plain": [
              "   client_id quantity_product   product value_product  payments  \\\n",
              "0      29293                1  GLP 13KG          45.0  Dinheiro   \n",
              "1      29293                1  GLP 13KG          40.0  Dinheiro   \n",
              "2      29293                1  GLP 13KG          45.0  Dinheiro   \n",
              "3      29293                1  GLP 13KG          45.0  Dinheiro   \n",
              "4      29293                1  GLP 13KG          45.0  Dinheiro   \n",
              "\n",
              "  payments_values  total                 date      city  state  \n",
              "0           45.00   45.0  2013-04-09 22:17:37  Teresina  Piauí  \n",
              "1           40.00   40.0  2013-05-18 23:12:27  Teresina  Piauí  \n",
              "2           45.00   45.0  2013-06-25 22:21:47  Teresina  Piauí  \n",
              "3           45.00   45.0  2013-08-11 21:51:12  Teresina  Piauí  \n",
              "4           45.00   45.0  2013-10-17 22:57:38  Teresina  Piauí  "
            ],
            "text/html": [
              "<div>\n",
              "<style scoped>\n",
              "    .dataframe tbody tr th:only-of-type {\n",
              "        vertical-align: middle;\n",
              "    }\n",
              "\n",
              "    .dataframe tbody tr th {\n",
              "        vertical-align: top;\n",
              "    }\n",
              "\n",
              "    .dataframe thead th {\n",
              "        text-align: right;\n",
              "    }\n",
              "</style>\n",
              "<table border=\"1\" class=\"dataframe\">\n",
              "  <thead>\n",
              "    <tr style=\"text-align: right;\">\n",
              "      <th></th>\n",
              "      <th>client_id</th>\n",
              "      <th>quantity_product</th>\n",
              "      <th>product</th>\n",
              "      <th>value_product</th>\n",
              "      <th>payments</th>\n",
              "      <th>payments_values</th>\n",
              "      <th>total</th>\n",
              "      <th>date</th>\n",
              "      <th>city</th>\n",
              "      <th>state</th>\n",
              "    </tr>\n",
              "  </thead>\n",
              "  <tbody>\n",
              "    <tr>\n",
              "      <th>0</th>\n",
              "      <td>29293</td>\n",
              "      <td>1</td>\n",
              "      <td>GLP 13KG</td>\n",
              "      <td>45.0</td>\n",
              "      <td>Dinheiro</td>\n",
              "      <td>45.00</td>\n",
              "      <td>45.0</td>\n",
              "      <td>2013-04-09 22:17:37</td>\n",
              "      <td>Teresina</td>\n",
              "      <td>Piauí</td>\n",
              "    </tr>\n",
              "    <tr>\n",
              "      <th>1</th>\n",
              "      <td>29293</td>\n",
              "      <td>1</td>\n",
              "      <td>GLP 13KG</td>\n",
              "      <td>40.0</td>\n",
              "      <td>Dinheiro</td>\n",
              "      <td>40.00</td>\n",
              "      <td>40.0</td>\n",
              "      <td>2013-05-18 23:12:27</td>\n",
              "      <td>Teresina</td>\n",
              "      <td>Piauí</td>\n",
              "    </tr>\n",
              "    <tr>\n",
              "      <th>2</th>\n",
              "      <td>29293</td>\n",
              "      <td>1</td>\n",
              "      <td>GLP 13KG</td>\n",
              "      <td>45.0</td>\n",
              "      <td>Dinheiro</td>\n",
              "      <td>45.00</td>\n",
              "      <td>45.0</td>\n",
              "      <td>2013-06-25 22:21:47</td>\n",
              "      <td>Teresina</td>\n",
              "      <td>Piauí</td>\n",
              "    </tr>\n",
              "    <tr>\n",
              "      <th>3</th>\n",
              "      <td>29293</td>\n",
              "      <td>1</td>\n",
              "      <td>GLP 13KG</td>\n",
              "      <td>45.0</td>\n",
              "      <td>Dinheiro</td>\n",
              "      <td>45.00</td>\n",
              "      <td>45.0</td>\n",
              "      <td>2013-08-11 21:51:12</td>\n",
              "      <td>Teresina</td>\n",
              "      <td>Piauí</td>\n",
              "    </tr>\n",
              "    <tr>\n",
              "      <th>4</th>\n",
              "      <td>29293</td>\n",
              "      <td>1</td>\n",
              "      <td>GLP 13KG</td>\n",
              "      <td>45.0</td>\n",
              "      <td>Dinheiro</td>\n",
              "      <td>45.00</td>\n",
              "      <td>45.0</td>\n",
              "      <td>2013-10-17 22:57:38</td>\n",
              "      <td>Teresina</td>\n",
              "      <td>Piauí</td>\n",
              "    </tr>\n",
              "  </tbody>\n",
              "</table>\n",
              "</div>"
            ]
          },
          "metadata": {},
          "execution_count": 2142
        }
      ]
    },
    {
      "cell_type": "markdown",
      "source": [
        "### Seta tipos de atributos"
      ],
      "metadata": {
        "id": "1U9KmLJCl75m"
      }
    },
    {
      "cell_type": "code",
      "source": [
        "dataset_ori['client_id'] = pd.to_numeric(dataset_ori['client_id'])\n",
        "dataset_ori['quantity_product'] = pd.to_numeric(dataset_ori['quantity_product'], errors='coerce')\n",
        "dataset_ori['product'] = dataset_ori['product'].astype('category')\n",
        "dataset_ori['value_product'] = pd.to_numeric(dataset_ori['value_product'], errors='coerce')\n",
        "dataset_ori['payments_values'] = pd.to_numeric(dataset_ori['payments_values'], errors='coerce')\n",
        "dataset_ori['total'] = dataset_ori['total'].astype('float32')\n",
        "dataset_ori['date'] = dataset_ori['date'].astype('datetime64')\n",
        "dataset_ori['city'] = dataset_ori['city'].astype('category')\n",
        "dataset_ori['state'] = dataset_ori['state'].astype('category')"
      ],
      "metadata": {
        "id": "ai2_vN7BZQr2"
      },
      "execution_count": null,
      "outputs": []
    },
    {
      "cell_type": "markdown",
      "source": [
        "### Filtra DATASET por estado e produto"
      ],
      "metadata": {
        "id": "mx0Q0KTSmDj4"
      }
    },
    {
      "cell_type": "code",
      "source": [
        "dataset = dataset_ori.query(\"(state=='Piauí') & (quantity_product<=2) & (product=='GLP 13KG')\").reset_index(drop=True)\n",
        "dataset.shape"
      ],
      "metadata": {
        "colab": {
          "base_uri": "https://localhost:8080/"
        },
        "id": "_A-QnGsiQIm-",
        "outputId": "22b325c0-8420-4c46-ff18-4de1f15d7e84"
      },
      "execution_count": null,
      "outputs": [
        {
          "output_type": "execute_result",
          "data": {
            "text/plain": [
              "(609599, 10)"
            ]
          },
          "metadata": {},
          "execution_count": 2144
        }
      ]
    },
    {
      "cell_type": "markdown",
      "source": [
        "### Descreve dados estatísticos do dataset já filtrado"
      ],
      "metadata": {
        "id": "woQtWL2BmJx-"
      }
    },
    {
      "cell_type": "code",
      "source": [
        "dataset.describe()"
      ],
      "metadata": {
        "colab": {
          "base_uri": "https://localhost:8080/",
          "height": 300
        },
        "id": "QskYsSjdZnEy",
        "outputId": "4aee85d4-8302-4335-aeb9-a7098daa8678"
      },
      "execution_count": null,
      "outputs": [
        {
          "output_type": "execute_result",
          "data": {
            "text/plain": [
              "          client_id  quantity_product  value_product  payments_values  \\\n",
              "count  6.095990e+05     609599.000000  609599.000000    605553.000000   \n",
              "mean   1.310892e+05          1.085617      71.864565        78.335886   \n",
              "std    1.807708e+05          0.279798      18.440122        31.776523   \n",
              "min    2.929300e+04          1.000000       0.780000         0.780000   \n",
              "25%    4.668200e+04          1.000000      60.000000        60.000000   \n",
              "50%    6.443800e+04          1.000000      70.000000        72.000000   \n",
              "75%    1.353510e+05          1.000000      80.000000        85.000000   \n",
              "max    1.243195e+06          2.000000     950.000000      2505.000000   \n",
              "\n",
              "               total  \n",
              "count  609599.000000  \n",
              "mean       78.497437  \n",
              "std        31.935467  \n",
              "min         0.780000  \n",
              "25%        60.000000  \n",
              "50%        72.000000  \n",
              "75%        85.000000  \n",
              "max      2505.000000  "
            ],
            "text/html": [
              "<div>\n",
              "<style scoped>\n",
              "    .dataframe tbody tr th:only-of-type {\n",
              "        vertical-align: middle;\n",
              "    }\n",
              "\n",
              "    .dataframe tbody tr th {\n",
              "        vertical-align: top;\n",
              "    }\n",
              "\n",
              "    .dataframe thead th {\n",
              "        text-align: right;\n",
              "    }\n",
              "</style>\n",
              "<table border=\"1\" class=\"dataframe\">\n",
              "  <thead>\n",
              "    <tr style=\"text-align: right;\">\n",
              "      <th></th>\n",
              "      <th>client_id</th>\n",
              "      <th>quantity_product</th>\n",
              "      <th>value_product</th>\n",
              "      <th>payments_values</th>\n",
              "      <th>total</th>\n",
              "    </tr>\n",
              "  </thead>\n",
              "  <tbody>\n",
              "    <tr>\n",
              "      <th>count</th>\n",
              "      <td>6.095990e+05</td>\n",
              "      <td>609599.000000</td>\n",
              "      <td>609599.000000</td>\n",
              "      <td>605553.000000</td>\n",
              "      <td>609599.000000</td>\n",
              "    </tr>\n",
              "    <tr>\n",
              "      <th>mean</th>\n",
              "      <td>1.310892e+05</td>\n",
              "      <td>1.085617</td>\n",
              "      <td>71.864565</td>\n",
              "      <td>78.335886</td>\n",
              "      <td>78.497437</td>\n",
              "    </tr>\n",
              "    <tr>\n",
              "      <th>std</th>\n",
              "      <td>1.807708e+05</td>\n",
              "      <td>0.279798</td>\n",
              "      <td>18.440122</td>\n",
              "      <td>31.776523</td>\n",
              "      <td>31.935467</td>\n",
              "    </tr>\n",
              "    <tr>\n",
              "      <th>min</th>\n",
              "      <td>2.929300e+04</td>\n",
              "      <td>1.000000</td>\n",
              "      <td>0.780000</td>\n",
              "      <td>0.780000</td>\n",
              "      <td>0.780000</td>\n",
              "    </tr>\n",
              "    <tr>\n",
              "      <th>25%</th>\n",
              "      <td>4.668200e+04</td>\n",
              "      <td>1.000000</td>\n",
              "      <td>60.000000</td>\n",
              "      <td>60.000000</td>\n",
              "      <td>60.000000</td>\n",
              "    </tr>\n",
              "    <tr>\n",
              "      <th>50%</th>\n",
              "      <td>6.443800e+04</td>\n",
              "      <td>1.000000</td>\n",
              "      <td>70.000000</td>\n",
              "      <td>72.000000</td>\n",
              "      <td>72.000000</td>\n",
              "    </tr>\n",
              "    <tr>\n",
              "      <th>75%</th>\n",
              "      <td>1.353510e+05</td>\n",
              "      <td>1.000000</td>\n",
              "      <td>80.000000</td>\n",
              "      <td>85.000000</td>\n",
              "      <td>85.000000</td>\n",
              "    </tr>\n",
              "    <tr>\n",
              "      <th>max</th>\n",
              "      <td>1.243195e+06</td>\n",
              "      <td>2.000000</td>\n",
              "      <td>950.000000</td>\n",
              "      <td>2505.000000</td>\n",
              "      <td>2505.000000</td>\n",
              "    </tr>\n",
              "  </tbody>\n",
              "</table>\n",
              "</div>"
            ]
          },
          "metadata": {},
          "execution_count": 2145
        }
      ]
    },
    {
      "cell_type": "code",
      "source": [
        "dataset.info()"
      ],
      "metadata": {
        "id": "yBdUamm1dKmR",
        "outputId": "b6b8649f-4914-47b6-cd1d-cf2781f599b6",
        "colab": {
          "base_uri": "https://localhost:8080/"
        }
      },
      "execution_count": null,
      "outputs": [
        {
          "output_type": "stream",
          "name": "stdout",
          "text": [
            "<class 'pandas.core.frame.DataFrame'>\n",
            "RangeIndex: 609599 entries, 0 to 609598\n",
            "Data columns (total 10 columns):\n",
            " #   Column            Non-Null Count   Dtype         \n",
            "---  ------            --------------   -----         \n",
            " 0   client_id         609599 non-null  int64         \n",
            " 1   quantity_product  609599 non-null  float64       \n",
            " 2   product           609599 non-null  category      \n",
            " 3   value_product     609599 non-null  float64       \n",
            " 4   payments          609599 non-null  object        \n",
            " 5   payments_values   605553 non-null  float64       \n",
            " 6   total             609599 non-null  float32       \n",
            " 7   date              609599 non-null  datetime64[ns]\n",
            " 8   city              609599 non-null  category      \n",
            " 9   state             609599 non-null  category      \n",
            "dtypes: category(3), datetime64[ns](1), float32(1), float64(3), int64(1), object(1)\n",
            "memory usage: 32.6+ MB\n"
          ]
        }
      ]
    },
    {
      "cell_type": "code",
      "source": [
        "dataset.isnull().sum()"
      ],
      "metadata": {
        "colab": {
          "base_uri": "https://localhost:8080/"
        },
        "id": "uhGoQ2OM2krU",
        "outputId": "9f0887b9-3db7-4c8f-c86e-d58a9181afdc"
      },
      "execution_count": null,
      "outputs": [
        {
          "output_type": "execute_result",
          "data": {
            "text/plain": [
              "client_id              0\n",
              "quantity_product       0\n",
              "product                0\n",
              "value_product          0\n",
              "payments               0\n",
              "payments_values     4046\n",
              "total                  0\n",
              "date                   0\n",
              "city                   0\n",
              "state                  0\n",
              "dtype: int64"
            ]
          },
          "metadata": {},
          "execution_count": 2147
        }
      ]
    },
    {
      "cell_type": "code",
      "source": [
        "dataset['quantity_product'] = dataset['quantity_product'].fillna(1)\n",
        "dataset['value_product'] = (dataset['value_product'].fillna(dataset['value_product'].mean())\n",
        ")\n",
        "dataset['payments_values'] = (\n",
        "    dataset['payments_values'].fillna(dataset['payments_values'].mean())\n",
        ")"
      ],
      "metadata": {
        "id": "VKeP_CXT2ooI"
      },
      "execution_count": null,
      "outputs": []
    },
    {
      "cell_type": "code",
      "source": [
        "dataset.isnull().sum()"
      ],
      "metadata": {
        "colab": {
          "base_uri": "https://localhost:8080/"
        },
        "id": "RSbfqx0c3Oxq",
        "outputId": "a3af6251-4244-4423-c80c-ca8502c12989"
      },
      "execution_count": null,
      "outputs": [
        {
          "output_type": "execute_result",
          "data": {
            "text/plain": [
              "client_id           0\n",
              "quantity_product    0\n",
              "product             0\n",
              "value_product       0\n",
              "payments            0\n",
              "payments_values     0\n",
              "total               0\n",
              "date                0\n",
              "city                0\n",
              "state               0\n",
              "dtype: int64"
            ]
          },
          "metadata": {},
          "execution_count": 2149
        }
      ]
    },
    {
      "cell_type": "markdown",
      "source": [
        "### Organiza os dados de forma ascendente"
      ],
      "metadata": {
        "id": "A4ewFbm5mXaP"
      }
    },
    {
      "cell_type": "code",
      "source": [
        "dataset.sort_values(['client_id', 'date'], ascending=True, inplace=True)"
      ],
      "metadata": {
        "id": "zBtT88XPqeq0"
      },
      "execution_count": null,
      "outputs": []
    },
    {
      "cell_type": "code",
      "source": [
        "dataset.shape"
      ],
      "metadata": {
        "colab": {
          "base_uri": "https://localhost:8080/"
        },
        "id": "906BBxSEowfR",
        "outputId": "a7568a52-1be1-4d8b-8112-2819e49f4e60"
      },
      "execution_count": null,
      "outputs": [
        {
          "output_type": "execute_result",
          "data": {
            "text/plain": [
              "(609599, 10)"
            ]
          },
          "metadata": {},
          "execution_count": 2151
        }
      ]
    },
    {
      "cell_type": "code",
      "source": [
        "dataset.head()"
      ],
      "metadata": {
        "colab": {
          "base_uri": "https://localhost:8080/",
          "height": 380
        },
        "id": "8lGM9IDAWAIF",
        "outputId": "7987a77a-08c6-45f9-cd88-a90bb4fbc3e9"
      },
      "execution_count": null,
      "outputs": [
        {
          "output_type": "execute_result",
          "data": {
            "text/plain": [
              "   client_id  quantity_product   product  value_product  payments  \\\n",
              "0      29293               1.0  GLP 13KG           45.0  Dinheiro   \n",
              "1      29293               1.0  GLP 13KG           40.0  Dinheiro   \n",
              "2      29293               1.0  GLP 13KG           45.0  Dinheiro   \n",
              "3      29293               1.0  GLP 13KG           45.0  Dinheiro   \n",
              "4      29293               1.0  GLP 13KG           45.0  Dinheiro   \n",
              "\n",
              "   payments_values  total                date      city  state  \n",
              "0             45.0   45.0 2013-04-09 22:17:37  Teresina  Piauí  \n",
              "1             40.0   40.0 2013-05-18 23:12:27  Teresina  Piauí  \n",
              "2             45.0   45.0 2013-06-25 22:21:47  Teresina  Piauí  \n",
              "3             45.0   45.0 2013-08-11 21:51:12  Teresina  Piauí  \n",
              "4             45.0   45.0 2013-10-17 22:57:38  Teresina  Piauí  "
            ],
            "text/html": [
              "<div>\n",
              "<style scoped>\n",
              "    .dataframe tbody tr th:only-of-type {\n",
              "        vertical-align: middle;\n",
              "    }\n",
              "\n",
              "    .dataframe tbody tr th {\n",
              "        vertical-align: top;\n",
              "    }\n",
              "\n",
              "    .dataframe thead th {\n",
              "        text-align: right;\n",
              "    }\n",
              "</style>\n",
              "<table border=\"1\" class=\"dataframe\">\n",
              "  <thead>\n",
              "    <tr style=\"text-align: right;\">\n",
              "      <th></th>\n",
              "      <th>client_id</th>\n",
              "      <th>quantity_product</th>\n",
              "      <th>product</th>\n",
              "      <th>value_product</th>\n",
              "      <th>payments</th>\n",
              "      <th>payments_values</th>\n",
              "      <th>total</th>\n",
              "      <th>date</th>\n",
              "      <th>city</th>\n",
              "      <th>state</th>\n",
              "    </tr>\n",
              "  </thead>\n",
              "  <tbody>\n",
              "    <tr>\n",
              "      <th>0</th>\n",
              "      <td>29293</td>\n",
              "      <td>1.0</td>\n",
              "      <td>GLP 13KG</td>\n",
              "      <td>45.0</td>\n",
              "      <td>Dinheiro</td>\n",
              "      <td>45.0</td>\n",
              "      <td>45.0</td>\n",
              "      <td>2013-04-09 22:17:37</td>\n",
              "      <td>Teresina</td>\n",
              "      <td>Piauí</td>\n",
              "    </tr>\n",
              "    <tr>\n",
              "      <th>1</th>\n",
              "      <td>29293</td>\n",
              "      <td>1.0</td>\n",
              "      <td>GLP 13KG</td>\n",
              "      <td>40.0</td>\n",
              "      <td>Dinheiro</td>\n",
              "      <td>40.0</td>\n",
              "      <td>40.0</td>\n",
              "      <td>2013-05-18 23:12:27</td>\n",
              "      <td>Teresina</td>\n",
              "      <td>Piauí</td>\n",
              "    </tr>\n",
              "    <tr>\n",
              "      <th>2</th>\n",
              "      <td>29293</td>\n",
              "      <td>1.0</td>\n",
              "      <td>GLP 13KG</td>\n",
              "      <td>45.0</td>\n",
              "      <td>Dinheiro</td>\n",
              "      <td>45.0</td>\n",
              "      <td>45.0</td>\n",
              "      <td>2013-06-25 22:21:47</td>\n",
              "      <td>Teresina</td>\n",
              "      <td>Piauí</td>\n",
              "    </tr>\n",
              "    <tr>\n",
              "      <th>3</th>\n",
              "      <td>29293</td>\n",
              "      <td>1.0</td>\n",
              "      <td>GLP 13KG</td>\n",
              "      <td>45.0</td>\n",
              "      <td>Dinheiro</td>\n",
              "      <td>45.0</td>\n",
              "      <td>45.0</td>\n",
              "      <td>2013-08-11 21:51:12</td>\n",
              "      <td>Teresina</td>\n",
              "      <td>Piauí</td>\n",
              "    </tr>\n",
              "    <tr>\n",
              "      <th>4</th>\n",
              "      <td>29293</td>\n",
              "      <td>1.0</td>\n",
              "      <td>GLP 13KG</td>\n",
              "      <td>45.0</td>\n",
              "      <td>Dinheiro</td>\n",
              "      <td>45.0</td>\n",
              "      <td>45.0</td>\n",
              "      <td>2013-10-17 22:57:38</td>\n",
              "      <td>Teresina</td>\n",
              "      <td>Piauí</td>\n",
              "    </tr>\n",
              "  </tbody>\n",
              "</table>\n",
              "</div>"
            ]
          },
          "metadata": {},
          "execution_count": 2152
        }
      ]
    },
    {
      "cell_type": "markdown",
      "source": [
        "### Calcula a last_order (dias entre pedidos)"
      ],
      "metadata": {
        "id": "NgNfblQ7mew5"
      }
    },
    {
      "cell_type": "code",
      "source": [
        "last_order = numpy.zeros(shape=(dataset.shape[0],))\n",
        "client = -1\n",
        "last_date = None\n",
        "count = 0\n",
        "for i, r in dataset.iterrows():\n",
        "  if r['client_id'] == client:\n",
        "    last_order[count] = (r['date']-last_date)/numpy.timedelta64(1, 'D')\n",
        "  else:\n",
        "    client = r['client_id']\n",
        "  last_date = r['date']\n",
        "  count += 1\n",
        "\n",
        "dataset['last_order'] = last_order\n"
      ],
      "metadata": {
        "id": "NzeMu-5Lo-s4"
      },
      "execution_count": null,
      "outputs": []
    },
    {
      "cell_type": "code",
      "source": [
        "dataset.head()"
      ],
      "metadata": {
        "colab": {
          "base_uri": "https://localhost:8080/",
          "height": 400
        },
        "id": "mqyB8wJBfVP8",
        "outputId": "15bb471e-7dd0-47db-9028-c529855e0938"
      },
      "execution_count": null,
      "outputs": [
        {
          "output_type": "execute_result",
          "data": {
            "text/plain": [
              "   client_id  quantity_product   product  value_product  payments  \\\n",
              "0      29293               1.0  GLP 13KG           45.0  Dinheiro   \n",
              "1      29293               1.0  GLP 13KG           40.0  Dinheiro   \n",
              "2      29293               1.0  GLP 13KG           45.0  Dinheiro   \n",
              "3      29293               1.0  GLP 13KG           45.0  Dinheiro   \n",
              "4      29293               1.0  GLP 13KG           45.0  Dinheiro   \n",
              "\n",
              "   payments_values  total                date      city  state  last_order  \n",
              "0             45.0   45.0 2013-04-09 22:17:37  Teresina  Piauí    0.000000  \n",
              "1             40.0   40.0 2013-05-18 23:12:27  Teresina  Piauí   39.038079  \n",
              "2             45.0   45.0 2013-06-25 22:21:47  Teresina  Piauí   37.964815  \n",
              "3             45.0   45.0 2013-08-11 21:51:12  Teresina  Piauí   46.978762  \n",
              "4             45.0   45.0 2013-10-17 22:57:38  Teresina  Piauí   67.046134  "
            ],
            "text/html": [
              "<div>\n",
              "<style scoped>\n",
              "    .dataframe tbody tr th:only-of-type {\n",
              "        vertical-align: middle;\n",
              "    }\n",
              "\n",
              "    .dataframe tbody tr th {\n",
              "        vertical-align: top;\n",
              "    }\n",
              "\n",
              "    .dataframe thead th {\n",
              "        text-align: right;\n",
              "    }\n",
              "</style>\n",
              "<table border=\"1\" class=\"dataframe\">\n",
              "  <thead>\n",
              "    <tr style=\"text-align: right;\">\n",
              "      <th></th>\n",
              "      <th>client_id</th>\n",
              "      <th>quantity_product</th>\n",
              "      <th>product</th>\n",
              "      <th>value_product</th>\n",
              "      <th>payments</th>\n",
              "      <th>payments_values</th>\n",
              "      <th>total</th>\n",
              "      <th>date</th>\n",
              "      <th>city</th>\n",
              "      <th>state</th>\n",
              "      <th>last_order</th>\n",
              "    </tr>\n",
              "  </thead>\n",
              "  <tbody>\n",
              "    <tr>\n",
              "      <th>0</th>\n",
              "      <td>29293</td>\n",
              "      <td>1.0</td>\n",
              "      <td>GLP 13KG</td>\n",
              "      <td>45.0</td>\n",
              "      <td>Dinheiro</td>\n",
              "      <td>45.0</td>\n",
              "      <td>45.0</td>\n",
              "      <td>2013-04-09 22:17:37</td>\n",
              "      <td>Teresina</td>\n",
              "      <td>Piauí</td>\n",
              "      <td>0.000000</td>\n",
              "    </tr>\n",
              "    <tr>\n",
              "      <th>1</th>\n",
              "      <td>29293</td>\n",
              "      <td>1.0</td>\n",
              "      <td>GLP 13KG</td>\n",
              "      <td>40.0</td>\n",
              "      <td>Dinheiro</td>\n",
              "      <td>40.0</td>\n",
              "      <td>40.0</td>\n",
              "      <td>2013-05-18 23:12:27</td>\n",
              "      <td>Teresina</td>\n",
              "      <td>Piauí</td>\n",
              "      <td>39.038079</td>\n",
              "    </tr>\n",
              "    <tr>\n",
              "      <th>2</th>\n",
              "      <td>29293</td>\n",
              "      <td>1.0</td>\n",
              "      <td>GLP 13KG</td>\n",
              "      <td>45.0</td>\n",
              "      <td>Dinheiro</td>\n",
              "      <td>45.0</td>\n",
              "      <td>45.0</td>\n",
              "      <td>2013-06-25 22:21:47</td>\n",
              "      <td>Teresina</td>\n",
              "      <td>Piauí</td>\n",
              "      <td>37.964815</td>\n",
              "    </tr>\n",
              "    <tr>\n",
              "      <th>3</th>\n",
              "      <td>29293</td>\n",
              "      <td>1.0</td>\n",
              "      <td>GLP 13KG</td>\n",
              "      <td>45.0</td>\n",
              "      <td>Dinheiro</td>\n",
              "      <td>45.0</td>\n",
              "      <td>45.0</td>\n",
              "      <td>2013-08-11 21:51:12</td>\n",
              "      <td>Teresina</td>\n",
              "      <td>Piauí</td>\n",
              "      <td>46.978762</td>\n",
              "    </tr>\n",
              "    <tr>\n",
              "      <th>4</th>\n",
              "      <td>29293</td>\n",
              "      <td>1.0</td>\n",
              "      <td>GLP 13KG</td>\n",
              "      <td>45.0</td>\n",
              "      <td>Dinheiro</td>\n",
              "      <td>45.0</td>\n",
              "      <td>45.0</td>\n",
              "      <td>2013-10-17 22:57:38</td>\n",
              "      <td>Teresina</td>\n",
              "      <td>Piauí</td>\n",
              "      <td>67.046134</td>\n",
              "    </tr>\n",
              "  </tbody>\n",
              "</table>\n",
              "</div>"
            ]
          },
          "metadata": {},
          "execution_count": 2002
        }
      ]
    },
    {
      "cell_type": "code",
      "source": [
        "dataset.drop(dataset[dataset['last_order']<=0].index, inplace=True)"
      ],
      "metadata": {
        "id": "zXbcWXAIYk8e"
      },
      "execution_count": null,
      "outputs": []
    },
    {
      "cell_type": "code",
      "source": [
        "dataset.head()"
      ],
      "metadata": {
        "colab": {
          "base_uri": "https://localhost:8080/",
          "height": 400
        },
        "id": "D1lD4Hv_fW7a",
        "outputId": "c60e5e01-1812-4dc9-f41c-782ab781cd62"
      },
      "execution_count": null,
      "outputs": [
        {
          "output_type": "execute_result",
          "data": {
            "text/plain": [
              "   client_id  quantity_product   product  value_product  payments  \\\n",
              "1      29293               1.0  GLP 13KG           40.0  Dinheiro   \n",
              "2      29293               1.0  GLP 13KG           45.0  Dinheiro   \n",
              "3      29293               1.0  GLP 13KG           45.0  Dinheiro   \n",
              "4      29293               1.0  GLP 13KG           45.0  Dinheiro   \n",
              "5      29293               1.0  GLP 13KG           40.0  Dinheiro   \n",
              "\n",
              "   payments_values  total                date      city  state  last_order  \n",
              "1             40.0   40.0 2013-05-18 23:12:27  Teresina  Piauí   39.038079  \n",
              "2             45.0   45.0 2013-06-25 22:21:47  Teresina  Piauí   37.964815  \n",
              "3             45.0   45.0 2013-08-11 21:51:12  Teresina  Piauí   46.978762  \n",
              "4             45.0   45.0 2013-10-17 22:57:38  Teresina  Piauí   67.046134  \n",
              "5             40.0   40.0 2013-12-03 20:31:04  Teresina  Piauí   46.898218  "
            ],
            "text/html": [
              "<div>\n",
              "<style scoped>\n",
              "    .dataframe tbody tr th:only-of-type {\n",
              "        vertical-align: middle;\n",
              "    }\n",
              "\n",
              "    .dataframe tbody tr th {\n",
              "        vertical-align: top;\n",
              "    }\n",
              "\n",
              "    .dataframe thead th {\n",
              "        text-align: right;\n",
              "    }\n",
              "</style>\n",
              "<table border=\"1\" class=\"dataframe\">\n",
              "  <thead>\n",
              "    <tr style=\"text-align: right;\">\n",
              "      <th></th>\n",
              "      <th>client_id</th>\n",
              "      <th>quantity_product</th>\n",
              "      <th>product</th>\n",
              "      <th>value_product</th>\n",
              "      <th>payments</th>\n",
              "      <th>payments_values</th>\n",
              "      <th>total</th>\n",
              "      <th>date</th>\n",
              "      <th>city</th>\n",
              "      <th>state</th>\n",
              "      <th>last_order</th>\n",
              "    </tr>\n",
              "  </thead>\n",
              "  <tbody>\n",
              "    <tr>\n",
              "      <th>1</th>\n",
              "      <td>29293</td>\n",
              "      <td>1.0</td>\n",
              "      <td>GLP 13KG</td>\n",
              "      <td>40.0</td>\n",
              "      <td>Dinheiro</td>\n",
              "      <td>40.0</td>\n",
              "      <td>40.0</td>\n",
              "      <td>2013-05-18 23:12:27</td>\n",
              "      <td>Teresina</td>\n",
              "      <td>Piauí</td>\n",
              "      <td>39.038079</td>\n",
              "    </tr>\n",
              "    <tr>\n",
              "      <th>2</th>\n",
              "      <td>29293</td>\n",
              "      <td>1.0</td>\n",
              "      <td>GLP 13KG</td>\n",
              "      <td>45.0</td>\n",
              "      <td>Dinheiro</td>\n",
              "      <td>45.0</td>\n",
              "      <td>45.0</td>\n",
              "      <td>2013-06-25 22:21:47</td>\n",
              "      <td>Teresina</td>\n",
              "      <td>Piauí</td>\n",
              "      <td>37.964815</td>\n",
              "    </tr>\n",
              "    <tr>\n",
              "      <th>3</th>\n",
              "      <td>29293</td>\n",
              "      <td>1.0</td>\n",
              "      <td>GLP 13KG</td>\n",
              "      <td>45.0</td>\n",
              "      <td>Dinheiro</td>\n",
              "      <td>45.0</td>\n",
              "      <td>45.0</td>\n",
              "      <td>2013-08-11 21:51:12</td>\n",
              "      <td>Teresina</td>\n",
              "      <td>Piauí</td>\n",
              "      <td>46.978762</td>\n",
              "    </tr>\n",
              "    <tr>\n",
              "      <th>4</th>\n",
              "      <td>29293</td>\n",
              "      <td>1.0</td>\n",
              "      <td>GLP 13KG</td>\n",
              "      <td>45.0</td>\n",
              "      <td>Dinheiro</td>\n",
              "      <td>45.0</td>\n",
              "      <td>45.0</td>\n",
              "      <td>2013-10-17 22:57:38</td>\n",
              "      <td>Teresina</td>\n",
              "      <td>Piauí</td>\n",
              "      <td>67.046134</td>\n",
              "    </tr>\n",
              "    <tr>\n",
              "      <th>5</th>\n",
              "      <td>29293</td>\n",
              "      <td>1.0</td>\n",
              "      <td>GLP 13KG</td>\n",
              "      <td>40.0</td>\n",
              "      <td>Dinheiro</td>\n",
              "      <td>40.0</td>\n",
              "      <td>40.0</td>\n",
              "      <td>2013-12-03 20:31:04</td>\n",
              "      <td>Teresina</td>\n",
              "      <td>Piauí</td>\n",
              "      <td>46.898218</td>\n",
              "    </tr>\n",
              "  </tbody>\n",
              "</table>\n",
              "</div>"
            ]
          },
          "metadata": {},
          "execution_count": 2004
        }
      ]
    },
    {
      "cell_type": "code",
      "source": [
        "scaler = MinMaxScaler()\n",
        "y = scaler.fit_transform(dataset['last_order'].values.reshape(-1,1))"
      ],
      "metadata": {
        "id": "jnL-_A0MbH0V"
      },
      "execution_count": null,
      "outputs": []
    },
    {
      "cell_type": "code",
      "source": [
        "y"
      ],
      "metadata": {
        "colab": {
          "base_uri": "https://localhost:8080/"
        },
        "id": "1yaXOb4Xbf1y",
        "outputId": "73347386-18c2-4678-8cf7-7998ccbd8919"
      },
      "execution_count": null,
      "outputs": [
        {
          "output_type": "execute_result",
          "data": {
            "text/plain": [
              "array([[1.22154946e-02],\n",
              "       [1.18796570e-02],\n",
              "       [1.47002325e-02],\n",
              "       ...,\n",
              "       [1.15893475e-07],\n",
              "       [8.32984349e-08],\n",
              "       [4.49087214e-07]])"
            ]
          },
          "metadata": {},
          "execution_count": 1974
        }
      ]
    },
    {
      "cell_type": "code",
      "source": [
        "last_order = pd.DataFrame(y)"
      ],
      "metadata": {
        "id": "gOqumUThbrrE"
      },
      "execution_count": null,
      "outputs": []
    },
    {
      "cell_type": "code",
      "source": [
        "dataset['last_order'].mean()"
      ],
      "metadata": {
        "colab": {
          "base_uri": "https://localhost:8080/"
        },
        "id": "Pb5csZencLyF",
        "outputId": "e35440e1-a9be-40f3-c4e9-a79fafff4b0f"
      },
      "execution_count": null,
      "outputs": [
        {
          "output_type": "execute_result",
          "data": {
            "text/plain": [
              "70.86790130201162"
            ]
          },
          "metadata": {},
          "execution_count": 2021
        }
      ]
    },
    {
      "cell_type": "code",
      "source": [
        "dataset['last_order'].std()"
      ],
      "metadata": {
        "colab": {
          "base_uri": "https://localhost:8080/"
        },
        "id": "OpVz5P14cSsP",
        "outputId": "1732fb92-a235-436f-c47a-f3771baa3035"
      },
      "execution_count": null,
      "outputs": [
        {
          "output_type": "execute_result",
          "data": {
            "text/plain": [
              "171.11901636810057"
            ]
          },
          "metadata": {},
          "execution_count": 2022
        }
      ]
    },
    {
      "cell_type": "code",
      "source": [
        "last_order.boxplot()"
      ],
      "metadata": {
        "colab": {
          "base_uri": "https://localhost:8080/",
          "height": 282
        },
        "id": "-fc--dN7b4GH",
        "outputId": "bf773e21-77b9-4d44-d8dc-d68bc9758b49"
      },
      "execution_count": null,
      "outputs": [
        {
          "output_type": "execute_result",
          "data": {
            "text/plain": [
              "<AxesSubplot:>"
            ]
          },
          "metadata": {},
          "execution_count": 2023
        },
        {
          "output_type": "display_data",
          "data": {
            "text/plain": [
              "<Figure size 432x288 with 1 Axes>"
            ],
            "image/png": "[encoded data removed]"
          },
          "metadata": {
            "needs_background": "light"
          }
        }
      ]
    },
    {
      "cell_type": "code",
      "source": [
        "last_order.hist()"
      ],
      "metadata": {
        "colab": {
          "base_uri": "https://localhost:8080/",
          "height": 298
        },
        "id": "iHGvhgL8cbgr",
        "outputId": "46103626-4d57-4a9d-dde2-beeef83b9180"
      },
      "execution_count": null,
      "outputs": [
        {
          "output_type": "execute_result",
          "data": {
            "text/plain": [
              "array([[<AxesSubplot:title={'center':'0'}>]], dtype=object)"
            ]
          },
          "metadata": {},
          "execution_count": 2024
        },
        {
          "output_type": "display_data",
          "data": {
            "text/plain": [
              "<Figure size 432x288 with 1 Axes>"
            ],
            "image/png": "[encoded data removed]"
          },
          "metadata": {
            "needs_background": "light"
          }
        }
      ]
    },
    {
      "cell_type": "code",
      "source": [
        "dataset.head()"
      ],
      "metadata": {
        "colab": {
          "base_uri": "https://localhost:8080/",
          "height": 400
        },
        "id": "-ZxCABgipgJj",
        "outputId": "fba73824-796a-4521-8be1-539c65914653"
      },
      "execution_count": null,
      "outputs": [
        {
          "output_type": "execute_result",
          "data": {
            "text/plain": [
              "   client_id  quantity_product   product  value_product  payments  \\\n",
              "1      29293               1.0  GLP 13KG           40.0  Dinheiro   \n",
              "2      29293               1.0  GLP 13KG           45.0  Dinheiro   \n",
              "3      29293               1.0  GLP 13KG           45.0  Dinheiro   \n",
              "4      29293               1.0  GLP 13KG           45.0  Dinheiro   \n",
              "5      29293               1.0  GLP 13KG           40.0  Dinheiro   \n",
              "\n",
              "   payments_values  total                date      city  state  last_order  \n",
              "1             40.0   40.0 2013-05-18 23:12:27  Teresina  Piauí   39.038079  \n",
              "2             45.0   45.0 2013-06-25 22:21:47  Teresina  Piauí   37.964815  \n",
              "3             45.0   45.0 2013-08-11 21:51:12  Teresina  Piauí   46.978762  \n",
              "4             45.0   45.0 2013-10-17 22:57:38  Teresina  Piauí   67.046134  \n",
              "5             40.0   40.0 2013-12-03 20:31:04  Teresina  Piauí   46.898218  "
            ],
            "text/html": [
              "<div>\n",
              "<style scoped>\n",
              "    .dataframe tbody tr th:only-of-type {\n",
              "        vertical-align: middle;\n",
              "    }\n",
              "\n",
              "    .dataframe tbody tr th {\n",
              "        vertical-align: top;\n",
              "    }\n",
              "\n",
              "    .dataframe thead th {\n",
              "        text-align: right;\n",
              "    }\n",
              "</style>\n",
              "<table border=\"1\" class=\"dataframe\">\n",
              "  <thead>\n",
              "    <tr style=\"text-align: right;\">\n",
              "      <th></th>\n",
              "      <th>client_id</th>\n",
              "      <th>quantity_product</th>\n",
              "      <th>product</th>\n",
              "      <th>value_product</th>\n",
              "      <th>payments</th>\n",
              "      <th>payments_values</th>\n",
              "      <th>total</th>\n",
              "      <th>date</th>\n",
              "      <th>city</th>\n",
              "      <th>state</th>\n",
              "      <th>last_order</th>\n",
              "    </tr>\n",
              "  </thead>\n",
              "  <tbody>\n",
              "    <tr>\n",
              "      <th>1</th>\n",
              "      <td>29293</td>\n",
              "      <td>1.0</td>\n",
              "      <td>GLP 13KG</td>\n",
              "      <td>40.0</td>\n",
              "      <td>Dinheiro</td>\n",
              "      <td>40.0</td>\n",
              "      <td>40.0</td>\n",
              "      <td>2013-05-18 23:12:27</td>\n",
              "      <td>Teresina</td>\n",
              "      <td>Piauí</td>\n",
              "      <td>39.038079</td>\n",
              "    </tr>\n",
              "    <tr>\n",
              "      <th>2</th>\n",
              "      <td>29293</td>\n",
              "      <td>1.0</td>\n",
              "      <td>GLP 13KG</td>\n",
              "      <td>45.0</td>\n",
              "      <td>Dinheiro</td>\n",
              "      <td>45.0</td>\n",
              "      <td>45.0</td>\n",
              "      <td>2013-06-25 22:21:47</td>\n",
              "      <td>Teresina</td>\n",
              "      <td>Piauí</td>\n",
              "      <td>37.964815</td>\n",
              "    </tr>\n",
              "    <tr>\n",
              "      <th>3</th>\n",
              "      <td>29293</td>\n",
              "      <td>1.0</td>\n",
              "      <td>GLP 13KG</td>\n",
              "      <td>45.0</td>\n",
              "      <td>Dinheiro</td>\n",
              "      <td>45.0</td>\n",
              "      <td>45.0</td>\n",
              "      <td>2013-08-11 21:51:12</td>\n",
              "      <td>Teresina</td>\n",
              "      <td>Piauí</td>\n",
              "      <td>46.978762</td>\n",
              "    </tr>\n",
              "    <tr>\n",
              "      <th>4</th>\n",
              "      <td>29293</td>\n",
              "      <td>1.0</td>\n",
              "      <td>GLP 13KG</td>\n",
              "      <td>45.0</td>\n",
              "      <td>Dinheiro</td>\n",
              "      <td>45.0</td>\n",
              "      <td>45.0</td>\n",
              "      <td>2013-10-17 22:57:38</td>\n",
              "      <td>Teresina</td>\n",
              "      <td>Piauí</td>\n",
              "      <td>67.046134</td>\n",
              "    </tr>\n",
              "    <tr>\n",
              "      <th>5</th>\n",
              "      <td>29293</td>\n",
              "      <td>1.0</td>\n",
              "      <td>GLP 13KG</td>\n",
              "      <td>40.0</td>\n",
              "      <td>Dinheiro</td>\n",
              "      <td>40.0</td>\n",
              "      <td>40.0</td>\n",
              "      <td>2013-12-03 20:31:04</td>\n",
              "      <td>Teresina</td>\n",
              "      <td>Piauí</td>\n",
              "      <td>46.898218</td>\n",
              "    </tr>\n",
              "  </tbody>\n",
              "</table>\n",
              "</div>"
            ]
          },
          "metadata": {},
          "execution_count": 1980
        }
      ]
    },
    {
      "cell_type": "code",
      "source": [
        "#decimals = 2    \n",
        "#dataset['last_order'] = dataset['last_order'].apply(lambda x:round(x,decimals))"
      ],
      "metadata": {
        "id": "J7RMkiTAXXlt"
      },
      "execution_count": null,
      "outputs": []
    },
    {
      "cell_type": "code",
      "source": [
        "dataset.shape"
      ],
      "metadata": {
        "colab": {
          "base_uri": "https://localhost:8080/"
        },
        "id": "7CkXk_UALX03",
        "outputId": "239b98bc-a64c-42fe-beb8-89fb572a5cba"
      },
      "execution_count": null,
      "outputs": [
        {
          "output_type": "execute_result",
          "data": {
            "text/plain": [
              "(534866, 11)"
            ]
          },
          "metadata": {},
          "execution_count": 2025
        }
      ]
    },
    {
      "cell_type": "code",
      "source": [
        "# # filter_l = (dataset['last_order']<10) \n",
        "# # ds_l = dataset.loc[filter_l] \n",
        "# # ds_l.shape\n",
        "\n",
        "# dataset_10 = dataset.query(\"(last_order<=20.0)\").reset_index(drop=True)\n",
        "# dataset_10.shape"
      ],
      "metadata": {
        "colab": {
          "base_uri": "https://localhost:8080/"
        },
        "id": "MAR_badVK4ch",
        "outputId": "c0e7ef3b-c153-41f3-db02-efa995259ffb"
      },
      "execution_count": null,
      "outputs": [
        {
          "output_type": "execute_result",
          "data": {
            "text/plain": [
              "(291514, 11)"
            ]
          },
          "metadata": {},
          "execution_count": 1515
        }
      ]
    },
    {
      "cell_type": "code",
      "source": [
        "#filter_l = dataset.query(\"(client_id==29293)\").reset_index(drop=True)\n",
        "\n",
        "#filter_l = (dataset['client_id']==29293) \n",
        "#filter_l.head(20)\n",
        "#filter_l.to_csv(\"teste_3.csv\")\n",
        "#filter_l['last_order'].mean()"
      ],
      "metadata": {
        "colab": {
          "base_uri": "https://localhost:8080/"
        },
        "id": "TkWsBqB7OLBW",
        "outputId": "639c0202-5815-484e-c213-db313c06e4f9"
      },
      "execution_count": null,
      "outputs": [
        {
          "output_type": "execute_result",
          "data": {
            "text/plain": [
              "40.4012658227848"
            ]
          },
          "metadata": {},
          "execution_count": 1655
        }
      ]
    },
    {
      "cell_type": "code",
      "source": [
        ""
      ],
      "metadata": {
        "id": "NhppNG1vskmY"
      },
      "execution_count": null,
      "outputs": []
    },
    {
      "cell_type": "markdown",
      "source": [
        "### Linhas e coluna do dataset"
      ],
      "metadata": {
        "id": "QrpzN82GnKU9"
      }
    },
    {
      "cell_type": "code",
      "source": [
        "dataset.shape"
      ],
      "metadata": {
        "colab": {
          "base_uri": "https://localhost:8080/"
        },
        "id": "UCHVmtkjpFcC",
        "outputId": "4d2780e1-aa7e-48c6-998e-89315341e25c"
      },
      "execution_count": null,
      "outputs": [
        {
          "output_type": "execute_result",
          "data": {
            "text/plain": [
              "(534866, 11)"
            ]
          },
          "metadata": {},
          "execution_count": 2026
        }
      ]
    },
    {
      "cell_type": "markdown",
      "source": [
        "### BoxPlot da coluna  last_order"
      ],
      "metadata": {
        "id": "L0kb8DdgnPRk"
      }
    },
    {
      "cell_type": "code",
      "source": [
        "dataset.boxplot(column=['last_order']) "
      ],
      "metadata": {
        "colab": {
          "base_uri": "https://localhost:8080/",
          "height": 283
        },
        "id": "j5eiWfMSfILS",
        "outputId": "902a3003-907c-4df3-e94c-88241c0f9ad3"
      },
      "execution_count": null,
      "outputs": [
        {
          "output_type": "execute_result",
          "data": {
            "text/plain": [
              "<AxesSubplot:>"
            ]
          },
          "metadata": {},
          "execution_count": 2027
        },
        {
          "output_type": "display_data",
          "data": {
            "text/plain": [
              "<Figure size 432x288 with 1 Axes>"
            ],
            "image/png": "[encoded data removed]"
          },
          "metadata": {
            "needs_background": "light"
          }
        }
      ]
    },
    {
      "cell_type": "markdown",
      "source": [
        "### Média e Desvio Padrão do atributo \"lastorder\" - SEM REMOÇÃO DE OUTLIERS"
      ],
      "metadata": {
        "id": "GjixJ39RjoYZ"
      }
    },
    {
      "cell_type": "code",
      "source": [
        "# Using DataFrame.mean() method to get column average last order\n",
        "\n",
        "df_last_order_media = dataset[\"last_order\"].mean() \n",
        "print(\"Valor da Média................ :\", df_last_order_media)\n",
        "\n",
        "df_dsp = dataset[\"last_order\"].std()\n",
        "print(\"Valor de desvio padrão.........:\", df_dsp)"
      ],
      "metadata": {
        "colab": {
          "base_uri": "https://localhost:8080/"
        },
        "id": "3OQJcfPDjkDX",
        "outputId": "8763ec61-2f34-473c-9918-080c880b3ed7"
      },
      "execution_count": null,
      "outputs": [
        {
          "output_type": "stream",
          "name": "stdout",
          "text": [
            "Valor da Média................ : 70.86790130201162\n",
            "Valor de desvio padrão.........: 171.11901636810057\n"
          ]
        }
      ]
    },
    {
      "cell_type": "code",
      "source": [
        ""
      ],
      "metadata": {
        "id": "WkKJIbknJr4A"
      },
      "execution_count": null,
      "outputs": []
    },
    {
      "cell_type": "markdown",
      "source": [
        "### Remoção de OUTLIERS"
      ],
      "metadata": {
        "id": "PkyBEdaPkbST"
      }
    },
    {
      "cell_type": "code",
      "source": [
        "#dataset= remove_outlier(dataset,\"last_order\")\n",
        "\n",
        "Q1 = dataset['last_order'].quantile(0.25)\n",
        "Q3 = dataset['last_order'].quantile(0.75)\n",
        "IQR = Q3 - Q1    #IQR is interquartile range. \n",
        "\n",
        "filter = (dataset['last_order'] >= Q1 - 1.5 * IQR) & (dataset['last_order'] <= Q3 + 1.5 *IQR)\n",
        "dataset= dataset.loc[filter] \n",
        "#dataset = dataset[dataset['last_order']<dataset['last_order'].quantile(0.95)]\n",
        "dataset.shape\n"
      ],
      "metadata": {
        "id": "T2EbJgW8ZPen",
        "colab": {
          "base_uri": "https://localhost:8080/"
        },
        "outputId": "0b366058-b6ba-4f80-96bc-ae5f4f9c18e5"
      },
      "execution_count": null,
      "outputs": [
        {
          "output_type": "execute_result",
          "data": {
            "text/plain": [
              "(464602, 11)"
            ]
          },
          "metadata": {},
          "execution_count": 2041
        }
      ]
    },
    {
      "cell_type": "markdown",
      "source": [
        "### Média e Desvio Padrão do atributo \"lastorder\" - PÓS REMOÇÃO DE OUTLIERS"
      ],
      "metadata": {
        "id": "iIDzgoh9nqKD"
      }
    },
    {
      "cell_type": "code",
      "source": [
        "# Using DataFrame.mean() method to get column average last order\n",
        "\n",
        "df_last_order_media = dataset[\"last_order\"].mean() \n",
        "print(\"Valor da Média................ :\", df_last_order_media)\n",
        "\n",
        "df_dsp = dataset[\"last_order\"].std()\n",
        "print(\"Valor de desvio padrão.........:\", df_dsp)"
      ],
      "metadata": {
        "colab": {
          "base_uri": "https://localhost:8080/"
        },
        "id": "i91uWV1snmE5",
        "outputId": "08a934f3-3879-4c1f-d9c4-c2f7fe1a2b17"
      },
      "execution_count": null,
      "outputs": [
        {
          "output_type": "stream",
          "name": "stdout",
          "text": [
            "Valor da Média................ : 28.326438152255786\n",
            "Valor de desvio padrão.........: 27.289885443372576\n"
          ]
        }
      ]
    },
    {
      "cell_type": "code",
      "source": [
        "dataset.boxplot(column=['last_order']) "
      ],
      "metadata": {
        "colab": {
          "base_uri": "https://localhost:8080/",
          "height": 283
        },
        "id": "Y5NUYDjs8opL",
        "outputId": "c4dba3a0-fd45-4f9a-e3e1-f3c294590787"
      },
      "execution_count": null,
      "outputs": [
        {
          "output_type": "execute_result",
          "data": {
            "text/plain": [
              "<AxesSubplot:>"
            ]
          },
          "metadata": {},
          "execution_count": 2051
        },
        {
          "output_type": "display_data",
          "data": {
            "text/plain": [
              "<Figure size 432x288 with 1 Axes>"
            ],
            "image/png": "[encoded data removed]"
          },
          "metadata": {
            "needs_background": "light"
          }
        }
      ]
    },
    {
      "cell_type": "code",
      "source": [
        "dataset['last_order'].plot(kind='hist')"
      ],
      "metadata": {
        "colab": {
          "base_uri": "https://localhost:8080/",
          "height": 282
        },
        "id": "DWJeBnsuaEmW",
        "outputId": "bbb68a03-7a4b-45e1-dfa1-30b9fb57bd5f"
      },
      "execution_count": null,
      "outputs": [
        {
          "output_type": "execute_result",
          "data": {
            "text/plain": [
              "<AxesSubplot:ylabel='Frequency'>"
            ]
          },
          "metadata": {},
          "execution_count": 2053
        },
        {
          "output_type": "display_data",
          "data": {
            "text/plain": [
              "<Figure size 432x288 with 1 Axes>"
            ],
            "image/png": "[encoded data removed]"
          },
          "metadata": {
            "needs_background": "light"
          }
        }
      ]
    },
    {
      "cell_type": "code",
      "source": [
        ""
      ],
      "metadata": {
        "id": "9HkQDcFcs6vr"
      },
      "execution_count": null,
      "outputs": []
    },
    {
      "cell_type": "code",
      "source": [
        "df_all = dataset.describe()\n",
        "df_all"
      ],
      "metadata": {
        "colab": {
          "base_uri": "https://localhost:8080/",
          "height": 300
        },
        "id": "Fxf4eH6Dl-dQ",
        "outputId": "7d4c3a20-c074-48c7-c802-12e0ba7cf77a"
      },
      "execution_count": null,
      "outputs": [
        {
          "output_type": "execute_result",
          "data": {
            "text/plain": [
              "          client_id  quantity_product  value_product  payments_values  \\\n",
              "count  5.325650e+05     532565.000000  532565.000000    532565.000000   \n",
              "mean   1.360383e+05          1.094328      71.358506        78.448707   \n",
              "std    1.883391e+05          0.292285      18.279526        32.234533   \n",
              "min    2.929300e+04          1.000000       0.780000         0.780000   \n",
              "25%    4.676300e+04          1.000000      60.000000        60.000000   \n",
              "50%    6.435000e+04          1.000000      70.000000        70.000000   \n",
              "75%    1.363110e+05          1.000000      80.000000        85.000000   \n",
              "max    1.243195e+06          2.000000     950.000000      1450.000000   \n",
              "\n",
              "               total     last_order  \n",
              "count  532565.000000  532565.000000  \n",
              "mean       78.612343      23.390708  \n",
              "std        32.515747      25.792230  \n",
              "min         0.780000       0.000000  \n",
              "25%        60.000000       0.360000  \n",
              "50%        70.000000      13.950000  \n",
              "75%        86.000000      40.050000  \n",
              "max      1450.000000      99.580000  "
            ],
            "text/html": [
              "<div>\n",
              "<style scoped>\n",
              "    .dataframe tbody tr th:only-of-type {\n",
              "        vertical-align: middle;\n",
              "    }\n",
              "\n",
              "    .dataframe tbody tr th {\n",
              "        vertical-align: top;\n",
              "    }\n",
              "\n",
              "    .dataframe thead th {\n",
              "        text-align: right;\n",
              "    }\n",
              "</style>\n",
              "<table border=\"1\" class=\"dataframe\">\n",
              "  <thead>\n",
              "    <tr style=\"text-align: right;\">\n",
              "      <th></th>\n",
              "      <th>client_id</th>\n",
              "      <th>quantity_product</th>\n",
              "      <th>value_product</th>\n",
              "      <th>payments_values</th>\n",
              "      <th>total</th>\n",
              "      <th>last_order</th>\n",
              "    </tr>\n",
              "  </thead>\n",
              "  <tbody>\n",
              "    <tr>\n",
              "      <th>count</th>\n",
              "      <td>5.325650e+05</td>\n",
              "      <td>532565.000000</td>\n",
              "      <td>532565.000000</td>\n",
              "      <td>532565.000000</td>\n",
              "      <td>532565.000000</td>\n",
              "      <td>532565.000000</td>\n",
              "    </tr>\n",
              "    <tr>\n",
              "      <th>mean</th>\n",
              "      <td>1.360383e+05</td>\n",
              "      <td>1.094328</td>\n",
              "      <td>71.358506</td>\n",
              "      <td>78.448707</td>\n",
              "      <td>78.612343</td>\n",
              "      <td>23.390708</td>\n",
              "    </tr>\n",
              "    <tr>\n",
              "      <th>std</th>\n",
              "      <td>1.883391e+05</td>\n",
              "      <td>0.292285</td>\n",
              "      <td>18.279526</td>\n",
              "      <td>32.234533</td>\n",
              "      <td>32.515747</td>\n",
              "      <td>25.792230</td>\n",
              "    </tr>\n",
              "    <tr>\n",
              "      <th>min</th>\n",
              "      <td>2.929300e+04</td>\n",
              "      <td>1.000000</td>\n",
              "      <td>0.780000</td>\n",
              "      <td>0.780000</td>\n",
              "      <td>0.780000</td>\n",
              "      <td>0.000000</td>\n",
              "    </tr>\n",
              "    <tr>\n",
              "      <th>25%</th>\n",
              "      <td>4.676300e+04</td>\n",
              "      <td>1.000000</td>\n",
              "      <td>60.000000</td>\n",
              "      <td>60.000000</td>\n",
              "      <td>60.000000</td>\n",
              "      <td>0.360000</td>\n",
              "    </tr>\n",
              "    <tr>\n",
              "      <th>50%</th>\n",
              "      <td>6.435000e+04</td>\n",
              "      <td>1.000000</td>\n",
              "      <td>70.000000</td>\n",
              "      <td>70.000000</td>\n",
              "      <td>70.000000</td>\n",
              "      <td>13.950000</td>\n",
              "    </tr>\n",
              "    <tr>\n",
              "      <th>75%</th>\n",
              "      <td>1.363110e+05</td>\n",
              "      <td>1.000000</td>\n",
              "      <td>80.000000</td>\n",
              "      <td>85.000000</td>\n",
              "      <td>86.000000</td>\n",
              "      <td>40.050000</td>\n",
              "    </tr>\n",
              "    <tr>\n",
              "      <th>max</th>\n",
              "      <td>1.243195e+06</td>\n",
              "      <td>2.000000</td>\n",
              "      <td>950.000000</td>\n",
              "      <td>1450.000000</td>\n",
              "      <td>1450.000000</td>\n",
              "      <td>99.580000</td>\n",
              "    </tr>\n",
              "  </tbody>\n",
              "</table>\n",
              "</div>"
            ]
          },
          "metadata": {},
          "execution_count": 1758
        }
      ]
    },
    {
      "cell_type": "code",
      "source": [
        "for p in dataset['payments'].unique():\n",
        "  print(p)"
      ],
      "metadata": {
        "colab": {
          "base_uri": "https://localhost:8080/"
        },
        "id": "Y1sTGzIYsez5",
        "outputId": "006d7664-177d-424c-99c2-1eee141cdd3e"
      },
      "execution_count": null,
      "outputs": [
        {
          "output_type": "stream",
          "name": "stdout",
          "text": [
            "Dinheiro\n",
            "Carteira\n",
            "Cartão Credishop\n",
            "Cartão Visa\n",
            "Cheque\n",
            "Cartão Master\n",
            "Cartão Hiper\n",
            "Cartão Elo\n",
            "DinheiroDinheiro\n",
            "Carteira,Cartão Master\n",
            "PIX\n",
            "Crédito de Cliente\n",
            "DinheiroCrédito de Cliente\n",
            "Boleto Bancário\n",
            "Cartão de Crédito\n",
            "Cartão de Débito\n",
            "Carteira,Crédito de Cliente\n",
            "Crédito de Cliente,Cartão de Débito\n",
            "Carteira,Cartão de Crédito\n",
            "Dinheiro de Débito\n",
            "Cheque,Cartão Visa\n",
            "Cartão Outro\n",
            "Dinheiro Outro\n",
            "Cartão Visa,Cartão Outro\n",
            "Cartão\n",
            "Cartão Visa,Cartão Hiper\n",
            "Cartão Elo,Cartão Outro\n",
            "Dinheiro Elo\n",
            "Carteira,Cartão\n",
            "Carteira,Cartão Outro\n",
            "Dinheiro Credishop\n",
            "Vale Gás\n",
            "Vale Gás,Vale Gás\n",
            "Cartão de Crédito,Cartão de Débito\n",
            "Dinheiro de Crédito\n",
            "Carteira,Cartão Hiper\n",
            "DinheiroCheque\n",
            "DinheiroVale Gás\n",
            "Transferência Bancária\n",
            "Cartão de Crédito,Cartão de Crédito\n",
            "Carteira,Cartão Credishop\n",
            "Cartão Credishop,Cartão de Débito\n",
            "DinheiroPIX\n",
            "DinheiroTransferência Bancária\n"
          ]
        }
      ]
    },
    {
      "cell_type": "code",
      "source": [
        "dataset['payments'].nunique()"
      ],
      "metadata": {
        "colab": {
          "base_uri": "https://localhost:8080/"
        },
        "id": "eWpToVmz1FO4",
        "outputId": "84e86f30-9a30-4a2b-811b-eecc84290941"
      },
      "execution_count": null,
      "outputs": [
        {
          "output_type": "execute_result",
          "data": {
            "text/plain": [
              "44"
            ]
          },
          "metadata": {},
          "execution_count": 2058
        }
      ]
    },
    {
      "cell_type": "code",
      "source": [
        "payment_terms = {\n",
        "    'Débito': 'Débito',\n",
        "    'Pix': 'Pix',\n",
        "    'Dinheiro': 'Dinheiro',\n",
        "    'Crédito': 'Crédito',\n",
        "    'Cartão': 'Crédito',\n",
        "    'Cheque': 'Cheque',\n",
        "    'Vale': 'Vale',\n",
        "    'Carteira': 'Carteira',\n",
        "    'Transferência': 'Transferência Bancária'\n",
        "}\n",
        "for key, value in payment_terms.items():\n",
        "  dataset.loc[dataset['payments'].str.contains(\n",
        "      key, case=False\n",
        "  ), 'payments'] = value"
      ],
      "metadata": {
        "id": "OXyIFJnPtdhq"
      },
      "execution_count": null,
      "outputs": []
    },
    {
      "cell_type": "code",
      "source": [
        "dataset['payments'].unique()"
      ],
      "metadata": {
        "colab": {
          "base_uri": "https://localhost:8080/"
        },
        "id": "UK8aZzI71GuH",
        "outputId": "22fc35f6-42aa-4338-845b-45934dc0c413"
      },
      "execution_count": null,
      "outputs": [
        {
          "output_type": "execute_result",
          "data": {
            "text/plain": [
              "array(['Dinheiro', 'Carteira', 'Crédito', 'Cheque', 'Pix',\n",
              "       'Boleto Bancário', 'Débito', 'Vale', 'Transferência Bancária'],\n",
              "      dtype=object)"
            ]
          },
          "metadata": {},
          "execution_count": 2060
        }
      ]
    },
    {
      "cell_type": "code",
      "source": [
        "dataset['payments'] = dataset['payments'].astype('category')"
      ],
      "metadata": {
        "id": "U6eluW2j5ClQ"
      },
      "execution_count": null,
      "outputs": []
    },
    {
      "cell_type": "code",
      "source": [
        "product_terms = {\n",
        "    r'^.*GLP\\s?13\\s?KG.*$': r'GLP 13 KG'\n",
        "}\n",
        "\n",
        "for key, value in product_terms.items():\n",
        "  dataset['product'] = (\n",
        "      dataset['product'].str.replace(key, value)\n",
        "  )"
      ],
      "metadata": {
        "id": "5J_qwp8jw7jb"
      },
      "execution_count": null,
      "outputs": []
    },
    {
      "cell_type": "code",
      "source": [
        "dataset['product'].unique()"
      ],
      "metadata": {
        "colab": {
          "base_uri": "https://localhost:8080/"
        },
        "id": "FW75MM6Z5PHH",
        "outputId": "3c88e0b1-6e21-43cf-88e6-0fc857d9d520"
      },
      "execution_count": null,
      "outputs": [
        {
          "output_type": "execute_result",
          "data": {
            "text/plain": [
              "array(['GLP 13 KG'], dtype=object)"
            ]
          },
          "metadata": {},
          "execution_count": 2063
        }
      ]
    },
    {
      "cell_type": "code",
      "source": [
        "dataset = pd.get_dummies(\n",
        "      dataset, prefix='d', columns=['payments', 'city', 'state']\n",
        " \n",
        ")"
      ],
      "metadata": {
        "id": "XShtUPGCtlCI"
      },
      "execution_count": null,
      "outputs": []
    },
    {
      "cell_type": "code",
      "source": [
        "dataset.head()"
      ],
      "metadata": {
        "colab": {
          "base_uri": "https://localhost:8080/",
          "height": 481
        },
        "id": "MVcqq5ed6BOp",
        "outputId": "62d09958-091c-4b41-9dc0-c48e71e22cb4"
      },
      "execution_count": null,
      "outputs": [
        {
          "output_type": "execute_result",
          "data": {
            "text/plain": [
              "   client_id  quantity_product    product  value_product  payments_values  \\\n",
              "1      29293               1.0  GLP 13 KG           40.0             40.0   \n",
              "2      29293               1.0  GLP 13 KG           45.0             45.0   \n",
              "3      29293               1.0  GLP 13 KG           45.0             45.0   \n",
              "4      29293               1.0  GLP 13 KG           45.0             45.0   \n",
              "5      29293               1.0  GLP 13 KG           40.0             40.0   \n",
              "\n",
              "   total                date  last_order  d_Boleto Bancário  d_Carteira  ...  \\\n",
              "1   40.0 2013-05-18 23:12:27   39.038079                  0           0  ...   \n",
              "2   45.0 2013-06-25 22:21:47   37.964815                  0           0  ...   \n",
              "3   45.0 2013-08-11 21:51:12   46.978762                  0           0  ...   \n",
              "4   45.0 2013-10-17 22:57:38   67.046134                  0           0  ...   \n",
              "5   40.0 2013-12-03 20:31:04   46.898218                  0           0  ...   \n",
              "\n",
              "   d_Pernambuco  d_Piauí  d_Rio Grande do Norte  d_Rio Grande do Sul  \\\n",
              "1             0        1                      0                    0   \n",
              "2             0        1                      0                    0   \n",
              "3             0        1                      0                    0   \n",
              "4             0        1                      0                    0   \n",
              "5             0        1                      0                    0   \n",
              "\n",
              "   d_Rio de Janeiro  d_Rondônia  d_Santa Catarina  d_Sergipe  d_São Paulo  \\\n",
              "1                 0           0                 0          0            0   \n",
              "2                 0           0                 0          0            0   \n",
              "3                 0           0                 0          0            0   \n",
              "4                 0           0                 0          0            0   \n",
              "5                 0           0                 0          0            0   \n",
              "\n",
              "   d_Tocantins  \n",
              "1            0  \n",
              "2            0  \n",
              "3            0  \n",
              "4            0  \n",
              "5            0  \n",
              "\n",
              "[5 rows x 591 columns]"
            ],
            "text/html": [
              "<div>\n",
              "<style scoped>\n",
              "    .dataframe tbody tr th:only-of-type {\n",
              "        vertical-align: middle;\n",
              "    }\n",
              "\n",
              "    .dataframe tbody tr th {\n",
              "        vertical-align: top;\n",
              "    }\n",
              "\n",
              "    .dataframe thead th {\n",
              "        text-align: right;\n",
              "    }\n",
              "</style>\n",
              "<table border=\"1\" class=\"dataframe\">\n",
              "  <thead>\n",
              "    <tr style=\"text-align: right;\">\n",
              "      <th></th>\n",
              "      <th>client_id</th>\n",
              "      <th>quantity_product</th>\n",
              "      <th>product</th>\n",
              "      <th>value_product</th>\n",
              "      <th>payments_values</th>\n",
              "      <th>total</th>\n",
              "      <th>date</th>\n",
              "      <th>last_order</th>\n",
              "      <th>d_Boleto Bancário</th>\n",
              "      <th>d_Carteira</th>\n",
              "      <th>...</th>\n",
              "      <th>d_Pernambuco</th>\n",
              "      <th>d_Piauí</th>\n",
              "      <th>d_Rio Grande do Norte</th>\n",
              "      <th>d_Rio Grande do Sul</th>\n",
              "      <th>d_Rio de Janeiro</th>\n",
              "      <th>d_Rondônia</th>\n",
              "      <th>d_Santa Catarina</th>\n",
              "      <th>d_Sergipe</th>\n",
              "      <th>d_São Paulo</th>\n",
              "      <th>d_Tocantins</th>\n",
              "    </tr>\n",
              "  </thead>\n",
              "  <tbody>\n",
              "    <tr>\n",
              "      <th>1</th>\n",
              "      <td>29293</td>\n",
              "      <td>1.0</td>\n",
              "      <td>GLP 13 KG</td>\n",
              "      <td>40.0</td>\n",
              "      <td>40.0</td>\n",
              "      <td>40.0</td>\n",
              "      <td>2013-05-18 23:12:27</td>\n",
              "      <td>39.038079</td>\n",
              "      <td>0</td>\n",
              "      <td>0</td>\n",
              "      <td>...</td>\n",
              "      <td>0</td>\n",
              "      <td>1</td>\n",
              "      <td>0</td>\n",
              "      <td>0</td>\n",
              "      <td>0</td>\n",
              "      <td>0</td>\n",
              "      <td>0</td>\n",
              "      <td>0</td>\n",
              "      <td>0</td>\n",
              "      <td>0</td>\n",
              "    </tr>\n",
              "    <tr>\n",
              "      <th>2</th>\n",
              "      <td>29293</td>\n",
              "      <td>1.0</td>\n",
              "      <td>GLP 13 KG</td>\n",
              "      <td>45.0</td>\n",
              "      <td>45.0</td>\n",
              "      <td>45.0</td>\n",
              "      <td>2013-06-25 22:21:47</td>\n",
              "      <td>37.964815</td>\n",
              "      <td>0</td>\n",
              "      <td>0</td>\n",
              "      <td>...</td>\n",
              "      <td>0</td>\n",
              "      <td>1</td>\n",
              "      <td>0</td>\n",
              "      <td>0</td>\n",
              "      <td>0</td>\n",
              "      <td>0</td>\n",
              "      <td>0</td>\n",
              "      <td>0</td>\n",
              "      <td>0</td>\n",
              "      <td>0</td>\n",
              "    </tr>\n",
              "    <tr>\n",
              "      <th>3</th>\n",
              "      <td>29293</td>\n",
              "      <td>1.0</td>\n",
              "      <td>GLP 13 KG</td>\n",
              "      <td>45.0</td>\n",
              "      <td>45.0</td>\n",
              "      <td>45.0</td>\n",
              "      <td>2013-08-11 21:51:12</td>\n",
              "      <td>46.978762</td>\n",
              "      <td>0</td>\n",
              "      <td>0</td>\n",
              "      <td>...</td>\n",
              "      <td>0</td>\n",
              "      <td>1</td>\n",
              "      <td>0</td>\n",
              "      <td>0</td>\n",
              "      <td>0</td>\n",
              "      <td>0</td>\n",
              "      <td>0</td>\n",
              "      <td>0</td>\n",
              "      <td>0</td>\n",
              "      <td>0</td>\n",
              "    </tr>\n",
              "    <tr>\n",
              "      <th>4</th>\n",
              "      <td>29293</td>\n",
              "      <td>1.0</td>\n",
              "      <td>GLP 13 KG</td>\n",
              "      <td>45.0</td>\n",
              "      <td>45.0</td>\n",
              "      <td>45.0</td>\n",
              "      <td>2013-10-17 22:57:38</td>\n",
              "      <td>67.046134</td>\n",
              "      <td>0</td>\n",
              "      <td>0</td>\n",
              "      <td>...</td>\n",
              "      <td>0</td>\n",
              "      <td>1</td>\n",
              "      <td>0</td>\n",
              "      <td>0</td>\n",
              "      <td>0</td>\n",
              "      <td>0</td>\n",
              "      <td>0</td>\n",
              "      <td>0</td>\n",
              "      <td>0</td>\n",
              "      <td>0</td>\n",
              "    </tr>\n",
              "    <tr>\n",
              "      <th>5</th>\n",
              "      <td>29293</td>\n",
              "      <td>1.0</td>\n",
              "      <td>GLP 13 KG</td>\n",
              "      <td>40.0</td>\n",
              "      <td>40.0</td>\n",
              "      <td>40.0</td>\n",
              "      <td>2013-12-03 20:31:04</td>\n",
              "      <td>46.898218</td>\n",
              "      <td>0</td>\n",
              "      <td>0</td>\n",
              "      <td>...</td>\n",
              "      <td>0</td>\n",
              "      <td>1</td>\n",
              "      <td>0</td>\n",
              "      <td>0</td>\n",
              "      <td>0</td>\n",
              "      <td>0</td>\n",
              "      <td>0</td>\n",
              "      <td>0</td>\n",
              "      <td>0</td>\n",
              "      <td>0</td>\n",
              "    </tr>\n",
              "  </tbody>\n",
              "</table>\n",
              "<p>5 rows × 591 columns</p>\n",
              "</div>"
            ]
          },
          "metadata": {},
          "execution_count": 2065
        }
      ]
    },
    {
      "cell_type": "code",
      "source": [
        "from sklearn.model_selection import train_test_split"
      ],
      "metadata": {
        "id": "pthE2y7WsvBJ"
      },
      "execution_count": null,
      "outputs": []
    },
    {
      "cell_type": "code",
      "source": [
        "# Como só tem uma categoria de producos (GLP 13 KG) não vamos usar a coluna\n",
        "X = dataset.drop(['client_id', 'last_order', 'date', 'product'], axis=1)\n",
        "Y = dataset['last_order']\n",
        "\n",
        "x_train, x_test, y_train, y_test = train_test_split(\n",
        "    X, Y, test_size=0.3, random_state=4\n",
        ")\n",
        "print(\"Tamanho do set train:\",len(x_train))\n",
        "print(\"Tamanho do set test:\",len(x_test))"
      ],
      "metadata": {
        "id": "cbO5AUhSs0XX",
        "colab": {
          "base_uri": "https://localhost:8080/"
        },
        "outputId": "faff60ad-66ac-4493-990f-1d625b5574b0"
      },
      "execution_count": null,
      "outputs": [
        {
          "output_type": "stream",
          "name": "stdout",
          "text": [
            "Tamanho do set train: 325221\n",
            "Tamanho do set test: 139381\n"
          ]
        }
      ]
    },
    {
      "cell_type": "code",
      "source": [
        "x_train= x_train.T.drop_duplicates().T\n",
        "#x_train.head()\n",
        "\n",
        "x_test= x_test.T.drop_duplicates().T"
      ],
      "metadata": {
        "id": "FVf22lT78Lxb"
      },
      "execution_count": null,
      "outputs": []
    },
    {
      "cell_type": "code",
      "source": [
        ""
      ],
      "metadata": {
        "id": "fVhGpawz8QWI"
      },
      "execution_count": null,
      "outputs": []
    },
    {
      "cell_type": "code",
      "source": [
        "duplicate_columns_test = x_test.columns[x_test.columns.duplicated()]\n",
        "duplicate_columns_test"
      ],
      "metadata": {
        "id": "oMumMKTOFM4l",
        "colab": {
          "base_uri": "https://localhost:8080/"
        },
        "outputId": "7339a3ac-6076-48fc-bd3a-ac345ba676d7"
      },
      "execution_count": null,
      "outputs": [
        {
          "output_type": "execute_result",
          "data": {
            "text/plain": [
              "Index(['d_Amapá', 'd_Rio de Janeiro', 'd_São Paulo'], dtype='object')"
            ]
          },
          "metadata": {},
          "execution_count": 2068
        }
      ]
    },
    {
      "cell_type": "code",
      "source": [
        "duplicate_columns_train = x_train.columns[x_train.columns.duplicated()]\n",
        "duplicate_columns_train"
      ],
      "metadata": {
        "id": "LSLHEZAvFPbE",
        "colab": {
          "base_uri": "https://localhost:8080/"
        },
        "outputId": "695c389f-7ab5-4ea2-c5fc-6704226127f6"
      },
      "execution_count": null,
      "outputs": [
        {
          "output_type": "execute_result",
          "data": {
            "text/plain": [
              "Index(['d_Amapá', 'd_Rio de Janeiro', 'd_São Paulo'], dtype='object')"
            ]
          },
          "metadata": {},
          "execution_count": 2069
        }
      ]
    },
    {
      "cell_type": "code",
      "source": [
        "print(\"Tamanho do set train:\",len(x_train))\n",
        "print(\"Tamanho do set test:\",len(x_test))"
      ],
      "metadata": {
        "id": "qe1UcYglFNdz",
        "colab": {
          "base_uri": "https://localhost:8080/"
        },
        "outputId": "29ac1e3b-1dff-4443-9b7a-405796c37a4b"
      },
      "execution_count": null,
      "outputs": [
        {
          "output_type": "stream",
          "name": "stdout",
          "text": [
            "Tamanho do set train: 372795\n",
            "Tamanho do set test: 159770\n"
          ]
        }
      ]
    },
    {
      "cell_type": "code",
      "source": [
        ""
      ],
      "metadata": {
        "id": "ciMIIN63Kw8A"
      },
      "execution_count": null,
      "outputs": []
    },
    {
      "cell_type": "code",
      "source": [
        "from sklearn.preprocessing import MinMaxScaler\n",
        "from pandas.core.common import SettingWithCopyWarning\n",
        "import warnings\n",
        "\n",
        "warnings.simplefilter(action=\"ignore\", category=SettingWithCopyWarning)\n",
        "warnings.simplefilter(action='ignore', category=FutureWarning)\n"
      ],
      "metadata": {
        "id": "goCq5zYSFVaK"
      },
      "execution_count": null,
      "outputs": []
    },
    {
      "cell_type": "code",
      "source": [
        "scaler = MinMaxScaler()\n",
        "columns = [\n",
        "    'quantity_product', 'value_product', 'payments_values', 'total',\n",
        "]\n",
        "\n",
        "x_train[columns] = scaler.fit_transform(x_train[columns])\n",
        "x_test[columns] = scaler.transform(x_test[columns])"
      ],
      "metadata": {
        "id": "4JrXB-K5Fd27"
      },
      "execution_count": null,
      "outputs": []
    },
    {
      "cell_type": "code",
      "source": [
        "x_train.head()"
      ],
      "metadata": {
        "id": "rVLMLIpD78PV"
      },
      "execution_count": null,
      "outputs": []
    },
    {
      "cell_type": "code",
      "source": [
        "len(x_train.columns)"
      ],
      "metadata": {
        "colab": {
          "base_uri": "https://localhost:8080/"
        },
        "id": "PZMnYnQ0ToO9",
        "outputId": "afd9b84a-19ae-43a1-8c36-bc13d6c5b3bd"
      },
      "execution_count": null,
      "outputs": [
        {
          "output_type": "execute_result",
          "data": {
            "text/plain": [
              "587"
            ]
          },
          "metadata": {},
          "execution_count": 1250
        }
      ]
    },
    {
      "cell_type": "code",
      "source": [
        ""
      ],
      "metadata": {
        "id": "L8Y4-osiTnt6"
      },
      "execution_count": null,
      "outputs": []
    },
    {
      "cell_type": "code",
      "source": [
        "yscaler = MinMaxScaler()\n",
        "y_train = yscaler.fit_transform(y_train.values.reshape(-1, 1))\n",
        "y_test = yscaler.transform(y_test.values.reshape(-1, 1))"
      ],
      "metadata": {
        "id": "mVisw2YyGHBr"
      },
      "execution_count": null,
      "outputs": []
    },
    {
      "cell_type": "markdown",
      "source": [
        "## Modelo 1: Regressão linear"
      ],
      "metadata": {
        "id": "cnbpma0Uc4Bq"
      }
    },
    {
      "cell_type": "code",
      "source": [
        "from sklearn.linear_model import LinearRegression\n",
        "from sklearn.model_selection import KFold\n",
        "from sklearn.model_selection import cross_val_score\n",
        "from sklearn.feature_selection import RFE\n",
        "import sklearn\n"
      ],
      "metadata": {
        "id": "TlL3HqQbIBBV"
      },
      "execution_count": null,
      "outputs": []
    },
    {
      "cell_type": "code",
      "source": [
        "cv = KFold(n_splits=10, random_state=1, shuffle=True)"
      ],
      "metadata": {
        "id": "WPqUqxvGMxn_"
      },
      "execution_count": null,
      "outputs": []
    },
    {
      "cell_type": "code",
      "source": [
        "r = LinearRegression()\n",
        "r = r.fit(x_train, y_train)"
      ],
      "metadata": {
        "id": "sjQzsvCZIJWV"
      },
      "execution_count": null,
      "outputs": []
    },
    {
      "cell_type": "code",
      "source": [
        "y_predicted = r.predict(x_test)\n",
        "#y_predicted_train = r.predict(x_train)"
      ],
      "metadata": {
        "id": "DwPiZYDS5F4f"
      },
      "execution_count": null,
      "outputs": []
    },
    {
      "cell_type": "code",
      "source": [
        "scores = cross_val_score(r, x_train, y_train, scoring='r2', cv=5)\n",
        "scores   "
      ],
      "metadata": {
        "id": "og5e_3sIcVbh",
        "colab": {
          "base_uri": "https://localhost:8080/"
        },
        "outputId": "bd0a7e47-ebe0-41b8-e03b-5f101597869f"
      },
      "execution_count": null,
      "outputs": [
        {
          "output_type": "execute_result",
          "data": {
            "text/plain": [
              "array([-2.56449648e+16,  1.16952067e-01,  1.17424712e-01,  1.18500214e-01,\n",
              "       -7.14195352e+16])"
            ]
          },
          "metadata": {},
          "execution_count": 2076
        }
      ]
    },
    {
      "cell_type": "code",
      "source": [
        "score = r.score(x_test, y_test)\n",
        "score"
      ],
      "metadata": {
        "id": "jrp1DNaAfOU0",
        "colab": {
          "base_uri": "https://localhost:8080/"
        },
        "outputId": "03c4a3bd-7d1a-4bf3-ba1a-ed33f07992ab"
      },
      "execution_count": null,
      "outputs": [
        {
          "output_type": "execute_result",
          "data": {
            "text/plain": [
              "-1399739621774214.0"
            ]
          },
          "metadata": {},
          "execution_count": 2078
        }
      ]
    },
    {
      "cell_type": "code",
      "source": [
        "#model_cv.fit(X_train, y_train) "
      ],
      "metadata": {
        "id": "6CaiIPC6VSnM"
      },
      "execution_count": null,
      "outputs": []
    },
    {
      "cell_type": "code",
      "source": [
        "from matplotlib import pyplot"
      ],
      "metadata": {
        "id": "xlGf3Qnh_8Ix"
      },
      "execution_count": null,
      "outputs": []
    },
    {
      "cell_type": "code",
      "source": [
        "fig, ax = pyplot.subplots()\n",
        "ax.scatter(y_predicted, y_test, edgecolors=(0, 0, 1))\n",
        "ax.plot([y_test.min(), y_test.max()], [y_test.min(), y_test.max()], 'r--', lw=3)\n",
        "ax.set_xlabel('Predicted')\n",
        "ax.set_ylabel('Actual')\n",
        "pyplot.show()"
      ],
      "metadata": {
        "id": "rRqjbCg05w5_",
        "colab": {
          "base_uri": "https://localhost:8080/",
          "height": 279
        },
        "outputId": "8409b354-11d2-4a82-95e0-4e90e8c3c56c"
      },
      "execution_count": null,
      "outputs": [
        {
          "output_type": "display_data",
          "data": {
            "text/plain": [
              "<Figure size 432x288 with 1 Axes>"
            ],
            "image/png": "[encoded data removed]"
          },
          "metadata": {
            "needs_background": "light"
          }
        }
      ]
    },
    {
      "cell_type": "markdown",
      "source": [
        "## Modelo 2: Árvore de Regressão Linear"
      ],
      "metadata": {
        "id": "bbPRBXzl_4Ha"
      }
    },
    {
      "cell_type": "code",
      "source": [
        "from sklearn.tree import DecisionTreeRegressor"
      ],
      "metadata": {
        "id": "QPsr7iH-__9U"
      },
      "execution_count": null,
      "outputs": []
    },
    {
      "cell_type": "code",
      "source": [
        "dtr = DecisionTreeRegressor()\n",
        "dtr.fit(x_train, y_train)"
      ],
      "metadata": {
        "colab": {
          "base_uri": "https://localhost:8080/"
        },
        "id": "Zw-fLfTMAFKu",
        "outputId": "511b4151-23ff-47a1-b60e-d633c8267097"
      },
      "execution_count": null,
      "outputs": [
        {
          "output_type": "execute_result",
          "data": {
            "text/plain": [
              "DecisionTreeRegressor()"
            ]
          },
          "metadata": {},
          "execution_count": 2086
        }
      ]
    },
    {
      "cell_type": "code",
      "source": [
        "y_predicted_d = dtr.predict(x_test)"
      ],
      "metadata": {
        "id": "mNtA6ySJAPJj"
      },
      "execution_count": null,
      "outputs": []
    },
    {
      "cell_type": "code",
      "source": [
        "from matplotlib import pyplot"
      ],
      "metadata": {
        "id": "YZOqbvIeAJ2Z"
      },
      "execution_count": null,
      "outputs": []
    },
    {
      "cell_type": "code",
      "source": [
        "fig, ax = pyplot.subplots()\n",
        "ax.scatter(y_predicted_d, y_test, edgecolors=(0, 0, 1))\n",
        "ax.plot([y_test.min(), y_test.max()], [y_test.min(), y_test.max()], 'r--', lw=3)\n",
        "ax.set_xlabel('Predicted')\n",
        "ax.set_ylabel('Actual')\n",
        "pyplot.show()"
      ],
      "metadata": {
        "colab": {
          "base_uri": "https://localhost:8080/",
          "height": 279
        },
        "id": "O7LtsUobAKVW",
        "outputId": "71b61a9b-47fa-4c9b-9fdd-52a3fefc03f3"
      },
      "execution_count": null,
      "outputs": [
        {
          "output_type": "display_data",
          "data": {
            "text/plain": [
              "<Figure size 432x288 with 1 Axes>"
            ],
            "image/png": "[encoded data removed]"
          },
          "metadata": {
            "needs_background": "light"
          }
        }
      ]
    },
    {
      "cell_type": "markdown",
      "source": [
        "## Modelo 3: Rede neural"
      ],
      "metadata": {
        "id": "Q_7dATzp6MbJ"
      }
    },
    {
      "cell_type": "code",
      "source": [
        "from sklearn.neural_network import MLPRegressor"
      ],
      "metadata": {
        "id": "drYk_erP6Oow"
      },
      "execution_count": null,
      "outputs": []
    },
    {
      "cell_type": "code",
      "source": [
        "nnr = MLPRegressor(hidden_layer_sizes=(100, 50))\n",
        "nnr.fit(x_train, y_train.ravel())\n"
      ],
      "metadata": {
        "colab": {
          "base_uri": "https://localhost:8080/"
        },
        "id": "iZhZvjMi6VtQ",
        "outputId": "43f3e5a8-ce0a-430a-bd31-09e14cb62aea"
      },
      "execution_count": null,
      "outputs": [
        {
          "output_type": "execute_result",
          "data": {
            "text/plain": [
              "MLPRegressor(hidden_layer_sizes=(100, 50))"
            ]
          },
          "metadata": {},
          "execution_count": 2092
        }
      ]
    },
    {
      "cell_type": "code",
      "source": [
        "y_predicted = nnr.predict(x_test)"
      ],
      "metadata": {
        "id": "w6Eo2dYq6pxh"
      },
      "execution_count": null,
      "outputs": []
    },
    {
      "cell_type": "code",
      "source": [
        "fig, ax = pyplot.subplots()\n",
        "ax.scatter(y_predicted, y_test, edgecolors=(0, 0, 1),color=\"blue\", label=\"original\")\n",
        "ax.plot([y_test.min(), y_test.max()], [y_test.min(), y_test.max()], 'r--', lw=3, color=\"red\", label=\"predicted\")\n",
        "ax.set_xlabel('Predicted')\n",
        "ax.set_ylabel('Actual')\n",
        "pyplot.show()"
      ],
      "metadata": {
        "colab": {
          "base_uri": "https://localhost:8080/",
          "height": 279
        },
        "id": "lDIp4l8R6yYh",
        "outputId": "9d05082c-1991-4f8c-cac9-09aa655bc1f6"
      },
      "execution_count": null,
      "outputs": [
        {
          "output_type": "display_data",
          "data": {
            "text/plain": [
              "<Figure size 432x288 with 1 Axes>"
            ],
            "image/png": "[encoded data removed]"
          },
          "metadata": {
            "needs_background": "light"
          }
        }
      ]
    },
    {
      "cell_type": "markdown",
      "source": [
        "## Modelo XGBoost Regressor"
      ],
      "metadata": {
        "id": "zxPTuhG3lv0w"
      }
    },
    {
      "cell_type": "code",
      "source": [
        "!pip install xgboost\n",
        "\n",
        "from xgboost import XGBRegressor\n"
      ],
      "metadata": {
        "colab": {
          "base_uri": "https://localhost:8080/"
        },
        "id": "n85vguPDluI1",
        "outputId": "88fee1ae-80d3-43ae-adf9-5b12a5ebacaf"
      },
      "execution_count": null,
      "outputs": [
        {
          "output_type": "stream",
          "name": "stdout",
          "text": [
            "Defaulting to user installation because normal site-packages is not writeable\n",
            "Collecting xgboost\n",
            "  Using cached xgboost-1.5.2-py3-none-macosx_10_15_x86_64.macosx_11_0_x86_64.macosx_12_0_x86_64.whl (1.3 MB)\n",
            "Requirement already satisfied: scipy in /opt/anaconda3/envs/tf/lib/python3.7/site-packages (from xgboost) (1.7.3)\n",
            "Requirement already satisfied: numpy in /opt/anaconda3/envs/tf/lib/python3.7/site-packages (from xgboost) (1.21.2)\n",
            "Installing collected packages: xgboost\n",
            "Successfully installed xgboost-1.5.2\n"
          ]
        }
      ]
    },
    {
      "cell_type": "code",
      "source": [
        "#duplicate_columns_test = x_train.columns[x_train.columns.duplicated()]\n",
        "#duplicate_columns_test\n",
        "x_train= x_train.T.drop_duplicates().T"
      ],
      "metadata": {
        "id": "rj6nFjswyZKA"
      },
      "execution_count": null,
      "outputs": []
    },
    {
      "cell_type": "code",
      "source": [
        "xgb = XGBRegressor()\n",
        "xgb.fit(x_train, y_train)"
      ],
      "metadata": {
        "id": "DW1iRvbTlZua"
      },
      "execution_count": null,
      "outputs": []
    },
    {
      "cell_type": "code",
      "source": [
        "#x_test= x_test.T.drop_duplicates().T\n",
        "score = xgb.score(x_train, y_train)  \n",
        "score"
      ],
      "metadata": {
        "colab": {
          "base_uri": "https://localhost:8080/"
        },
        "id": "GdBJDIWDmCmg",
        "outputId": "68f32c9f-ab0a-4e58-9ba3-61cab53e27ff"
      },
      "execution_count": null,
      "outputs": [
        {
          "output_type": "execute_result",
          "data": {
            "text/plain": [
              "0.1860210778368494"
            ]
          },
          "metadata": {},
          "execution_count": 84
        }
      ]
    },
    {
      "cell_type": "code",
      "source": [
        "scores = cross_val_score(xgb, x_train, y_train,cv=10)\n",
        "print(\"Mean cross-validation score: %.2f\" % scores.mean())\n"
      ],
      "metadata": {
        "id": "4I-QWtOR4qoV"
      },
      "execution_count": null,
      "outputs": []
    },
    {
      "cell_type": "code",
      "source": [
        "x_test= x_test.T.drop_duplicates().T\n"
      ],
      "metadata": {
        "id": "GRk2SRTa47pf"
      },
      "execution_count": null,
      "outputs": []
    },
    {
      "cell_type": "code",
      "source": [
        "ypred = xgb.predict(x_test)\n",
        "mse = mean_squared_error(y_test, ypred)\n",
        "print(\"MSE: %.2f\" % mse)\n",
        "MSE: 3.35\n",
        "print(\"RMSE: %.2f\" % (mse**(1/2.0)))\n",
        "RMSE: 1.83 "
      ],
      "metadata": {
        "id": "zPEDEqN7Uwhw"
      },
      "execution_count": null,
      "outputs": []
    },
    {
      "cell_type": "markdown",
      "source": [
        "\n",
        "## Modelo LSTM"
      ],
      "metadata": {
        "id": "TIbCbMshXQxe"
      }
    },
    {
      "cell_type": "code",
      "source": [
        "import sys\n",
        "\n",
        "!$sys.executable -m pip install tensorflow"
      ],
      "metadata": {
        "id": "krBSpx3cbCGi"
      },
      "execution_count": null,
      "outputs": []
    },
    {
      "cell_type": "code",
      "source": [
        "from tensorflow.python import tf2\n",
        "from keras import distribute\n",
        "import pandas as pd\n",
        "import numpy as np\n",
        "import keras\n",
        "from keras.preprocessing.sequence import TimeseriesGenerator\n",
        "from keras.models import Sequential\n",
        "from keras.layers import LSTM, Dense,Bidirectional \n"
      ],
      "metadata": {
        "id": "oyqUpDjNDzmC"
      },
      "execution_count": null,
      "outputs": []
    },
    {
      "cell_type": "code",
      "source": [
        ""
      ],
      "metadata": {
        "id": "9BOUgP_kz-2M"
      },
      "execution_count": null,
      "outputs": []
    },
    {
      "cell_type": "code",
      "source": [
        "## Filtra por cliente\n",
        "def filter_client(idclient):\n",
        "    filter = dataset.query(\"client_id==@idclient\")\n",
        "\n",
        "    #filter = (dataset['client_id'] == idclient) \n",
        "    ds = filter \n",
        "    return ds"
      ],
      "metadata": {
        "id": "_tZaaIcj332f"
      },
      "execution_count": null,
      "outputs": []
    },
    {
      "cell_type": "code",
      "source": [
        "## Divide os dados\n",
        "def split_client(df, percentagem):\n",
        "    \n",
        "    close_data = df['last_order'].values\n",
        "    close_data = close_data.reshape((-1,1))\n",
        "    \n",
        "    split_percent = percentagem\n",
        "    split = int(split_percent*len(close_data))\n",
        "    \n",
        "    close_train = close_data[:split]\n",
        "    close_test  = close_data[split:]\n",
        "    \n",
        "    date_train = df['date'][:split]\n",
        "    date_test =  df['date'][split:]\n",
        "\n",
        "    return close_data,close_train,close_test,date_train,date_test"
      ],
      "metadata": {
        "id": "tyMqOqwR5RtJ"
      },
      "execution_count": null,
      "outputs": []
    },
    {
      "cell_type": "markdown",
      "source": [
        "##Execução Prática"
      ],
      "metadata": {
        "id": "6q1_8qPo7qKn"
      }
    },
    {
      "cell_type": "code",
      "source": [
        ""
      ],
      "metadata": {
        "id": "HY92Ng-w-qjI"
      },
      "execution_count": null,
      "outputs": []
    },
    {
      "cell_type": "code",
      "source": [
        "### Filtrar por idcliente\n",
        "id = 29293 \n",
        "ds = filter_client(id)\n",
        "#ds = dataset\n",
        "#ds.to_csv('29293.csv')\n",
        "\n",
        "ds.head()"
      ],
      "metadata": {
        "colab": {
          "base_uri": "https://localhost:8080/",
          "height": 513
        },
        "id": "CK4yGXCg7tft",
        "outputId": "c4405f9e-e2d2-461a-bcb9-dbd2231ab3cd"
      },
      "execution_count": null,
      "outputs": [
        {
          "output_type": "execute_result",
          "data": {
            "text/plain": [
              "                     client_id  quantity_product    product  value_product  \\\n",
              "date                                                                         \n",
              "2013-05-18 23:12:27      29293               1.0  GLP 13 KG           40.0   \n",
              "2013-06-25 22:21:47      29293               1.0  GLP 13 KG           45.0   \n",
              "2013-08-11 21:51:12      29293               1.0  GLP 13 KG           45.0   \n",
              "2013-10-17 22:57:38      29293               1.0  GLP 13 KG           45.0   \n",
              "2013-12-03 20:31:04      29293               1.0  GLP 13 KG           40.0   \n",
              "\n",
              "                     payments_values  total                date  last_order  \\\n",
              "date                                                                          \n",
              "2013-05-18 23:12:27             40.0   40.0 2013-05-18 23:12:27   39.038079   \n",
              "2013-06-25 22:21:47             45.0   45.0 2013-06-25 22:21:47   37.964815   \n",
              "2013-08-11 21:51:12             45.0   45.0 2013-08-11 21:51:12   46.978762   \n",
              "2013-10-17 22:57:38             45.0   45.0 2013-10-17 22:57:38   67.046134   \n",
              "2013-12-03 20:31:04             40.0   40.0 2013-12-03 20:31:04   46.898218   \n",
              "\n",
              "                     d_Boleto Bancário  d_Carteira  ...  d_Pernambuco  \\\n",
              "date                                                ...                 \n",
              "2013-05-18 23:12:27                  0           0  ...             0   \n",
              "2013-06-25 22:21:47                  0           0  ...             0   \n",
              "2013-08-11 21:51:12                  0           0  ...             0   \n",
              "2013-10-17 22:57:38                  0           0  ...             0   \n",
              "2013-12-03 20:31:04                  0           0  ...             0   \n",
              "\n",
              "                     d_Piauí  d_Rio Grande do Norte  d_Rio Grande do Sul  \\\n",
              "date                                                                       \n",
              "2013-05-18 23:12:27        1                      0                    0   \n",
              "2013-06-25 22:21:47        1                      0                    0   \n",
              "2013-08-11 21:51:12        1                      0                    0   \n",
              "2013-10-17 22:57:38        1                      0                    0   \n",
              "2013-12-03 20:31:04        1                      0                    0   \n",
              "\n",
              "                     d_Rio de Janeiro  d_Rondônia  d_Santa Catarina  \\\n",
              "date                                                                  \n",
              "2013-05-18 23:12:27                 0           0                 0   \n",
              "2013-06-25 22:21:47                 0           0                 0   \n",
              "2013-08-11 21:51:12                 0           0                 0   \n",
              "2013-10-17 22:57:38                 0           0                 0   \n",
              "2013-12-03 20:31:04                 0           0                 0   \n",
              "\n",
              "                     d_Sergipe  d_São Paulo  d_Tocantins  \n",
              "date                                                      \n",
              "2013-05-18 23:12:27          0            0            0  \n",
              "2013-06-25 22:21:47          0            0            0  \n",
              "2013-08-11 21:51:12          0            0            0  \n",
              "2013-10-17 22:57:38          0            0            0  \n",
              "2013-12-03 20:31:04          0            0            0  \n",
              "\n",
              "[5 rows x 591 columns]"
            ],
            "text/html": [
              "<div>\n",
              "<style scoped>\n",
              "    .dataframe tbody tr th:only-of-type {\n",
              "        vertical-align: middle;\n",
              "    }\n",
              "\n",
              "    .dataframe tbody tr th {\n",
              "        vertical-align: top;\n",
              "    }\n",
              "\n",
              "    .dataframe thead th {\n",
              "        text-align: right;\n",
              "    }\n",
              "</style>\n",
              "<table border=\"1\" class=\"dataframe\">\n",
              "  <thead>\n",
              "    <tr style=\"text-align: right;\">\n",
              "      <th></th>\n",
              "      <th>client_id</th>\n",
              "      <th>quantity_product</th>\n",
              "      <th>product</th>\n",
              "      <th>value_product</th>\n",
              "      <th>payments_values</th>\n",
              "      <th>total</th>\n",
              "      <th>date</th>\n",
              "      <th>last_order</th>\n",
              "      <th>d_Boleto Bancário</th>\n",
              "      <th>d_Carteira</th>\n",
              "      <th>...</th>\n",
              "      <th>d_Pernambuco</th>\n",
              "      <th>d_Piauí</th>\n",
              "      <th>d_Rio Grande do Norte</th>\n",
              "      <th>d_Rio Grande do Sul</th>\n",
              "      <th>d_Rio de Janeiro</th>\n",
              "      <th>d_Rondônia</th>\n",
              "      <th>d_Santa Catarina</th>\n",
              "      <th>d_Sergipe</th>\n",
              "      <th>d_São Paulo</th>\n",
              "      <th>d_Tocantins</th>\n",
              "    </tr>\n",
              "    <tr>\n",
              "      <th>date</th>\n",
              "      <th></th>\n",
              "      <th></th>\n",
              "      <th></th>\n",
              "      <th></th>\n",
              "      <th></th>\n",
              "      <th></th>\n",
              "      <th></th>\n",
              "      <th></th>\n",
              "      <th></th>\n",
              "      <th></th>\n",
              "      <th></th>\n",
              "      <th></th>\n",
              "      <th></th>\n",
              "      <th></th>\n",
              "      <th></th>\n",
              "      <th></th>\n",
              "      <th></th>\n",
              "      <th></th>\n",
              "      <th></th>\n",
              "      <th></th>\n",
              "      <th></th>\n",
              "    </tr>\n",
              "  </thead>\n",
              "  <tbody>\n",
              "    <tr>\n",
              "      <th>2013-05-18 23:12:27</th>\n",
              "      <td>29293</td>\n",
              "      <td>1.0</td>\n",
              "      <td>GLP 13 KG</td>\n",
              "      <td>40.0</td>\n",
              "      <td>40.0</td>\n",
              "      <td>40.0</td>\n",
              "      <td>2013-05-18 23:12:27</td>\n",
              "      <td>39.038079</td>\n",
              "      <td>0</td>\n",
              "      <td>0</td>\n",
              "      <td>...</td>\n",
              "      <td>0</td>\n",
              "      <td>1</td>\n",
              "      <td>0</td>\n",
              "      <td>0</td>\n",
              "      <td>0</td>\n",
              "      <td>0</td>\n",
              "      <td>0</td>\n",
              "      <td>0</td>\n",
              "      <td>0</td>\n",
              "      <td>0</td>\n",
              "    </tr>\n",
              "    <tr>\n",
              "      <th>2013-06-25 22:21:47</th>\n",
              "      <td>29293</td>\n",
              "      <td>1.0</td>\n",
              "      <td>GLP 13 KG</td>\n",
              "      <td>45.0</td>\n",
              "      <td>45.0</td>\n",
              "      <td>45.0</td>\n",
              "      <td>2013-06-25 22:21:47</td>\n",
              "      <td>37.964815</td>\n",
              "      <td>0</td>\n",
              "      <td>0</td>\n",
              "      <td>...</td>\n",
              "      <td>0</td>\n",
              "      <td>1</td>\n",
              "      <td>0</td>\n",
              "      <td>0</td>\n",
              "      <td>0</td>\n",
              "      <td>0</td>\n",
              "      <td>0</td>\n",
              "      <td>0</td>\n",
              "      <td>0</td>\n",
              "      <td>0</td>\n",
              "    </tr>\n",
              "    <tr>\n",
              "      <th>2013-08-11 21:51:12</th>\n",
              "      <td>29293</td>\n",
              "      <td>1.0</td>\n",
              "      <td>GLP 13 KG</td>\n",
              "      <td>45.0</td>\n",
              "      <td>45.0</td>\n",
              "      <td>45.0</td>\n",
              "      <td>2013-08-11 21:51:12</td>\n",
              "      <td>46.978762</td>\n",
              "      <td>0</td>\n",
              "      <td>0</td>\n",
              "      <td>...</td>\n",
              "      <td>0</td>\n",
              "      <td>1</td>\n",
              "      <td>0</td>\n",
              "      <td>0</td>\n",
              "      <td>0</td>\n",
              "      <td>0</td>\n",
              "      <td>0</td>\n",
              "      <td>0</td>\n",
              "      <td>0</td>\n",
              "      <td>0</td>\n",
              "    </tr>\n",
              "    <tr>\n",
              "      <th>2013-10-17 22:57:38</th>\n",
              "      <td>29293</td>\n",
              "      <td>1.0</td>\n",
              "      <td>GLP 13 KG</td>\n",
              "      <td>45.0</td>\n",
              "      <td>45.0</td>\n",
              "      <td>45.0</td>\n",
              "      <td>2013-10-17 22:57:38</td>\n",
              "      <td>67.046134</td>\n",
              "      <td>0</td>\n",
              "      <td>0</td>\n",
              "      <td>...</td>\n",
              "      <td>0</td>\n",
              "      <td>1</td>\n",
              "      <td>0</td>\n",
              "      <td>0</td>\n",
              "      <td>0</td>\n",
              "      <td>0</td>\n",
              "      <td>0</td>\n",
              "      <td>0</td>\n",
              "      <td>0</td>\n",
              "      <td>0</td>\n",
              "    </tr>\n",
              "    <tr>\n",
              "      <th>2013-12-03 20:31:04</th>\n",
              "      <td>29293</td>\n",
              "      <td>1.0</td>\n",
              "      <td>GLP 13 KG</td>\n",
              "      <td>40.0</td>\n",
              "      <td>40.0</td>\n",
              "      <td>40.0</td>\n",
              "      <td>2013-12-03 20:31:04</td>\n",
              "      <td>46.898218</td>\n",
              "      <td>0</td>\n",
              "      <td>0</td>\n",
              "      <td>...</td>\n",
              "      <td>0</td>\n",
              "      <td>1</td>\n",
              "      <td>0</td>\n",
              "      <td>0</td>\n",
              "      <td>0</td>\n",
              "      <td>0</td>\n",
              "      <td>0</td>\n",
              "      <td>0</td>\n",
              "      <td>0</td>\n",
              "      <td>0</td>\n",
              "    </tr>\n",
              "  </tbody>\n",
              "</table>\n",
              "<p>5 rows × 591 columns</p>\n",
              "</div>"
            ]
          },
          "metadata": {},
          "execution_count": 2120
        }
      ]
    },
    {
      "cell_type": "code",
      "source": [
        "ds.shape"
      ],
      "metadata": {
        "colab": {
          "base_uri": "https://localhost:8080/"
        },
        "id": "PaSS9cmmAKXW",
        "outputId": "58e4d5e5-1146-4d1b-a0f9-641a09a2afbb"
      },
      "execution_count": null,
      "outputs": [
        {
          "output_type": "execute_result",
          "data": {
            "text/plain": [
              "(464602, 591)"
            ]
          },
          "metadata": {},
          "execution_count": 2112
        }
      ]
    },
    {
      "cell_type": "code",
      "source": [
        "ds['date'] = pd.to_datetime(ds['date'])\n",
        "ds.set_axis(ds['date'], inplace=True)"
      ],
      "metadata": {
        "id": "BmzDPpV115nf"
      },
      "execution_count": null,
      "outputs": []
    },
    {
      "cell_type": "code",
      "source": [
        "ds.shape"
      ],
      "metadata": {
        "colab": {
          "base_uri": "https://localhost:8080/"
        },
        "id": "-RDdwvNMAKbp",
        "outputId": "c762824e-9cce-4120-a712-0b69a3585e86"
      },
      "execution_count": null,
      "outputs": [
        {
          "output_type": "execute_result",
          "data": {
            "text/plain": [
              "(76, 591)"
            ]
          },
          "metadata": {},
          "execution_count": 2122
        }
      ]
    },
    {
      "cell_type": "code",
      "source": [
        "### Divide os dados \n",
        "lastorder_data, lastorder_train, lastorder_test, date_train, date_test = split_client(ds,0.80)\n"
      ],
      "metadata": {
        "id": "QKBRXUE7-Rga"
      },
      "execution_count": null,
      "outputs": []
    },
    {
      "cell_type": "code",
      "source": [
        "# 4 ultimos last order do cliente\n",
        "look_back = 14\n",
        "\n",
        "#forward_days = 4\n",
        "\n",
        "train_generator = TimeseriesGenerator(lastorder_train, lastorder_train, length=look_back, batch_size=20)     \n",
        "test_generator  = TimeseriesGenerator(lastorder_test, lastorder_test, length=look_back, batch_size=1)\n"
      ],
      "metadata": {
        "id": "7EhVygag-fSQ"
      },
      "execution_count": null,
      "outputs": []
    },
    {
      "cell_type": "code",
      "source": [
        "## Fit o model LST\n",
        "# NUM_NEURONS_FirstLayer = 150\n",
        "# NUM_NEURONS_SecondLayer = 150\n",
        "# num_epochs = 400\n",
        "num_epochs = 100\n",
        "\n",
        "model = Sequential()\n",
        "# model.add(LSTM(NUM_NEURONS_FirstLayer,input_shape=(look_back,1), return_sequences=True))\n",
        "\n",
        "# model.add(LSTM(NUM_NEURONS_SecondLayer,input_shape=(NUM_NEURONS_FirstLayer,1)))\n",
        "#model = Sequential()\n",
        "model.add(\n",
        "    LSTM(128,\n",
        "        activation='relu',\n",
        "        input_shape=(look_back,1)))\n",
        "#model.add(LSTM(50, activation='relu'))\n",
        "model.add(Dense(1))\n",
        "#model.compile(optimizer='adam', loss='mse')\n",
        "model.compile(loss='mse',\n",
        "              optimizer='adam' )\n",
        "history= model.fit_generator(train_generator, epochs=num_epochs, shuffle=True, verbose=1)\n"
      ],
      "metadata": {
        "id": "bTGYOougXSid",
        "colab": {
          "base_uri": "https://localhost:8080/"
        },
        "outputId": "b262ef0d-adb8-4aee-c3e8-8b9994bb557e"
      },
      "execution_count": null,
      "outputs": [
        {
          "output_type": "stream",
          "name": "stdout",
          "text": [
            "Epoch 1/100\n",
            "3/3 [==============================] - 3s 17ms/step - loss: 2706.2700\n",
            "Epoch 2/100\n",
            "3/3 [==============================] - 0s 16ms/step - loss: 1461.5026\n",
            "Epoch 3/100\n",
            "3/3 [==============================] - 0s 18ms/step - loss: 779.5681\n",
            "Epoch 4/100\n",
            "3/3 [==============================] - 0s 23ms/step - loss: 1286.2742\n",
            "Epoch 5/100\n",
            "3/3 [==============================] - 0s 21ms/step - loss: 489.4292\n",
            "Epoch 6/100\n",
            "3/3 [==============================] - 0s 28ms/step - loss: 475.3176\n",
            "Epoch 7/100\n",
            "3/3 [==============================] - 0s 20ms/step - loss: 420.5295\n",
            "Epoch 8/100\n",
            "3/3 [==============================] - 0s 22ms/step - loss: 350.9195\n",
            "Epoch 9/100\n",
            "3/3 [==============================] - 0s 25ms/step - loss: 342.2570\n",
            "Epoch 10/100\n",
            "3/3 [==============================] - 0s 19ms/step - loss: 299.4509\n",
            "Epoch 11/100\n",
            "3/3 [==============================] - 0s 20ms/step - loss: 272.4071\n",
            "Epoch 12/100\n",
            "3/3 [==============================] - 0s 23ms/step - loss: 259.7712\n",
            "Epoch 13/100\n",
            "3/3 [==============================] - 0s 21ms/step - loss: 250.1079\n",
            "Epoch 14/100\n",
            "3/3 [==============================] - 0s 21ms/step - loss: 233.3217\n",
            "Epoch 15/100\n",
            "3/3 [==============================] - 0s 20ms/step - loss: 224.2324\n",
            "Epoch 16/100\n",
            "3/3 [==============================] - 0s 22ms/step - loss: 210.8943\n",
            "Epoch 17/100\n",
            "3/3 [==============================] - 0s 28ms/step - loss: 219.4993\n",
            "Epoch 18/100\n",
            "3/3 [==============================] - 0s 22ms/step - loss: 218.3696\n",
            "Epoch 19/100\n",
            "3/3 [==============================] - 0s 22ms/step - loss: 202.2372\n",
            "Epoch 20/100\n",
            "3/3 [==============================] - 0s 16ms/step - loss: 185.5390\n",
            "Epoch 21/100\n",
            "3/3 [==============================] - 0s 24ms/step - loss: 173.1905\n",
            "Epoch 22/100\n",
            "3/3 [==============================] - 0s 19ms/step - loss: 166.4918\n",
            "Epoch 23/100\n",
            "3/3 [==============================] - 0s 27ms/step - loss: 153.1908\n",
            "Epoch 24/100\n",
            "3/3 [==============================] - 0s 20ms/step - loss: 154.4773\n",
            "Epoch 25/100\n",
            "3/3 [==============================] - 0s 22ms/step - loss: 117.1860\n",
            "Epoch 26/100\n",
            "3/3 [==============================] - 0s 25ms/step - loss: 108.4414\n",
            "Epoch 27/100\n",
            "3/3 [==============================] - 0s 27ms/step - loss: 128.3673\n",
            "Epoch 28/100\n",
            "3/3 [==============================] - 0s 22ms/step - loss: 72.9181\n",
            "Epoch 29/100\n",
            "3/3 [==============================] - 0s 22ms/step - loss: 94.4879\n",
            "Epoch 30/100\n",
            "3/3 [==============================] - 0s 21ms/step - loss: 59.3074\n",
            "Epoch 31/100\n",
            "3/3 [==============================] - 0s 19ms/step - loss: 72.5315\n",
            "Epoch 32/100\n",
            "3/3 [==============================] - 0s 19ms/step - loss: 102.7642\n",
            "Epoch 33/100\n",
            "3/3 [==============================] - 0s 15ms/step - loss: 87.4884\n",
            "Epoch 34/100\n",
            "3/3 [==============================] - 0s 22ms/step - loss: 189.3893\n",
            "Epoch 35/100\n",
            "3/3 [==============================] - 0s 29ms/step - loss: 181.9302\n",
            "Epoch 36/100\n",
            "3/3 [==============================] - 0s 18ms/step - loss: 97.2564\n",
            "Epoch 37/100\n",
            "3/3 [==============================] - 0s 18ms/step - loss: 101.7094\n",
            "Epoch 38/100\n",
            "3/3 [==============================] - 0s 25ms/step - loss: 120.5640\n",
            "Epoch 39/100\n",
            "3/3 [==============================] - 0s 18ms/step - loss: 84.0346\n",
            "Epoch 40/100\n",
            "3/3 [==============================] - 0s 17ms/step - loss: 72.9988\n",
            "Epoch 41/100\n",
            "3/3 [==============================] - 0s 16ms/step - loss: 49.6627\n",
            "Epoch 42/100\n",
            "3/3 [==============================] - 0s 18ms/step - loss: 87.7713\n",
            "Epoch 43/100\n",
            "3/3 [==============================] - 0s 15ms/step - loss: 39.3665\n",
            "Epoch 44/100\n",
            "3/3 [==============================] - 0s 21ms/step - loss: 71.9602\n",
            "Epoch 45/100\n",
            "3/3 [==============================] - 0s 15ms/step - loss: 24.3671\n",
            "Epoch 46/100\n",
            "3/3 [==============================] - 0s 19ms/step - loss: 75.4399\n",
            "Epoch 47/100\n",
            "3/3 [==============================] - 0s 20ms/step - loss: 40.3295\n",
            "Epoch 48/100\n",
            "3/3 [==============================] - 0s 20ms/step - loss: 26.6034\n",
            "Epoch 49/100\n",
            "3/3 [==============================] - 0s 21ms/step - loss: 31.2763\n",
            "Epoch 50/100\n",
            "3/3 [==============================] - 0s 19ms/step - loss: 22.7627\n",
            "Epoch 51/100\n",
            "3/3 [==============================] - 0s 17ms/step - loss: 12.9605\n",
            "Epoch 52/100\n",
            "3/3 [==============================] - 0s 15ms/step - loss: 15.8698\n",
            "Epoch 53/100\n",
            "3/3 [==============================] - 0s 17ms/step - loss: 10.3341\n",
            "Epoch 54/100\n",
            "3/3 [==============================] - 0s 18ms/step - loss: 14.7372\n",
            "Epoch 55/100\n",
            "3/3 [==============================] - 0s 18ms/step - loss: 8.1665\n",
            "Epoch 56/100\n",
            "3/3 [==============================] - 0s 20ms/step - loss: 6.6583\n",
            "Epoch 57/100\n",
            "3/3 [==============================] - 0s 17ms/step - loss: 5.1305\n",
            "Epoch 58/100\n",
            "3/3 [==============================] - 0s 17ms/step - loss: 3.2809\n",
            "Epoch 59/100\n",
            "3/3 [==============================] - 0s 29ms/step - loss: 3.1023\n",
            "Epoch 60/100\n",
            "3/3 [==============================] - 0s 16ms/step - loss: 2.7098\n",
            "Epoch 61/100\n",
            "3/3 [==============================] - 0s 17ms/step - loss: 2.6151\n",
            "Epoch 62/100\n",
            "3/3 [==============================] - 0s 16ms/step - loss: 2.2141\n",
            "Epoch 63/100\n",
            "3/3 [==============================] - 0s 16ms/step - loss: 2.4058\n",
            "Epoch 64/100\n",
            "3/3 [==============================] - 0s 13ms/step - loss: 2.2139\n",
            "Epoch 65/100\n",
            "3/3 [==============================] - 0s 23ms/step - loss: 1.4384\n",
            "Epoch 66/100\n",
            "3/3 [==============================] - 0s 16ms/step - loss: 2.3042\n",
            "Epoch 67/100\n",
            "3/3 [==============================] - 0s 16ms/step - loss: 1.4261\n",
            "Epoch 68/100\n",
            "3/3 [==============================] - 0s 20ms/step - loss: 1.8930\n",
            "Epoch 69/100\n",
            "3/3 [==============================] - 0s 13ms/step - loss: 1.9578\n",
            "Epoch 70/100\n",
            "3/3 [==============================] - 0s 13ms/step - loss: 1.1341\n",
            "Epoch 71/100\n",
            "3/3 [==============================] - 0s 17ms/step - loss: 1.0694\n",
            "Epoch 72/100\n",
            "3/3 [==============================] - 0s 21ms/step - loss: 0.9390\n",
            "Epoch 73/100\n",
            "3/3 [==============================] - 0s 17ms/step - loss: 0.6507\n",
            "Epoch 74/100\n",
            "3/3 [==============================] - 0s 15ms/step - loss: 0.4966\n",
            "Epoch 75/100\n",
            "3/3 [==============================] - 0s 13ms/step - loss: 0.6792\n",
            "Epoch 76/100\n",
            "3/3 [==============================] - 0s 16ms/step - loss: 1.2652\n",
            "Epoch 77/100\n",
            "3/3 [==============================] - 0s 15ms/step - loss: 0.9377\n",
            "Epoch 78/100\n",
            "3/3 [==============================] - 0s 15ms/step - loss: 0.7150\n",
            "Epoch 79/100\n",
            "3/3 [==============================] - 0s 13ms/step - loss: 0.4984\n",
            "Epoch 80/100\n",
            "3/3 [==============================] - 0s 15ms/step - loss: 0.5309\n",
            "Epoch 81/100\n",
            "3/3 [==============================] - 0s 15ms/step - loss: 0.3968\n",
            "Epoch 82/100\n",
            "3/3 [==============================] - 0s 17ms/step - loss: 0.3116\n",
            "Epoch 83/100\n",
            "3/3 [==============================] - 0s 15ms/step - loss: 0.1850\n",
            "Epoch 84/100\n",
            "3/3 [==============================] - 0s 13ms/step - loss: 0.1702\n",
            "Epoch 85/100\n",
            "3/3 [==============================] - 0s 15ms/step - loss: 0.1666\n",
            "Epoch 86/100\n",
            "3/3 [==============================] - 0s 16ms/step - loss: 0.1578\n",
            "Epoch 87/100\n",
            "3/3 [==============================] - 0s 20ms/step - loss: 0.1261\n",
            "Epoch 88/100\n",
            "3/3 [==============================] - 0s 14ms/step - loss: 0.1635\n",
            "Epoch 89/100\n",
            "3/3 [==============================] - 0s 17ms/step - loss: 0.1007\n",
            "Epoch 90/100\n",
            "3/3 [==============================] - 0s 14ms/step - loss: 0.0791\n",
            "Epoch 91/100\n",
            "3/3 [==============================] - 0s 18ms/step - loss: 0.0744\n",
            "Epoch 92/100\n",
            "3/3 [==============================] - 0s 16ms/step - loss: 0.0556\n",
            "Epoch 93/100\n",
            "3/3 [==============================] - 0s 17ms/step - loss: 0.0642\n",
            "Epoch 94/100\n",
            "3/3 [==============================] - 0s 15ms/step - loss: 0.0567\n",
            "Epoch 95/100\n",
            "3/3 [==============================] - 0s 18ms/step - loss: 0.0851\n",
            "Epoch 96/100\n",
            "3/3 [==============================] - 0s 14ms/step - loss: 0.0387\n",
            "Epoch 97/100\n",
            "3/3 [==============================] - 0s 23ms/step - loss: 0.0699\n",
            "Epoch 98/100\n",
            "3/3 [==============================] - 0s 16ms/step - loss: 0.0359\n",
            "Epoch 99/100\n",
            "3/3 [==============================] - 0s 16ms/step - loss: 0.0366\n",
            "Epoch 100/100\n",
            "3/3 [==============================] - 0s 16ms/step - loss: 0.0269\n"
          ]
        }
      ]
    },
    {
      "cell_type": "code",
      "source": [
        "import sys\n",
        "!$sys.executable -m pip install plotly\n",
        "!$sys.executable -m pip install -U kaleido\n",
        "from plotly.offline import init_notebook_mode, iplot\n",
        "init_notebook_mode(connected=True)\n",
        "import plotly.graph_objects as go"
      ],
      "metadata": {
        "id": "DF36i4bRA4SP"
      },
      "execution_count": null,
      "outputs": []
    },
    {
      "cell_type": "code",
      "source": [
        ""
      ],
      "metadata": {
        "id": "W499TyK_fGPx"
      },
      "execution_count": null,
      "outputs": []
    },
    {
      "cell_type": "code",
      "source": [
        "prediction = model.predict_generator(test_generator)\n",
        "\n",
        "lastorder_train = lastorder_train.reshape((-1))\n",
        "lastorder_test = lastorder_test.reshape((-1))\n",
        "prediction = prediction.reshape((-1))\n",
        "\n",
        "trace1 = go.Scatter(\n",
        "    x = date_train,\n",
        "    y = lastorder_train,\n",
        "    mode = 'lines',\n",
        "    name = 'Data'\n",
        ")\n",
        "trace2 = go.Scatter(\n",
        "    x = date_test,\n",
        "    y = prediction,\n",
        "    mode = 'lines',\n",
        "    name = 'Prediction'\n",
        ")\n",
        "trace3 = go.Scatter(\n",
        "    x = date_test,\n",
        "    y = lastorder_test,\n",
        "    mode='lines',\n",
        "    name = 'Ground Truth'\n",
        ")\n",
        "layout = go.Layout(\n",
        "    title = \"Google Stock\",\n",
        "    xaxis = {'title' : \"Date\"},\n",
        "    yaxis = {'title' : \"Close\"}\n",
        ")\n",
        "fig = go.Figure(data=[trace1, trace2, trace3], layout=layout)\n",
        "fig.show(renderer=\"colab\")"
      ],
      "metadata": {
        "colab": {
          "base_uri": "https://localhost:8080/",
          "height": 542
        },
        "id": "GrwHaMSBVg1m",
        "outputId": "76c6eb6e-001c-4685-be68-213079772271"
      },
      "execution_count": null,
      "outputs": [
        {
          "output_type": "display_data",
          "data": {
            "text/html": [
              "<html>\n",
              "<head><meta charset=\"utf-8\" /></head>\n",
              "<body>\n",
              "    <div>            <script src=\"https://cdnjs.cloudflare.com/ajax/libs/mathjax/2.7.5/MathJax.js?config=TeX-AMS-MML_SVG\"></script><script type=\"text/javascript\">if (window.MathJax) {MathJax.Hub.Config({SVG: {font: \"STIX-Web\"}});}</script>                <script type=\"text/javascript\">window.PlotlyConfig = {MathJaxConfig: 'local'};</script>\n",
              "        <script src=\"https://cdn.plot.ly/plotly-2.9.0.min.js\"></script>                <div id=\"36560173-c15e-43fa-8b36-5b06db8ffff8\" class=\"plotly-graph-div\" style=\"height:525px; width:100%;\"></div>            <script type=\"text/javascript\">                                    window.PLOTLYENV=window.PLOTLYENV || {};                                    if (document.getElementById(\"36560173-c15e-43fa-8b36-5b06db8ffff8\")) {                    Plotly.newPlot(                        \"36560173-c15e-43fa-8b36-5b06db8ffff8\",                        [{\"mode\":\"lines\",\"name\":\"Data\",\"x\":[\"2013-05-18T23:12:27\",\"2013-06-25T22:21:47\",\"2013-08-11T21:51:12\",\"2013-10-17T22:57:38\",\"2013-12-03T20:31:04\",\"2013-12-03T20:31:13\",\"2014-05-04T09:24:09\",\"2014-08-06T22:56:02\",\"2014-09-27T12:32:44\",\"2014-11-02T19:46:19\",\"2014-12-12T20:06:24\",\"2015-01-18T23:12:23\",\"2015-03-12T21:17:20\",\"2015-05-17T20:49:08\",\"2015-06-19T21:26:42\",\"2015-07-26T12:23:52\",\"2015-08-22T15:18:23\",\"2015-09-24T18:54:12\",\"2015-09-26T19:57:00\",\"2016-03-24T23:17:33\",\"2016-04-30T18:38:21\",\"2016-06-04T17:04:04\",\"2016-07-04T16:01:42\",\"2016-08-08T18:46:06\",\"2016-09-18T10:12:27\",\"2016-11-25T11:06:08\",\"2016-12-31T19:03:01\",\"2017-02-05T19:16:21\",\"2017-03-15T18:19:27\",\"2017-04-15T19:33:52\",\"2017-05-21T11:02:52\",\"2017-06-26T16:55:25\",\"2017-08-30T09:15:59\",\"2017-10-07T14:23:47\",\"2017-11-08T21:06:23\",\"2017-12-16T17:50:21\",\"2018-03-08T09:09:49\",\"2018-04-19T17:17:52\",\"2018-06-30T11:10:44\",\"2018-08-04T16:58:36\",\"2018-10-21T18:51:09\",\"2018-12-03T23:27:18\",\"2019-01-19T21:54:59\",\"2019-04-07T19:20:01\",\"2019-04-14T18:45:02\",\"2019-05-12T20:46:44\",\"2019-06-13T16:51:35\",\"2019-07-13T22:24:10\",\"2019-08-11T18:43:46\",\"2019-08-17T16:53:51\",\"2019-08-17T16:53:58\",\"2019-08-17T16:54:48\",\"2019-09-24T20:36:12\",\"2019-11-02T17:30:58\",\"2019-12-12T21:51:00\",\"2020-01-19T17:57:41\",\"2020-02-27T17:03:04\",\"2020-04-02T21:07:44\",\"2020-05-05T17:48:25\",\"2020-07-07T20:46:45\"],\"y\":[39.038078703703704,37.964814814814815,46.97876157407408,67.04613425925926,46.898217592592594,0.00010416666666666667,40.45883101851852,94.56380787037037,51.56715277777778,36.30109953703704,40.01394675925926,37.12915509259259,52.92010416666667,65.98041666666667,33.02608796296296,36.62303240740741,27.12119212962963,33.14987268518519,2.0436111111111113,44.10969907407407,36.806111111111115,34.93452546296297,29.956689814814816,35.11416666666667,40.64329861111111,68.0372800925926,36.33116898148148,36.00925925925926,37.96048611111111,31.051678240740742,35.64513888888889,36.24482638888889,64.68094907407408,38.21375,32.279583333333335,37.86386574074074,81.63851851851852,42.33892361111111,71.7450462962963,35.24157407407407,78.07815972222222,43.19177083333334,46.935891203703704,77.89238425925926,6.975706018518519,28.08451388888889,31.83670138888889,30.230960648148148,28.846944444444443,5.923668981481481,8.101851851851852e-05,0.0005787037037037037,38.15375,38.87136574074074,40.1805787037037,37.837974537037034,38.96207175925926,35.16990740740741,32.86158564814815,63.123842592592595],\"type\":\"scatter\"},{\"mode\":\"lines\",\"name\":\"Prediction\",\"x\":[\"2020-08-13T19:24:10\",\"2020-09-23T10:58:39\",\"2020-10-29T16:59:09\",\"2020-12-04T15:08:40\",\"2020-12-15T20:28:44\",\"2021-01-06T22:22:03\",\"2021-02-08T18:10:42\",\"2021-03-09T22:29:50\",\"2021-03-13T11:24:03\",\"2021-04-15T11:16:29\",\"2021-06-27T18:33:51\",\"2021-08-03T09:58:39\",\"2021-09-11T16:06:13\",\"2021-10-17T11:27:44\",\"2021-11-25T14:36:57\",\"2022-01-04T15:39:10\"],\"y\":[40.8271369934082,37.39279556274414],\"type\":\"scatter\"},{\"mode\":\"lines\",\"name\":\"Ground Truth\",\"x\":[\"2020-08-13T19:24:10\",\"2020-09-23T10:58:39\",\"2020-10-29T16:59:09\",\"2020-12-04T15:08:40\",\"2020-12-15T20:28:44\",\"2021-01-06T22:22:03\",\"2021-02-08T18:10:42\",\"2021-03-09T22:29:50\",\"2021-03-13T11:24:03\",\"2021-04-15T11:16:29\",\"2021-06-27T18:33:51\",\"2021-08-03T09:58:39\",\"2021-09-11T16:06:13\",\"2021-10-17T11:27:44\",\"2021-11-25T14:36:57\",\"2022-01-04T15:39:10\"],\"y\":[36.942650462962966,40.64894675925926,36.250347222222224,35.92327546296296,11.222268518518518,22.07869212962963,32.82545138888889,29.179953703703703,3.537650462962963,32.99474537037037,73.30372685185185,36.64222222222222,39.25525462962963,35.806608796296295,39.131400462962965,40.04320601851852],\"type\":\"scatter\"}],                        {\"title\":{\"text\":\"Google Stock\"},\"xaxis\":{\"title\":{\"text\":\"Date\"}},\"yaxis\":{\"title\":{\"text\":\"Close\"}},\"template\":{\"data\":{\"bar\":[{\"error_x\":{\"color\":\"#2a3f5f\"},\"error_y\":{\"color\":\"#2a3f5f\"},\"marker\":{\"line\":{\"color\":\"#E5ECF6\",\"width\":0.5},\"pattern\":{\"fillmode\":\"overlay\",\"size\":10,\"solidity\":0.2}},\"type\":\"bar\"}],\"barpolar\":[{\"marker\":{\"line\":{\"color\":\"#E5ECF6\",\"width\":0.5},\"pattern\":{\"fillmode\":\"overlay\",\"size\":10,\"solidity\":0.2}},\"type\":\"barpolar\"}],\"carpet\":[{\"aaxis\":{\"endlinecolor\":\"#2a3f5f\",\"gridcolor\":\"white\",\"linecolor\":\"white\",\"minorgridcolor\":\"white\",\"startlinecolor\":\"#2a3f5f\"},\"baxis\":{\"endlinecolor\":\"#2a3f5f\",\"gridcolor\":\"white\",\"linecolor\":\"white\",\"minorgridcolor\":\"white\",\"startlinecolor\":\"#2a3f5f\"},\"type\":\"carpet\"}],\"choropleth\":[{\"colorbar\":{\"outlinewidth\":0,\"ticks\":\"\"},\"type\":\"choropleth\"}],\"contour\":[{\"colorbar\":{\"outlinewidth\":0,\"ticks\":\"\"},\"colorscale\":[[0.0,\"#0d0887\"],[0.1111111111111111,\"#46039f\"],[0.2222222222222222,\"#7201a8\"],[0.3333333333333333,\"#9c179e\"],[0.4444444444444444,\"#bd3786\"],[0.5555555555555556,\"#d8576b\"],[0.6666666666666666,\"#ed7953\"],[0.7777777777777778,\"#fb9f3a\"],[0.8888888888888888,\"#fdca26\"],[1.0,\"#f0f921\"]],\"type\":\"contour\"}],\"contourcarpet\":[{\"colorbar\":{\"outlinewidth\":0,\"ticks\":\"\"},\"type\":\"contourcarpet\"}],\"heatmap\":[{\"colorbar\":{\"outlinewidth\":0,\"ticks\":\"\"},\"colorscale\":[[0.0,\"#0d0887\"],[0.1111111111111111,\"#46039f\"],[0.2222222222222222,\"#7201a8\"],[0.3333333333333333,\"#9c179e\"],[0.4444444444444444,\"#bd3786\"],[0.5555555555555556,\"#d8576b\"],[0.6666666666666666,\"#ed7953\"],[0.7777777777777778,\"#fb9f3a\"],[0.8888888888888888,\"#fdca26\"],[1.0,\"#f0f921\"]],\"type\":\"heatmap\"}],\"heatmapgl\":[{\"colorbar\":{\"outlinewidth\":0,\"ticks\":\"\"},\"colorscale\":[[0.0,\"#0d0887\"],[0.1111111111111111,\"#46039f\"],[0.2222222222222222,\"#7201a8\"],[0.3333333333333333,\"#9c179e\"],[0.4444444444444444,\"#bd3786\"],[0.5555555555555556,\"#d8576b\"],[0.6666666666666666,\"#ed7953\"],[0.7777777777777778,\"#fb9f3a\"],[0.8888888888888888,\"#fdca26\"],[1.0,\"#f0f921\"]],\"type\":\"heatmapgl\"}],\"histogram\":[{\"marker\":{\"pattern\":{\"fillmode\":\"overlay\",\"size\":10,\"solidity\":0.2}},\"type\":\"histogram\"}],\"histogram2d\":[{\"colorbar\":{\"outlinewidth\":0,\"ticks\":\"\"},\"colorscale\":[[0.0,\"#0d0887\"],[0.1111111111111111,\"#46039f\"],[0.2222222222222222,\"#7201a8\"],[0.3333333333333333,\"#9c179e\"],[0.4444444444444444,\"#bd3786\"],[0.5555555555555556,\"#d8576b\"],[0.6666666666666666,\"#ed7953\"],[0.7777777777777778,\"#fb9f3a\"],[0.8888888888888888,\"#fdca26\"],[1.0,\"#f0f921\"]],\"type\":\"histogram2d\"}],\"histogram2dcontour\":[{\"colorbar\":{\"outlinewidth\":0,\"ticks\":\"\"},\"colorscale\":[[0.0,\"#0d0887\"],[0.1111111111111111,\"#46039f\"],[0.2222222222222222,\"#7201a8\"],[0.3333333333333333,\"#9c179e\"],[0.4444444444444444,\"#bd3786\"],[0.5555555555555556,\"#d8576b\"],[0.6666666666666666,\"#ed7953\"],[0.7777777777777778,\"#fb9f3a\"],[0.8888888888888888,\"#fdca26\"],[1.0,\"#f0f921\"]],\"type\":\"histogram2dcontour\"}],\"mesh3d\":[{\"colorbar\":{\"outlinewidth\":0,\"ticks\":\"\"},\"type\":\"mesh3d\"}],\"parcoords\":[{\"line\":{\"colorbar\":{\"outlinewidth\":0,\"ticks\":\"\"}},\"type\":\"parcoords\"}],\"pie\":[{\"automargin\":true,\"type\":\"pie\"}],\"scatter\":[{\"marker\":{\"colorbar\":{\"outlinewidth\":0,\"ticks\":\"\"}},\"type\":\"scatter\"}],\"scatter3d\":[{\"line\":{\"colorbar\":{\"outlinewidth\":0,\"ticks\":\"\"}},\"marker\":{\"colorbar\":{\"outlinewidth\":0,\"ticks\":\"\"}},\"type\":\"scatter3d\"}],\"scattercarpet\":[{\"marker\":{\"colorbar\":{\"outlinewidth\":0,\"ticks\":\"\"}},\"type\":\"scattercarpet\"}],\"scattergeo\":[{\"marker\":{\"colorbar\":{\"outlinewidth\":0,\"ticks\":\"\"}},\"type\":\"scattergeo\"}],\"scattergl\":[{\"marker\":{\"colorbar\":{\"outlinewidth\":0,\"ticks\":\"\"}},\"type\":\"scattergl\"}],\"scattermapbox\":[{\"marker\":{\"colorbar\":{\"outlinewidth\":0,\"ticks\":\"\"}},\"type\":\"scattermapbox\"}],\"scatterpolar\":[{\"marker\":{\"colorbar\":{\"outlinewidth\":0,\"ticks\":\"\"}},\"type\":\"scatterpolar\"}],\"scatterpolargl\":[{\"marker\":{\"colorbar\":{\"outlinewidth\":0,\"ticks\":\"\"}},\"type\":\"scatterpolargl\"}],\"scatterternary\":[{\"marker\":{\"colorbar\":{\"outlinewidth\":0,\"ticks\":\"\"}},\"type\":\"scatterternary\"}],\"surface\":[{\"colorbar\":{\"outlinewidth\":0,\"ticks\":\"\"},\"colorscale\":[[0.0,\"#0d0887\"],[0.1111111111111111,\"#46039f\"],[0.2222222222222222,\"#7201a8\"],[0.3333333333333333,\"#9c179e\"],[0.4444444444444444,\"#bd3786\"],[0.5555555555555556,\"#d8576b\"],[0.6666666666666666,\"#ed7953\"],[0.7777777777777778,\"#fb9f3a\"],[0.8888888888888888,\"#fdca26\"],[1.0,\"#f0f921\"]],\"type\":\"surface\"}],\"table\":[{\"cells\":{\"fill\":{\"color\":\"#EBF0F8\"},\"line\":{\"color\":\"white\"}},\"header\":{\"fill\":{\"color\":\"#C8D4E3\"},\"line\":{\"color\":\"white\"}},\"type\":\"table\"}]},\"layout\":{\"annotationdefaults\":{\"arrowcolor\":\"#2a3f5f\",\"arrowhead\":0,\"arrowwidth\":1},\"autotypenumbers\":\"strict\",\"coloraxis\":{\"colorbar\":{\"outlinewidth\":0,\"ticks\":\"\"}},\"colorscale\":{\"diverging\":[[0,\"#8e0152\"],[0.1,\"#c51b7d\"],[0.2,\"#de77ae\"],[0.3,\"#f1b6da\"],[0.4,\"#fde0ef\"],[0.5,\"#f7f7f7\"],[0.6,\"#e6f5d0\"],[0.7,\"#b8e186\"],[0.8,\"#7fbc41\"],[0.9,\"#4d9221\"],[1,\"#276419\"]],\"sequential\":[[0.0,\"#0d0887\"],[0.1111111111111111,\"#46039f\"],[0.2222222222222222,\"#7201a8\"],[0.3333333333333333,\"#9c179e\"],[0.4444444444444444,\"#bd3786\"],[0.5555555555555556,\"#d8576b\"],[0.6666666666666666,\"#ed7953\"],[0.7777777777777778,\"#fb9f3a\"],[0.8888888888888888,\"#fdca26\"],[1.0,\"#f0f921\"]],\"sequentialminus\":[[0.0,\"#0d0887\"],[0.1111111111111111,\"#46039f\"],[0.2222222222222222,\"#7201a8\"],[0.3333333333333333,\"#9c179e\"],[0.4444444444444444,\"#bd3786\"],[0.5555555555555556,\"#d8576b\"],[0.6666666666666666,\"#ed7953\"],[0.7777777777777778,\"#fb9f3a\"],[0.8888888888888888,\"#fdca26\"],[1.0,\"#f0f921\"]]},\"colorway\":[\"#636efa\",\"#EF553B\",\"#00cc96\",\"#ab63fa\",\"#FFA15A\",\"#19d3f3\",\"#FF6692\",\"#B6E880\",\"#FF97FF\",\"#FECB52\"],\"font\":{\"color\":\"#2a3f5f\"},\"geo\":{\"bgcolor\":\"white\",\"lakecolor\":\"white\",\"landcolor\":\"#E5ECF6\",\"showlakes\":true,\"showland\":true,\"subunitcolor\":\"white\"},\"hoverlabel\":{\"align\":\"left\"},\"hovermode\":\"closest\",\"mapbox\":{\"style\":\"light\"},\"paper_bgcolor\":\"white\",\"plot_bgcolor\":\"#E5ECF6\",\"polar\":{\"angularaxis\":{\"gridcolor\":\"white\",\"linecolor\":\"white\",\"ticks\":\"\"},\"bgcolor\":\"#E5ECF6\",\"radialaxis\":{\"gridcolor\":\"white\",\"linecolor\":\"white\",\"ticks\":\"\"}},\"scene\":{\"xaxis\":{\"backgroundcolor\":\"#E5ECF6\",\"gridcolor\":\"white\",\"gridwidth\":2,\"linecolor\":\"white\",\"showbackground\":true,\"ticks\":\"\",\"zerolinecolor\":\"white\"},\"yaxis\":{\"backgroundcolor\":\"#E5ECF6\",\"gridcolor\":\"white\",\"gridwidth\":2,\"linecolor\":\"white\",\"showbackground\":true,\"ticks\":\"\",\"zerolinecolor\":\"white\"},\"zaxis\":{\"backgroundcolor\":\"#E5ECF6\",\"gridcolor\":\"white\",\"gridwidth\":2,\"linecolor\":\"white\",\"showbackground\":true,\"ticks\":\"\",\"zerolinecolor\":\"white\"}},\"shapedefaults\":{\"line\":{\"color\":\"#2a3f5f\"}},\"ternary\":{\"aaxis\":{\"gridcolor\":\"white\",\"linecolor\":\"white\",\"ticks\":\"\"},\"baxis\":{\"gridcolor\":\"white\",\"linecolor\":\"white\",\"ticks\":\"\"},\"bgcolor\":\"#E5ECF6\",\"caxis\":{\"gridcolor\":\"white\",\"linecolor\":\"white\",\"ticks\":\"\"}},\"title\":{\"x\":0.05},\"xaxis\":{\"automargin\":true,\"gridcolor\":\"white\",\"linecolor\":\"white\",\"ticks\":\"\",\"title\":{\"standoff\":15},\"zerolinecolor\":\"white\",\"zerolinewidth\":2},\"yaxis\":{\"automargin\":true,\"gridcolor\":\"white\",\"linecolor\":\"white\",\"ticks\":\"\",\"title\":{\"standoff\":15},\"zerolinecolor\":\"white\",\"zerolinewidth\":2}}}},                        {\"responsive\": true}                    ).then(function(){\n",
              "                            \n",
              "var gd = document.getElementById('36560173-c15e-43fa-8b36-5b06db8ffff8');\n",
              "var x = new MutationObserver(function (mutations, observer) {{\n",
              "        var display = window.getComputedStyle(gd).display;\n",
              "        if (!display || display === 'none') {{\n",
              "            console.log([gd, 'removed!']);\n",
              "            Plotly.purge(gd);\n",
              "            observer.disconnect();\n",
              "        }}\n",
              "}});\n",
              "\n",
              "// Listen for the removal of the full notebook cells\n",
              "var notebookContainer = gd.closest('#notebook-container');\n",
              "if (notebookContainer) {{\n",
              "    x.observe(notebookContainer, {childList: true});\n",
              "}}\n",
              "\n",
              "// Listen for the clearing of the current output cell\n",
              "var outputEl = gd.closest('.output');\n",
              "if (outputEl) {{\n",
              "    x.observe(outputEl, {childList: true});\n",
              "}}\n",
              "\n",
              "                        })                };                            </script>        </div>\n",
              "</body>\n",
              "</html>"
            ]
          },
          "metadata": {}
        }
      ]
    },
    {
      "cell_type": "code",
      "source": [
        "lastorder_data = lastorder_data.reshape((-1))\n",
        "\n",
        "def predict(num_prediction, model):\n",
        "    prediction_list = lastorder_data[-look_back:]\n",
        "    \n",
        "    for _ in range(num_prediction):\n",
        "        x = prediction_list[-look_back:]\n",
        "        x = x.reshape((1, look_back, 1))\n",
        "        out = model.predict(x)[0][0]\n",
        "        prediction_list = np.append(prediction_list, out)\n",
        "    prediction_list = prediction_list[look_back-1:]\n",
        "        \n",
        "    return prediction_list\n",
        "    \n",
        "def predict_dates(num_prediction):\n",
        "    last_date = ds['date'].values[-1]\n",
        "    prediction_dates = pd.date_range(last_date, periods=num_prediction+1).tolist()\n",
        "    return prediction_dates"
      ],
      "metadata": {
        "id": "a7AMvTnDmWYt"
      },
      "execution_count": null,
      "outputs": []
    },
    {
      "cell_type": "code",
      "source": [
        "num_prediction = 30\n",
        "forecast = predict(num_prediction, model)\n",
        "forecast_dates = predict_dates(num_prediction)"
      ],
      "metadata": {
        "id": "hNn4EF3atPjm"
      },
      "execution_count": null,
      "outputs": []
    },
    {
      "cell_type": "code",
      "source": [
        "forecast_dates"
      ],
      "metadata": {
        "id": "1cPQfV-EtT8v"
      },
      "execution_count": null,
      "outputs": []
    },
    {
      "cell_type": "markdown",
      "source": [
        "## Simple practical Exemplo"
      ],
      "metadata": {
        "id": "kEYcc8_DCVOB"
      }
    },
    {
      "cell_type": "markdown",
      "source": [
        ""
      ],
      "metadata": {
        "id": "e5nFQVQFnNLY"
      }
    },
    {
      "cell_type": "markdown",
      "source": [
        "###Regressão Linear"
      ],
      "metadata": {
        "id": "fcxouqs7-OhW"
      }
    },
    {
      "cell_type": "code",
      "source": [
        "def transform_record(client_id, dataframe, scaler, model, normalizer):\n",
        "  df = dataframe[dataframe['client_id'] == client_id]\n",
        "  df = df.iloc[-1:]\n",
        "  X = df.drop(['client_id', 'last_order', 'date', 'product'], axis=1)\n",
        "  date = df['date']\n",
        "  columns = [\n",
        "    'quantity_product', 'value_product', 'payments_values', 'total',\n",
        "  ]\n",
        "  X[columns] = scaler.transform(X[columns])\n",
        "  y_predicted = model.predict(X.values)\n",
        "  y = normalizer.inverse_transform(y_predicted.reshape(-1, 1))\n",
        "  new_date = date.values[0] + (y[0] * numpy.timedelta64(1, 'D'))\n",
        "  return new_date[0], date.values[0]"
      ],
      "metadata": {
        "id": "FNDPgjGypeeN"
      },
      "execution_count": null,
      "outputs": []
    },
    {
      "cell_type": "code",
      "source": [
        "new_date, old_date = transform_record(\n",
        "    29293, dataframe=dataset, scaler=scaler, model=r, normalizer=yscaler\n",
        ")"
      ],
      "metadata": {
        "id": "oI6PfvPBDoWQ"
      },
      "execution_count": null,
      "outputs": []
    },
    {
      "cell_type": "code",
      "source": [
        "import datetime"
      ],
      "metadata": {
        "id": "2L8SG2n2H2WO"
      },
      "execution_count": null,
      "outputs": []
    },
    {
      "cell_type": "code",
      "source": [
        "n_date = datetime.datetime.fromtimestamp(\n",
        "    new_date.item() / 10**9\n",
        ").strftime('%Y.%m.%d')\n",
        "\n",
        "o_date = datetime.datetime.fromtimestamp(\n",
        "    old_date.item() / 10**9\n",
        ").strftime('%Y.%m.%d')"
      ],
      "metadata": {
        "id": "wntiK26SD1sk"
      },
      "execution_count": null,
      "outputs": []
    },
    {
      "cell_type": "code",
      "source": [
        "print(f'Última compra em: {o_date}. Próxima data de compra estimada em: {n_date}')"
      ],
      "metadata": {
        "colab": {
          "base_uri": "https://localhost:8080/"
        },
        "id": "ysPoCCA-IZaG",
        "outputId": "e81cf1a6-0707-4664-aa95-b86371643d44"
      },
      "execution_count": null,
      "outputs": [
        {
          "output_type": "stream",
          "name": "stdout",
          "text": [
            "Última compra em: 2022.01.04. Próxima data de compra estimada em: 2022.02.13\n"
          ]
        }
      ]
    },
    {
      "cell_type": "markdown",
      "source": [
        "### Rede Neural"
      ],
      "metadata": {
        "id": "GiinrF5Y-Ylc"
      }
    },
    {
      "cell_type": "code",
      "source": [
        "new_date, old_date = transform_record(\n",
        "    29293, dataframe=dataset, scaler=scaler, model=nnr, normalizer=yscaler\n",
        ")"
      ],
      "metadata": {
        "id": "RpqUVOl2IBfD"
      },
      "execution_count": null,
      "outputs": []
    },
    {
      "cell_type": "code",
      "source": [
        "n_date = datetime.datetime.fromtimestamp(\n",
        "    new_date.item() / 10**9\n",
        ").strftime('%Y.%m.%d')\n",
        "\n",
        "o_date = datetime.datetime.fromtimestamp(\n",
        "    old_date.item() / 10**9\n",
        ").strftime('%Y.%m.%d')"
      ],
      "metadata": {
        "id": "VDt8U2scIEfy"
      },
      "execution_count": null,
      "outputs": []
    },
    {
      "cell_type": "code",
      "source": [
        "print(f'Última compra em: {o_date}. Próxima data de compra estimada em: {n_date}')"
      ],
      "metadata": {
        "id": "YtMFqgIwIr1r",
        "outputId": "1e4ea0db-0590-4cc5-df7e-28862ac4a90d",
        "colab": {
          "base_uri": "https://localhost:8080/"
        }
      },
      "execution_count": null,
      "outputs": [
        {
          "output_type": "stream",
          "name": "stdout",
          "text": [
            "Última compra em: 2022.01.04. Próxima data de compra estimada em: 2022.02.13\n"
          ]
        }
      ]
    }
  ]
}