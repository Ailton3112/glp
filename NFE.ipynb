{
  "cells": [
    {
      "cell_type": "markdown",
      "metadata": {
        "id": "view-in-github",
        "colab_type": "text"
      },
      "source": [
        "<a href=\"https://colab.research.google.com/github/Ailton3112/glp/blob/main/NFE.ipynb\" target=\"_parent\"><img src=\"https://colab.research.google.com/assets/colab-badge.svg\" alt=\"Open In Colab\"/></a>"
      ]
    },
    {
      "cell_type": "markdown",
      "metadata": {
        "id": "s_cy75j2HY-5"
      },
      "source": [
        "\n",
        "# RevGás - Analisando Emissão de NFe"
      ]
    },
    {
      "cell_type": "markdown",
      "metadata": {
        "id": "T_1-mLXjHpDW"
      },
      "source": [
        "###Importando bibliotecas"
      ]
    },
    {
      "cell_type": "code",
      "execution_count": null,
      "metadata": {
        "colab": {
          "base_uri": "https://localhost:8080/"
        },
        "id": "Xgdp0WenHQ67",
        "outputId": "f3e10dc7-10cf-4f89-9fa0-16d07e470194"
      },
      "outputs": [
        {
          "output_type": "stream",
          "name": "stdout",
          "text": [
            "Collecting dash\n",
            "  Downloading dash-2.2.0-py3-none-any.whl (8.5 MB)\n",
            "\u001b[K     |████████████████████████████████| 8.5 MB 6.9 MB/s \n",
            "\u001b[?25hRequirement already satisfied: Flask>=1.0.4 in /usr/local/lib/python3.7/dist-packages (from dash) (1.1.4)\n",
            "Requirement already satisfied: plotly>=5.0.0 in /usr/local/lib/python3.7/dist-packages (from dash) (5.5.0)\n",
            "Collecting dash-html-components==2.0.0\n",
            "  Downloading dash_html_components-2.0.0-py3-none-any.whl (4.1 kB)\n",
            "Collecting dash-core-components==2.0.0\n",
            "  Downloading dash_core_components-2.0.0-py3-none-any.whl (3.8 kB)\n",
            "Collecting dash-table==5.0.0\n",
            "  Downloading dash_table-5.0.0-py3-none-any.whl (3.9 kB)\n",
            "Collecting flask-compress\n",
            "  Downloading Flask_Compress-1.11-py3-none-any.whl (7.9 kB)\n",
            "Requirement already satisfied: Werkzeug<2.0,>=0.15 in /usr/local/lib/python3.7/dist-packages (from Flask>=1.0.4->dash) (1.0.1)\n",
            "Requirement already satisfied: itsdangerous<2.0,>=0.24 in /usr/local/lib/python3.7/dist-packages (from Flask>=1.0.4->dash) (1.1.0)\n",
            "Requirement already satisfied: Jinja2<3.0,>=2.10.1 in /usr/local/lib/python3.7/dist-packages (from Flask>=1.0.4->dash) (2.11.3)\n",
            "Requirement already satisfied: click<8.0,>=5.1 in /usr/local/lib/python3.7/dist-packages (from Flask>=1.0.4->dash) (7.1.2)\n",
            "Requirement already satisfied: MarkupSafe>=0.23 in /usr/local/lib/python3.7/dist-packages (from Jinja2<3.0,>=2.10.1->Flask>=1.0.4->dash) (2.0.1)\n",
            "Requirement already satisfied: tenacity>=6.2.0 in /usr/local/lib/python3.7/dist-packages (from plotly>=5.0.0->dash) (8.0.1)\n",
            "Requirement already satisfied: six in /usr/local/lib/python3.7/dist-packages (from plotly>=5.0.0->dash) (1.15.0)\n",
            "Collecting brotli\n",
            "  Downloading Brotli-1.0.9-cp37-cp37m-manylinux1_x86_64.whl (357 kB)\n",
            "\u001b[K     |████████████████████████████████| 357 kB 43.4 MB/s \n",
            "\u001b[?25hInstalling collected packages: brotli, flask-compress, dash-table, dash-html-components, dash-core-components, dash\n",
            "Successfully installed brotli-1.0.9 dash-2.2.0 dash-core-components-2.0.0 dash-html-components-2.0.0 dash-table-5.0.0 flask-compress-1.11\n"
          ]
        },
        {
          "output_type": "stream",
          "name": "stderr",
          "text": [
            "/usr/local/lib/python3.7/dist-packages/ipykernel_launcher.py:4: UserWarning: \n",
            "The dash_core_components package is deprecated. Please replace\n",
            "`import dash_core_components as dcc` with `from dash import dcc`\n",
            "  after removing the cwd from sys.path.\n"
          ]
        }
      ],
      "source": [
        "import pandas as pd\n",
        "!pip install dash\n",
        "import dash\n",
        "import dash_core_components as dcc\n",
        "#import dash_html_components as html\n",
        "from dash import html\n",
        "from dash.dependencies import Input,Output\n",
        "import plotly.express as px\n",
        "import matplotlib.pyplot as plt"
      ]
    },
    {
      "cell_type": "markdown",
      "metadata": {
        "id": "hYbL4mPrICSi"
      },
      "source": [
        "### Setando google drive pra carregar a base"
      ]
    },
    {
      "cell_type": "code",
      "execution_count": null,
      "metadata": {
        "colab": {
          "base_uri": "https://localhost:8080/"
        },
        "id": "HdhEcHfeH-ww",
        "outputId": "3cf11c80-43a1-4ee3-e3e6-53c6a286034a"
      },
      "outputs": [
        {
          "output_type": "stream",
          "name": "stdout",
          "text": [
            "Mounted at /content/gdrive\n"
          ]
        }
      ],
      "source": [
        "from google.colab import drive\n",
        "drive.mount('/content/gdrive')"
      ]
    },
    {
      "cell_type": "markdown",
      "metadata": {
        "id": "mo9oajxXIbhC"
      },
      "source": [
        "### Carregando Dataset"
      ]
    },
    {
      "cell_type": "code",
      "execution_count": null,
      "metadata": {
        "colab": {
          "base_uri": "https://localhost:8080/",
          "height": 424
        },
        "id": "ozhyCOLpIJVe",
        "outputId": "0a3829d9-9763-4012-8a3f-3142d8e55726"
      },
      "outputs": [
        {
          "output_type": "execute_result",
          "data": {
            "text/html": [
              "\n",
              "  <div id=\"df-3d26c2b2-5c3e-4aac-bc53-40b504499839\">\n",
              "    <div class=\"colab-df-container\">\n",
              "      <div>\n",
              "<style scoped>\n",
              "    .dataframe tbody tr th:only-of-type {\n",
              "        vertical-align: middle;\n",
              "    }\n",
              "\n",
              "    .dataframe tbody tr th {\n",
              "        vertical-align: top;\n",
              "    }\n",
              "\n",
              "    .dataframe thead th {\n",
              "        text-align: right;\n",
              "    }\n",
              "</style>\n",
              "<table border=\"1\" class=\"dataframe\">\n",
              "  <thead>\n",
              "    <tr style=\"text-align: right;\">\n",
              "      <th></th>\n",
              "      <th>cod_em</th>\n",
              "      <th>num_doc</th>\n",
              "      <th>data</th>\n",
              "      <th>Qtde</th>\n",
              "      <th>Produto</th>\n",
              "    </tr>\n",
              "  </thead>\n",
              "  <tbody>\n",
              "    <tr>\n",
              "      <th>0</th>\n",
              "      <td>21</td>\n",
              "      <td>6332</td>\n",
              "      <td>2016-09-28 09:45:38</td>\n",
              "      <td>2</td>\n",
              "      <td>GLP 13KG</td>\n",
              "    </tr>\n",
              "    <tr>\n",
              "      <th>1</th>\n",
              "      <td>21</td>\n",
              "      <td>6333</td>\n",
              "      <td>2016-09-28 10:04:18</td>\n",
              "      <td>20</td>\n",
              "      <td>GLP 13KG</td>\n",
              "    </tr>\n",
              "    <tr>\n",
              "      <th>2</th>\n",
              "      <td>21</td>\n",
              "      <td>6334</td>\n",
              "      <td>2016-09-28 10:06:34</td>\n",
              "      <td>30</td>\n",
              "      <td>GLP 13KG</td>\n",
              "    </tr>\n",
              "    <tr>\n",
              "      <th>3</th>\n",
              "      <td>21</td>\n",
              "      <td>6335</td>\n",
              "      <td>2016-09-28 10:09:02</td>\n",
              "      <td>7</td>\n",
              "      <td>GLP 13KG</td>\n",
              "    </tr>\n",
              "    <tr>\n",
              "      <th>4</th>\n",
              "      <td>21</td>\n",
              "      <td>6336</td>\n",
              "      <td>2016-09-28 10:10:31</td>\n",
              "      <td>10</td>\n",
              "      <td>GLP 13KG</td>\n",
              "    </tr>\n",
              "    <tr>\n",
              "      <th>...</th>\n",
              "      <td>...</td>\n",
              "      <td>...</td>\n",
              "      <td>...</td>\n",
              "      <td>...</td>\n",
              "      <td>...</td>\n",
              "    </tr>\n",
              "    <tr>\n",
              "      <th>1558121</th>\n",
              "      <td>19</td>\n",
              "      <td>1997669</td>\n",
              "      <td>2022-01-18 09:44:07</td>\n",
              "      <td>1</td>\n",
              "      <td>GLP 5KG</td>\n",
              "    </tr>\n",
              "    <tr>\n",
              "      <th>1558122</th>\n",
              "      <td>19</td>\n",
              "      <td>1997670</td>\n",
              "      <td>2022-01-18 09:47:04</td>\n",
              "      <td>1</td>\n",
              "      <td>GLP 5KG</td>\n",
              "    </tr>\n",
              "    <tr>\n",
              "      <th>1558123</th>\n",
              "      <td>19</td>\n",
              "      <td>1997671</td>\n",
              "      <td>2022-01-18 09:47:06</td>\n",
              "      <td>1</td>\n",
              "      <td>GLP 5KG</td>\n",
              "    </tr>\n",
              "    <tr>\n",
              "      <th>1558124</th>\n",
              "      <td>19</td>\n",
              "      <td>1997672</td>\n",
              "      <td>2022-01-18 09:47:08</td>\n",
              "      <td>1</td>\n",
              "      <td>GLP 5KG</td>\n",
              "    </tr>\n",
              "    <tr>\n",
              "      <th>1558125</th>\n",
              "      <td>19</td>\n",
              "      <td>1997673</td>\n",
              "      <td>2022-01-18 09:47:11</td>\n",
              "      <td>1</td>\n",
              "      <td>GLP 5KG</td>\n",
              "    </tr>\n",
              "  </tbody>\n",
              "</table>\n",
              "<p>1558126 rows × 5 columns</p>\n",
              "</div>\n",
              "      <button class=\"colab-df-convert\" onclick=\"convertToInteractive('df-3d26c2b2-5c3e-4aac-bc53-40b504499839')\"\n",
              "              title=\"Convert this dataframe to an interactive table.\"\n",
              "              style=\"display:none;\">\n",
              "        \n",
              "  <svg xmlns=\"http://www.w3.org/2000/svg\" height=\"24px\"viewBox=\"0 0 24 24\"\n",
              "       width=\"24px\">\n",
              "    <path d=\"M0 0h24v24H0V0z\" fill=\"none\"/>\n",
              "    <path d=\"M18.56 5.44l.94 2.06.94-2.06 2.06-.94-2.06-.94-.94-2.06-.94 2.06-2.06.94zm-11 1L8.5 8.5l.94-2.06 2.06-.94-2.06-.94L8.5 2.5l-.94 2.06-2.06.94zm10 10l.94 2.06.94-2.06 2.06-.94-2.06-.94-.94-2.06-.94 2.06-2.06.94z\"/><path d=\"M17.41 7.96l-1.37-1.37c-.4-.4-.92-.59-1.43-.59-.52 0-1.04.2-1.43.59L10.3 9.45l-7.72 7.72c-.78.78-.78 2.05 0 2.83L4 21.41c.39.39.9.59 1.41.59.51 0 1.02-.2 1.41-.59l7.78-7.78 2.81-2.81c.8-.78.8-2.07 0-2.86zM5.41 20L4 18.59l7.72-7.72 1.47 1.35L5.41 20z\"/>\n",
              "  </svg>\n",
              "      </button>\n",
              "      \n",
              "  <style>\n",
              "    .colab-df-container {\n",
              "      display:flex;\n",
              "      flex-wrap:wrap;\n",
              "      gap: 12px;\n",
              "    }\n",
              "\n",
              "    .colab-df-convert {\n",
              "      background-color: #E8F0FE;\n",
              "      border: none;\n",
              "      border-radius: 50%;\n",
              "      cursor: pointer;\n",
              "      display: none;\n",
              "      fill: #1967D2;\n",
              "      height: 32px;\n",
              "      padding: 0 0 0 0;\n",
              "      width: 32px;\n",
              "    }\n",
              "\n",
              "    .colab-df-convert:hover {\n",
              "      background-color: #E2EBFA;\n",
              "      box-shadow: 0px 1px 2px rgba(60, 64, 67, 0.3), 0px 1px 3px 1px rgba(60, 64, 67, 0.15);\n",
              "      fill: #174EA6;\n",
              "    }\n",
              "\n",
              "    [theme=dark] .colab-df-convert {\n",
              "      background-color: #3B4455;\n",
              "      fill: #D2E3FC;\n",
              "    }\n",
              "\n",
              "    [theme=dark] .colab-df-convert:hover {\n",
              "      background-color: #434B5C;\n",
              "      box-shadow: 0px 1px 3px 1px rgba(0, 0, 0, 0.15);\n",
              "      filter: drop-shadow(0px 1px 2px rgba(0, 0, 0, 0.3));\n",
              "      fill: #FFFFFF;\n",
              "    }\n",
              "  </style>\n",
              "\n",
              "      <script>\n",
              "        const buttonEl =\n",
              "          document.querySelector('#df-3d26c2b2-5c3e-4aac-bc53-40b504499839 button.colab-df-convert');\n",
              "        buttonEl.style.display =\n",
              "          google.colab.kernel.accessAllowed ? 'block' : 'none';\n",
              "\n",
              "        async function convertToInteractive(key) {\n",
              "          const element = document.querySelector('#df-3d26c2b2-5c3e-4aac-bc53-40b504499839');\n",
              "          const dataTable =\n",
              "            await google.colab.kernel.invokeFunction('convertToInteractive',\n",
              "                                                     [key], {});\n",
              "          if (!dataTable) return;\n",
              "\n",
              "          const docLinkHtml = 'Like what you see? Visit the ' +\n",
              "            '<a target=\"_blank\" href=https://colab.research.google.com/notebooks/data_table.ipynb>data table notebook</a>'\n",
              "            + ' to learn more about interactive tables.';\n",
              "          element.innerHTML = '';\n",
              "          dataTable['output_type'] = 'display_data';\n",
              "          await google.colab.output.renderOutput(dataTable, element);\n",
              "          const docLink = document.createElement('div');\n",
              "          docLink.innerHTML = docLinkHtml;\n",
              "          element.appendChild(docLink);\n",
              "        }\n",
              "      </script>\n",
              "    </div>\n",
              "  </div>\n",
              "  "
            ],
            "text/plain": [
              "         cod_em  num_doc                data  Qtde   Produto\n",
              "0            21     6332 2016-09-28 09:45:38     2  GLP 13KG\n",
              "1            21     6333 2016-09-28 10:04:18    20  GLP 13KG\n",
              "2            21     6334 2016-09-28 10:06:34    30  GLP 13KG\n",
              "3            21     6335 2016-09-28 10:09:02     7  GLP 13KG\n",
              "4            21     6336 2016-09-28 10:10:31    10  GLP 13KG\n",
              "...         ...      ...                 ...   ...       ...\n",
              "1558121      19  1997669 2022-01-18 09:44:07     1   GLP 5KG\n",
              "1558122      19  1997670 2022-01-18 09:47:04     1   GLP 5KG\n",
              "1558123      19  1997671 2022-01-18 09:47:06     1   GLP 5KG\n",
              "1558124      19  1997672 2022-01-18 09:47:08     1   GLP 5KG\n",
              "1558125      19  1997673 2022-01-18 09:47:11     1   GLP 5KG\n",
              "\n",
              "[1558126 rows x 5 columns]"
            ]
          },
          "metadata": {},
          "execution_count": 4
        }
      ],
      "source": [
        "revgas = pd.read_csv('/content/gdrive/MyDrive/REVGAS/dados_nfe.csv')\n",
        "revgas['data'] = pd.to_datetime(revgas['data'])\n",
        "revgas = pd.read_csv('/content/gdrive/MyDrive/REVGAS/dados_nfe.csv',parse_dates=[\"data\"])\n",
        "\n",
        "revgas"
      ]
    },
    {
      "cell_type": "markdown",
      "metadata": {
        "id": "BzVMLQKqKkcw"
      },
      "source": [
        "### Informações de linhas e colunas do dataset"
      ]
    },
    {
      "cell_type": "code",
      "execution_count": null,
      "metadata": {
        "colab": {
          "base_uri": "https://localhost:8080/"
        },
        "id": "ReOG8KBPKjUz",
        "outputId": "2f379711-0573-48ca-b53f-0b1ed992deaa"
      },
      "outputs": [
        {
          "output_type": "stream",
          "name": "stdout",
          "text": [
            "Quantidade de linhas e colunas (1558126, 5)\n"
          ]
        }
      ],
      "source": [
        "print ('Quantidade de linhas e colunas', revgas.shape)"
      ]
    },
    {
      "cell_type": "markdown",
      "metadata": {
        "id": "6U_na5PKK0tt"
      },
      "source": [
        "### Data inicial"
      ]
    },
    {
      "cell_type": "code",
      "execution_count": null,
      "metadata": {
        "colab": {
          "base_uri": "https://localhost:8080/"
        },
        "id": "T6le6RpvKyMw",
        "outputId": "bf0dd516-eed9-4a23-b6e6-c279acdff693"
      },
      "outputs": [
        {
          "output_type": "execute_result",
          "data": {
            "text/plain": [
              "Timestamp('2016-09-28 09:45:38')"
            ]
          },
          "metadata": {},
          "execution_count": 6
        }
      ],
      "source": [
        "revgas[\"data\"].min()"
      ]
    },
    {
      "cell_type": "markdown",
      "metadata": {
        "id": "jRW5ydcvLDd4"
      },
      "source": [
        "###Data final "
      ]
    },
    {
      "cell_type": "code",
      "execution_count": null,
      "metadata": {
        "colab": {
          "base_uri": "https://localhost:8080/"
        },
        "id": "XFpK3s0HK-qO",
        "outputId": "32fe38f6-79b5-4e59-e9d6-6820915a80a2"
      },
      "outputs": [
        {
          "output_type": "execute_result",
          "data": {
            "text/plain": [
              "Timestamp('2022-01-18 09:47:11')"
            ]
          },
          "metadata": {},
          "execution_count": 7
        }
      ],
      "source": [
        "revgas[\"data\"].max()"
      ]
    },
    {
      "cell_type": "markdown",
      "metadata": {
        "id": "THQtnddZLQ-6"
      },
      "source": [
        "###Quantidade total de dias (intervalo - data inicial - data final)"
      ]
    },
    {
      "cell_type": "code",
      "execution_count": null,
      "metadata": {
        "colab": {
          "base_uri": "https://localhost:8080/"
        },
        "id": "YrL2hLGULPT5",
        "outputId": "4dc2a67f-7e4c-48f1-dcbc-d4e8fbe86498"
      },
      "outputs": [
        {
          "output_type": "execute_result",
          "data": {
            "text/plain": [
              "Timedelta('1938 days 00:01:33')"
            ]
          },
          "metadata": {},
          "execution_count": 8
        }
      ],
      "source": [
        "revgas[\"data\"].max()-revgas[\"data\"].min()"
      ]
    },
    {
      "cell_type": "markdown",
      "metadata": {
        "id": "2DSpZfa5LnUy"
      },
      "source": [
        "### Informações de dados nulos da base"
      ]
    },
    {
      "cell_type": "code",
      "execution_count": null,
      "metadata": {
        "colab": {
          "base_uri": "https://localhost:8080/"
        },
        "id": "_IvDjOD2LmzD",
        "outputId": "32d64e6f-493c-4322-fdec-32d2bc42ae2c"
      },
      "outputs": [
        {
          "output_type": "stream",
          "name": "stdout",
          "text": [
            "Quantidade de dado nulos 0\n"
          ]
        }
      ],
      "source": [
        "print ('Quantidade de dado nulos',revgas.isna().sum().sum())"
      ]
    },
    {
      "cell_type": "markdown",
      "metadata": {
        "id": "CmSsk-xzLvDd"
      },
      "source": [
        "### Tipos de dados"
      ]
    },
    {
      "cell_type": "code",
      "execution_count": null,
      "metadata": {
        "colab": {
          "base_uri": "https://localhost:8080/"
        },
        "id": "vhm5M4LQLuh5",
        "outputId": "39d3bec4-5269-4b9c-b696-216616ee3455"
      },
      "outputs": [
        {
          "output_type": "execute_result",
          "data": {
            "text/plain": [
              "cod_em              int64\n",
              "num_doc             int64\n",
              "data       datetime64[ns]\n",
              "Qtde                int64\n",
              "Produto            object\n",
              "dtype: object"
            ]
          },
          "metadata": {},
          "execution_count": 10
        }
      ],
      "source": [
        "revgas.dtypes"
      ]
    },
    {
      "cell_type": "markdown",
      "metadata": {
        "id": "4nnYX--AMHMF"
      },
      "source": [
        "### Decomposição do atributo data"
      ]
    },
    {
      "cell_type": "code",
      "execution_count": null,
      "metadata": {
        "colab": {
          "base_uri": "https://localhost:8080/",
          "height": 662
        },
        "id": "i3_6aV8OMESG",
        "outputId": "c0188d47-f9b0-4f84-faa8-4b6c9b5ff56a"
      },
      "outputs": [
        {
          "output_type": "execute_result",
          "data": {
            "text/html": [
              "\n",
              "  <div id=\"df-305c3266-432e-49e0-a630-b4fe5785b3f2\">\n",
              "    <div class=\"colab-df-container\">\n",
              "      <div>\n",
              "<style scoped>\n",
              "    .dataframe tbody tr th:only-of-type {\n",
              "        vertical-align: middle;\n",
              "    }\n",
              "\n",
              "    .dataframe tbody tr th {\n",
              "        vertical-align: top;\n",
              "    }\n",
              "\n",
              "    .dataframe thead th {\n",
              "        text-align: right;\n",
              "    }\n",
              "</style>\n",
              "<table border=\"1\" class=\"dataframe\">\n",
              "  <thead>\n",
              "    <tr style=\"text-align: right;\">\n",
              "      <th></th>\n",
              "      <th>cod_em</th>\n",
              "      <th>num_doc</th>\n",
              "      <th>data</th>\n",
              "      <th>Qtde</th>\n",
              "      <th>Produto</th>\n",
              "      <th>dia</th>\n",
              "      <th>mes</th>\n",
              "      <th>ano</th>\n",
              "      <th>hora</th>\n",
              "      <th>minuto</th>\n",
              "    </tr>\n",
              "  </thead>\n",
              "  <tbody>\n",
              "    <tr>\n",
              "      <th>0</th>\n",
              "      <td>21</td>\n",
              "      <td>6332</td>\n",
              "      <td>2016-09-28 09:45:38</td>\n",
              "      <td>2</td>\n",
              "      <td>GLP 13KG</td>\n",
              "      <td>28</td>\n",
              "      <td>9</td>\n",
              "      <td>2016</td>\n",
              "      <td>9</td>\n",
              "      <td>45</td>\n",
              "    </tr>\n",
              "    <tr>\n",
              "      <th>1</th>\n",
              "      <td>21</td>\n",
              "      <td>6333</td>\n",
              "      <td>2016-09-28 10:04:18</td>\n",
              "      <td>20</td>\n",
              "      <td>GLP 13KG</td>\n",
              "      <td>28</td>\n",
              "      <td>9</td>\n",
              "      <td>2016</td>\n",
              "      <td>10</td>\n",
              "      <td>4</td>\n",
              "    </tr>\n",
              "    <tr>\n",
              "      <th>2</th>\n",
              "      <td>21</td>\n",
              "      <td>6334</td>\n",
              "      <td>2016-09-28 10:06:34</td>\n",
              "      <td>30</td>\n",
              "      <td>GLP 13KG</td>\n",
              "      <td>28</td>\n",
              "      <td>9</td>\n",
              "      <td>2016</td>\n",
              "      <td>10</td>\n",
              "      <td>6</td>\n",
              "    </tr>\n",
              "    <tr>\n",
              "      <th>3</th>\n",
              "      <td>21</td>\n",
              "      <td>6335</td>\n",
              "      <td>2016-09-28 10:09:02</td>\n",
              "      <td>7</td>\n",
              "      <td>GLP 13KG</td>\n",
              "      <td>28</td>\n",
              "      <td>9</td>\n",
              "      <td>2016</td>\n",
              "      <td>10</td>\n",
              "      <td>9</td>\n",
              "    </tr>\n",
              "    <tr>\n",
              "      <th>4</th>\n",
              "      <td>21</td>\n",
              "      <td>6336</td>\n",
              "      <td>2016-09-28 10:10:31</td>\n",
              "      <td>10</td>\n",
              "      <td>GLP 13KG</td>\n",
              "      <td>28</td>\n",
              "      <td>9</td>\n",
              "      <td>2016</td>\n",
              "      <td>10</td>\n",
              "      <td>10</td>\n",
              "    </tr>\n",
              "    <tr>\n",
              "      <th>...</th>\n",
              "      <td>...</td>\n",
              "      <td>...</td>\n",
              "      <td>...</td>\n",
              "      <td>...</td>\n",
              "      <td>...</td>\n",
              "      <td>...</td>\n",
              "      <td>...</td>\n",
              "      <td>...</td>\n",
              "      <td>...</td>\n",
              "      <td>...</td>\n",
              "    </tr>\n",
              "    <tr>\n",
              "      <th>1558121</th>\n",
              "      <td>19</td>\n",
              "      <td>1997669</td>\n",
              "      <td>2022-01-18 09:44:07</td>\n",
              "      <td>1</td>\n",
              "      <td>GLP 5KG</td>\n",
              "      <td>18</td>\n",
              "      <td>1</td>\n",
              "      <td>2022</td>\n",
              "      <td>9</td>\n",
              "      <td>44</td>\n",
              "    </tr>\n",
              "    <tr>\n",
              "      <th>1558122</th>\n",
              "      <td>19</td>\n",
              "      <td>1997670</td>\n",
              "      <td>2022-01-18 09:47:04</td>\n",
              "      <td>1</td>\n",
              "      <td>GLP 5KG</td>\n",
              "      <td>18</td>\n",
              "      <td>1</td>\n",
              "      <td>2022</td>\n",
              "      <td>9</td>\n",
              "      <td>47</td>\n",
              "    </tr>\n",
              "    <tr>\n",
              "      <th>1558123</th>\n",
              "      <td>19</td>\n",
              "      <td>1997671</td>\n",
              "      <td>2022-01-18 09:47:06</td>\n",
              "      <td>1</td>\n",
              "      <td>GLP 5KG</td>\n",
              "      <td>18</td>\n",
              "      <td>1</td>\n",
              "      <td>2022</td>\n",
              "      <td>9</td>\n",
              "      <td>47</td>\n",
              "    </tr>\n",
              "    <tr>\n",
              "      <th>1558124</th>\n",
              "      <td>19</td>\n",
              "      <td>1997672</td>\n",
              "      <td>2022-01-18 09:47:08</td>\n",
              "      <td>1</td>\n",
              "      <td>GLP 5KG</td>\n",
              "      <td>18</td>\n",
              "      <td>1</td>\n",
              "      <td>2022</td>\n",
              "      <td>9</td>\n",
              "      <td>47</td>\n",
              "    </tr>\n",
              "    <tr>\n",
              "      <th>1558125</th>\n",
              "      <td>19</td>\n",
              "      <td>1997673</td>\n",
              "      <td>2022-01-18 09:47:11</td>\n",
              "      <td>1</td>\n",
              "      <td>GLP 5KG</td>\n",
              "      <td>18</td>\n",
              "      <td>1</td>\n",
              "      <td>2022</td>\n",
              "      <td>9</td>\n",
              "      <td>47</td>\n",
              "    </tr>\n",
              "  </tbody>\n",
              "</table>\n",
              "<p>1558126 rows × 10 columns</p>\n",
              "</div>\n",
              "      <button class=\"colab-df-convert\" onclick=\"convertToInteractive('df-305c3266-432e-49e0-a630-b4fe5785b3f2')\"\n",
              "              title=\"Convert this dataframe to an interactive table.\"\n",
              "              style=\"display:none;\">\n",
              "        \n",
              "  <svg xmlns=\"http://www.w3.org/2000/svg\" height=\"24px\"viewBox=\"0 0 24 24\"\n",
              "       width=\"24px\">\n",
              "    <path d=\"M0 0h24v24H0V0z\" fill=\"none\"/>\n",
              "    <path d=\"M18.56 5.44l.94 2.06.94-2.06 2.06-.94-2.06-.94-.94-2.06-.94 2.06-2.06.94zm-11 1L8.5 8.5l.94-2.06 2.06-.94-2.06-.94L8.5 2.5l-.94 2.06-2.06.94zm10 10l.94 2.06.94-2.06 2.06-.94-2.06-.94-.94-2.06-.94 2.06-2.06.94z\"/><path d=\"M17.41 7.96l-1.37-1.37c-.4-.4-.92-.59-1.43-.59-.52 0-1.04.2-1.43.59L10.3 9.45l-7.72 7.72c-.78.78-.78 2.05 0 2.83L4 21.41c.39.39.9.59 1.41.59.51 0 1.02-.2 1.41-.59l7.78-7.78 2.81-2.81c.8-.78.8-2.07 0-2.86zM5.41 20L4 18.59l7.72-7.72 1.47 1.35L5.41 20z\"/>\n",
              "  </svg>\n",
              "      </button>\n",
              "      \n",
              "  <style>\n",
              "    .colab-df-container {\n",
              "      display:flex;\n",
              "      flex-wrap:wrap;\n",
              "      gap: 12px;\n",
              "    }\n",
              "\n",
              "    .colab-df-convert {\n",
              "      background-color: #E8F0FE;\n",
              "      border: none;\n",
              "      border-radius: 50%;\n",
              "      cursor: pointer;\n",
              "      display: none;\n",
              "      fill: #1967D2;\n",
              "      height: 32px;\n",
              "      padding: 0 0 0 0;\n",
              "      width: 32px;\n",
              "    }\n",
              "\n",
              "    .colab-df-convert:hover {\n",
              "      background-color: #E2EBFA;\n",
              "      box-shadow: 0px 1px 2px rgba(60, 64, 67, 0.3), 0px 1px 3px 1px rgba(60, 64, 67, 0.15);\n",
              "      fill: #174EA6;\n",
              "    }\n",
              "\n",
              "    [theme=dark] .colab-df-convert {\n",
              "      background-color: #3B4455;\n",
              "      fill: #D2E3FC;\n",
              "    }\n",
              "\n",
              "    [theme=dark] .colab-df-convert:hover {\n",
              "      background-color: #434B5C;\n",
              "      box-shadow: 0px 1px 3px 1px rgba(0, 0, 0, 0.15);\n",
              "      filter: drop-shadow(0px 1px 2px rgba(0, 0, 0, 0.3));\n",
              "      fill: #FFFFFF;\n",
              "    }\n",
              "  </style>\n",
              "\n",
              "      <script>\n",
              "        const buttonEl =\n",
              "          document.querySelector('#df-305c3266-432e-49e0-a630-b4fe5785b3f2 button.colab-df-convert');\n",
              "        buttonEl.style.display =\n",
              "          google.colab.kernel.accessAllowed ? 'block' : 'none';\n",
              "\n",
              "        async function convertToInteractive(key) {\n",
              "          const element = document.querySelector('#df-305c3266-432e-49e0-a630-b4fe5785b3f2');\n",
              "          const dataTable =\n",
              "            await google.colab.kernel.invokeFunction('convertToInteractive',\n",
              "                                                     [key], {});\n",
              "          if (!dataTable) return;\n",
              "\n",
              "          const docLinkHtml = 'Like what you see? Visit the ' +\n",
              "            '<a target=\"_blank\" href=https://colab.research.google.com/notebooks/data_table.ipynb>data table notebook</a>'\n",
              "            + ' to learn more about interactive tables.';\n",
              "          element.innerHTML = '';\n",
              "          dataTable['output_type'] = 'display_data';\n",
              "          await google.colab.output.renderOutput(dataTable, element);\n",
              "          const docLink = document.createElement('div');\n",
              "          docLink.innerHTML = docLinkHtml;\n",
              "          element.appendChild(docLink);\n",
              "        }\n",
              "      </script>\n",
              "    </div>\n",
              "  </div>\n",
              "  "
            ],
            "text/plain": [
              "         cod_em  num_doc                data  Qtde   Produto  dia  mes   ano  \\\n",
              "0            21     6332 2016-09-28 09:45:38     2  GLP 13KG   28    9  2016   \n",
              "1            21     6333 2016-09-28 10:04:18    20  GLP 13KG   28    9  2016   \n",
              "2            21     6334 2016-09-28 10:06:34    30  GLP 13KG   28    9  2016   \n",
              "3            21     6335 2016-09-28 10:09:02     7  GLP 13KG   28    9  2016   \n",
              "4            21     6336 2016-09-28 10:10:31    10  GLP 13KG   28    9  2016   \n",
              "...         ...      ...                 ...   ...       ...  ...  ...   ...   \n",
              "1558121      19  1997669 2022-01-18 09:44:07     1   GLP 5KG   18    1  2022   \n",
              "1558122      19  1997670 2022-01-18 09:47:04     1   GLP 5KG   18    1  2022   \n",
              "1558123      19  1997671 2022-01-18 09:47:06     1   GLP 5KG   18    1  2022   \n",
              "1558124      19  1997672 2022-01-18 09:47:08     1   GLP 5KG   18    1  2022   \n",
              "1558125      19  1997673 2022-01-18 09:47:11     1   GLP 5KG   18    1  2022   \n",
              "\n",
              "         hora  minuto  \n",
              "0           9      45  \n",
              "1          10       4  \n",
              "2          10       6  \n",
              "3          10       9  \n",
              "4          10      10  \n",
              "...       ...     ...  \n",
              "1558121     9      44  \n",
              "1558122     9      47  \n",
              "1558123     9      47  \n",
              "1558124     9      47  \n",
              "1558125     9      47  \n",
              "\n",
              "[1558126 rows x 10 columns]"
            ]
          },
          "metadata": {},
          "execution_count": 11
        }
      ],
      "source": [
        "# Create novas colunas\n",
        "revgas['dia']    = revgas['data'].dt.day\n",
        "revgas['mes']    = revgas['data'].dt.month\n",
        "revgas['ano']    = revgas['data'].dt.year\n",
        "revgas['hora']   = revgas['data'].dt.hour\n",
        "revgas['minuto'] = revgas['data'].dt.minute\n",
        "revgas"
      ]
    },
    {
      "cell_type": "markdown",
      "metadata": {
        "id": "PvWZAgwl8Ceh"
      },
      "source": [
        "## NFE  (por empresa)"
      ]
    },
    {
      "cell_type": "markdown",
      "metadata": {
        "id": "NKjDO2JS8hNy"
      },
      "source": [
        "### Dados"
      ]
    },
    {
      "cell_type": "code",
      "execution_count": null,
      "metadata": {
        "colab": {
          "base_uri": "https://localhost:8080/"
        },
        "id": "seSp1RPE7-XJ",
        "outputId": "56a5223d-ed95-4f32-f5b3-533867fbc609"
      },
      "outputs": [
        {
          "output_type": "execute_result",
          "data": {
            "text/plain": [
              "cod_em\n",
              "9      23321\n",
              "11        32\n",
              "19      1097\n",
              "21      7703\n",
              "22      2653\n",
              "       ...  \n",
              "939      327\n",
              "941        1\n",
              "942        1\n",
              "945      516\n",
              "948       63\n",
              "Name: num_doc, Length: 392, dtype: int64"
            ]
          },
          "metadata": {},
          "execution_count": 12
        }
      ],
      "source": [
        "revgas_empresa = revgas.groupby([revgas[\"cod_em\"]])[\"num_doc\"].count()\n",
        "revgas_empresa"
      ]
    },
    {
      "cell_type": "markdown",
      "metadata": {
        "id": "RFZ8HDAY-U-h"
      },
      "source": [
        "### Gráfico"
      ]
    },
    {
      "cell_type": "code",
      "execution_count": null,
      "metadata": {
        "colab": {
          "base_uri": "https://localhost:8080/",
          "height": 54
        },
        "id": "j8ew3meC8uFY",
        "outputId": "8c750230-a240-4beb-e17a-e2df7cf433cc"
      },
      "outputs": [
        {
          "data": {
            "image/png": "[encoded data removed]",
            "text/plain": [
              "<Figure size 8640x2880 with 1 Axes>"
            ]
          },
          "metadata": {},
          "output_type": "display_data"
        }
      ],
      "source": [
        "revgas_empresa = revgas.groupby([revgas[\"cod_em\"]])[\"num_doc\"].count().plot(kind='bar',colormap='Paired',stacked=True,figsize=(120, 40))"
      ]
    },
    {
      "cell_type": "markdown",
      "metadata": {
        "id": "oEe1XzbmMTw8"
      },
      "source": [
        "## NFE  (dia da semana e empresa)\n",
        "\n",
        "\n",
        "\n"
      ]
    },
    {
      "cell_type": "markdown",
      "metadata": {
        "id": "SvqaLhRl6c2I"
      },
      "source": [
        "### Dados"
      ]
    },
    {
      "cell_type": "code",
      "execution_count": null,
      "metadata": {
        "colab": {
          "base_uri": "https://localhost:8080/"
        },
        "id": "6b7RyjeGMZox",
        "outputId": "f8d35bbb-b6af-4bd8-efc6-63dad1a5330c"
      },
      "outputs": [
        {
          "data": {
            "text/plain": [
              "data  cod_em\n",
              "0     9         3821\n",
              "      11           7\n",
              "      19         142\n",
              "      21        1484\n",
              "      22         574\n",
              "Name: num_doc, dtype: int64"
            ]
          },
          "execution_count": 14,
          "metadata": {},
          "output_type": "execute_result"
        }
      ],
      "source": [
        "revgas_Dia_semana_intervalo_data = revgas.groupby([revgas[\"data\"].dt.weekday,\"cod_em\"])[\"num_doc\"].count()\n",
        "revgas_Dia_semana_intervalo_data.head()"
      ]
    },
    {
      "cell_type": "markdown",
      "metadata": {
        "id": "SxIFu2Pq478x"
      },
      "source": [
        "## NFE  (apenas dia da semana)\n",
        "\n"
      ]
    },
    {
      "cell_type": "markdown",
      "metadata": {
        "id": "1K8iMw1_56dT"
      },
      "source": [
        "### Dados"
      ]
    },
    {
      "cell_type": "code",
      "execution_count": null,
      "metadata": {
        "colab": {
          "base_uri": "https://localhost:8080/"
        },
        "id": "JEM5G79Wu6yF",
        "outputId": "61dafa63-1d70-46a0-cad9-a762febe628e"
      },
      "outputs": [
        {
          "data": {
            "text/plain": [
              "data\n",
              "0    262239\n",
              "1    261365\n",
              "2    257942\n",
              "3    262701\n",
              "4    242433\n",
              "5    189543\n",
              "6     81903\n",
              "Name: num_doc, dtype: int64"
            ]
          },
          "execution_count": 15,
          "metadata": {},
          "output_type": "execute_result"
        }
      ],
      "source": [
        "revgas_Dia_semana_intervalo_data = revgas.groupby([revgas[\"data\"].dt.weekday])[\"num_doc\"].count()\n",
        "revgas_Dia_semana_intervalo_data "
      ]
    },
    {
      "cell_type": "markdown",
      "metadata": {
        "id": "LSwWCD9Q4xBr"
      },
      "source": [
        "### Gráfico"
      ]
    },
    {
      "cell_type": "code",
      "execution_count": null,
      "metadata": {
        "colab": {
          "base_uri": "https://localhost:8080/",
          "height": 602
        },
        "id": "vOyUDt8N4y8h",
        "outputId": "a3f33d85-567f-430c-db4d-a2fd7227aa10"
      },
      "outputs": [
        {
          "data": {
            "image/png": "[encoded data removed]",
            "text/plain": [
              "<Figure size 864x720 with 1 Axes>"
            ]
          },
          "metadata": {},
          "output_type": "display_data"
        }
      ],
      "source": [
        "revgas_Dia_semana_intervalo_data = revgas.groupby([revgas[\"data\"].dt.weekday])[\"num_doc\"].count().plot(kind='bar',colormap='Paired',stacked=True,figsize=(12, 10))\n"
      ]
    },
    {
      "cell_type": "markdown",
      "metadata": {
        "id": "hwhuGE41Mmlq"
      },
      "source": [
        "## NFE  (apenas por hora)"
      ]
    },
    {
      "cell_type": "markdown",
      "metadata": {
        "id": "MUnv9W5M_i0N"
      },
      "source": [
        "### Dados"
      ]
    },
    {
      "cell_type": "code",
      "execution_count": null,
      "metadata": {
        "colab": {
          "base_uri": "https://localhost:8080/"
        },
        "id": "6XegluFxMzeO",
        "outputId": "7b1d5e1d-53f3-4eb2-8769-b63661df3ef4"
      },
      "outputs": [
        {
          "data": {
            "text/plain": [
              "data\n",
              "0        640\n",
              "1         37\n",
              "2         40\n",
              "3         30\n",
              "4         16\n",
              "5        781\n",
              "6      48904\n",
              "7      81654\n",
              "8      88910\n",
              "9     117324\n",
              "10    135259\n",
              "11    136188\n",
              "12     92513\n",
              "13     64259\n",
              "14     88697\n",
              "15    120984\n",
              "16    134144\n",
              "17    155791\n",
              "18    123217\n",
              "19     66686\n",
              "20     38784\n",
              "21     29416\n",
              "22     22470\n",
              "23     11382\n",
              "Name: num_doc, dtype: int64"
            ]
          },
          "execution_count": 18,
          "metadata": {},
          "output_type": "execute_result"
        }
      ],
      "source": [
        "### Gerar arquivo e enviaras\n",
        "#### Hora >>> Colunua >>> graf\n",
        "revgas_nfe_hora = revgas.groupby([revgas[\"data\"].dt.hour])[\"num_doc\"].count()\n",
        "#plt.gca().xaxis.set_major_locator(plt.MultipleLocator(2))\n",
        "\n",
        "revgas_nfe_hora"
      ]
    },
    {
      "cell_type": "markdown",
      "metadata": {
        "id": "L3fye3m3C5UQ"
      },
      "source": [
        "###Gráfico"
      ]
    },
    {
      "cell_type": "code",
      "execution_count": null,
      "metadata": {
        "colab": {
          "base_uri": "https://localhost:8080/",
          "height": 282
        },
        "id": "wb5dmwsxCr9R",
        "outputId": "55b0778a-4056-463a-c64f-0a153ec59938"
      },
      "outputs": [
        {
          "data": {
            "image/png": "[encoded data removed]",
            "text/plain": [
              "<Figure size 432x288 with 1 Axes>"
            ]
          },
          "metadata": {},
          "output_type": "display_data"
        }
      ],
      "source": [
        "revgas_nfe_hora = revgas.groupby([revgas[\"data\"].dt.hour])[\"num_doc\"].count().plot(kind='bar',colormap='Paired')"
      ]
    },
    {
      "cell_type": "markdown",
      "metadata": {
        "id": "9XWpIfiWM-g0"
      },
      "source": [
        "## NFE  (Mês)"
      ]
    },
    {
      "cell_type": "markdown",
      "metadata": {
        "id": "helxUzWCAoDi"
      },
      "source": [
        "### Dados"
      ]
    },
    {
      "cell_type": "code",
      "execution_count": null,
      "metadata": {
        "colab": {
          "base_uri": "https://localhost:8080/"
        },
        "id": "VqaRP4n7NKDK",
        "outputId": "40986d9c-07fd-436c-9eea-bf36f4bbacd6"
      },
      "outputs": [
        {
          "data": {
            "text/plain": [
              "mes\n",
              "1     129725\n",
              "2      90280\n",
              "3     106722\n",
              "4     112986\n",
              "5     115294\n",
              "6     131982\n",
              "7     141775\n",
              "8     145625\n",
              "9     140412\n",
              "10    140317\n",
              "11    146145\n",
              "12    156863\n",
              "Name: num_doc, dtype: int64"
            ]
          },
          "execution_count": 20,
          "metadata": {},
          "output_type": "execute_result"
        }
      ],
      "source": [
        "revgas_nfe_mes = revgas.groupby([revgas[\"mes\"]])[\"num_doc\"].count()\n",
        "\n",
        "revgas_nfe_mes\n"
      ]
    },
    {
      "cell_type": "markdown",
      "metadata": {
        "id": "8C_vnBYNBLrS"
      },
      "source": [
        "### Gráfico"
      ]
    },
    {
      "cell_type": "code",
      "execution_count": null,
      "metadata": {
        "colab": {
          "base_uri": "https://localhost:8080/",
          "height": 282
        },
        "id": "abASIL53AvRZ",
        "outputId": "9c64bb17-c625-42dc-fc9c-077d3f0f96a5"
      },
      "outputs": [
        {
          "data": {
            "image/png": "[encoded data removed]",
            "text/plain": [
              "<Figure size 432x288 with 1 Axes>"
            ]
          },
          "metadata": {},
          "output_type": "display_data"
        }
      ],
      "source": [
        "revgas_nfe_mes = revgas.groupby([revgas[\"mes\"]])[\"num_doc\"].count().plot(kind='bar',colormap='Paired')"
      ]
    },
    {
      "cell_type": "markdown",
      "metadata": {
        "id": "7CafGGCSNWzQ"
      },
      "source": [
        "##NFE  (Mês, Dia da Semana e empresa) "
      ]
    },
    {
      "cell_type": "markdown",
      "metadata": {
        "id": "fUGU1C-VFVAO"
      },
      "source": [
        "###Dados"
      ]
    },
    {
      "cell_type": "code",
      "execution_count": null,
      "metadata": {
        "colab": {
          "base_uri": "https://localhost:8080/"
        },
        "id": "rouXXn3bNbri",
        "outputId": "0b71c9b6-2d6e-41a4-de3a-03dd9bd411b5"
      },
      "outputs": [
        {
          "data": {
            "text/plain": [
              "mes  dia  cod_em\n",
              "1    1    24          4\n",
              "          43          9\n",
              "          54          1\n",
              "          67         88\n",
              "          68         22\n",
              "                   ... \n",
              "12   31   912         3\n",
              "          913         4\n",
              "          933         1\n",
              "          939         2\n",
              "          945       102\n",
              "Name: num_doc, Length: 56091, dtype: int64"
            ]
          },
          "execution_count": 22,
          "metadata": {},
          "output_type": "execute_result"
        }
      ],
      "source": [
        "revgas_nfe_mes_dia = revgas.groupby([revgas[\"mes\"], revgas[\"dia\"], \"cod_em\"])[\"num_doc\"].count()\n",
        "revgas_nfe_mes_dia"
      ]
    },
    {
      "cell_type": "markdown",
      "metadata": {
        "id": "yLdHcntiNn-z"
      },
      "source": [
        "## NFE  (Mês e Ano)"
      ]
    },
    {
      "cell_type": "markdown",
      "metadata": {
        "id": "cjLF7LsFFqgT"
      },
      "source": [
        "### Dados"
      ]
    },
    {
      "cell_type": "code",
      "execution_count": null,
      "metadata": {
        "colab": {
          "base_uri": "https://localhost:8080/"
        },
        "id": "bgHFV7A2FmuZ",
        "outputId": "f50e3824-ac9c-4470-85f7-11ad78db8fee"
      },
      "outputs": [
        {
          "data": {
            "text/plain": [
              "mes  ano \n",
              "1    2017     2770\n",
              "     2018    13712\n",
              "     2019    18385\n",
              "     2020    18810\n",
              "     2021    39390\n",
              "             ...  \n",
              "12   2017     9134\n",
              "     2018    15656\n",
              "     2019    17087\n",
              "     2020    39423\n",
              "     2021    73098\n",
              "Name: num_doc, Length: 65, dtype: int64"
            ]
          },
          "execution_count": 23,
          "metadata": {},
          "output_type": "execute_result"
        }
      ],
      "source": [
        "revgas_NFE_Mes_Ano_intervalo_data = revgas.groupby([revgas[\"mes\"],revgas[\"ano\"]])[\"num_doc\"].count()\n",
        "revgas_NFE_Mes_Ano_intervalo_data"
      ]
    },
    {
      "cell_type": "markdown",
      "metadata": {
        "id": "iG2SaRb8FjIg"
      },
      "source": [
        "### Gráfico"
      ]
    },
    {
      "cell_type": "code",
      "execution_count": null,
      "metadata": {
        "colab": {
          "base_uri": "https://localhost:8080/",
          "height": 1000
        },
        "id": "71O3NqpGNvkw",
        "outputId": "e19cb3d7-4472-459f-834f-c55c51bd95f5"
      },
      "outputs": [
        {
          "data": {
            "image/png": "[encoded data removed]",
            "text/plain": [
              "<Figure size 1440x2160 with 1 Axes>"
            ]
          },
          "metadata": {},
          "output_type": "display_data"
        }
      ],
      "source": [
        "import seaborn as sns\n",
        "sns.set_style(\"darkgrid\")\n",
        "#plt.style.use('ggplot')\n",
        "\n",
        "revgas_Mes_Ano_intervalo_data = revgas.groupby([revgas[\"mes\"],revgas[\"ano\"]])[\"num_doc\"].count().unstack().plot(kind='bar',colormap='Paired',stacked=True,figsize=(20, 30))\n",
        "#revgas_Mes_Ano_intervalo_data.plot()\n",
        "#plt.style.use('fivethirtyeight')\n",
        "\n",
        "plt.xlabel('Meses',fontsize=14)\n",
        "plt.ylabel('Quantidade de docs',fontsize=14)\n",
        "plt.title('Totalização de NFE emitidas',fontsize=18, loc='left');\n",
        "plt.legend(shadow=True, borderpad=1,loc='right', ncol=1, prop={'size':12}, bbox_to_anchor=(1.2, 0.5), title='Ano',fontsize=18)\n",
        "#plt.gca().yaxis.set_major_locator(plt.MultipleLocator(2))\n",
        "\n",
        "ax= revgas_Mes_Ano_intervalo_data\n",
        "\n",
        "for rect in ax.patches:\n",
        "    # Find where everything is located\n",
        "    height = rect.get_height()\n",
        "    width = rect.get_width()\n",
        "    x = rect.get_x()\n",
        "    y = rect.get_y()\n",
        "    \n",
        "    # The height of the bar is the data value and can be used as the label\n",
        "    label_text = f'{height:.0f}'  # f'{height:.2f}' to format decimal values\n",
        "    \n",
        "    # ax.text(x, y, text)\n",
        "    label_x = x + width / 2\n",
        "    label_y = y + height / 2\n",
        "\n",
        "    # plot only when height is greater than specified value\n",
        "    if height > 0:\n",
        "        ax.text(label_x, label_y, label_text, ha='center', va='center', fontsize=10)\n",
        "    \n",
        "#ax.legend(bbox_to_anchor=(1.05, 1), loc='upper left', borderaxespad=0.)    \n",
        "plt.show()\n"
      ]
    },
    {
      "cell_type": "markdown",
      "metadata": {
        "id": "M5YiQ9c6OmfX"
      },
      "source": [
        "## NFE (Ano, mês, dia e empresa)"
      ]
    },
    {
      "cell_type": "markdown",
      "metadata": {
        "id": "Foh6KHjWGZfj"
      },
      "source": [
        "### Dados"
      ]
    },
    {
      "cell_type": "code",
      "execution_count": null,
      "metadata": {
        "colab": {
          "base_uri": "https://localhost:8080/"
        },
        "id": "b3LAxcc4OrVQ",
        "outputId": "58702207-4580-47cc-ed05-a26eafcf3a33"
      },
      "outputs": [
        {
          "data": {
            "text/plain": [
              "ano   mes  dia  cod_em\n",
              "2016  9    28   21        17\n",
              "           29   21         1\n",
              "      10   3    21         1\n",
              "                22         5\n",
              "           4    21         5\n",
              "                22         5\n",
              "                23         3\n",
              "                24         1\n",
              "           5    23         3\n",
              "                24         4\n",
              "           6    22         2\n",
              "                23         3\n",
              "                24         1\n",
              "           7    23         3\n",
              "                24         1\n",
              "           8    22         7\n",
              "                24         1\n",
              "           9    23         4\n",
              "           10   24         1\n",
              "           11   22         4\n",
              "                24         1\n",
              "           12   24         2\n",
              "           13   24         1\n",
              "                25        13\n",
              "           14   24         1\n",
              "           17   22         5\n",
              "                23         2\n",
              "           18   22         5\n",
              "                23         2\n",
              "           19   23         8\n",
              "                24         1\n",
              "           20   22         8\n",
              "                25         4\n",
              "                54         3\n",
              "           21   22         3\n",
              "                23         1\n",
              "                24         3\n",
              "                25         2\n",
              "           22   22         2\n",
              "                54         2\n",
              "Name: num_doc, dtype: int64"
            ]
          },
          "execution_count": 26,
          "metadata": {},
          "output_type": "execute_result"
        }
      ],
      "source": [
        "revgas_Ano_Mes_Dia_intervalo_data = revgas.groupby([revgas[\"ano\"], revgas[\"mes\"],revgas[\"dia\"],\"cod_em\"])[\"num_doc\"].count()\n",
        "revgas_Ano_Mes_Dia_intervalo_data.head(40)"
      ]
    },
    {
      "cell_type": "markdown",
      "metadata": {
        "id": "ac3RNAHjoaYF"
      },
      "source": [
        "## NFE por produto"
      ]
    },
    {
      "cell_type": "code",
      "execution_count": null,
      "metadata": {
        "id": "oPWhCtrtnePj"
      },
      "outputs": [],
      "source": [
        "revgas_NFE_prod = revgas.groupby([revgas[\"Produto\"]])[\"num_doc\"].count().sort_values(ascending=False)\n",
        "#revgas_NFE_prod.head(20)\n",
        "# Salva resultados para arquivo .csv\n",
        "revgas_NFE_prod.to_csv(\"/content/gdrive/MyDrive/REVGAS/output/produtos_mais_vendidos.csv\")"
      ]
    },
    {
      "cell_type": "code",
      "execution_count": null,
      "metadata": {
        "colab": {
          "base_uri": "https://localhost:8080/",
          "height": 666
        },
        "id": "wkAi0YDRpC0e",
        "outputId": "cbc5ffb3-137e-41e9-f061-dce69857bbe0"
      },
      "outputs": [
        {
          "output_type": "display_data",
          "data": {
            "image/png": "[encoded data removed]",
            "text/plain": [
              "<Figure size 432x288 with 1 Axes>"
            ]
          },
          "metadata": {
            "needs_background": "light"
          }
        }
      ],
      "source": [
        "revgas_NFE_prod = revgas.groupby([revgas[\"Produto\"]])[\"num_doc\"].count().plot(kind='bar',colormap='Paired',stacked=True)\n"
      ]
    },
    {
      "cell_type": "markdown",
      "metadata": {
        "id": "XTFtkaeIO3E5"
      },
      "source": [
        "## Salva resultados para arquivo .csv .pkl"
      ]
    },
    {
      "cell_type": "code",
      "execution_count": null,
      "metadata": {
        "id": "M4pK1YIgO12W",
        "colab": {
          "base_uri": "https://localhost:8080/",
          "height": 322
        },
        "outputId": "f68b46a7-ec5c-483a-f618-39774b355662"
      },
      "outputs": [
        {
          "output_type": "error",
          "ename": "NameError",
          "evalue": "ignored",
          "traceback": [
            "\u001b[0;31m---------------------------------------------------------------------------\u001b[0m",
            "\u001b[0;31mNameError\u001b[0m                                 Traceback (most recent call last)",
            "\u001b[0;32m<ipython-input-16-6c0320838a6f>\u001b[0m in \u001b[0;36m<module>\u001b[0;34m()\u001b[0m\n\u001b[1;32m      1\u001b[0m \u001b[0;31m# Salva resultados para arquivo .csv\u001b[0m\u001b[0;34m\u001b[0m\u001b[0;34m\u001b[0m\u001b[0;34m\u001b[0m\u001b[0m\n\u001b[0;32m----> 2\u001b[0;31m \u001b[0mrevgas_Ano_Mes_Dia_intervalo_data\u001b[0m\u001b[0;34m.\u001b[0m\u001b[0mto_csv\u001b[0m\u001b[0;34m(\u001b[0m\u001b[0;34m\"/content/gdrive/MyDrive/REVGAS/revgas_ano_mes_dia.csv\"\u001b[0m\u001b[0;34m)\u001b[0m\u001b[0;34m\u001b[0m\u001b[0;34m\u001b[0m\u001b[0m\n\u001b[0m\u001b[1;32m      3\u001b[0m \u001b[0;34m\u001b[0m\u001b[0m\n\u001b[1;32m      4\u001b[0m \u001b[0;31m# Salva resultados para arquivo .pkl\u001b[0m\u001b[0;34m\u001b[0m\u001b[0;34m\u001b[0m\u001b[0;34m\u001b[0m\u001b[0m\n\u001b[1;32m      5\u001b[0m \u001b[0;31m#revgas_panorama_cliente.to_pickle(\"/content/gdrive/MyDrive/REVGAS/revgas_ano_mes_dia.pkl\")\u001b[0m\u001b[0;34m\u001b[0m\u001b[0;34m\u001b[0m\u001b[0;34m\u001b[0m\u001b[0m\n",
            "\u001b[0;31mNameError\u001b[0m: name 'revgas_Ano_Mes_Dia_intervalo_data' is not defined"
          ]
        }
      ],
      "source": [
        "# Salva resultados para arquivo .csv\n",
        "revgas_Ano_Mes_Dia_intervalo_data.to_csv(\"/content/gdrive/MyDrive/REVGAS/revgas_ano_mes_dia.csv\")\n",
        "\n",
        "# Salva resultados para arquivo .pkl\n",
        "#revgas_panorama_cliente.to_pickle(\"/content/gdrive/MyDrive/REVGAS/revgas_ano_mes_dia.pkl\")\n",
        "\n",
        "# Ler arquivo .pkl\n",
        "#df2 = pd.read_pickle('/content/gdrive/MyDrive/REVGAS/revgas.pkl')"
      ]
    },
    {
      "cell_type": "markdown",
      "metadata": {
        "id": "TK2cBzChI555"
      },
      "source": [
        "# NFe Pagamentos"
      ]
    },
    {
      "cell_type": "code",
      "execution_count": null,
      "metadata": {
        "colab": {
          "base_uri": "https://localhost:8080/",
          "height": 835
        },
        "id": "bC6KeSv6JJo0",
        "outputId": "ddd1e3fe-659e-4d2c-e6b3-9a48b4caa89f"
      },
      "outputs": [
        {
          "output_type": "execute_result",
          "data": {
            "text/html": [
              "\n",
              "  <div id=\"df-c8bf3d8e-ae20-4145-8408-37a26ad7c598\">\n",
              "    <div class=\"colab-df-container\">\n",
              "      <div>\n",
              "<style scoped>\n",
              "    .dataframe tbody tr th:only-of-type {\n",
              "        vertical-align: middle;\n",
              "    }\n",
              "\n",
              "    .dataframe tbody tr th {\n",
              "        vertical-align: top;\n",
              "    }\n",
              "\n",
              "    .dataframe thead th {\n",
              "        text-align: right;\n",
              "    }\n",
              "</style>\n",
              "<table border=\"1\" class=\"dataframe\">\n",
              "  <thead>\n",
              "    <tr style=\"text-align: right;\">\n",
              "      <th></th>\n",
              "      <th>id_revenda</th>\n",
              "      <th>id_nfce</th>\n",
              "      <th>id_venda</th>\n",
              "      <th>data</th>\n",
              "      <th>quantidade</th>\n",
              "      <th>produtos</th>\n",
              "      <th>pagamentos</th>\n",
              "      <th>valores</th>\n",
              "      <th>total</th>\n",
              "    </tr>\n",
              "  </thead>\n",
              "  <tbody>\n",
              "    <tr>\n",
              "      <th>0</th>\n",
              "      <td>21</td>\n",
              "      <td>736123</td>\n",
              "      <td>1326259</td>\n",
              "      <td>2020-05-19 22:01:50</td>\n",
              "      <td>1</td>\n",
              "      <td>ONU 1075 GLP 2.1 - 13KG</td>\n",
              "      <td>Dinheiro</td>\n",
              "      <td>75.00</td>\n",
              "      <td>75.0</td>\n",
              "    </tr>\n",
              "    <tr>\n",
              "      <th>1</th>\n",
              "      <td>208</td>\n",
              "      <td>739769</td>\n",
              "      <td>1332480</td>\n",
              "      <td>2020-05-23 14:46:46</td>\n",
              "      <td>1</td>\n",
              "      <td>ONU 1075 GLP 2.1 - 13KG</td>\n",
              "      <td>Dinheiro</td>\n",
              "      <td>60.00</td>\n",
              "      <td>60.0</td>\n",
              "    </tr>\n",
              "    <tr>\n",
              "      <th>2</th>\n",
              "      <td>208</td>\n",
              "      <td>739768</td>\n",
              "      <td>1332498</td>\n",
              "      <td>2020-05-23 14:42:57</td>\n",
              "      <td>1</td>\n",
              "      <td>ONU 1075 GLP 2.1 - 13KG</td>\n",
              "      <td>Cartão de Crédito</td>\n",
              "      <td>65.00</td>\n",
              "      <td>65.0</td>\n",
              "    </tr>\n",
              "    <tr>\n",
              "      <th>3</th>\n",
              "      <td>208</td>\n",
              "      <td>740369</td>\n",
              "      <td>1333379</td>\n",
              "      <td>2020-05-24 11:17:44</td>\n",
              "      <td>1</td>\n",
              "      <td>ONU 1075 GLP 2.1 - 13KG</td>\n",
              "      <td>Dinheiro</td>\n",
              "      <td>60.00</td>\n",
              "      <td>60.0</td>\n",
              "    </tr>\n",
              "    <tr>\n",
              "      <th>4</th>\n",
              "      <td>286</td>\n",
              "      <td>751339</td>\n",
              "      <td>1346943</td>\n",
              "      <td>2020-06-01 15:27:36</td>\n",
              "      <td>1</td>\n",
              "      <td>ONU 1075 GLP 2.1 - 13KG</td>\n",
              "      <td>Cartão de Crédito</td>\n",
              "      <td>65.00</td>\n",
              "      <td>65.0</td>\n",
              "    </tr>\n",
              "    <tr>\n",
              "      <th>...</th>\n",
              "      <td>...</td>\n",
              "      <td>...</td>\n",
              "      <td>...</td>\n",
              "      <td>...</td>\n",
              "      <td>...</td>\n",
              "      <td>...</td>\n",
              "      <td>...</td>\n",
              "      <td>...</td>\n",
              "      <td>...</td>\n",
              "    </tr>\n",
              "    <tr>\n",
              "      <th>135694</th>\n",
              "      <td>710</td>\n",
              "      <td>1997534</td>\n",
              "      <td>3809854</td>\n",
              "      <td>2022-01-17 20:43:25</td>\n",
              "      <td>1</td>\n",
              "      <td>ONU 1075 GLP 2.1 - 13KG</td>\n",
              "      <td>Cartão de Débito</td>\n",
              "      <td>105.00</td>\n",
              "      <td>105.0</td>\n",
              "    </tr>\n",
              "    <tr>\n",
              "      <th>135695</th>\n",
              "      <td>604</td>\n",
              "      <td>1997553</td>\n",
              "      <td>3809900</td>\n",
              "      <td>2022-01-17 20:58:57</td>\n",
              "      <td>1</td>\n",
              "      <td>ONU 1075 GLP 2.1 - 13KG</td>\n",
              "      <td>Cartão de Crédito</td>\n",
              "      <td>101.00</td>\n",
              "      <td>101.0</td>\n",
              "    </tr>\n",
              "    <tr>\n",
              "      <th>135696</th>\n",
              "      <td>736</td>\n",
              "      <td>1997650</td>\n",
              "      <td>3809963</td>\n",
              "      <td>2022-01-17 22:16:54</td>\n",
              "      <td>1</td>\n",
              "      <td>ONU 1075 GLP 2.1 - 13KG</td>\n",
              "      <td>PIX</td>\n",
              "      <td>130.00</td>\n",
              "      <td>130.0</td>\n",
              "    </tr>\n",
              "    <tr>\n",
              "      <th>135697</th>\n",
              "      <td>736</td>\n",
              "      <td>1997649</td>\n",
              "      <td>3809968</td>\n",
              "      <td>2022-01-17 22:16:49</td>\n",
              "      <td>1</td>\n",
              "      <td>ONU 1075 GLP 2.1 - 13KG</td>\n",
              "      <td>Cartão de Débito</td>\n",
              "      <td>132.00</td>\n",
              "      <td>132.0</td>\n",
              "    </tr>\n",
              "    <tr>\n",
              "      <th>135698</th>\n",
              "      <td>653</td>\n",
              "      <td>1997590</td>\n",
              "      <td>3809988</td>\n",
              "      <td>2022-01-17 21:32:52</td>\n",
              "      <td>1</td>\n",
              "      <td>ONU 1075 GLP 2.1 - 13KG</td>\n",
              "      <td>Dinheiro</td>\n",
              "      <td>110.00</td>\n",
              "      <td>110.0</td>\n",
              "    </tr>\n",
              "  </tbody>\n",
              "</table>\n",
              "<p>135699 rows × 9 columns</p>\n",
              "</div>\n",
              "      <button class=\"colab-df-convert\" onclick=\"convertToInteractive('df-c8bf3d8e-ae20-4145-8408-37a26ad7c598')\"\n",
              "              title=\"Convert this dataframe to an interactive table.\"\n",
              "              style=\"display:none;\">\n",
              "        \n",
              "  <svg xmlns=\"http://www.w3.org/2000/svg\" height=\"24px\"viewBox=\"0 0 24 24\"\n",
              "       width=\"24px\">\n",
              "    <path d=\"M0 0h24v24H0V0z\" fill=\"none\"/>\n",
              "    <path d=\"M18.56 5.44l.94 2.06.94-2.06 2.06-.94-2.06-.94-.94-2.06-.94 2.06-2.06.94zm-11 1L8.5 8.5l.94-2.06 2.06-.94-2.06-.94L8.5 2.5l-.94 2.06-2.06.94zm10 10l.94 2.06.94-2.06 2.06-.94-2.06-.94-.94-2.06-.94 2.06-2.06.94z\"/><path d=\"M17.41 7.96l-1.37-1.37c-.4-.4-.92-.59-1.43-.59-.52 0-1.04.2-1.43.59L10.3 9.45l-7.72 7.72c-.78.78-.78 2.05 0 2.83L4 21.41c.39.39.9.59 1.41.59.51 0 1.02-.2 1.41-.59l7.78-7.78 2.81-2.81c.8-.78.8-2.07 0-2.86zM5.41 20L4 18.59l7.72-7.72 1.47 1.35L5.41 20z\"/>\n",
              "  </svg>\n",
              "      </button>\n",
              "      \n",
              "  <style>\n",
              "    .colab-df-container {\n",
              "      display:flex;\n",
              "      flex-wrap:wrap;\n",
              "      gap: 12px;\n",
              "    }\n",
              "\n",
              "    .colab-df-convert {\n",
              "      background-color: #E8F0FE;\n",
              "      border: none;\n",
              "      border-radius: 50%;\n",
              "      cursor: pointer;\n",
              "      display: none;\n",
              "      fill: #1967D2;\n",
              "      height: 32px;\n",
              "      padding: 0 0 0 0;\n",
              "      width: 32px;\n",
              "    }\n",
              "\n",
              "    .colab-df-convert:hover {\n",
              "      background-color: #E2EBFA;\n",
              "      box-shadow: 0px 1px 2px rgba(60, 64, 67, 0.3), 0px 1px 3px 1px rgba(60, 64, 67, 0.15);\n",
              "      fill: #174EA6;\n",
              "    }\n",
              "\n",
              "    [theme=dark] .colab-df-convert {\n",
              "      background-color: #3B4455;\n",
              "      fill: #D2E3FC;\n",
              "    }\n",
              "\n",
              "    [theme=dark] .colab-df-convert:hover {\n",
              "      background-color: #434B5C;\n",
              "      box-shadow: 0px 1px 3px 1px rgba(0, 0, 0, 0.15);\n",
              "      filter: drop-shadow(0px 1px 2px rgba(0, 0, 0, 0.3));\n",
              "      fill: #FFFFFF;\n",
              "    }\n",
              "  </style>\n",
              "\n",
              "      <script>\n",
              "        const buttonEl =\n",
              "          document.querySelector('#df-c8bf3d8e-ae20-4145-8408-37a26ad7c598 button.colab-df-convert');\n",
              "        buttonEl.style.display =\n",
              "          google.colab.kernel.accessAllowed ? 'block' : 'none';\n",
              "\n",
              "        async function convertToInteractive(key) {\n",
              "          const element = document.querySelector('#df-c8bf3d8e-ae20-4145-8408-37a26ad7c598');\n",
              "          const dataTable =\n",
              "            await google.colab.kernel.invokeFunction('convertToInteractive',\n",
              "                                                     [key], {});\n",
              "          if (!dataTable) return;\n",
              "\n",
              "          const docLinkHtml = 'Like what you see? Visit the ' +\n",
              "            '<a target=\"_blank\" href=https://colab.research.google.com/notebooks/data_table.ipynb>data table notebook</a>'\n",
              "            + ' to learn more about interactive tables.';\n",
              "          element.innerHTML = '';\n",
              "          dataTable['output_type'] = 'display_data';\n",
              "          await google.colab.output.renderOutput(dataTable, element);\n",
              "          const docLink = document.createElement('div');\n",
              "          docLink.innerHTML = docLinkHtml;\n",
              "          element.appendChild(docLink);\n",
              "        }\n",
              "      </script>\n",
              "    </div>\n",
              "  </div>\n",
              "  "
            ],
            "text/plain": [
              "        id_revenda  id_nfce  id_venda                data quantidade  \\\n",
              "0               21   736123   1326259 2020-05-19 22:01:50          1   \n",
              "1              208   739769   1332480 2020-05-23 14:46:46          1   \n",
              "2              208   739768   1332498 2020-05-23 14:42:57          1   \n",
              "3              208   740369   1333379 2020-05-24 11:17:44          1   \n",
              "4              286   751339   1346943 2020-06-01 15:27:36          1   \n",
              "...            ...      ...       ...                 ...        ...   \n",
              "135694         710  1997534   3809854 2022-01-17 20:43:25          1   \n",
              "135695         604  1997553   3809900 2022-01-17 20:58:57          1   \n",
              "135696         736  1997650   3809963 2022-01-17 22:16:54          1   \n",
              "135697         736  1997649   3809968 2022-01-17 22:16:49          1   \n",
              "135698         653  1997590   3809988 2022-01-17 21:32:52          1   \n",
              "\n",
              "                       produtos         pagamentos valores  total  \n",
              "0       ONU 1075 GLP 2.1 - 13KG           Dinheiro   75.00   75.0  \n",
              "1       ONU 1075 GLP 2.1 - 13KG           Dinheiro   60.00   60.0  \n",
              "2       ONU 1075 GLP 2.1 - 13KG  Cartão de Crédito   65.00   65.0  \n",
              "3       ONU 1075 GLP 2.1 - 13KG           Dinheiro   60.00   60.0  \n",
              "4       ONU 1075 GLP 2.1 - 13KG  Cartão de Crédito   65.00   65.0  \n",
              "...                         ...                ...     ...    ...  \n",
              "135694  ONU 1075 GLP 2.1 - 13KG   Cartão de Débito  105.00  105.0  \n",
              "135695  ONU 1075 GLP 2.1 - 13KG  Cartão de Crédito  101.00  101.0  \n",
              "135696  ONU 1075 GLP 2.1 - 13KG                PIX  130.00  130.0  \n",
              "135697  ONU 1075 GLP 2.1 - 13KG   Cartão de Débito  132.00  132.0  \n",
              "135698  ONU 1075 GLP 2.1 - 13KG           Dinheiro  110.00  110.0  \n",
              "\n",
              "[135699 rows x 9 columns]"
            ]
          },
          "metadata": {},
          "execution_count": 44
        }
      ],
      "source": [
        "revgas_pag = pd.read_csv('/content/gdrive/MyDrive/REVGAS/dados_nfce_pagamento.csv')\n",
        "revgas_pag['data'] = pd.to_datetime(revgas['data'])\n",
        "revgas_pag = pd.read_csv('/content/gdrive/MyDrive/REVGAS/dados_nfce_pagamento.csv',parse_dates=[\"data\"])\n",
        "revgas_pag"
      ]
    },
    {
      "cell_type": "code",
      "execution_count": null,
      "metadata": {
        "id": "vSrKI_hTK4RG"
      },
      "outputs": [],
      "source": [
        "#revgas_a['data'] = pd.to_datetime(revgas_a['data'])\n",
        "# Create novas colunas\n",
        "revgas_pag['dia']    = revgas_pag['data'].dt.day\n",
        "revgas_pag['mes']    = revgas_pag['data'].dt.month\n",
        "revgas_pag['ano']    = revgas_pag['data'].dt.year\n",
        "revgas_pag['hora']   = revgas_pag['data'].dt.hour\n",
        "revgas_pag['minuto'] = revgas_pag['data'].dt.minute\n"
      ]
    },
    {
      "cell_type": "markdown",
      "metadata": {
        "id": "ZNGv7xdmMJL0"
      },
      "source": [
        "###Data Inicial"
      ]
    },
    {
      "cell_type": "code",
      "execution_count": null,
      "metadata": {
        "colab": {
          "base_uri": "https://localhost:8080/"
        },
        "id": "Yi1RlPGaMH8l",
        "outputId": "17405512-6bfa-4ac7-e34d-2175f497bf8a"
      },
      "outputs": [
        {
          "output_type": "execute_result",
          "data": {
            "text/plain": [
              "Timestamp('2020-05-19 22:01:50')"
            ]
          },
          "metadata": {},
          "execution_count": 23
        }
      ],
      "source": [
        "revgas_pag[\"data\"].min()"
      ]
    },
    {
      "cell_type": "markdown",
      "metadata": {
        "id": "xG72JwXJMVej"
      },
      "source": [
        "### Data Final"
      ]
    },
    {
      "cell_type": "code",
      "execution_count": null,
      "metadata": {
        "colab": {
          "base_uri": "https://localhost:8080/"
        },
        "id": "sMnRJNF2MQEr",
        "outputId": "e71d8216-8a86-4adf-a5a4-8678287c1a44"
      },
      "outputs": [
        {
          "output_type": "execute_result",
          "data": {
            "text/plain": [
              "Timestamp('2022-01-17 22:20:05')"
            ]
          },
          "metadata": {},
          "execution_count": 24
        }
      ],
      "source": [
        "revgas_pag[\"data\"].max()"
      ]
    },
    {
      "cell_type": "markdown",
      "metadata": {
        "id": "jBQMWk9TKh5o"
      },
      "source": [
        "## Produtos"
      ]
    },
    {
      "cell_type": "markdown",
      "metadata": {
        "id": "soHauHKsPF0w"
      },
      "source": [
        "###Por Revenda"
      ]
    },
    {
      "cell_type": "code",
      "execution_count": null,
      "metadata": {
        "colab": {
          "base_uri": "https://localhost:8080/"
        },
        "id": "5duxwM1vKcJN",
        "outputId": "e6b813db-595a-4e60-95e2-a76bebe03f01"
      },
      "outputs": [
        {
          "output_type": "execute_result",
          "data": {
            "text/plain": [
              "id_revenda  produtos                                                    \n",
              "19          ONU 1075 GLP 2.1 - 20KG                                            1\n",
              "21          ONU 1075 GLP 2.1 - 13KG                                            2\n",
              "24          ONU 1075 GLP 2.1 - 13KG                                            1\n",
              "25          ONU 1075 GLP 2.1 - 13KG                                            1\n",
              "26          ONU 1075 GLP 2.1 - 13KG                                            1\n",
              "27          AGUA 20L                                                           8\n",
              "            AGUA 20L - ONU 1075 GLP 2.1 - 13KG                                 2\n",
              "            ONU 1075 GLP 2.1 - 13KG                                          118\n",
              "            ONU 1075 GLP 2.1 - 45KG                                            1\n",
              "36          AGUA 20L                                                           1\n",
              "            AGUA 20L INDAIÀ                                                    2\n",
              "            AGUA SANTA 20L                                                     1\n",
              "43          ONU 1075 GLP 2.1 - 13KG                                            2\n",
              "49          ONU 1075 GLP 2.1 - 13KG                                            3\n",
              "93          ONU 1075 GLP 2.1 - 13KG                                            1\n",
              "98          ONU 1075 GLP 2.1 - 13KG                                         2360\n",
              "134         ONU 1075 GLP 2.1 - 13KG                                            2\n",
              "135         ONU 1075 GLP 2.1 - 13KG                                            2\n",
              "140         AGUA 20L                                                           1\n",
              "            ONU 1075 GLP 2.1 - 13KG                                            3\n",
              "157         ONU 1075 GLP 2.1 - 13KG                                            1\n",
              "163         ONU 1075 GLP 2.1 - 13KG                                            8\n",
              "164         ONU 1075 GLP 2.1 - 13KG                                           40\n",
              "            ONU 1075 GLP 2.1 - 13KG - ONU 1075 GLP 2.1 - 8KG                   1\n",
              "176         AGUA 20L REQUINTE                                                 32\n",
              "            AGUA 20L REQUINTE - ONU 1075 GLP 2.1 - 13KG                        3\n",
              "            AGUA FRESCALE 20L                                                 27\n",
              "            AGUA FRESCALE 20L - ONU 1075 GLP 2.1 - 13KG                        5\n",
              "            CARVÃO 4KG PIRAMIDE                                                4\n",
              "            ONU 1075 GLP 2.1 - 13KG                                          256\n",
              "            ONU 1075 GLP 2.1 - 20KG                                            1\n",
              "            ONU 1075 GLP 2.1 - 45KG                                            4\n",
              "180         ONU 1075 GLP 2.1 - 13KG                                            3\n",
              "182         AGUA 20L                                                           3\n",
              "            ONU 1075 GLP 2.1 - 13KG                                           15\n",
              "187         ONU 1075 GLP 2.1 - 13KG                                            1\n",
              "208         ONU 1075 GLP 2.1 - 13KG                                           22\n",
              "209         ONU 1075 GLP 2.1 - 13KG                                            1\n",
              "213         AGUA 20L GAMA LOPES (ADICIONADA DE SAIS)                           4\n",
              "            AGUA 20L MINERAL                                                   1\n",
              "            ONU 1075 GLP 2.1 - 13KG                                           22\n",
              "219         AGUA OURO FINO 20L                                                 2\n",
              "            ONU 1075 GLP 2.1 - 13KG                                            9\n",
              "244         AGUA 20L Serra Branca                                              1\n",
              "            ONU 1075 GLP 2.1 - 13KG                                            1\n",
              "252         AGUA 20L                                                           1\n",
              "            ONU 1075 GLP 2.1 - 13KG                                            1\n",
              "            ONU 1075 GLP 2.1 - 45KG                                            1\n",
              "258         AGUA 20L                                                          11\n",
              "            AGUA 20L - ONU 1075 GLP 2.1 - 13KG                                 1\n",
              "            ONU 1075 GLP 2.1 - 13KG                                           10\n",
              "            ONU 1075 GLP 2.1 - 20KG                                            3\n",
              "268         AGUA 20L                                                           1\n",
              "            AGUA 20L - ONU 1075 GLP 2.1 - 13KG - ONU 1075 GLP 2.1 - 45KG       1\n",
              "            AGUA 20L Frescale                                                  1\n",
              "            AGUA 20L Requinte                                                  2\n",
              "            ONU 1075 GLP 2.1 - 13KG                                           14\n",
              "            ONU 1075 GLP 2.1 - 45KG                                            2\n",
              "284         ONU 1075 GLP 2.1 - 13KG                                           10\n",
              "286         AGUA 20L                                                          94\n",
              "Name: quantidade, dtype: int64"
            ]
          },
          "metadata": {},
          "execution_count": 25
        }
      ],
      "source": [
        "revgas_prod_rev = revgas_pag.groupby([revgas_pag[\"id_revenda\"],revgas_pag[\"produtos\"]])[\"quantidade\"].count()\n",
        "revgas_prod_rev.head(60)\n"
      ]
    },
    {
      "cell_type": "markdown",
      "metadata": {
        "id": "hKuA639ychDr"
      },
      "source": [
        "### Por Nota"
      ]
    },
    {
      "cell_type": "code",
      "execution_count": null,
      "metadata": {
        "colab": {
          "base_uri": "https://localhost:8080/"
        },
        "id": "mEDd6MHhcf1O",
        "outputId": "4e7e16a2-674d-46ca-dcb7-262a55a2807a"
      },
      "outputs": [
        {
          "output_type": "execute_result",
          "data": {
            "text/plain": [
              "produtos                             id_nfce\n",
              "AGUA                                 1376028    1\n",
              "                                     1395723    1\n",
              "                                     1418516    1\n",
              "                                     1432656    1\n",
              "                                     1435348    1\n",
              "                                     1701957    1\n",
              "                                     1828868    1\n",
              "                                     1856851    1\n",
              "                                     1902551    1\n",
              "AGUA  20L                            883594     1\n",
              "                                     1120756    1\n",
              "                                     1134288    1\n",
              "                                     1228655    1\n",
              "                                     1346310    1\n",
              "                                     1461835    1\n",
              "                                     1461882    1\n",
              "                                     1671231    1\n",
              "                                     1671273    1\n",
              "                                     1853985    1\n",
              "                                     1853987    1\n",
              "                                     1979339    1\n",
              "AGUA  20L - ONU 1075 GLP 2.1 - 13KG  955905     1\n",
              "                                     1246989    1\n",
              "                                     1518687    1\n",
              "AGUA - ONU 1075 GLP 2.1 - 13KG       1370543    1\n",
              "AGUA 20 L                            1805658    1\n",
              "                                     1907582    1\n",
              "                                     1907584    1\n",
              "                                     1908578    1\n",
              "                                     1908582    1\n",
              "Name: quantidade, dtype: int64"
            ]
          },
          "metadata": {},
          "execution_count": 26
        }
      ],
      "source": [
        "#revgas_notas_prod = revgas_pag.groupby([revgas_pag[\"produtos\"]])[\"id_nfce\"].sum()\n",
        "\n",
        "revgas_notas_prod = revgas_pag.groupby([revgas_pag[\"produtos\"],revgas_pag[\"id_nfce\"]])[\"quantidade\"].count()\n",
        "\n",
        "revgas_notas_prod.head(30)"
      ]
    },
    {
      "cell_type": "code",
      "source": [
        "revgas_id_venda = revgas_pag.groupby([revgas_pag[\"produtos\"],revgas_pag[\"id_venda\"],revgas_pag[\"quantidade\"]])[\"quantidade\"].count().sort_values(ascending=False)\n",
        "revgas_id_venda.to_csv(\"/content/gdrive/MyDrive/REVGAS/output/quantidade_produtos_id_venda.csv\")\n",
        "\n",
        "revgas_id_venda.head(40)\n"
      ],
      "metadata": {
        "colab": {
          "base_uri": "https://localhost:8080/"
        },
        "id": "YO6upEO2GQsr",
        "outputId": "2b013bd0-96ab-491c-ee02-599f849f45eb"
      },
      "execution_count": null,
      "outputs": [
        {
          "output_type": "execute_result",
          "data": {
            "text/plain": [
              "produtos                 id_venda  quantidade\n",
              "AGUA                     2590500   2             1\n",
              "ONU 1075 GLP 2.1 - 13KG  2980789   1             1\n",
              "                         2981005   1             1\n",
              "                         2980999   1             1\n",
              "                         2980991   1             1\n",
              "                         2980988   1             1\n",
              "                         2980986   1             1\n",
              "                         2980984   2             1\n",
              "                         2980980   1             1\n",
              "                         2980977   2             1\n",
              "                         2980968   3             1\n",
              "                         2980914   1             1\n",
              "                         2980906   1             1\n",
              "                         2980817   1             1\n",
              "                         2980810   3             1\n",
              "                         2980804   1             1\n",
              "                         2980774   1             1\n",
              "                         2981646   1             1\n",
              "                         2980772   1             1\n",
              "                         2980770   1             1\n",
              "                         2980762   3             1\n",
              "                         2980749   1             1\n",
              "                         2980747   1             1\n",
              "                         2980727   1             1\n",
              "                         2980726   1             1\n",
              "                         2980720   2             1\n",
              "                         2980710   1             1\n",
              "                         2980708   1             1\n",
              "                         2980704   1             1\n",
              "                         2980665   1             1\n",
              "                         2980664   3             1\n",
              "                         2980643   3             1\n",
              "                         2981019   1             1\n",
              "                         2981057   3             1\n",
              "                         2981059   1             1\n",
              "                         2981063   1             1\n",
              "                         2981616   1             1\n",
              "                         2981614   1             1\n",
              "                         2981613   1             1\n",
              "                         2981601   1             1\n",
              "Name: quantidade, dtype: int64"
            ]
          },
          "metadata": {},
          "execution_count": 62
        }
      ]
    },
    {
      "cell_type": "markdown",
      "metadata": {
        "id": "ij_A2O36M_p6"
      },
      "source": [
        "## Quantitativo de Notas emitidas"
      ]
    },
    {
      "cell_type": "markdown",
      "metadata": {
        "id": "7AubsQYfO-o7"
      },
      "source": [
        "### Ano, Mês e Dia"
      ]
    },
    {
      "cell_type": "code",
      "execution_count": null,
      "metadata": {
        "colab": {
          "base_uri": "https://localhost:8080/"
        },
        "id": "acCWA2vfM8GS",
        "outputId": "54c01252-ac1a-4545-c546-43ca18bc877c"
      },
      "outputs": [
        {
          "output_type": "execute_result",
          "data": {
            "text/plain": [
              "ano   mes  dia\n",
              "2020  5    19      1\n",
              "           23      2\n",
              "           24      1\n",
              "      6    1       1\n",
              "      7    28      1\n",
              "           29      2\n",
              "           30      1\n",
              "      8    10      1\n",
              "           17      1\n",
              "           18     41\n",
              "           20      7\n",
              "           27      1\n",
              "           31      1\n",
              "      9    6      57\n",
              "           7       1\n",
              "           11     34\n",
              "           12     12\n",
              "           13     15\n",
              "           14     23\n",
              "           15     20\n",
              "           16     17\n",
              "           18     17\n",
              "           19     32\n",
              "           21      5\n",
              "           22     39\n",
              "           23     28\n",
              "           24      1\n",
              "           25      1\n",
              "           26      1\n",
              "           29     48\n",
              "Name: id_nfce, dtype: int64"
            ]
          },
          "metadata": {},
          "execution_count": 27
        }
      ],
      "source": [
        "revgas_notas_dia = revgas_pag.groupby([revgas_pag[\"ano\"],revgas_pag[\"mes\"],revgas_pag[\"dia\"]])[\"id_nfce\"].count()\n",
        "revgas_notas_dia.head(30)\n"
      ]
    },
    {
      "cell_type": "code",
      "execution_count": null,
      "metadata": {
        "colab": {
          "base_uri": "https://localhost:8080/",
          "height": 648
        },
        "id": "yWtK2SX9aK6P",
        "outputId": "4d9b842b-1d54-47fa-d953-5379b78cf4b3"
      },
      "outputs": [
        {
          "data": {
            "image/png": "[encoded data removed]",
            "text/plain": [
              "<Figure size 864x720 with 1 Axes>"
            ]
          },
          "metadata": {},
          "output_type": "display_data"
        }
      ],
      "source": [
        "revgas_notas_dia = revgas_pag.groupby([revgas_pag[\"ano\"],revgas_pag[\"mes\"],revgas_pag[\"dia\"]])[\"id_nfce\"].count().unstack().plot(kind='bar',colormap='Spectral',stacked=True,figsize=(12, 10))\n",
        "\n",
        "#revgas_Mes_Ano_intervalo_data.plot()"
      ]
    },
    {
      "cell_type": "markdown",
      "metadata": {
        "id": "koyDWNkJX-IS"
      },
      "source": [
        "###Ano"
      ]
    },
    {
      "cell_type": "code",
      "execution_count": null,
      "metadata": {
        "colab": {
          "base_uri": "https://localhost:8080/"
        },
        "id": "7cWaqtvlXzh3",
        "outputId": "88923b1f-59d5-48d8-8062-4e2679c04cff"
      },
      "outputs": [
        {
          "output_type": "execute_result",
          "data": {
            "text/plain": [
              "ano\n",
              "2020      9788\n",
              "2021    119834\n",
              "2022      6077\n",
              "Name: id_nfce, dtype: int64"
            ]
          },
          "metadata": {},
          "execution_count": 28
        }
      ],
      "source": [
        "revgas_notas_ano = revgas_pag.groupby([revgas_pag[\"ano\"]])[\"id_nfce\"].count()\n",
        "revgas_notas_ano.head(30)\n"
      ]
    },
    {
      "cell_type": "code",
      "execution_count": null,
      "metadata": {
        "colab": {
          "base_uri": "https://localhost:8080/",
          "height": 295
        },
        "id": "-nSmO8j6Zt2X",
        "outputId": "49677b51-156a-4ce5-fccd-186140ea6150"
      },
      "outputs": [
        {
          "data": {
            "image/png": "[encoded data removed]",
            "text/plain": [
              "<Figure size 432x288 with 1 Axes>"
            ]
          },
          "metadata": {},
          "output_type": "display_data"
        }
      ],
      "source": [
        "revgas_notas_ano = revgas_pag.groupby([revgas_pag[\"ano\"]])[\"id_nfce\"].count().plot(kind='bar',colormap='Paired',stacked=True)\n"
      ]
    },
    {
      "cell_type": "markdown",
      "metadata": {
        "id": "qCJ5dtO-ZI-H"
      },
      "source": [
        "### Mês"
      ]
    },
    {
      "cell_type": "code",
      "execution_count": null,
      "metadata": {
        "colab": {
          "base_uri": "https://localhost:8080/"
        },
        "id": "Td9I4DyjZIHz",
        "outputId": "757209a8-25cc-418e-e727-8c50db980494"
      },
      "outputs": [
        {
          "output_type": "execute_result",
          "data": {
            "text/plain": [
              "mes\n",
              "1     11778\n",
              "2      4228\n",
              "3      7121\n",
              "4     11137\n",
              "5      9696\n",
              "6     11966\n",
              "7     12266\n",
              "8     12599\n",
              "9     11983\n",
              "10    10808\n",
              "11    14957\n",
              "12    17160\n",
              "Name: id_nfce, dtype: int64"
            ]
          },
          "metadata": {},
          "execution_count": 29
        }
      ],
      "source": [
        "revgas_notas_mes = revgas_pag.groupby([revgas_pag[\"mes\"]])[\"id_nfce\"].count()\n",
        "revgas_notas_mes.head(30)"
      ]
    },
    {
      "cell_type": "code",
      "execution_count": null,
      "metadata": {
        "colab": {
          "base_uri": "https://localhost:8080/",
          "height": 279
        },
        "id": "obscplOAZXk8",
        "outputId": "3f54922d-5467-466f-c5ec-e35492a1ac76"
      },
      "outputs": [
        {
          "data": {
            "image/png": "[encoded data removed]",
            "text/plain": [
              "<Figure size 432x288 with 1 Axes>"
            ]
          },
          "metadata": {},
          "output_type": "display_data"
        }
      ],
      "source": [
        "revgas_notas_mes = revgas_pag.groupby([revgas_pag[\"mes\"]])[\"id_nfce\"].count().plot()\n"
      ]
    },
    {
      "cell_type": "markdown",
      "metadata": {
        "id": "qdBYCSCXbHKE"
      },
      "source": [
        "### Dia"
      ]
    },
    {
      "cell_type": "code",
      "execution_count": null,
      "metadata": {
        "colab": {
          "base_uri": "https://localhost:8080/"
        },
        "id": "wIh502gdaq_b",
        "outputId": "faeeeea7-7880-41e2-8424-118d9f91bd5a"
      },
      "outputs": [
        {
          "data": {
            "text/plain": [
              "dia\n",
              "1     3058\n",
              "2     4450\n",
              "3     3841\n",
              "4     4471\n",
              "5     3957\n",
              "6     4238\n",
              "7     3961\n",
              "8     4602\n",
              "9     4706\n",
              "10    4917\n",
              "11    4476\n",
              "12    4194\n",
              "13    5075\n",
              "14    4126\n",
              "15    4442\n",
              "16    3697\n",
              "17    4107\n",
              "18    3860\n",
              "19    4039\n",
              "20    4361\n",
              "21    3973\n",
              "22    5696\n",
              "23    4157\n",
              "24    5143\n",
              "25    3688\n",
              "26    4334\n",
              "27    4692\n",
              "28    4139\n",
              "29    4420\n",
              "30    7639\n",
              "31    3240\n",
              "Name: id_nfce, dtype: int64"
            ]
          },
          "execution_count": 128,
          "metadata": {},
          "output_type": "execute_result"
        }
      ],
      "source": [
        "revgas_notas_dia = revgas_pag.groupby([revgas_pag[\"dia\"]])[\"id_nfce\"].count()\n",
        "revgas_notas_dia.head(100)"
      ]
    },
    {
      "cell_type": "markdown",
      "metadata": {
        "id": "9YNcSciQeRiU"
      },
      "source": [
        "## Formas de Pagamento"
      ]
    },
    {
      "cell_type": "markdown",
      "metadata": {
        "id": "MvCAe7UzhKJS"
      },
      "source": [
        "### Sintético"
      ]
    },
    {
      "cell_type": "code",
      "execution_count": null,
      "metadata": {
        "colab": {
          "base_uri": "https://localhost:8080/"
        },
        "id": "-MCwPEwTd1Nj",
        "outputId": "c3769417-cee9-4210-de3a-83b2d4e78caa"
      },
      "outputs": [
        {
          "output_type": "execute_result",
          "data": {
            "text/plain": [
              "pagamentos\n",
              "Dinheiro                                                 92561\n",
              "Cartão de Crédito                                        14925\n",
              "Cartão de Débito                                         12414\n",
              "PIX                                                       4281\n",
              "Carteira                                                  3012\n",
              "Vale Gás                                                  2506\n",
              "Transferência Bancária                                    1765\n",
              "Dinheiro - Cartão de Débito                               1005\n",
              "Cartão Credishop                                           812\n",
              "Dinheiro - Cartão de Crédito                               730\n",
              "Crédito de Cliente                                         316\n",
              "Cartão Outro                                               289\n",
              "Dinheiro - PIX                                             266\n",
              "Cartão de Crédito - Cartão de Débito                       155\n",
              "Boleto Bancário                                            149\n",
              "Dinheiro - Transferência Bancária                          139\n",
              "Dinheiro - Cartão de Crédito - Cartão de Débito             87\n",
              "Cheque                                                      66\n",
              "Dinheiro - Carteira                                         44\n",
              "Cartão Visa                                                 32\n",
              "Dinheiro - Cartão Credishop                                 27\n",
              "Cartão Master                                               19\n",
              "Dinheiro - Cartão Outro                                     15\n",
              "Cartão de Crédito - PIX                                     14\n",
              "Cartão Elo                                                  10\n",
              "Dinheiro - Vale Gás                                          8\n",
              "Cartão de Débito - PIX                                       8\n",
              "Cartão de Crédito - Transferência Bancária                   7\n",
              "Carteira - Cartão de Débito                                  6\n",
              "Cartão Hiper                                                 3\n",
              "Carteira - Cartão de Crédito                                 3\n",
              "Dinheiro - Cartão de Crédito - PIX                           3\n",
              "Cartão Credishop - Cartão de Crédito                         2\n",
              "Carteira - PIX                                               2\n",
              "Dinheiro - Crédito de Cliente                                2\n",
              "Carteira - Transferência Bancária                            2\n",
              "Dinheiro - Carteira - Transferência Bancária                 2\n",
              "Cartão de Débito - Transferência Bancária                    2\n",
              "Vale Gás - Cartão de Débito                                  1\n",
              "Vale Gás - Cartão de Crédito                                 1\n",
              "Cartão Credishop - PIX                                       1\n",
              "Dinheiro - Cheque                                            1\n",
              "Dinheiro - Cartão de Débito - PIX                            1\n",
              "Dinheiro - Cartão de Crédito - Transferência Bancária        1\n",
              "Cartão Outro - PIX                                           1\n",
              "Dinheiro - Carteira - Cartão de Crédito                      1\n",
              "Cartão Outro - Cartão de Débito                              1\n",
              "Vale Gás - Transferência Bancária                            1\n",
              "Name: quantidade, dtype: int64"
            ]
          },
          "metadata": {},
          "execution_count": 33
        }
      ],
      "source": [
        "revgas_forma_pag = revgas_pag.groupby([revgas_pag[\"pagamentos\"]])[\"quantidade\"].count().sort_values(ascending=False)\n",
        "\n",
        "revgas_forma_pag.to_csv(\"/content/gdrive/MyDrive/REVGAS/output/formas_pagamento.csv\")\n",
        "\n",
        "revgas_forma_pag.head(200)\n"
      ]
    },
    {
      "cell_type": "markdown",
      "metadata": {
        "id": "abZWdQM9hndg"
      },
      "source": [
        "### Revenda"
      ]
    },
    {
      "cell_type": "code",
      "execution_count": null,
      "metadata": {
        "colab": {
          "base_uri": "https://localhost:8080/"
        },
        "id": "miwv9JslhfT0",
        "outputId": "cf8cf674-f06a-4597-86ec-d7d1bde2d327"
      },
      "outputs": [
        {
          "output_type": "execute_result",
          "data": {
            "text/plain": [
              "id_revenda  pagamentos                             \n",
              "19          Dinheiro                                     1\n",
              "21          Dinheiro                                     2\n",
              "24          Dinheiro                                     1\n",
              "25          Dinheiro                                     1\n",
              "26          Carteira                                     1\n",
              "27          Carteira                                    40\n",
              "            Cartão de Crédito                           11\n",
              "            Cartão de Crédito - Cartão de Débito         1\n",
              "            Cartão de Débito                            19\n",
              "            Dinheiro                                    55\n",
              "            Dinheiro - Carteira                          3\n",
              "36          Dinheiro                                     4\n",
              "43          Dinheiro                                     2\n",
              "49          Cartão Master                                1\n",
              "            Dinheiro                                     2\n",
              "93          Dinheiro                                     1\n",
              "98          Cartão Credishop                           588\n",
              "            Cartão Credishop - Cartão de Crédito         1\n",
              "            Cartão de Crédito                          810\n",
              "            Cartão de Crédito - Cartão de Débito        10\n",
              "            Cartão de Crédito - PIX                      2\n",
              "            Cartão de Débito                           748\n",
              "            Cartão de Débito - PIX                       1\n",
              "            Crédito de Cliente                           1\n",
              "            Dinheiro                                    32\n",
              "            Dinheiro - Carteira - Cartão de Crédito      1\n",
              "            Dinheiro - Cartão Credishop                 20\n",
              "            Dinheiro - Cartão de Crédito                63\n",
              "            Dinheiro - Cartão de Débito                 82\n",
              "            Dinheiro - PIX                               1\n",
              "134         Dinheiro                                     2\n",
              "135         Dinheiro                                     2\n",
              "140         Carteira                                     3\n",
              "            Dinheiro                                     1\n",
              "157         Carteira                                     1\n",
              "163         Dinheiro                                     8\n",
              "164         Carteira                                     2\n",
              "            Dinheiro                                    37\n",
              "            Vale Gás                                     2\n",
              "176         Carteira                                    15\n",
              "Name: quantidade, dtype: int64"
            ]
          },
          "metadata": {},
          "execution_count": 34
        }
      ],
      "source": [
        "revgas_forma_pag_rev = revgas_pag.groupby([revgas_pag[\"id_revenda\"],revgas_pag[\"pagamentos\"]])[\"quantidade\"].count()\n",
        "#sort_values(ascending=False\n",
        "revgas_forma_pag_rev.head(40)\n"
      ]
    },
    {
      "cell_type": "markdown",
      "source": [
        "# NFe Emitidas"
      ],
      "metadata": {
        "id": "pSuKdKLGkcgQ"
      }
    },
    {
      "cell_type": "markdown",
      "source": [
        "### Carrega dataset"
      ],
      "metadata": {
        "id": "ykawF5tul__s"
      }
    },
    {
      "cell_type": "code",
      "source": [
        "revgas_itens_nfe = pd.read_csv('/content/gdrive/MyDrive/REVGAS/produtos_nfce_2.csv')\n",
        "revgas_itens_nfe['date'] = pd.to_datetime(revgas_itens_nfe['date'])\n",
        "revgas_itens_nfe = pd.read_csv('/content/gdrive/MyDrive/REVGAS/produtos_nfce_2.csv',parse_dates=[\"date\"])\n",
        "revgas_itens_nfe"
      ],
      "metadata": {
        "colab": {
          "base_uri": "https://localhost:8080/",
          "height": 800
        },
        "id": "Jg4jPSwbkgDI",
        "outputId": "f340923a-0ead-4aba-82a2-c9b35399c7d8"
      },
      "execution_count": null,
      "outputs": [
        {
          "output_type": "execute_result",
          "data": {
            "text/html": [
              "\n",
              "  <div id=\"df-3b351ba7-6890-4aae-8ec0-b08484085c98\">\n",
              "    <div class=\"colab-df-container\">\n",
              "      <div>\n",
              "<style scoped>\n",
              "    .dataframe tbody tr th:only-of-type {\n",
              "        vertical-align: middle;\n",
              "    }\n",
              "\n",
              "    .dataframe tbody tr th {\n",
              "        vertical-align: top;\n",
              "    }\n",
              "\n",
              "    .dataframe thead th {\n",
              "        text-align: right;\n",
              "    }\n",
              "</style>\n",
              "<table border=\"1\" class=\"dataframe\">\n",
              "  <thead>\n",
              "    <tr style=\"text-align: right;\">\n",
              "      <th></th>\n",
              "      <th>id_nfce</th>\n",
              "      <th>date</th>\n",
              "      <th>product</th>\n",
              "      <th>quantity_product</th>\n",
              "      <th>unitvalue_product</th>\n",
              "      <th>unitdiscount_product</th>\n",
              "      <th>total</th>\n",
              "    </tr>\n",
              "  </thead>\n",
              "  <tbody>\n",
              "    <tr>\n",
              "      <th>0</th>\n",
              "      <td>6329</td>\n",
              "      <td>2016-09-28 09:12:59</td>\n",
              "      <td>GLP 13KG</td>\n",
              "      <td>1</td>\n",
              "      <td>60.0</td>\n",
              "      <td>0.0</td>\n",
              "      <td>60.0</td>\n",
              "    </tr>\n",
              "    <tr>\n",
              "      <th>1</th>\n",
              "      <td>6330</td>\n",
              "      <td>2016-09-28 09:13:29</td>\n",
              "      <td>GLP 13KG</td>\n",
              "      <td>1</td>\n",
              "      <td>60.0</td>\n",
              "      <td>0.0</td>\n",
              "      <td>60.0</td>\n",
              "    </tr>\n",
              "    <tr>\n",
              "      <th>2</th>\n",
              "      <td>6331</td>\n",
              "      <td>2016-09-28 09:24:26</td>\n",
              "      <td>GLP 13KG</td>\n",
              "      <td>1</td>\n",
              "      <td>60.0</td>\n",
              "      <td>0.0</td>\n",
              "      <td>60.0</td>\n",
              "    </tr>\n",
              "    <tr>\n",
              "      <th>3</th>\n",
              "      <td>6332</td>\n",
              "      <td>2016-09-28 09:45:38</td>\n",
              "      <td>GLP 13KG</td>\n",
              "      <td>2</td>\n",
              "      <td>60.0</td>\n",
              "      <td>0.0</td>\n",
              "      <td>120.0</td>\n",
              "    </tr>\n",
              "    <tr>\n",
              "      <th>4</th>\n",
              "      <td>6333</td>\n",
              "      <td>2016-09-28 10:04:18</td>\n",
              "      <td>GLP 13KG</td>\n",
              "      <td>20</td>\n",
              "      <td>50.0</td>\n",
              "      <td>0.0</td>\n",
              "      <td>1000.0</td>\n",
              "    </tr>\n",
              "    <tr>\n",
              "      <th>...</th>\n",
              "      <td>...</td>\n",
              "      <td>...</td>\n",
              "      <td>...</td>\n",
              "      <td>...</td>\n",
              "      <td>...</td>\n",
              "      <td>...</td>\n",
              "      <td>...</td>\n",
              "    </tr>\n",
              "    <tr>\n",
              "      <th>1563796</th>\n",
              "      <td>1997657</td>\n",
              "      <td>2022-01-17 22:17:25</td>\n",
              "      <td>AGUA MINERAL PURISSIMA 20L</td>\n",
              "      <td>1</td>\n",
              "      <td>15.0</td>\n",
              "      <td>0.0</td>\n",
              "      <td>15.0</td>\n",
              "    </tr>\n",
              "    <tr>\n",
              "      <th>1563797</th>\n",
              "      <td>1997658</td>\n",
              "      <td>2022-01-17 22:17:29</td>\n",
              "      <td>AGUA MINERAL PURISSIMA 20L</td>\n",
              "      <td>1</td>\n",
              "      <td>15.0</td>\n",
              "      <td>0.0</td>\n",
              "      <td>15.0</td>\n",
              "    </tr>\n",
              "    <tr>\n",
              "      <th>1563798</th>\n",
              "      <td>1997659</td>\n",
              "      <td>2022-01-17 22:17:34</td>\n",
              "      <td>AGUA MINERAL PURISSIMA 20L</td>\n",
              "      <td>1</td>\n",
              "      <td>15.0</td>\n",
              "      <td>0.0</td>\n",
              "      <td>15.0</td>\n",
              "    </tr>\n",
              "    <tr>\n",
              "      <th>1563799</th>\n",
              "      <td>1997660</td>\n",
              "      <td>2022-01-17 22:18:44</td>\n",
              "      <td>ONU 1075 GLP 2.1 - 13KG</td>\n",
              "      <td>1</td>\n",
              "      <td>110.0</td>\n",
              "      <td>5.0</td>\n",
              "      <td>105.0</td>\n",
              "    </tr>\n",
              "    <tr>\n",
              "      <th>1563800</th>\n",
              "      <td>1997661</td>\n",
              "      <td>2022-01-17 22:20:05</td>\n",
              "      <td>ONU 1075 GLP 2.1 - 13KG</td>\n",
              "      <td>1</td>\n",
              "      <td>110.0</td>\n",
              "      <td>0.0</td>\n",
              "      <td>110.0</td>\n",
              "    </tr>\n",
              "  </tbody>\n",
              "</table>\n",
              "<p>1563801 rows × 7 columns</p>\n",
              "</div>\n",
              "      <button class=\"colab-df-convert\" onclick=\"convertToInteractive('df-3b351ba7-6890-4aae-8ec0-b08484085c98')\"\n",
              "              title=\"Convert this dataframe to an interactive table.\"\n",
              "              style=\"display:none;\">\n",
              "        \n",
              "  <svg xmlns=\"http://www.w3.org/2000/svg\" height=\"24px\"viewBox=\"0 0 24 24\"\n",
              "       width=\"24px\">\n",
              "    <path d=\"M0 0h24v24H0V0z\" fill=\"none\"/>\n",
              "    <path d=\"M18.56 5.44l.94 2.06.94-2.06 2.06-.94-2.06-.94-.94-2.06-.94 2.06-2.06.94zm-11 1L8.5 8.5l.94-2.06 2.06-.94-2.06-.94L8.5 2.5l-.94 2.06-2.06.94zm10 10l.94 2.06.94-2.06 2.06-.94-2.06-.94-.94-2.06-.94 2.06-2.06.94z\"/><path d=\"M17.41 7.96l-1.37-1.37c-.4-.4-.92-.59-1.43-.59-.52 0-1.04.2-1.43.59L10.3 9.45l-7.72 7.72c-.78.78-.78 2.05 0 2.83L4 21.41c.39.39.9.59 1.41.59.51 0 1.02-.2 1.41-.59l7.78-7.78 2.81-2.81c.8-.78.8-2.07 0-2.86zM5.41 20L4 18.59l7.72-7.72 1.47 1.35L5.41 20z\"/>\n",
              "  </svg>\n",
              "      </button>\n",
              "      \n",
              "  <style>\n",
              "    .colab-df-container {\n",
              "      display:flex;\n",
              "      flex-wrap:wrap;\n",
              "      gap: 12px;\n",
              "    }\n",
              "\n",
              "    .colab-df-convert {\n",
              "      background-color: #E8F0FE;\n",
              "      border: none;\n",
              "      border-radius: 50%;\n",
              "      cursor: pointer;\n",
              "      display: none;\n",
              "      fill: #1967D2;\n",
              "      height: 32px;\n",
              "      padding: 0 0 0 0;\n",
              "      width: 32px;\n",
              "    }\n",
              "\n",
              "    .colab-df-convert:hover {\n",
              "      background-color: #E2EBFA;\n",
              "      box-shadow: 0px 1px 2px rgba(60, 64, 67, 0.3), 0px 1px 3px 1px rgba(60, 64, 67, 0.15);\n",
              "      fill: #174EA6;\n",
              "    }\n",
              "\n",
              "    [theme=dark] .colab-df-convert {\n",
              "      background-color: #3B4455;\n",
              "      fill: #D2E3FC;\n",
              "    }\n",
              "\n",
              "    [theme=dark] .colab-df-convert:hover {\n",
              "      background-color: #434B5C;\n",
              "      box-shadow: 0px 1px 3px 1px rgba(0, 0, 0, 0.15);\n",
              "      filter: drop-shadow(0px 1px 2px rgba(0, 0, 0, 0.3));\n",
              "      fill: #FFFFFF;\n",
              "    }\n",
              "  </style>\n",
              "\n",
              "      <script>\n",
              "        const buttonEl =\n",
              "          document.querySelector('#df-3b351ba7-6890-4aae-8ec0-b08484085c98 button.colab-df-convert');\n",
              "        buttonEl.style.display =\n",
              "          google.colab.kernel.accessAllowed ? 'block' : 'none';\n",
              "\n",
              "        async function convertToInteractive(key) {\n",
              "          const element = document.querySelector('#df-3b351ba7-6890-4aae-8ec0-b08484085c98');\n",
              "          const dataTable =\n",
              "            await google.colab.kernel.invokeFunction('convertToInteractive',\n",
              "                                                     [key], {});\n",
              "          if (!dataTable) return;\n",
              "\n",
              "          const docLinkHtml = 'Like what you see? Visit the ' +\n",
              "            '<a target=\"_blank\" href=https://colab.research.google.com/notebooks/data_table.ipynb>data table notebook</a>'\n",
              "            + ' to learn more about interactive tables.';\n",
              "          element.innerHTML = '';\n",
              "          dataTable['output_type'] = 'display_data';\n",
              "          await google.colab.output.renderOutput(dataTable, element);\n",
              "          const docLink = document.createElement('div');\n",
              "          docLink.innerHTML = docLinkHtml;\n",
              "          element.appendChild(docLink);\n",
              "        }\n",
              "      </script>\n",
              "    </div>\n",
              "  </div>\n",
              "  "
            ],
            "text/plain": [
              "         id_nfce                date                     product  \\\n",
              "0           6329 2016-09-28 09:12:59                    GLP 13KG   \n",
              "1           6330 2016-09-28 09:13:29                    GLP 13KG   \n",
              "2           6331 2016-09-28 09:24:26                    GLP 13KG   \n",
              "3           6332 2016-09-28 09:45:38                    GLP 13KG   \n",
              "4           6333 2016-09-28 10:04:18                    GLP 13KG   \n",
              "...          ...                 ...                         ...   \n",
              "1563796  1997657 2022-01-17 22:17:25  AGUA MINERAL PURISSIMA 20L   \n",
              "1563797  1997658 2022-01-17 22:17:29  AGUA MINERAL PURISSIMA 20L   \n",
              "1563798  1997659 2022-01-17 22:17:34  AGUA MINERAL PURISSIMA 20L   \n",
              "1563799  1997660 2022-01-17 22:18:44     ONU 1075 GLP 2.1 - 13KG   \n",
              "1563800  1997661 2022-01-17 22:20:05     ONU 1075 GLP 2.1 - 13KG   \n",
              "\n",
              "         quantity_product  unitvalue_product  unitdiscount_product   total  \n",
              "0                       1               60.0                   0.0    60.0  \n",
              "1                       1               60.0                   0.0    60.0  \n",
              "2                       1               60.0                   0.0    60.0  \n",
              "3                       2               60.0                   0.0   120.0  \n",
              "4                      20               50.0                   0.0  1000.0  \n",
              "...                   ...                ...                   ...     ...  \n",
              "1563796                 1               15.0                   0.0    15.0  \n",
              "1563797                 1               15.0                   0.0    15.0  \n",
              "1563798                 1               15.0                   0.0    15.0  \n",
              "1563799                 1              110.0                   5.0   105.0  \n",
              "1563800                 1              110.0                   0.0   110.0  \n",
              "\n",
              "[1563801 rows x 7 columns]"
            ]
          },
          "metadata": {},
          "execution_count": 35
        }
      ]
    },
    {
      "cell_type": "markdown",
      "source": [
        "### Agrupamento por id da nota e produtos da nota"
      ],
      "metadata": {
        "id": "-VkQOIr5n_EY"
      }
    },
    {
      "cell_type": "code",
      "source": [
        "revgas_itens_nfce_itens = revgas_itens_nfe.groupby([revgas_itens_nfe[\"id_nfce\"],revgas_itens_nfe[\"product\"]])[\"id_nfce\"].count()\n",
        "revgas_itens_nfce_itens\n"
      ],
      "metadata": {
        "colab": {
          "base_uri": "https://localhost:8080/"
        },
        "id": "seuDngnImDLw",
        "outputId": "9bae06c3-f3dc-4bcb-be7e-4d856375bf91"
      },
      "execution_count": null,
      "outputs": [
        {
          "output_type": "execute_result",
          "data": {
            "text/plain": [
              "id_nfce  product                   \n",
              "6329     GLP 13KG                      1\n",
              "6330     GLP 13KG                      1\n",
              "6331     GLP 13KG                      1\n",
              "6332     GLP 13KG                      1\n",
              "6333     GLP 13KG                      1\n",
              "                                      ..\n",
              "1997657  AGUA MINERAL PURISSIMA 20L    1\n",
              "1997658  AGUA MINERAL PURISSIMA 20L    1\n",
              "1997659  AGUA MINERAL PURISSIMA 20L    1\n",
              "1997660  ONU 1075 GLP 2.1 - 13KG       1\n",
              "1997661  ONU 1075 GLP 2.1 - 13KG       1\n",
              "Name: id_nfce, Length: 1557016, dtype: int64"
            ]
          },
          "metadata": {},
          "execution_count": 36
        }
      ]
    },
    {
      "cell_type": "code",
      "source": [
        "teste1 = revgas_itens_nfce_itens.groupby(\"id_nfce\").size().reset_index(name='QtdeProdutos')\n",
        "teste1"
      ],
      "metadata": {
        "colab": {
          "base_uri": "https://localhost:8080/",
          "height": 424
        },
        "id": "l6-OLoHApeGq",
        "outputId": "f4f6f050-ef7f-4251-889d-36602199ae3c"
      },
      "execution_count": null,
      "outputs": [
        {
          "output_type": "execute_result",
          "data": {
            "text/html": [
              "\n",
              "  <div id=\"df-029db526-c472-45ab-bdaf-855105179f4b\">\n",
              "    <div class=\"colab-df-container\">\n",
              "      <div>\n",
              "<style scoped>\n",
              "    .dataframe tbody tr th:only-of-type {\n",
              "        vertical-align: middle;\n",
              "    }\n",
              "\n",
              "    .dataframe tbody tr th {\n",
              "        vertical-align: top;\n",
              "    }\n",
              "\n",
              "    .dataframe thead th {\n",
              "        text-align: right;\n",
              "    }\n",
              "</style>\n",
              "<table border=\"1\" class=\"dataframe\">\n",
              "  <thead>\n",
              "    <tr style=\"text-align: right;\">\n",
              "      <th></th>\n",
              "      <th>id_nfce</th>\n",
              "      <th>QtdeProdutos</th>\n",
              "    </tr>\n",
              "  </thead>\n",
              "  <tbody>\n",
              "    <tr>\n",
              "      <th>0</th>\n",
              "      <td>6329</td>\n",
              "      <td>1</td>\n",
              "    </tr>\n",
              "    <tr>\n",
              "      <th>1</th>\n",
              "      <td>6330</td>\n",
              "      <td>1</td>\n",
              "    </tr>\n",
              "    <tr>\n",
              "      <th>2</th>\n",
              "      <td>6331</td>\n",
              "      <td>1</td>\n",
              "    </tr>\n",
              "    <tr>\n",
              "      <th>3</th>\n",
              "      <td>6332</td>\n",
              "      <td>1</td>\n",
              "    </tr>\n",
              "    <tr>\n",
              "      <th>4</th>\n",
              "      <td>6333</td>\n",
              "      <td>1</td>\n",
              "    </tr>\n",
              "    <tr>\n",
              "      <th>...</th>\n",
              "      <td>...</td>\n",
              "      <td>...</td>\n",
              "    </tr>\n",
              "    <tr>\n",
              "      <th>1552324</th>\n",
              "      <td>1997657</td>\n",
              "      <td>1</td>\n",
              "    </tr>\n",
              "    <tr>\n",
              "      <th>1552325</th>\n",
              "      <td>1997658</td>\n",
              "      <td>1</td>\n",
              "    </tr>\n",
              "    <tr>\n",
              "      <th>1552326</th>\n",
              "      <td>1997659</td>\n",
              "      <td>1</td>\n",
              "    </tr>\n",
              "    <tr>\n",
              "      <th>1552327</th>\n",
              "      <td>1997660</td>\n",
              "      <td>1</td>\n",
              "    </tr>\n",
              "    <tr>\n",
              "      <th>1552328</th>\n",
              "      <td>1997661</td>\n",
              "      <td>1</td>\n",
              "    </tr>\n",
              "  </tbody>\n",
              "</table>\n",
              "<p>1552329 rows × 2 columns</p>\n",
              "</div>\n",
              "      <button class=\"colab-df-convert\" onclick=\"convertToInteractive('df-029db526-c472-45ab-bdaf-855105179f4b')\"\n",
              "              title=\"Convert this dataframe to an interactive table.\"\n",
              "              style=\"display:none;\">\n",
              "        \n",
              "  <svg xmlns=\"http://www.w3.org/2000/svg\" height=\"24px\"viewBox=\"0 0 24 24\"\n",
              "       width=\"24px\">\n",
              "    <path d=\"M0 0h24v24H0V0z\" fill=\"none\"/>\n",
              "    <path d=\"M18.56 5.44l.94 2.06.94-2.06 2.06-.94-2.06-.94-.94-2.06-.94 2.06-2.06.94zm-11 1L8.5 8.5l.94-2.06 2.06-.94-2.06-.94L8.5 2.5l-.94 2.06-2.06.94zm10 10l.94 2.06.94-2.06 2.06-.94-2.06-.94-.94-2.06-.94 2.06-2.06.94z\"/><path d=\"M17.41 7.96l-1.37-1.37c-.4-.4-.92-.59-1.43-.59-.52 0-1.04.2-1.43.59L10.3 9.45l-7.72 7.72c-.78.78-.78 2.05 0 2.83L4 21.41c.39.39.9.59 1.41.59.51 0 1.02-.2 1.41-.59l7.78-7.78 2.81-2.81c.8-.78.8-2.07 0-2.86zM5.41 20L4 18.59l7.72-7.72 1.47 1.35L5.41 20z\"/>\n",
              "  </svg>\n",
              "      </button>\n",
              "      \n",
              "  <style>\n",
              "    .colab-df-container {\n",
              "      display:flex;\n",
              "      flex-wrap:wrap;\n",
              "      gap: 12px;\n",
              "    }\n",
              "\n",
              "    .colab-df-convert {\n",
              "      background-color: #E8F0FE;\n",
              "      border: none;\n",
              "      border-radius: 50%;\n",
              "      cursor: pointer;\n",
              "      display: none;\n",
              "      fill: #1967D2;\n",
              "      height: 32px;\n",
              "      padding: 0 0 0 0;\n",
              "      width: 32px;\n",
              "    }\n",
              "\n",
              "    .colab-df-convert:hover {\n",
              "      background-color: #E2EBFA;\n",
              "      box-shadow: 0px 1px 2px rgba(60, 64, 67, 0.3), 0px 1px 3px 1px rgba(60, 64, 67, 0.15);\n",
              "      fill: #174EA6;\n",
              "    }\n",
              "\n",
              "    [theme=dark] .colab-df-convert {\n",
              "      background-color: #3B4455;\n",
              "      fill: #D2E3FC;\n",
              "    }\n",
              "\n",
              "    [theme=dark] .colab-df-convert:hover {\n",
              "      background-color: #434B5C;\n",
              "      box-shadow: 0px 1px 3px 1px rgba(0, 0, 0, 0.15);\n",
              "      filter: drop-shadow(0px 1px 2px rgba(0, 0, 0, 0.3));\n",
              "      fill: #FFFFFF;\n",
              "    }\n",
              "  </style>\n",
              "\n",
              "      <script>\n",
              "        const buttonEl =\n",
              "          document.querySelector('#df-029db526-c472-45ab-bdaf-855105179f4b button.colab-df-convert');\n",
              "        buttonEl.style.display =\n",
              "          google.colab.kernel.accessAllowed ? 'block' : 'none';\n",
              "\n",
              "        async function convertToInteractive(key) {\n",
              "          const element = document.querySelector('#df-029db526-c472-45ab-bdaf-855105179f4b');\n",
              "          const dataTable =\n",
              "            await google.colab.kernel.invokeFunction('convertToInteractive',\n",
              "                                                     [key], {});\n",
              "          if (!dataTable) return;\n",
              "\n",
              "          const docLinkHtml = 'Like what you see? Visit the ' +\n",
              "            '<a target=\"_blank\" href=https://colab.research.google.com/notebooks/data_table.ipynb>data table notebook</a>'\n",
              "            + ' to learn more about interactive tables.';\n",
              "          element.innerHTML = '';\n",
              "          dataTable['output_type'] = 'display_data';\n",
              "          await google.colab.output.renderOutput(dataTable, element);\n",
              "          const docLink = document.createElement('div');\n",
              "          docLink.innerHTML = docLinkHtml;\n",
              "          element.appendChild(docLink);\n",
              "        }\n",
              "      </script>\n",
              "    </div>\n",
              "  </div>\n",
              "  "
            ],
            "text/plain": [
              "         id_nfce  QtdeProdutos\n",
              "0           6329             1\n",
              "1           6330             1\n",
              "2           6331             1\n",
              "3           6332             1\n",
              "4           6333             1\n",
              "...          ...           ...\n",
              "1552324  1997657             1\n",
              "1552325  1997658             1\n",
              "1552326  1997659             1\n",
              "1552327  1997660             1\n",
              "1552328  1997661             1\n",
              "\n",
              "[1552329 rows x 2 columns]"
            ]
          },
          "metadata": {},
          "execution_count": 37
        }
      ]
    },
    {
      "cell_type": "markdown",
      "source": [
        "### Quantitativo de notas (NFe) por itens(produtos) \n"
      ],
      "metadata": {
        "id": "wntRHh9_NiME"
      }
    },
    {
      "cell_type": "code",
      "source": [
        "teste2 = teste1.groupby([teste1[\"QtdeProdutos\"]]).size().reset_index(name='Quantidade_Notas')\n",
        "teste2.to_csv(\"/content/gdrive/MyDrive/REVGAS/output/quantidade_notas_por_quantidade_produtos.csv\")\n",
        "teste2"
      ],
      "metadata": {
        "id": "9A8T9VCSxWjf",
        "colab": {
          "base_uri": "https://localhost:8080/",
          "height": 175
        },
        "outputId": "350f7a80-f8ac-4594-a60e-57716786d37a"
      },
      "execution_count": null,
      "outputs": [
        {
          "output_type": "execute_result",
          "data": {
            "text/html": [
              "\n",
              "  <div id=\"df-3671592c-5029-454b-b9c9-dd42195da3fe\">\n",
              "    <div class=\"colab-df-container\">\n",
              "      <div>\n",
              "<style scoped>\n",
              "    .dataframe tbody tr th:only-of-type {\n",
              "        vertical-align: middle;\n",
              "    }\n",
              "\n",
              "    .dataframe tbody tr th {\n",
              "        vertical-align: top;\n",
              "    }\n",
              "\n",
              "    .dataframe thead th {\n",
              "        text-align: right;\n",
              "    }\n",
              "</style>\n",
              "<table border=\"1\" class=\"dataframe\">\n",
              "  <thead>\n",
              "    <tr style=\"text-align: right;\">\n",
              "      <th></th>\n",
              "      <th>QtdeProdutos</th>\n",
              "      <th>Quantidade_Notas</th>\n",
              "    </tr>\n",
              "  </thead>\n",
              "  <tbody>\n",
              "    <tr>\n",
              "      <th>0</th>\n",
              "      <td>1</td>\n",
              "      <td>1548207</td>\n",
              "    </tr>\n",
              "    <tr>\n",
              "      <th>1</th>\n",
              "      <td>2</td>\n",
              "      <td>3684</td>\n",
              "    </tr>\n",
              "    <tr>\n",
              "      <th>2</th>\n",
              "      <td>3</td>\n",
              "      <td>311</td>\n",
              "    </tr>\n",
              "    <tr>\n",
              "      <th>3</th>\n",
              "      <td>4</td>\n",
              "      <td>127</td>\n",
              "    </tr>\n",
              "  </tbody>\n",
              "</table>\n",
              "</div>\n",
              "      <button class=\"colab-df-convert\" onclick=\"convertToInteractive('df-3671592c-5029-454b-b9c9-dd42195da3fe')\"\n",
              "              title=\"Convert this dataframe to an interactive table.\"\n",
              "              style=\"display:none;\">\n",
              "        \n",
              "  <svg xmlns=\"http://www.w3.org/2000/svg\" height=\"24px\"viewBox=\"0 0 24 24\"\n",
              "       width=\"24px\">\n",
              "    <path d=\"M0 0h24v24H0V0z\" fill=\"none\"/>\n",
              "    <path d=\"M18.56 5.44l.94 2.06.94-2.06 2.06-.94-2.06-.94-.94-2.06-.94 2.06-2.06.94zm-11 1L8.5 8.5l.94-2.06 2.06-.94-2.06-.94L8.5 2.5l-.94 2.06-2.06.94zm10 10l.94 2.06.94-2.06 2.06-.94-2.06-.94-.94-2.06-.94 2.06-2.06.94z\"/><path d=\"M17.41 7.96l-1.37-1.37c-.4-.4-.92-.59-1.43-.59-.52 0-1.04.2-1.43.59L10.3 9.45l-7.72 7.72c-.78.78-.78 2.05 0 2.83L4 21.41c.39.39.9.59 1.41.59.51 0 1.02-.2 1.41-.59l7.78-7.78 2.81-2.81c.8-.78.8-2.07 0-2.86zM5.41 20L4 18.59l7.72-7.72 1.47 1.35L5.41 20z\"/>\n",
              "  </svg>\n",
              "      </button>\n",
              "      \n",
              "  <style>\n",
              "    .colab-df-container {\n",
              "      display:flex;\n",
              "      flex-wrap:wrap;\n",
              "      gap: 12px;\n",
              "    }\n",
              "\n",
              "    .colab-df-convert {\n",
              "      background-color: #E8F0FE;\n",
              "      border: none;\n",
              "      border-radius: 50%;\n",
              "      cursor: pointer;\n",
              "      display: none;\n",
              "      fill: #1967D2;\n",
              "      height: 32px;\n",
              "      padding: 0 0 0 0;\n",
              "      width: 32px;\n",
              "    }\n",
              "\n",
              "    .colab-df-convert:hover {\n",
              "      background-color: #E2EBFA;\n",
              "      box-shadow: 0px 1px 2px rgba(60, 64, 67, 0.3), 0px 1px 3px 1px rgba(60, 64, 67, 0.15);\n",
              "      fill: #174EA6;\n",
              "    }\n",
              "\n",
              "    [theme=dark] .colab-df-convert {\n",
              "      background-color: #3B4455;\n",
              "      fill: #D2E3FC;\n",
              "    }\n",
              "\n",
              "    [theme=dark] .colab-df-convert:hover {\n",
              "      background-color: #434B5C;\n",
              "      box-shadow: 0px 1px 3px 1px rgba(0, 0, 0, 0.15);\n",
              "      filter: drop-shadow(0px 1px 2px rgba(0, 0, 0, 0.3));\n",
              "      fill: #FFFFFF;\n",
              "    }\n",
              "  </style>\n",
              "\n",
              "      <script>\n",
              "        const buttonEl =\n",
              "          document.querySelector('#df-3671592c-5029-454b-b9c9-dd42195da3fe button.colab-df-convert');\n",
              "        buttonEl.style.display =\n",
              "          google.colab.kernel.accessAllowed ? 'block' : 'none';\n",
              "\n",
              "        async function convertToInteractive(key) {\n",
              "          const element = document.querySelector('#df-3671592c-5029-454b-b9c9-dd42195da3fe');\n",
              "          const dataTable =\n",
              "            await google.colab.kernel.invokeFunction('convertToInteractive',\n",
              "                                                     [key], {});\n",
              "          if (!dataTable) return;\n",
              "\n",
              "          const docLinkHtml = 'Like what you see? Visit the ' +\n",
              "            '<a target=\"_blank\" href=https://colab.research.google.com/notebooks/data_table.ipynb>data table notebook</a>'\n",
              "            + ' to learn more about interactive tables.';\n",
              "          element.innerHTML = '';\n",
              "          dataTable['output_type'] = 'display_data';\n",
              "          await google.colab.output.renderOutput(dataTable, element);\n",
              "          const docLink = document.createElement('div');\n",
              "          docLink.innerHTML = docLinkHtml;\n",
              "          element.appendChild(docLink);\n",
              "        }\n",
              "      </script>\n",
              "    </div>\n",
              "  </div>\n",
              "  "
            ],
            "text/plain": [
              "   QtdeProdutos  Quantidade_Notas\n",
              "0             1           1548207\n",
              "1             2              3684\n",
              "2             3               311\n",
              "3             4               127"
            ]
          },
          "metadata": {},
          "execution_count": 63
        }
      ]
    }
  ],
  "metadata": {
    "colab": {
      "collapsed_sections": [
        "s_cy75j2HY-5",
        "T_1-mLXjHpDW",
        "hYbL4mPrICSi",
        "mo9oajxXIbhC",
        "BzVMLQKqKkcw",
        "6U_na5PKK0tt",
        "jRW5ydcvLDd4",
        "THQtnddZLQ-6",
        "2DSpZfa5LnUy",
        "CmSsk-xzLvDd",
        "4nnYX--AMHMF",
        "PvWZAgwl8Ceh",
        "NKjDO2JS8hNy",
        "RFZ8HDAY-U-h",
        "oEe1XzbmMTw8",
        "SvqaLhRl6c2I",
        "SxIFu2Pq478x",
        "1K8iMw1_56dT",
        "LSwWCD9Q4xBr",
        "hwhuGE41Mmlq",
        "MUnv9W5M_i0N",
        "L3fye3m3C5UQ",
        "9XWpIfiWM-g0",
        "helxUzWCAoDi",
        "8C_vnBYNBLrS",
        "7CafGGCSNWzQ",
        "fUGU1C-VFVAO",
        "yLdHcntiNn-z",
        "cjLF7LsFFqgT",
        "iG2SaRb8FjIg",
        "M5YiQ9c6OmfX",
        "Foh6KHjWGZfj",
        "ac3RNAHjoaYF",
        "XTFtkaeIO3E5",
        "TK2cBzChI555",
        "ZNGv7xdmMJL0",
        "xG72JwXJMVej",
        "jBQMWk9TKh5o",
        "soHauHKsPF0w",
        "hKuA639ychDr",
        "ij_A2O36M_p6",
        "7AubsQYfO-o7",
        "koyDWNkJX-IS",
        "qCJ5dtO-ZI-H",
        "qdBYCSCXbHKE",
        "9YNcSciQeRiU",
        "MvCAe7UzhKJS",
        "abZWdQM9hndg",
        "ykawF5tul__s"
      ],
      "name": "NFE.ipynb",
      "provenance": [],
      "mount_file_id": "1AJnS4Q4qu3rvsABCwMSUgFZApv5pBJqp",
      "authorship_tag": "ABX9TyPRnyZRUOB1bf8WB5AXJcrz",
      "include_colab_link": true
    },
    "kernelspec": {
      "display_name": "Python 3",
      "name": "python3"
    },
    "language_info": {
      "name": "python"
    }
  },
  "nbformat": 4,
  "nbformat_minor": 0
}