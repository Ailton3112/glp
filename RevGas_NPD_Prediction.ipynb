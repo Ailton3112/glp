{
  "nbformat": 4,
  "nbformat_minor": 0,
  "metadata": {
    "colab": {
      "name": "RevGas_NPD_Prediction.ipynb",
      "provenance": [],
      "collapsed_sections": [
        "-DuU2ujUN6iD"
      ],
      "authorship_tag": "ABX9TyOn0bZDshZbfNz5zRPeuKSq",
      "include_colab_link": true
    },
    "kernelspec": {
      "name": "python3",
      "display_name": "Python 3"
    },
    "language_info": {
      "name": "python"
    }
  },
  "cells": [
    {
      "cell_type": "markdown",
      "metadata": {
        "id": "view-in-github",
        "colab_type": "text"
      },
      "source": [
        "<a href=\"https://colab.research.google.com/github/Ailton3112/glp/blob/main/RevGas_NPD_Prediction.ipynb\" target=\"_parent\"><img src=\"https://colab.research.google.com/assets/colab-badge.svg\" alt=\"Open In Colab\"/></a>"
      ]
    },
    {
      "cell_type": "markdown",
      "source": [
        "# NPD Prediction\n",
        "\n",
        "* Sources\n",
        "  - [Using machine learning to predict the next purchase date for an individual retail customer](http://www.scielo.org.za/scielo.php?script=sci_arttext&pid=S2224-78902020000300008)\n",
        "  - [Predicting Next Purchase Day](https://towardsdatascience.com/predicting-next-purchase-day-15fae5548027)\n",
        "  - [Using Machine Learning to Predict Customers’ Next Purchase Day](https://towardsdatascience.com/using-machine-learning-to-predict-customers-next-purchase-day-7895ad49b4db)"
      ],
      "metadata": {
        "id": "NWlV9qQcNEMz"
      }
    },
    {
      "cell_type": "code",
      "source": [
        "\n",
        "import pandas as pd\n",
        "import matplotlib.pyplot as plt\n",
        "from sklearn.preprocessing import MinMaxScaler\n",
        "from sklearn import datasets\n",
        "from sklearn.model_selection import train_test_split\n",
        "from sklearn.preprocessing import MinMaxScaler\n",
        "from sklearn.linear_model import LinearRegression\n"
      ],
      "metadata": {
        "id": "7Hboqq8VZQQl"
      },
      "execution_count": null,
      "outputs": []
    },
    {
      "cell_type": "code",
      "execution_count": null,
      "metadata": {
        "id": "OKNZW94BNAan"
      },
      "outputs": [],
      "source": [
        "#!pip3 install google-colab\n",
        "\n",
        "\n",
        "#from google.colab import drive\n",
        "#drive.mount('/content/drive')"
      ]
    },
    {
      "cell_type": "code",
      "source": [
        "#dataset = pd.read_csv('/content/drive/MyDrive/dataset/produtos_clientes.csv',delimiter = ',',low_memory=False)\n",
        "\n",
        "dataset = pd.read_csv('/Users/ailtonrodrigues/Desktop/REVGAS/input/produtos_clientes.csv',delimiter = ',',low_memory=False)\n",
        "\n",
        "dataset.head()"
      ],
      "metadata": {
        "id": "P9eX2fCbNT4e",
        "colab": {
          "base_uri": "https://localhost:8080/",
          "height": 380
        },
        "outputId": "f415c03e-2137-4a86-dbf8-ad2e00af2622"
      },
      "execution_count": null,
      "outputs": [
        {
          "output_type": "execute_result",
          "data": {
            "text/plain": [
              "   client_id quantity_product   product value_product  payments  \\\n",
              "0      29293                1  GLP 13KG         45.00  Dinheiro   \n",
              "1      29293                1  GLP 13KG         40.00  Dinheiro   \n",
              "2      29293                1  GLP 13KG         45.00  Dinheiro   \n",
              "3      29293                1  GLP 13KG         45.00  Dinheiro   \n",
              "4      29293                1  GLP 13KG         45.00  Dinheiro   \n",
              "\n",
              "  payments_values  total                 date      city  state  \n",
              "0           45.00   45.0  2013-04-09 22:17:37  Teresina  Piauí  \n",
              "1           40.00   40.0  2013-05-18 23:12:27  Teresina  Piauí  \n",
              "2           45.00   45.0  2013-06-25 22:21:47  Teresina  Piauí  \n",
              "3           45.00   45.0  2013-08-11 21:51:12  Teresina  Piauí  \n",
              "4           45.00   45.0  2013-10-17 22:57:38  Teresina  Piauí  "
            ],
            "text/html": [
              "<div>\n",
              "<style scoped>\n",
              "    .dataframe tbody tr th:only-of-type {\n",
              "        vertical-align: middle;\n",
              "    }\n",
              "\n",
              "    .dataframe tbody tr th {\n",
              "        vertical-align: top;\n",
              "    }\n",
              "\n",
              "    .dataframe thead th {\n",
              "        text-align: right;\n",
              "    }\n",
              "</style>\n",
              "<table border=\"1\" class=\"dataframe\">\n",
              "  <thead>\n",
              "    <tr style=\"text-align: right;\">\n",
              "      <th></th>\n",
              "      <th>client_id</th>\n",
              "      <th>quantity_product</th>\n",
              "      <th>product</th>\n",
              "      <th>value_product</th>\n",
              "      <th>payments</th>\n",
              "      <th>payments_values</th>\n",
              "      <th>total</th>\n",
              "      <th>date</th>\n",
              "      <th>city</th>\n",
              "      <th>state</th>\n",
              "    </tr>\n",
              "  </thead>\n",
              "  <tbody>\n",
              "    <tr>\n",
              "      <th>0</th>\n",
              "      <td>29293</td>\n",
              "      <td>1</td>\n",
              "      <td>GLP 13KG</td>\n",
              "      <td>45.00</td>\n",
              "      <td>Dinheiro</td>\n",
              "      <td>45.00</td>\n",
              "      <td>45.0</td>\n",
              "      <td>2013-04-09 22:17:37</td>\n",
              "      <td>Teresina</td>\n",
              "      <td>Piauí</td>\n",
              "    </tr>\n",
              "    <tr>\n",
              "      <th>1</th>\n",
              "      <td>29293</td>\n",
              "      <td>1</td>\n",
              "      <td>GLP 13KG</td>\n",
              "      <td>40.00</td>\n",
              "      <td>Dinheiro</td>\n",
              "      <td>40.00</td>\n",
              "      <td>40.0</td>\n",
              "      <td>2013-05-18 23:12:27</td>\n",
              "      <td>Teresina</td>\n",
              "      <td>Piauí</td>\n",
              "    </tr>\n",
              "    <tr>\n",
              "      <th>2</th>\n",
              "      <td>29293</td>\n",
              "      <td>1</td>\n",
              "      <td>GLP 13KG</td>\n",
              "      <td>45.00</td>\n",
              "      <td>Dinheiro</td>\n",
              "      <td>45.00</td>\n",
              "      <td>45.0</td>\n",
              "      <td>2013-06-25 22:21:47</td>\n",
              "      <td>Teresina</td>\n",
              "      <td>Piauí</td>\n",
              "    </tr>\n",
              "    <tr>\n",
              "      <th>3</th>\n",
              "      <td>29293</td>\n",
              "      <td>1</td>\n",
              "      <td>GLP 13KG</td>\n",
              "      <td>45.00</td>\n",
              "      <td>Dinheiro</td>\n",
              "      <td>45.00</td>\n",
              "      <td>45.0</td>\n",
              "      <td>2013-08-11 21:51:12</td>\n",
              "      <td>Teresina</td>\n",
              "      <td>Piauí</td>\n",
              "    </tr>\n",
              "    <tr>\n",
              "      <th>4</th>\n",
              "      <td>29293</td>\n",
              "      <td>1</td>\n",
              "      <td>GLP 13KG</td>\n",
              "      <td>45.00</td>\n",
              "      <td>Dinheiro</td>\n",
              "      <td>45.00</td>\n",
              "      <td>45.0</td>\n",
              "      <td>2013-10-17 22:57:38</td>\n",
              "      <td>Teresina</td>\n",
              "      <td>Piauí</td>\n",
              "    </tr>\n",
              "  </tbody>\n",
              "</table>\n",
              "</div>"
            ]
          },
          "metadata": {},
          "execution_count": 122
        }
      ]
    },
    {
      "cell_type": "code",
      "source": [
        "dataset['client_id'] = dataset['client_id'].astype('int')\n",
        "dataset['quantity_product'] = dataset['quantity_product'].astype('float32')\n",
        "dataset['product'] = dataset['product'].astype('category')\n",
        "dataset['value_product'] = pd.to_numeric(dataset['value_product'], errors='coerce')\n",
        "dataset['payments'] = dataset['payments'].astype('category')\n",
        "dataset['payments_values'] = pd.to_numeric(dataset['payments_values'], errors='coerce')\n",
        "dataset['total'] = dataset['total'].astype('float32')\n",
        "dataset['date'] = dataset['date'].astype('datetime64')\n",
        "dataset['city'] = dataset['city'].astype('category')\n",
        "dataset['state'] = dataset['state'].astype('category')\n",
        "dataset.dtypes"
      ],
      "metadata": {
        "id": "AAq0z-1fNiDn",
        "colab": {
          "base_uri": "https://localhost:8080/"
        },
        "outputId": "6f0e97de-4279-482f-8202-db6ce9a12947"
      },
      "execution_count": null,
      "outputs": [
        {
          "output_type": "execute_result",
          "data": {
            "text/plain": [
              "client_id                    int64\n",
              "quantity_product           float32\n",
              "product                   category\n",
              "value_product              float64\n",
              "payments                  category\n",
              "payments_values            float64\n",
              "total                      float32\n",
              "date                datetime64[ns]\n",
              "city                      category\n",
              "state                     category\n",
              "dtype: object"
            ]
          },
          "metadata": {},
          "execution_count": 241
        }
      ]
    },
    {
      "cell_type": "code",
      "source": [
        "#dataset_filtered = dataset.query('state==\"Piauí\" & quantity_product<=2 & product==\"GLP 13KG\"')\n",
        "#dataset_filtered = dataset.query('state==\"Piauí\" & quantity_product<=2 & product==\"GLP 13KG\"')\n",
        "\n",
        "\n",
        " #print ('Quantidade de linhas e colunas', dataset_filtered.shape)\n",
        "dataset_filtered.head()"
      ],
      "metadata": {
        "id": "FCi5GxMP260c",
        "colab": {
          "base_uri": "https://localhost:8080/",
          "height": 380
        },
        "outputId": "b7c4de51-0e08-4728-c85e-6e9f8e87079b"
      },
      "execution_count": null,
      "outputs": [
        {
          "output_type": "execute_result",
          "data": {
            "text/plain": [
              "   client_id  quantity_product   product  value_product  payments  \\\n",
              "0      29293               1.0  GLP 13KG           45.0  Dinheiro   \n",
              "1      29293               1.0  GLP 13KG           40.0  Dinheiro   \n",
              "2      29293               1.0  GLP 13KG           45.0  Dinheiro   \n",
              "3      29293               1.0  GLP 13KG           45.0  Dinheiro   \n",
              "4      29293               1.0  GLP 13KG           45.0  Dinheiro   \n",
              "\n",
              "   payments_values  total                date      city  state  \n",
              "0             45.0   45.0 2013-04-09 22:17:37  Teresina  Piauí  \n",
              "1             40.0   40.0 2013-05-18 23:12:27  Teresina  Piauí  \n",
              "2             45.0   45.0 2013-06-25 22:21:47  Teresina  Piauí  \n",
              "3             45.0   45.0 2013-08-11 21:51:12  Teresina  Piauí  \n",
              "4             45.0   45.0 2013-10-17 22:57:38  Teresina  Piauí  "
            ],
            "text/html": [
              "<div>\n",
              "<style scoped>\n",
              "    .dataframe tbody tr th:only-of-type {\n",
              "        vertical-align: middle;\n",
              "    }\n",
              "\n",
              "    .dataframe tbody tr th {\n",
              "        vertical-align: top;\n",
              "    }\n",
              "\n",
              "    .dataframe thead th {\n",
              "        text-align: right;\n",
              "    }\n",
              "</style>\n",
              "<table border=\"1\" class=\"dataframe\">\n",
              "  <thead>\n",
              "    <tr style=\"text-align: right;\">\n",
              "      <th></th>\n",
              "      <th>client_id</th>\n",
              "      <th>quantity_product</th>\n",
              "      <th>product</th>\n",
              "      <th>value_product</th>\n",
              "      <th>payments</th>\n",
              "      <th>payments_values</th>\n",
              "      <th>total</th>\n",
              "      <th>date</th>\n",
              "      <th>city</th>\n",
              "      <th>state</th>\n",
              "    </tr>\n",
              "  </thead>\n",
              "  <tbody>\n",
              "    <tr>\n",
              "      <th>0</th>\n",
              "      <td>29293</td>\n",
              "      <td>1.0</td>\n",
              "      <td>GLP 13KG</td>\n",
              "      <td>45.0</td>\n",
              "      <td>Dinheiro</td>\n",
              "      <td>45.0</td>\n",
              "      <td>45.0</td>\n",
              "      <td>2013-04-09 22:17:37</td>\n",
              "      <td>Teresina</td>\n",
              "      <td>Piauí</td>\n",
              "    </tr>\n",
              "    <tr>\n",
              "      <th>1</th>\n",
              "      <td>29293</td>\n",
              "      <td>1.0</td>\n",
              "      <td>GLP 13KG</td>\n",
              "      <td>40.0</td>\n",
              "      <td>Dinheiro</td>\n",
              "      <td>40.0</td>\n",
              "      <td>40.0</td>\n",
              "      <td>2013-05-18 23:12:27</td>\n",
              "      <td>Teresina</td>\n",
              "      <td>Piauí</td>\n",
              "    </tr>\n",
              "    <tr>\n",
              "      <th>2</th>\n",
              "      <td>29293</td>\n",
              "      <td>1.0</td>\n",
              "      <td>GLP 13KG</td>\n",
              "      <td>45.0</td>\n",
              "      <td>Dinheiro</td>\n",
              "      <td>45.0</td>\n",
              "      <td>45.0</td>\n",
              "      <td>2013-06-25 22:21:47</td>\n",
              "      <td>Teresina</td>\n",
              "      <td>Piauí</td>\n",
              "    </tr>\n",
              "    <tr>\n",
              "      <th>3</th>\n",
              "      <td>29293</td>\n",
              "      <td>1.0</td>\n",
              "      <td>GLP 13KG</td>\n",
              "      <td>45.0</td>\n",
              "      <td>Dinheiro</td>\n",
              "      <td>45.0</td>\n",
              "      <td>45.0</td>\n",
              "      <td>2013-08-11 21:51:12</td>\n",
              "      <td>Teresina</td>\n",
              "      <td>Piauí</td>\n",
              "    </tr>\n",
              "    <tr>\n",
              "      <th>4</th>\n",
              "      <td>29293</td>\n",
              "      <td>1.0</td>\n",
              "      <td>GLP 13KG</td>\n",
              "      <td>45.0</td>\n",
              "      <td>Dinheiro</td>\n",
              "      <td>45.0</td>\n",
              "      <td>45.0</td>\n",
              "      <td>2013-10-17 22:57:38</td>\n",
              "      <td>Teresina</td>\n",
              "      <td>Piauí</td>\n",
              "    </tr>\n",
              "  </tbody>\n",
              "</table>\n",
              "</div>"
            ]
          },
          "metadata": {},
          "execution_count": 224
        }
      ]
    },
    {
      "cell_type": "code",
      "source": [
        "dataset_filtered.describe()"
      ],
      "metadata": {
        "id": "oQUkCW3TNl3V",
        "colab": {
          "base_uri": "https://localhost:8080/",
          "height": 300
        },
        "outputId": "dcba4e8c-e5ab-4801-c59e-d1c2f7684abc"
      },
      "execution_count": null,
      "outputs": [
        {
          "output_type": "execute_result",
          "data": {
            "text/plain": [
              "          client_id  quantity_product  value_product  payments_values  \\\n",
              "count  6.905520e+05     690552.000000  690552.000000    683851.000000   \n",
              "mean   1.373652e+05          2.160715      71.599388       147.917280   \n",
              "std    1.832986e+05         12.224780      18.167595       783.611215   \n",
              "min    2.929300e+04          1.000000       0.780000         0.780000   \n",
              "25%    4.689400e+04          1.000000      60.000000        63.000000   \n",
              "50%    6.600200e+04          1.000000      70.000000        75.000000   \n",
              "75%    1.389010e+05          1.000000      80.000000       100.000000   \n",
              "max    1.243195e+06       4225.000000     950.000000    260901.500000   \n",
              "\n",
              "               total  \n",
              "count  690552.000000  \n",
              "mean      152.949677  \n",
              "std       800.761292  \n",
              "min         0.780000  \n",
              "25%        63.000000  \n",
              "50%        75.000000  \n",
              "75%       100.000000  \n",
              "max    260901.500000  "
            ],
            "text/html": [
              "<div>\n",
              "<style scoped>\n",
              "    .dataframe tbody tr th:only-of-type {\n",
              "        vertical-align: middle;\n",
              "    }\n",
              "\n",
              "    .dataframe tbody tr th {\n",
              "        vertical-align: top;\n",
              "    }\n",
              "\n",
              "    .dataframe thead th {\n",
              "        text-align: right;\n",
              "    }\n",
              "</style>\n",
              "<table border=\"1\" class=\"dataframe\">\n",
              "  <thead>\n",
              "    <tr style=\"text-align: right;\">\n",
              "      <th></th>\n",
              "      <th>client_id</th>\n",
              "      <th>quantity_product</th>\n",
              "      <th>value_product</th>\n",
              "      <th>payments_values</th>\n",
              "      <th>total</th>\n",
              "    </tr>\n",
              "  </thead>\n",
              "  <tbody>\n",
              "    <tr>\n",
              "      <th>count</th>\n",
              "      <td>6.905520e+05</td>\n",
              "      <td>690552.000000</td>\n",
              "      <td>690552.000000</td>\n",
              "      <td>683851.000000</td>\n",
              "      <td>690552.000000</td>\n",
              "    </tr>\n",
              "    <tr>\n",
              "      <th>mean</th>\n",
              "      <td>1.373652e+05</td>\n",
              "      <td>2.160715</td>\n",
              "      <td>71.599388</td>\n",
              "      <td>147.917280</td>\n",
              "      <td>152.949677</td>\n",
              "    </tr>\n",
              "    <tr>\n",
              "      <th>std</th>\n",
              "      <td>1.832986e+05</td>\n",
              "      <td>12.224780</td>\n",
              "      <td>18.167595</td>\n",
              "      <td>783.611215</td>\n",
              "      <td>800.761292</td>\n",
              "    </tr>\n",
              "    <tr>\n",
              "      <th>min</th>\n",
              "      <td>2.929300e+04</td>\n",
              "      <td>1.000000</td>\n",
              "      <td>0.780000</td>\n",
              "      <td>0.780000</td>\n",
              "      <td>0.780000</td>\n",
              "    </tr>\n",
              "    <tr>\n",
              "      <th>25%</th>\n",
              "      <td>4.689400e+04</td>\n",
              "      <td>1.000000</td>\n",
              "      <td>60.000000</td>\n",
              "      <td>63.000000</td>\n",
              "      <td>63.000000</td>\n",
              "    </tr>\n",
              "    <tr>\n",
              "      <th>50%</th>\n",
              "      <td>6.600200e+04</td>\n",
              "      <td>1.000000</td>\n",
              "      <td>70.000000</td>\n",
              "      <td>75.000000</td>\n",
              "      <td>75.000000</td>\n",
              "    </tr>\n",
              "    <tr>\n",
              "      <th>75%</th>\n",
              "      <td>1.389010e+05</td>\n",
              "      <td>1.000000</td>\n",
              "      <td>80.000000</td>\n",
              "      <td>100.000000</td>\n",
              "      <td>100.000000</td>\n",
              "    </tr>\n",
              "    <tr>\n",
              "      <th>max</th>\n",
              "      <td>1.243195e+06</td>\n",
              "      <td>4225.000000</td>\n",
              "      <td>950.000000</td>\n",
              "      <td>260901.500000</td>\n",
              "      <td>260901.500000</td>\n",
              "    </tr>\n",
              "  </tbody>\n",
              "</table>\n",
              "</div>"
            ]
          },
          "metadata": {},
          "execution_count": 225
        }
      ]
    },
    {
      "cell_type": "code",
      "source": [
        "dataset_filtered.info()\n",
        "dataset_filtered['date'] = pd.to_datetime(dataset_filtered['date'])\n"
      ],
      "metadata": {
        "id": "q0k5d107Nnu8",
        "colab": {
          "base_uri": "https://localhost:8080/"
        },
        "outputId": "f88f3d93-53af-47a1-ca66-97a1c4897d53"
      },
      "execution_count": null,
      "outputs": [
        {
          "output_type": "stream",
          "name": "stdout",
          "text": [
            "<class 'pandas.core.frame.DataFrame'>\n",
            "Int64Index: 690552 entries, 0 to 2090615\n",
            "Data columns (total 10 columns):\n",
            " #   Column            Non-Null Count   Dtype         \n",
            "---  ------            --------------   -----         \n",
            " 0   client_id         690552 non-null  int64         \n",
            " 1   quantity_product  690552 non-null  float32       \n",
            " 2   product           690552 non-null  category      \n",
            " 3   value_product     690552 non-null  float64       \n",
            " 4   payments          690552 non-null  category      \n",
            " 5   payments_values   683851 non-null  float64       \n",
            " 6   total             690552 non-null  float32       \n",
            " 7   date              690552 non-null  datetime64[ns]\n",
            " 8   city              690552 non-null  category      \n",
            " 9   state             690552 non-null  category      \n",
            "dtypes: category(4), datetime64[ns](1), float32(2), float64(2), int64(1)\n",
            "memory usage: 35.6 MB\n"
          ]
        },
        {
          "output_type": "stream",
          "name": "stderr",
          "text": [
            "<ipython-input-226-ae4c313e25fd>:2: SettingWithCopyWarning: \n",
            "A value is trying to be set on a copy of a slice from a DataFrame.\n",
            "Try using .loc[row_indexer,col_indexer] = value instead\n",
            "\n",
            "See the caveats in the documentation: https://pandas.pydata.org/pandas-docs/stable/user_guide/indexing.html#returning-a-view-versus-a-copy\n",
            "  dataset_filtered['date'] = pd.to_datetime(dataset_filtered['date'])\n"
          ]
        }
      ]
    },
    {
      "cell_type": "code",
      "source": [
        "last_order = [-1] * dataset_filtered.shape[0]\n",
        "for client_id in dataset_filtered['client_id'].unique():\n",
        "  ordered = (\n",
        "      dataset_filtered[dataset_filtered['client_id'] == client_id]\n",
        "      .sort_values('date', axis=0, ascending=True)\n",
        "  )\n",
        "  last_date = None\n",
        "  for date in ordered['date']:\n",
        "    if (last_date is not None):\n",
        "      i = dataset_filtered.index[\n",
        "          (dataset_filtered['client_id'] == client_id) & (dataset_filtered['date'] == date)\n",
        "      ].to_list()[0]\n",
        "      order_diff = date - last_date\n",
        "      last_order[i] = order_diff\n",
        "    last_date = date\n",
        "\n",
        "for i in range(len(last_order)):\n",
        "  if (last_order[i] != -1):\n",
        "    last_order[i] /= numpy.timedelta64(1, 'D')\n",
        "\n",
        "dataset_filtered['last_order'] = last_order"
      ],
      "metadata": {
        "id": "_8BoOkf7Nqoc",
        "colab": {
          "base_uri": "https://localhost:8080/",
          "height": 381
        },
        "outputId": "4456d446-bf1a-4535-ce24-f877f9f117a9"
      },
      "execution_count": null,
      "outputs": [
        {
          "output_type": "error",
          "ename": "TypeError",
          "evalue": "ignored",
          "traceback": [
            "\u001b[0;31m---------------------------------------------------------------------------\u001b[0m",
            "\u001b[0;31mTypeError\u001b[0m                                 Traceback (most recent call last)",
            "\u001b[0;32m<ipython-input-246-6924a45e6b64>\u001b[0m in \u001b[0;36m<module>\u001b[0;34m\u001b[0m\n\u001b[1;32m      2\u001b[0m \u001b[0;32mfor\u001b[0m \u001b[0mclient_id\u001b[0m \u001b[0;32min\u001b[0m \u001b[0mdataset_filtered\u001b[0m\u001b[0;34m[\u001b[0m\u001b[0;34m'client_id'\u001b[0m\u001b[0;34m]\u001b[0m\u001b[0;34m.\u001b[0m\u001b[0munique\u001b[0m\u001b[0;34m(\u001b[0m\u001b[0;34m)\u001b[0m\u001b[0;34m:\u001b[0m\u001b[0;34m\u001b[0m\u001b[0;34m\u001b[0m\u001b[0m\n\u001b[1;32m      3\u001b[0m   ordered = (\n\u001b[0;32m----> 4\u001b[0;31m       \u001b[0mdataset_filtered\u001b[0m\u001b[0;34m[\u001b[0m\u001b[0mdataset_filtered\u001b[0m\u001b[0;34m[\u001b[0m\u001b[0;34m'client_id'\u001b[0m\u001b[0;34m]\u001b[0m \u001b[0;34m==\u001b[0m \u001b[0mclient_id\u001b[0m\u001b[0;34m]\u001b[0m\u001b[0;34m\u001b[0m\u001b[0;34m\u001b[0m\u001b[0m\n\u001b[0m\u001b[1;32m      5\u001b[0m       \u001b[0;34m.\u001b[0m\u001b[0msort_values\u001b[0m\u001b[0;34m(\u001b[0m\u001b[0;34m'date'\u001b[0m\u001b[0;34m,\u001b[0m \u001b[0maxis\u001b[0m\u001b[0;34m=\u001b[0m\u001b[0;36m0\u001b[0m\u001b[0;34m,\u001b[0m \u001b[0mascending\u001b[0m\u001b[0;34m=\u001b[0m\u001b[0;32mTrue\u001b[0m\u001b[0;34m)\u001b[0m\u001b[0;34m\u001b[0m\u001b[0;34m\u001b[0m\u001b[0m\n\u001b[1;32m      6\u001b[0m   )\n",
            "\u001b[0;32m/opt/anaconda3/lib/python3.8/site-packages/pandas/core/ops/common.py\u001b[0m in \u001b[0;36mnew_method\u001b[0;34m(self, other)\u001b[0m\n\u001b[1;32m     63\u001b[0m                 \u001b[0;32mif\u001b[0m \u001b[0misinstance\u001b[0m\u001b[0;34m(\u001b[0m\u001b[0mself\u001b[0m\u001b[0;34m,\u001b[0m \u001b[0mcls\u001b[0m\u001b[0;34m)\u001b[0m\u001b[0;34m:\u001b[0m\u001b[0;34m\u001b[0m\u001b[0;34m\u001b[0m\u001b[0m\n\u001b[1;32m     64\u001b[0m                     \u001b[0;32mbreak\u001b[0m\u001b[0;34m\u001b[0m\u001b[0;34m\u001b[0m\u001b[0m\n\u001b[0;32m---> 65\u001b[0;31m                 \u001b[0;32mif\u001b[0m \u001b[0misinstance\u001b[0m\u001b[0;34m(\u001b[0m\u001b[0mother\u001b[0m\u001b[0;34m,\u001b[0m \u001b[0mcls\u001b[0m\u001b[0;34m)\u001b[0m\u001b[0;34m:\u001b[0m\u001b[0;34m\u001b[0m\u001b[0;34m\u001b[0m\u001b[0m\n\u001b[0m\u001b[1;32m     66\u001b[0m                     \u001b[0;32mreturn\u001b[0m \u001b[0mNotImplemented\u001b[0m\u001b[0;34m\u001b[0m\u001b[0;34m\u001b[0m\u001b[0m\n\u001b[1;32m     67\u001b[0m \u001b[0;34m\u001b[0m\u001b[0m\n",
            "\u001b[0;32m/opt/anaconda3/lib/python3.8/site-packages/pandas/core/arraylike.py\u001b[0m in \u001b[0;36m__eq__\u001b[0;34m(self, other)\u001b[0m\n\u001b[1;32m     27\u001b[0m     \u001b[0;34m\"multiply\"\u001b[0m\u001b[0;34m:\u001b[0m \u001b[0;34m\"prod\"\u001b[0m\u001b[0;34m,\u001b[0m\u001b[0;34m\u001b[0m\u001b[0;34m\u001b[0m\u001b[0m\n\u001b[1;32m     28\u001b[0m }\n\u001b[0;32m---> 29\u001b[0;31m \u001b[0;34m\u001b[0m\u001b[0m\n\u001b[0m\u001b[1;32m     30\u001b[0m \u001b[0;34m\u001b[0m\u001b[0m\n\u001b[1;32m     31\u001b[0m \u001b[0;32mclass\u001b[0m \u001b[0mOpsMixin\u001b[0m\u001b[0;34m:\u001b[0m\u001b[0;34m\u001b[0m\u001b[0;34m\u001b[0m\u001b[0m\n",
            "\u001b[0;32m/opt/anaconda3/lib/python3.8/site-packages/pandas/core/series.py\u001b[0m in \u001b[0;36m_cmp_method\u001b[0;34m(self, other, op)\u001b[0m\n\u001b[1;32m   4976\u001b[0m         \u001b[0mshow_counts\u001b[0m\u001b[0;34m:\u001b[0m \u001b[0mbool\u001b[0m \u001b[0;34m=\u001b[0m \u001b[0;32mTrue\u001b[0m\u001b[0;34m,\u001b[0m\u001b[0;34m\u001b[0m\u001b[0;34m\u001b[0m\u001b[0m\n\u001b[1;32m   4977\u001b[0m     ) -> None:\n\u001b[0;32m-> 4978\u001b[0;31m         return SeriesInfo(self, memory_usage).render(\n\u001b[0m\u001b[1;32m   4979\u001b[0m             \u001b[0mbuf\u001b[0m\u001b[0;34m=\u001b[0m\u001b[0mbuf\u001b[0m\u001b[0;34m,\u001b[0m\u001b[0;34m\u001b[0m\u001b[0;34m\u001b[0m\u001b[0m\n\u001b[1;32m   4980\u001b[0m             \u001b[0mmax_cols\u001b[0m\u001b[0;34m=\u001b[0m\u001b[0mmax_cols\u001b[0m\u001b[0;34m,\u001b[0m\u001b[0;34m\u001b[0m\u001b[0;34m\u001b[0m\u001b[0m\n",
            "\u001b[0;32m/opt/anaconda3/lib/python3.8/site-packages/pandas/core/ops/array_ops.py\u001b[0m in \u001b[0;36mcomparison_op\u001b[0;34m(left, right, op)\u001b[0m\n\u001b[1;32m    248\u001b[0m \u001b[0;34m\u001b[0m\u001b[0m\n\u001b[1;32m    249\u001b[0m     \u001b[0mrvalues\u001b[0m \u001b[0;34m=\u001b[0m \u001b[0mlib\u001b[0m\u001b[0;34m.\u001b[0m\u001b[0mitem_from_zerodim\u001b[0m\u001b[0;34m(\u001b[0m\u001b[0mrvalues\u001b[0m\u001b[0;34m)\u001b[0m\u001b[0;34m\u001b[0m\u001b[0;34m\u001b[0m\u001b[0m\n\u001b[0;32m--> 250\u001b[0;31m     \u001b[0;32mif\u001b[0m \u001b[0misinstance\u001b[0m\u001b[0;34m(\u001b[0m\u001b[0mrvalues\u001b[0m\u001b[0;34m,\u001b[0m \u001b[0mlist\u001b[0m\u001b[0;34m)\u001b[0m\u001b[0;34m:\u001b[0m\u001b[0;34m\u001b[0m\u001b[0;34m\u001b[0m\u001b[0m\n\u001b[0m\u001b[1;32m    251\u001b[0m         \u001b[0;31m# We don't catch tuple here bc we may be comparing e.g. MultiIndex\u001b[0m\u001b[0;34m\u001b[0m\u001b[0;34m\u001b[0m\u001b[0;34m\u001b[0m\u001b[0m\n\u001b[1;32m    252\u001b[0m         \u001b[0;31m#  to a tuple that represents a single entry, see test_compare_tuple_strs\u001b[0m\u001b[0;34m\u001b[0m\u001b[0;34m\u001b[0m\u001b[0;34m\u001b[0m\u001b[0m\n",
            "\u001b[0;32m/opt/anaconda3/lib/python3.8/site-packages/pandas/core/ops/array_ops.py\u001b[0m in \u001b[0;36m_na_arithmetic_op\u001b[0;34m(left, right, op, is_cmp)\u001b[0m\n\u001b[1;32m    137\u001b[0m \u001b[0;34m\u001b[0m\u001b[0m\n\u001b[1;32m    138\u001b[0m     \u001b[0mIf\u001b[0m \u001b[0mnative\u001b[0m \u001b[0mtypes\u001b[0m \u001b[0mare\u001b[0m \u001b[0;32mnot\u001b[0m \u001b[0mcompatible\u001b[0m\u001b[0;34m,\u001b[0m \u001b[0;32mtry\u001b[0m \u001b[0mcoercion\u001b[0m \u001b[0mto\u001b[0m \u001b[0mobject\u001b[0m \u001b[0mdtype\u001b[0m\u001b[0;34m.\u001b[0m\u001b[0;34m\u001b[0m\u001b[0;34m\u001b[0m\u001b[0m\n\u001b[0;32m--> 139\u001b[0;31m \u001b[0;34m\u001b[0m\u001b[0m\n\u001b[0m\u001b[1;32m    140\u001b[0m     \u001b[0mParameters\u001b[0m\u001b[0;34m\u001b[0m\u001b[0;34m\u001b[0m\u001b[0m\n\u001b[1;32m    141\u001b[0m     \u001b[0;34m-\u001b[0m\u001b[0;34m-\u001b[0m\u001b[0;34m-\u001b[0m\u001b[0;34m-\u001b[0m\u001b[0;34m-\u001b[0m\u001b[0;34m-\u001b[0m\u001b[0;34m-\u001b[0m\u001b[0;34m-\u001b[0m\u001b[0;34m-\u001b[0m\u001b[0;34m-\u001b[0m\u001b[0;34m\u001b[0m\u001b[0;34m\u001b[0m\u001b[0m\n",
            "\u001b[0;32m/opt/anaconda3/lib/python3.8/site-packages/pandas/core/computation/expressions.py\u001b[0m in \u001b[0;36m<module>\u001b[0;34m\u001b[0m\n\u001b[1;32m     17\u001b[0m \u001b[0;32mfrom\u001b[0m \u001b[0mpandas\u001b[0m\u001b[0;34m.\u001b[0m\u001b[0m_typing\u001b[0m \u001b[0;32mimport\u001b[0m \u001b[0mFuncType\u001b[0m\u001b[0;34m\u001b[0m\u001b[0;34m\u001b[0m\u001b[0m\n\u001b[1;32m     18\u001b[0m \u001b[0;34m\u001b[0m\u001b[0m\n\u001b[0;32m---> 19\u001b[0;31m \u001b[0;32mfrom\u001b[0m \u001b[0mpandas\u001b[0m\u001b[0;34m.\u001b[0m\u001b[0mcore\u001b[0m\u001b[0;34m.\u001b[0m\u001b[0mcomputation\u001b[0m\u001b[0;34m.\u001b[0m\u001b[0mcheck\u001b[0m \u001b[0;32mimport\u001b[0m \u001b[0mNUMEXPR_INSTALLED\u001b[0m\u001b[0;34m\u001b[0m\u001b[0;34m\u001b[0m\u001b[0m\n\u001b[0m\u001b[1;32m     20\u001b[0m \u001b[0;32mfrom\u001b[0m \u001b[0mpandas\u001b[0m\u001b[0;34m.\u001b[0m\u001b[0mcore\u001b[0m\u001b[0;34m.\u001b[0m\u001b[0mops\u001b[0m \u001b[0;32mimport\u001b[0m \u001b[0mroperator\u001b[0m\u001b[0;34m\u001b[0m\u001b[0;34m\u001b[0m\u001b[0m\n\u001b[1;32m     21\u001b[0m \u001b[0;34m\u001b[0m\u001b[0m\n",
            "\u001b[0;32m/opt/anaconda3/lib/python3.8/site-packages/pandas/core/computation/check.py\u001b[0m in \u001b[0;36m<module>\u001b[0;34m\u001b[0m\n\u001b[1;32m      1\u001b[0m \u001b[0;32mfrom\u001b[0m \u001b[0mpandas\u001b[0m\u001b[0;34m.\u001b[0m\u001b[0mcompat\u001b[0m\u001b[0;34m.\u001b[0m\u001b[0m_optional\u001b[0m \u001b[0;32mimport\u001b[0m \u001b[0mimport_optional_dependency\u001b[0m\u001b[0;34m\u001b[0m\u001b[0;34m\u001b[0m\u001b[0m\n\u001b[1;32m      2\u001b[0m \u001b[0;34m\u001b[0m\u001b[0m\n\u001b[0;32m----> 3\u001b[0;31m \u001b[0mne\u001b[0m \u001b[0;34m=\u001b[0m \u001b[0mimport_optional_dependency\u001b[0m\u001b[0;34m(\u001b[0m\u001b[0;34m\"numexpr\"\u001b[0m\u001b[0;34m,\u001b[0m \u001b[0merrors\u001b[0m\u001b[0;34m=\u001b[0m\u001b[0;34m\"warn\"\u001b[0m\u001b[0;34m)\u001b[0m\u001b[0;34m\u001b[0m\u001b[0;34m\u001b[0m\u001b[0m\n\u001b[0m\u001b[1;32m      4\u001b[0m \u001b[0mNUMEXPR_INSTALLED\u001b[0m \u001b[0;34m=\u001b[0m \u001b[0mne\u001b[0m \u001b[0;32mis\u001b[0m \u001b[0;32mnot\u001b[0m \u001b[0;32mNone\u001b[0m\u001b[0;34m\u001b[0m\u001b[0;34m\u001b[0m\u001b[0m\n\u001b[1;32m      5\u001b[0m \u001b[0;32mif\u001b[0m \u001b[0mNUMEXPR_INSTALLED\u001b[0m\u001b[0;34m:\u001b[0m\u001b[0;34m\u001b[0m\u001b[0;34m\u001b[0m\u001b[0m\n",
            "\u001b[0;31mTypeError\u001b[0m: import_optional_dependency() got an unexpected keyword argument 'errors'"
          ]
        }
      ]
    },
    {
      "cell_type": "code",
      "source": [
        ""
      ],
      "metadata": {
        "id": "4nmveRVaNtCu"
      },
      "execution_count": null,
      "outputs": []
    },
    {
      "cell_type": "code",
      "source": [
        "X = dataset_filtered.drop(['last_order', 'date'], axis=1)\n",
        "y = dataset_filtered['last_order']\n",
        "\n",
        "X_train, X_test, y_train, y_test = train_test_split(X, y, test_size=0.3, random_state=0)"
      ],
      "metadata": {
        "id": "WsyyggIyboB0"
      },
      "execution_count": null,
      "outputs": []
    },
    {
      "cell_type": "code",
      "source": [
        "scaler = MinMaxScaler()\n",
        "columns = dataset_filtered.describe().columns.to_list()\n",
        "columns.remove('client_id')\n",
        "\n",
        "X_train_scaled = scaler.fit_transform(X_train)\n"
      ],
      "metadata": {
        "id": "ZuBlpotxNvOa"
      },
      "execution_count": null,
      "outputs": []
    },
    {
      "cell_type": "code",
      "source": [
        "dataset_filtered = pd.get_dummies(\n",
        "    dataset_filtered, prefix='d', columns=['payments', 'product', 'city', 'state']\n",
        ")"
      ],
      "metadata": {
        "id": "SaQQTAHxNxm_"
      },
      "execution_count": null,
      "outputs": []
    },
    {
      "cell_type": "code",
      "source": [
        "dataset"
      ],
      "metadata": {
        "id": "fPUwcLw3Nzfr"
      },
      "execution_count": null,
      "outputs": []
    },
    {
      "cell_type": "markdown",
      "source": [
        "## Modelo 1: Regressão linear"
      ],
      "metadata": {
        "id": "-DuU2ujUN6iD"
      }
    },
    {
      "cell_type": "code",
      "source": [
        "#X = dataset_filtered.drop(['last_order', 'date'], axis=1)\n",
        "#Y = dataset_filtered['last_order']"
      ],
      "metadata": {
        "id": "Q8qePmFtN9P-"
      },
      "execution_count": null,
      "outputs": []
    },
    {
      "cell_type": "code",
      "source": [
        ""
      ],
      "metadata": {
        "id": "b1Vp9xmlN-63"
      },
      "execution_count": null,
      "outputs": []
    },
    {
      "cell_type": "code",
      "source": [
        "r = LinearRegression()\n",
        "r = r.fit(X_train_scaled, y_train)\n",
        "\n",
        "#r.score(X, Y)\n",
        "X_test_scaled = scaler.transform(X_test)\n",
        "y_pred = r.predict(X_test_scaled)"
      ],
      "metadata": {
        "id": "CKTpHLyIOAoX"
      },
      "execution_count": null,
      "outputs": []
    }
  ]
}